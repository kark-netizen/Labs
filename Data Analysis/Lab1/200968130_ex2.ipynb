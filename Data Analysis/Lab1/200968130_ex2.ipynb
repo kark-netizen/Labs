{
 "cells": [
  {
   "cell_type": "markdown",
   "id": "f6b11ac7",
   "metadata": {},
   "source": [
    "## Importing Necessary Libraries"
   ]
  },
  {
   "cell_type": "code",
   "execution_count": 1,
   "id": "7731549b",
   "metadata": {},
   "outputs": [],
   "source": [
    "import pandas as pd\n",
    "import numpy as np\n",
    "import matplotlib.pyplot as plt\n",
    "import seaborn as sns"
   ]
  },
  {
   "cell_type": "markdown",
   "id": "1469ec63",
   "metadata": {},
   "source": [
    "## Dataframe Creation"
   ]
  },
  {
   "cell_type": "code",
   "execution_count": 17,
   "id": "a0692934",
   "metadata": {},
   "outputs": [],
   "source": [
    "# creating dataframe\n",
    "df = pd.DataFrame(index = np.arange(11),columns = ['roll_number', 'name', 'gender', 'marks1', 'marks2', 'marks3'])"
   ]
  },
  {
   "cell_type": "code",
   "execution_count": 18,
   "id": "d6c6556e",
   "metadata": {},
   "outputs": [
    {
     "data": {
      "text/html": [
       "<div>\n",
       "<style scoped>\n",
       "    .dataframe tbody tr th:only-of-type {\n",
       "        vertical-align: middle;\n",
       "    }\n",
       "\n",
       "    .dataframe tbody tr th {\n",
       "        vertical-align: top;\n",
       "    }\n",
       "\n",
       "    .dataframe thead th {\n",
       "        text-align: right;\n",
       "    }\n",
       "</style>\n",
       "<table border=\"1\" class=\"dataframe\">\n",
       "  <thead>\n",
       "    <tr style=\"text-align: right;\">\n",
       "      <th></th>\n",
       "      <th>roll_number</th>\n",
       "      <th>name</th>\n",
       "      <th>gender</th>\n",
       "      <th>marks1</th>\n",
       "      <th>marks2</th>\n",
       "      <th>marks3</th>\n",
       "    </tr>\n",
       "  </thead>\n",
       "  <tbody>\n",
       "    <tr>\n",
       "      <th>0</th>\n",
       "      <td>NaN</td>\n",
       "      <td>NaN</td>\n",
       "      <td>NaN</td>\n",
       "      <td>NaN</td>\n",
       "      <td>NaN</td>\n",
       "      <td>NaN</td>\n",
       "    </tr>\n",
       "    <tr>\n",
       "      <th>1</th>\n",
       "      <td>NaN</td>\n",
       "      <td>NaN</td>\n",
       "      <td>NaN</td>\n",
       "      <td>NaN</td>\n",
       "      <td>NaN</td>\n",
       "      <td>NaN</td>\n",
       "    </tr>\n",
       "    <tr>\n",
       "      <th>2</th>\n",
       "      <td>NaN</td>\n",
       "      <td>NaN</td>\n",
       "      <td>NaN</td>\n",
       "      <td>NaN</td>\n",
       "      <td>NaN</td>\n",
       "      <td>NaN</td>\n",
       "    </tr>\n",
       "    <tr>\n",
       "      <th>3</th>\n",
       "      <td>NaN</td>\n",
       "      <td>NaN</td>\n",
       "      <td>NaN</td>\n",
       "      <td>NaN</td>\n",
       "      <td>NaN</td>\n",
       "      <td>NaN</td>\n",
       "    </tr>\n",
       "    <tr>\n",
       "      <th>4</th>\n",
       "      <td>NaN</td>\n",
       "      <td>NaN</td>\n",
       "      <td>NaN</td>\n",
       "      <td>NaN</td>\n",
       "      <td>NaN</td>\n",
       "      <td>NaN</td>\n",
       "    </tr>\n",
       "    <tr>\n",
       "      <th>5</th>\n",
       "      <td>NaN</td>\n",
       "      <td>NaN</td>\n",
       "      <td>NaN</td>\n",
       "      <td>NaN</td>\n",
       "      <td>NaN</td>\n",
       "      <td>NaN</td>\n",
       "    </tr>\n",
       "    <tr>\n",
       "      <th>6</th>\n",
       "      <td>NaN</td>\n",
       "      <td>NaN</td>\n",
       "      <td>NaN</td>\n",
       "      <td>NaN</td>\n",
       "      <td>NaN</td>\n",
       "      <td>NaN</td>\n",
       "    </tr>\n",
       "    <tr>\n",
       "      <th>7</th>\n",
       "      <td>NaN</td>\n",
       "      <td>NaN</td>\n",
       "      <td>NaN</td>\n",
       "      <td>NaN</td>\n",
       "      <td>NaN</td>\n",
       "      <td>NaN</td>\n",
       "    </tr>\n",
       "    <tr>\n",
       "      <th>8</th>\n",
       "      <td>NaN</td>\n",
       "      <td>NaN</td>\n",
       "      <td>NaN</td>\n",
       "      <td>NaN</td>\n",
       "      <td>NaN</td>\n",
       "      <td>NaN</td>\n",
       "    </tr>\n",
       "    <tr>\n",
       "      <th>9</th>\n",
       "      <td>NaN</td>\n",
       "      <td>NaN</td>\n",
       "      <td>NaN</td>\n",
       "      <td>NaN</td>\n",
       "      <td>NaN</td>\n",
       "      <td>NaN</td>\n",
       "    </tr>\n",
       "    <tr>\n",
       "      <th>10</th>\n",
       "      <td>NaN</td>\n",
       "      <td>NaN</td>\n",
       "      <td>NaN</td>\n",
       "      <td>NaN</td>\n",
       "      <td>NaN</td>\n",
       "      <td>NaN</td>\n",
       "    </tr>\n",
       "  </tbody>\n",
       "</table>\n",
       "</div>"
      ],
      "text/plain": [
       "   roll_number name gender marks1 marks2 marks3\n",
       "0          NaN  NaN    NaN    NaN    NaN    NaN\n",
       "1          NaN  NaN    NaN    NaN    NaN    NaN\n",
       "2          NaN  NaN    NaN    NaN    NaN    NaN\n",
       "3          NaN  NaN    NaN    NaN    NaN    NaN\n",
       "4          NaN  NaN    NaN    NaN    NaN    NaN\n",
       "5          NaN  NaN    NaN    NaN    NaN    NaN\n",
       "6          NaN  NaN    NaN    NaN    NaN    NaN\n",
       "7          NaN  NaN    NaN    NaN    NaN    NaN\n",
       "8          NaN  NaN    NaN    NaN    NaN    NaN\n",
       "9          NaN  NaN    NaN    NaN    NaN    NaN\n",
       "10         NaN  NaN    NaN    NaN    NaN    NaN"
      ]
     },
     "execution_count": 18,
     "metadata": {},
     "output_type": "execute_result"
    }
   ],
   "source": [
    "#our dataframe should be empty at this point\n",
    "df"
   ]
  },
  {
   "cell_type": "code",
   "execution_count": 4,
   "id": "d55eee4b",
   "metadata": {},
   "outputs": [],
   "source": [
    "# filling roll numbers in a range and adding names\n",
    "df['roll_number'] = np.arange(start=200968120,stop = 200968131,step = 1)\n",
    "names = np.array(['Harsh T.','Yash V.','Yashraj S.','Kartikeya T.','Shreenidhi N.','Anandita R.','Clark K.','Tony S.','Black P.','Tom H','Cilian M.'])\n",
    "df['name'] = names"
   ]
  },
  {
   "cell_type": "code",
   "execution_count": 5,
   "id": "3e65432e",
   "metadata": {},
   "outputs": [
    {
     "data": {
      "text/html": [
       "<div>\n",
       "<style scoped>\n",
       "    .dataframe tbody tr th:only-of-type {\n",
       "        vertical-align: middle;\n",
       "    }\n",
       "\n",
       "    .dataframe tbody tr th {\n",
       "        vertical-align: top;\n",
       "    }\n",
       "\n",
       "    .dataframe thead th {\n",
       "        text-align: right;\n",
       "    }\n",
       "</style>\n",
       "<table border=\"1\" class=\"dataframe\">\n",
       "  <thead>\n",
       "    <tr style=\"text-align: right;\">\n",
       "      <th></th>\n",
       "      <th>roll_number</th>\n",
       "      <th>name</th>\n",
       "      <th>gender</th>\n",
       "      <th>marks1</th>\n",
       "      <th>marks2</th>\n",
       "      <th>marks3</th>\n",
       "    </tr>\n",
       "  </thead>\n",
       "  <tbody>\n",
       "    <tr>\n",
       "      <th>0</th>\n",
       "      <td>200968120</td>\n",
       "      <td>Harsh T.</td>\n",
       "      <td>NaN</td>\n",
       "      <td>NaN</td>\n",
       "      <td>NaN</td>\n",
       "      <td>NaN</td>\n",
       "    </tr>\n",
       "    <tr>\n",
       "      <th>1</th>\n",
       "      <td>200968121</td>\n",
       "      <td>Yash V.</td>\n",
       "      <td>NaN</td>\n",
       "      <td>NaN</td>\n",
       "      <td>NaN</td>\n",
       "      <td>NaN</td>\n",
       "    </tr>\n",
       "    <tr>\n",
       "      <th>2</th>\n",
       "      <td>200968122</td>\n",
       "      <td>Yashraj S.</td>\n",
       "      <td>NaN</td>\n",
       "      <td>NaN</td>\n",
       "      <td>NaN</td>\n",
       "      <td>NaN</td>\n",
       "    </tr>\n",
       "    <tr>\n",
       "      <th>3</th>\n",
       "      <td>200968123</td>\n",
       "      <td>Kartikeya T.</td>\n",
       "      <td>NaN</td>\n",
       "      <td>NaN</td>\n",
       "      <td>NaN</td>\n",
       "      <td>NaN</td>\n",
       "    </tr>\n",
       "    <tr>\n",
       "      <th>4</th>\n",
       "      <td>200968124</td>\n",
       "      <td>Shreenidhi N.</td>\n",
       "      <td>NaN</td>\n",
       "      <td>NaN</td>\n",
       "      <td>NaN</td>\n",
       "      <td>NaN</td>\n",
       "    </tr>\n",
       "    <tr>\n",
       "      <th>5</th>\n",
       "      <td>200968125</td>\n",
       "      <td>Anandita R.</td>\n",
       "      <td>NaN</td>\n",
       "      <td>NaN</td>\n",
       "      <td>NaN</td>\n",
       "      <td>NaN</td>\n",
       "    </tr>\n",
       "    <tr>\n",
       "      <th>6</th>\n",
       "      <td>200968126</td>\n",
       "      <td>Clark K.</td>\n",
       "      <td>NaN</td>\n",
       "      <td>NaN</td>\n",
       "      <td>NaN</td>\n",
       "      <td>NaN</td>\n",
       "    </tr>\n",
       "    <tr>\n",
       "      <th>7</th>\n",
       "      <td>200968127</td>\n",
       "      <td>Tony S.</td>\n",
       "      <td>NaN</td>\n",
       "      <td>NaN</td>\n",
       "      <td>NaN</td>\n",
       "      <td>NaN</td>\n",
       "    </tr>\n",
       "    <tr>\n",
       "      <th>8</th>\n",
       "      <td>200968128</td>\n",
       "      <td>Black P.</td>\n",
       "      <td>NaN</td>\n",
       "      <td>NaN</td>\n",
       "      <td>NaN</td>\n",
       "      <td>NaN</td>\n",
       "    </tr>\n",
       "    <tr>\n",
       "      <th>9</th>\n",
       "      <td>200968129</td>\n",
       "      <td>Tom H</td>\n",
       "      <td>NaN</td>\n",
       "      <td>NaN</td>\n",
       "      <td>NaN</td>\n",
       "      <td>NaN</td>\n",
       "    </tr>\n",
       "    <tr>\n",
       "      <th>10</th>\n",
       "      <td>200968130</td>\n",
       "      <td>Cilian M.</td>\n",
       "      <td>NaN</td>\n",
       "      <td>NaN</td>\n",
       "      <td>NaN</td>\n",
       "      <td>NaN</td>\n",
       "    </tr>\n",
       "  </tbody>\n",
       "</table>\n",
       "</div>"
      ],
      "text/plain": [
       "    roll_number           name gender marks1 marks2 marks3\n",
       "0     200968120       Harsh T.    NaN    NaN    NaN    NaN\n",
       "1     200968121        Yash V.    NaN    NaN    NaN    NaN\n",
       "2     200968122     Yashraj S.    NaN    NaN    NaN    NaN\n",
       "3     200968123   Kartikeya T.    NaN    NaN    NaN    NaN\n",
       "4     200968124  Shreenidhi N.    NaN    NaN    NaN    NaN\n",
       "5     200968125    Anandita R.    NaN    NaN    NaN    NaN\n",
       "6     200968126       Clark K.    NaN    NaN    NaN    NaN\n",
       "7     200968127        Tony S.    NaN    NaN    NaN    NaN\n",
       "8     200968128       Black P.    NaN    NaN    NaN    NaN\n",
       "9     200968129          Tom H    NaN    NaN    NaN    NaN\n",
       "10    200968130      Cilian M.    NaN    NaN    NaN    NaN"
      ]
     },
     "execution_count": 5,
     "metadata": {},
     "output_type": "execute_result"
    }
   ],
   "source": [
    "#let us view our data frame\n",
    "df"
   ]
  },
  {
   "cell_type": "code",
   "execution_count": 6,
   "id": "42331ae5",
   "metadata": {},
   "outputs": [],
   "source": [
    "# let us add random values for marks and gender\n",
    "df['gender'] = np.array((np.random.rand(11,)*10)%2,dtype = np.int8)\n",
    "df['marks1'] = np.round(np.random.rand(11,)*100,decimals=2)\n",
    "df['marks2'] = np.round(np.random.rand(11,)*100,decimals=2)\n",
    "df['marks3'] = np.round(np.random.rand(11,)*100,decimals=2)"
   ]
  },
  {
   "cell_type": "code",
   "execution_count": 7,
   "id": "e8e4b8dd",
   "metadata": {},
   "outputs": [
    {
     "data": {
      "text/html": [
       "<div>\n",
       "<style scoped>\n",
       "    .dataframe tbody tr th:only-of-type {\n",
       "        vertical-align: middle;\n",
       "    }\n",
       "\n",
       "    .dataframe tbody tr th {\n",
       "        vertical-align: top;\n",
       "    }\n",
       "\n",
       "    .dataframe thead th {\n",
       "        text-align: right;\n",
       "    }\n",
       "</style>\n",
       "<table border=\"1\" class=\"dataframe\">\n",
       "  <thead>\n",
       "    <tr style=\"text-align: right;\">\n",
       "      <th></th>\n",
       "      <th>roll_number</th>\n",
       "      <th>name</th>\n",
       "      <th>gender</th>\n",
       "      <th>marks1</th>\n",
       "      <th>marks2</th>\n",
       "      <th>marks3</th>\n",
       "    </tr>\n",
       "  </thead>\n",
       "  <tbody>\n",
       "    <tr>\n",
       "      <th>0</th>\n",
       "      <td>200968120</td>\n",
       "      <td>Harsh T.</td>\n",
       "      <td>1</td>\n",
       "      <td>62.30</td>\n",
       "      <td>75.89</td>\n",
       "      <td>59.44</td>\n",
       "    </tr>\n",
       "    <tr>\n",
       "      <th>1</th>\n",
       "      <td>200968121</td>\n",
       "      <td>Yash V.</td>\n",
       "      <td>0</td>\n",
       "      <td>38.83</td>\n",
       "      <td>27.42</td>\n",
       "      <td>95.51</td>\n",
       "    </tr>\n",
       "    <tr>\n",
       "      <th>2</th>\n",
       "      <td>200968122</td>\n",
       "      <td>Yashraj S.</td>\n",
       "      <td>1</td>\n",
       "      <td>67.71</td>\n",
       "      <td>28.33</td>\n",
       "      <td>97.37</td>\n",
       "    </tr>\n",
       "    <tr>\n",
       "      <th>3</th>\n",
       "      <td>200968123</td>\n",
       "      <td>Kartikeya T.</td>\n",
       "      <td>0</td>\n",
       "      <td>49.64</td>\n",
       "      <td>99.91</td>\n",
       "      <td>43.98</td>\n",
       "    </tr>\n",
       "    <tr>\n",
       "      <th>4</th>\n",
       "      <td>200968124</td>\n",
       "      <td>Shreenidhi N.</td>\n",
       "      <td>0</td>\n",
       "      <td>90.87</td>\n",
       "      <td>20.02</td>\n",
       "      <td>45.93</td>\n",
       "    </tr>\n",
       "    <tr>\n",
       "      <th>5</th>\n",
       "      <td>200968125</td>\n",
       "      <td>Anandita R.</td>\n",
       "      <td>0</td>\n",
       "      <td>73.63</td>\n",
       "      <td>50.67</td>\n",
       "      <td>48.34</td>\n",
       "    </tr>\n",
       "    <tr>\n",
       "      <th>6</th>\n",
       "      <td>200968126</td>\n",
       "      <td>Clark K.</td>\n",
       "      <td>1</td>\n",
       "      <td>15.38</td>\n",
       "      <td>55.01</td>\n",
       "      <td>99.11</td>\n",
       "    </tr>\n",
       "    <tr>\n",
       "      <th>7</th>\n",
       "      <td>200968127</td>\n",
       "      <td>Tony S.</td>\n",
       "      <td>1</td>\n",
       "      <td>95.14</td>\n",
       "      <td>57.01</td>\n",
       "      <td>0.37</td>\n",
       "    </tr>\n",
       "    <tr>\n",
       "      <th>8</th>\n",
       "      <td>200968128</td>\n",
       "      <td>Black P.</td>\n",
       "      <td>0</td>\n",
       "      <td>87.94</td>\n",
       "      <td>0.86</td>\n",
       "      <td>85.99</td>\n",
       "    </tr>\n",
       "    <tr>\n",
       "      <th>9</th>\n",
       "      <td>200968129</td>\n",
       "      <td>Tom H</td>\n",
       "      <td>0</td>\n",
       "      <td>22.53</td>\n",
       "      <td>26.02</td>\n",
       "      <td>8.37</td>\n",
       "    </tr>\n",
       "    <tr>\n",
       "      <th>10</th>\n",
       "      <td>200968130</td>\n",
       "      <td>Cilian M.</td>\n",
       "      <td>1</td>\n",
       "      <td>44.52</td>\n",
       "      <td>43.97</td>\n",
       "      <td>53.99</td>\n",
       "    </tr>\n",
       "  </tbody>\n",
       "</table>\n",
       "</div>"
      ],
      "text/plain": [
       "    roll_number           name  gender  marks1  marks2  marks3\n",
       "0     200968120       Harsh T.       1   62.30   75.89   59.44\n",
       "1     200968121        Yash V.       0   38.83   27.42   95.51\n",
       "2     200968122     Yashraj S.       1   67.71   28.33   97.37\n",
       "3     200968123   Kartikeya T.       0   49.64   99.91   43.98\n",
       "4     200968124  Shreenidhi N.       0   90.87   20.02   45.93\n",
       "5     200968125    Anandita R.       0   73.63   50.67   48.34\n",
       "6     200968126       Clark K.       1   15.38   55.01   99.11\n",
       "7     200968127        Tony S.       1   95.14   57.01    0.37\n",
       "8     200968128       Black P.       0   87.94    0.86   85.99\n",
       "9     200968129          Tom H       0   22.53   26.02    8.37\n",
       "10    200968130      Cilian M.       1   44.52   43.97   53.99"
      ]
     },
     "execution_count": 7,
     "metadata": {},
     "output_type": "execute_result"
    }
   ],
   "source": [
    "# now our dataframe is complete and ready for calculations\n",
    "df"
   ]
  },
  {
   "cell_type": "markdown",
   "id": "5caf28f3",
   "metadata": {},
   "source": [
    "## Answering desired Questions"
   ]
  },
  {
   "cell_type": "markdown",
   "id": "20c2451b",
   "metadata": {},
   "source": [
    "### Answer 1"
   ]
  },
  {
   "cell_type": "code",
   "execution_count": 8,
   "id": "24353d64",
   "metadata": {},
   "outputs": [],
   "source": [
    "# adding a new columns\n",
    "df['total_marks'] = df[['marks1','marks2','marks3']].sum(axis = 1)"
   ]
  },
  {
   "cell_type": "code",
   "execution_count": 9,
   "id": "55276a8f",
   "metadata": {
    "scrolled": true
   },
   "outputs": [
    {
     "data": {
      "text/html": [
       "<div>\n",
       "<style scoped>\n",
       "    .dataframe tbody tr th:only-of-type {\n",
       "        vertical-align: middle;\n",
       "    }\n",
       "\n",
       "    .dataframe tbody tr th {\n",
       "        vertical-align: top;\n",
       "    }\n",
       "\n",
       "    .dataframe thead th {\n",
       "        text-align: right;\n",
       "    }\n",
       "</style>\n",
       "<table border=\"1\" class=\"dataframe\">\n",
       "  <thead>\n",
       "    <tr style=\"text-align: right;\">\n",
       "      <th></th>\n",
       "      <th>roll_number</th>\n",
       "      <th>name</th>\n",
       "      <th>gender</th>\n",
       "      <th>marks1</th>\n",
       "      <th>marks2</th>\n",
       "      <th>marks3</th>\n",
       "      <th>total_marks</th>\n",
       "    </tr>\n",
       "  </thead>\n",
       "  <tbody>\n",
       "    <tr>\n",
       "      <th>0</th>\n",
       "      <td>200968120</td>\n",
       "      <td>Harsh T.</td>\n",
       "      <td>1</td>\n",
       "      <td>62.30</td>\n",
       "      <td>75.89</td>\n",
       "      <td>59.44</td>\n",
       "      <td>197.63</td>\n",
       "    </tr>\n",
       "    <tr>\n",
       "      <th>1</th>\n",
       "      <td>200968121</td>\n",
       "      <td>Yash V.</td>\n",
       "      <td>0</td>\n",
       "      <td>38.83</td>\n",
       "      <td>27.42</td>\n",
       "      <td>95.51</td>\n",
       "      <td>161.76</td>\n",
       "    </tr>\n",
       "    <tr>\n",
       "      <th>2</th>\n",
       "      <td>200968122</td>\n",
       "      <td>Yashraj S.</td>\n",
       "      <td>1</td>\n",
       "      <td>67.71</td>\n",
       "      <td>28.33</td>\n",
       "      <td>97.37</td>\n",
       "      <td>193.41</td>\n",
       "    </tr>\n",
       "    <tr>\n",
       "      <th>3</th>\n",
       "      <td>200968123</td>\n",
       "      <td>Kartikeya T.</td>\n",
       "      <td>0</td>\n",
       "      <td>49.64</td>\n",
       "      <td>99.91</td>\n",
       "      <td>43.98</td>\n",
       "      <td>193.53</td>\n",
       "    </tr>\n",
       "    <tr>\n",
       "      <th>4</th>\n",
       "      <td>200968124</td>\n",
       "      <td>Shreenidhi N.</td>\n",
       "      <td>0</td>\n",
       "      <td>90.87</td>\n",
       "      <td>20.02</td>\n",
       "      <td>45.93</td>\n",
       "      <td>156.82</td>\n",
       "    </tr>\n",
       "    <tr>\n",
       "      <th>5</th>\n",
       "      <td>200968125</td>\n",
       "      <td>Anandita R.</td>\n",
       "      <td>0</td>\n",
       "      <td>73.63</td>\n",
       "      <td>50.67</td>\n",
       "      <td>48.34</td>\n",
       "      <td>172.64</td>\n",
       "    </tr>\n",
       "    <tr>\n",
       "      <th>6</th>\n",
       "      <td>200968126</td>\n",
       "      <td>Clark K.</td>\n",
       "      <td>1</td>\n",
       "      <td>15.38</td>\n",
       "      <td>55.01</td>\n",
       "      <td>99.11</td>\n",
       "      <td>169.50</td>\n",
       "    </tr>\n",
       "    <tr>\n",
       "      <th>7</th>\n",
       "      <td>200968127</td>\n",
       "      <td>Tony S.</td>\n",
       "      <td>1</td>\n",
       "      <td>95.14</td>\n",
       "      <td>57.01</td>\n",
       "      <td>0.37</td>\n",
       "      <td>152.52</td>\n",
       "    </tr>\n",
       "    <tr>\n",
       "      <th>8</th>\n",
       "      <td>200968128</td>\n",
       "      <td>Black P.</td>\n",
       "      <td>0</td>\n",
       "      <td>87.94</td>\n",
       "      <td>0.86</td>\n",
       "      <td>85.99</td>\n",
       "      <td>174.79</td>\n",
       "    </tr>\n",
       "    <tr>\n",
       "      <th>9</th>\n",
       "      <td>200968129</td>\n",
       "      <td>Tom H</td>\n",
       "      <td>0</td>\n",
       "      <td>22.53</td>\n",
       "      <td>26.02</td>\n",
       "      <td>8.37</td>\n",
       "      <td>56.92</td>\n",
       "    </tr>\n",
       "    <tr>\n",
       "      <th>10</th>\n",
       "      <td>200968130</td>\n",
       "      <td>Cilian M.</td>\n",
       "      <td>1</td>\n",
       "      <td>44.52</td>\n",
       "      <td>43.97</td>\n",
       "      <td>53.99</td>\n",
       "      <td>142.48</td>\n",
       "    </tr>\n",
       "  </tbody>\n",
       "</table>\n",
       "</div>"
      ],
      "text/plain": [
       "    roll_number           name  gender  marks1  marks2  marks3  total_marks\n",
       "0     200968120       Harsh T.       1   62.30   75.89   59.44       197.63\n",
       "1     200968121        Yash V.       0   38.83   27.42   95.51       161.76\n",
       "2     200968122     Yashraj S.       1   67.71   28.33   97.37       193.41\n",
       "3     200968123   Kartikeya T.       0   49.64   99.91   43.98       193.53\n",
       "4     200968124  Shreenidhi N.       0   90.87   20.02   45.93       156.82\n",
       "5     200968125    Anandita R.       0   73.63   50.67   48.34       172.64\n",
       "6     200968126       Clark K.       1   15.38   55.01   99.11       169.50\n",
       "7     200968127        Tony S.       1   95.14   57.01    0.37       152.52\n",
       "8     200968128       Black P.       0   87.94    0.86   85.99       174.79\n",
       "9     200968129          Tom H       0   22.53   26.02    8.37        56.92\n",
       "10    200968130      Cilian M.       1   44.52   43.97   53.99       142.48"
      ]
     },
     "execution_count": 9,
     "metadata": {},
     "output_type": "execute_result"
    }
   ],
   "source": [
    "df"
   ]
  },
  {
   "cell_type": "markdown",
   "id": "6be5645f",
   "metadata": {},
   "source": [
    "### Answer 2"
   ]
  },
  {
   "cell_type": "code",
   "execution_count": 10,
   "id": "0479419d",
   "metadata": {},
   "outputs": [
    {
     "name": "stdout",
     "output_type": "stream",
     "text": [
      "Lowest Marks:  15.38\n"
     ]
    }
   ],
   "source": [
    "#lowest marks in 1\n",
    "print(\"Lowest Marks: \", df['marks1'].min())"
   ]
  },
  {
   "cell_type": "code",
   "execution_count": 11,
   "id": "1f457bc2",
   "metadata": {},
   "outputs": [
    {
     "name": "stdout",
     "output_type": "stream",
     "text": [
      "Student with Lowest Marks:  Clark K.\n"
     ]
    }
   ],
   "source": [
    "# student with lowest marks\n",
    "print(\"Student with Lowest Marks: \", df[df['marks1'] == df['marks1'].min()].iloc[0,1])"
   ]
  },
  {
   "cell_type": "markdown",
   "id": "519fa575",
   "metadata": {},
   "source": [
    "### Answer 3"
   ]
  },
  {
   "cell_type": "code",
   "execution_count": 12,
   "id": "edcf863c",
   "metadata": {},
   "outputs": [
    {
     "name": "stdout",
     "output_type": "stream",
     "text": [
      "Highest Marks in Subject 2:  99.91\n"
     ]
    }
   ],
   "source": [
    "# highest marks in 2\n",
    "print(\"Highest Marks in Subject 2: \",df['marks2'].max())"
   ]
  },
  {
   "cell_type": "code",
   "execution_count": 13,
   "id": "0ede004a",
   "metadata": {},
   "outputs": [
    {
     "name": "stdout",
     "output_type": "stream",
     "text": [
      "Student with Highest Marks in Subject 2:  Black P.\n"
     ]
    }
   ],
   "source": [
    "# student with highest marks\n",
    "print(\"Student with Highest Marks in Subject 2: \",df[df['marks2'] == df['marks2'].min()].iloc[0,1])"
   ]
  },
  {
   "cell_type": "markdown",
   "id": "7f9467cb",
   "metadata": {},
   "source": [
    "### Answer 4"
   ]
  },
  {
   "cell_type": "code",
   "execution_count": 14,
   "id": "72320bcf",
   "metadata": {},
   "outputs": [
    {
     "name": "stdout",
     "output_type": "stream",
     "text": [
      "Average Marks of Subejct 3: 58.04\n"
     ]
    }
   ],
   "source": [
    "#average marks in 3\n",
    "print(\"Average Marks of Subejct 3: %.2f\" % df['marks3'].mean())"
   ]
  },
  {
   "cell_type": "markdown",
   "id": "0c88f4b8",
   "metadata": {},
   "source": [
    "### Answer 5"
   ]
  },
  {
   "cell_type": "code",
   "execution_count": 15,
   "id": "e7308c51",
   "metadata": {},
   "outputs": [
    {
     "name": "stdout",
     "output_type": "stream",
     "text": [
      "Student with Highest Marks:  Harsh T.\n"
     ]
    }
   ],
   "source": [
    "#student with highest average\n",
    "df['average'] = df['total_marks']/3\n",
    "print(\"Student with Highest Marks: \", df[df['average'] == df['average'].max()].iloc[0,1])"
   ]
  },
  {
   "cell_type": "markdown",
   "id": "f94546c6",
   "metadata": {},
   "source": [
    "### Answer 6"
   ]
  },
  {
   "cell_type": "code",
   "execution_count": 16,
   "id": "aedd5864",
   "metadata": {},
   "outputs": [
    {
     "name": "stdout",
     "output_type": "stream",
     "text": [
      "Number of Students failing subject 2:  5\n"
     ]
    }
   ],
   "source": [
    "#number of students failing subjet 2\n",
    "print(\"Number of Students failing subject 2: \",df[df['marks2'] < 40].shape[0])"
   ]
  },
  {
   "cell_type": "code",
   "execution_count": null,
   "id": "28ea6520",
   "metadata": {},
   "outputs": [],
   "source": []
  }
 ],
 "metadata": {
  "kernelspec": {
   "display_name": "Python 3",
   "language": "python",
   "name": "python3"
  },
  "language_info": {
   "codemirror_mode": {
    "name": "ipython",
    "version": 3
   },
   "file_extension": ".py",
   "mimetype": "text/x-python",
   "name": "python",
   "nbconvert_exporter": "python",
   "pygments_lexer": "ipython3",
   "version": "3.8.8"
  }
 },
 "nbformat": 4,
 "nbformat_minor": 5
}
