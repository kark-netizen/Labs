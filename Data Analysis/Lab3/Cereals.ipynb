{
 "cells": [
  {
   "cell_type": "code",
   "execution_count": 1,
   "id": "c9a571ec",
   "metadata": {},
   "outputs": [],
   "source": [
    "import pandas as pd\n",
    "import matplotlib.pyplot as plt\n",
    "import seaborn as sns\n",
    "import numpy as np"
   ]
  },
  {
   "cell_type": "code",
   "execution_count": 2,
   "id": "fa57abae",
   "metadata": {},
   "outputs": [
    {
     "data": {
      "text/html": [
       "<div>\n",
       "<style scoped>\n",
       "    .dataframe tbody tr th:only-of-type {\n",
       "        vertical-align: middle;\n",
       "    }\n",
       "\n",
       "    .dataframe tbody tr th {\n",
       "        vertical-align: top;\n",
       "    }\n",
       "\n",
       "    .dataframe thead th {\n",
       "        text-align: right;\n",
       "    }\n",
       "</style>\n",
       "<table border=\"1\" class=\"dataframe\">\n",
       "  <thead>\n",
       "    <tr style=\"text-align: right;\">\n",
       "      <th></th>\n",
       "      <th>name</th>\n",
       "      <th>mfr</th>\n",
       "      <th>type</th>\n",
       "      <th>calories</th>\n",
       "      <th>protein</th>\n",
       "      <th>fat</th>\n",
       "      <th>sodium</th>\n",
       "      <th>fiber</th>\n",
       "      <th>carbo</th>\n",
       "      <th>sugars</th>\n",
       "      <th>potass</th>\n",
       "      <th>vitamins</th>\n",
       "      <th>shelf</th>\n",
       "      <th>weight</th>\n",
       "      <th>cups</th>\n",
       "      <th>rating</th>\n",
       "    </tr>\n",
       "  </thead>\n",
       "  <tbody>\n",
       "    <tr>\n",
       "      <th>0</th>\n",
       "      <td>100%_Natural_Bran</td>\n",
       "      <td>Q</td>\n",
       "      <td>C</td>\n",
       "      <td>120</td>\n",
       "      <td>3</td>\n",
       "      <td>5</td>\n",
       "      <td>15</td>\n",
       "      <td>2.0</td>\n",
       "      <td>8.0</td>\n",
       "      <td>8</td>\n",
       "      <td>135</td>\n",
       "      <td>0</td>\n",
       "      <td>3</td>\n",
       "      <td>1.0</td>\n",
       "      <td>1.00</td>\n",
       "      <td>33.983679</td>\n",
       "    </tr>\n",
       "    <tr>\n",
       "      <th>1</th>\n",
       "      <td>All-Bran</td>\n",
       "      <td>K</td>\n",
       "      <td>C</td>\n",
       "      <td>70</td>\n",
       "      <td>4</td>\n",
       "      <td>1</td>\n",
       "      <td>260</td>\n",
       "      <td>9.0</td>\n",
       "      <td>7.0</td>\n",
       "      <td>5</td>\n",
       "      <td>320</td>\n",
       "      <td>25</td>\n",
       "      <td>3</td>\n",
       "      <td>1.0</td>\n",
       "      <td>0.33</td>\n",
       "      <td>59.425505</td>\n",
       "    </tr>\n",
       "    <tr>\n",
       "      <th>2</th>\n",
       "      <td>All-Bran_with_Extra_Fiber</td>\n",
       "      <td>K</td>\n",
       "      <td>C</td>\n",
       "      <td>50</td>\n",
       "      <td>4</td>\n",
       "      <td>0</td>\n",
       "      <td>140</td>\n",
       "      <td>14.0</td>\n",
       "      <td>8.0</td>\n",
       "      <td>0</td>\n",
       "      <td>330</td>\n",
       "      <td>25</td>\n",
       "      <td>3</td>\n",
       "      <td>1.0</td>\n",
       "      <td>0.50</td>\n",
       "      <td>93.704912</td>\n",
       "    </tr>\n",
       "    <tr>\n",
       "      <th>3</th>\n",
       "      <td>Almond_Delight</td>\n",
       "      <td>R</td>\n",
       "      <td>C</td>\n",
       "      <td>110</td>\n",
       "      <td>2</td>\n",
       "      <td>2</td>\n",
       "      <td>200</td>\n",
       "      <td>1.0</td>\n",
       "      <td>14.0</td>\n",
       "      <td>8</td>\n",
       "      <td>-1</td>\n",
       "      <td>25</td>\n",
       "      <td>3</td>\n",
       "      <td>1.0</td>\n",
       "      <td>0.75</td>\n",
       "      <td>34.384843</td>\n",
       "    </tr>\n",
       "    <tr>\n",
       "      <th>4</th>\n",
       "      <td>Apple_Cinnamon_Cheerios</td>\n",
       "      <td>G</td>\n",
       "      <td>C</td>\n",
       "      <td>110</td>\n",
       "      <td>2</td>\n",
       "      <td>2</td>\n",
       "      <td>180</td>\n",
       "      <td>1.5</td>\n",
       "      <td>10.5</td>\n",
       "      <td>10</td>\n",
       "      <td>70</td>\n",
       "      <td>25</td>\n",
       "      <td>1</td>\n",
       "      <td>1.0</td>\n",
       "      <td>0.75</td>\n",
       "      <td>29.509541</td>\n",
       "    </tr>\n",
       "    <tr>\n",
       "      <th>...</th>\n",
       "      <td>...</td>\n",
       "      <td>...</td>\n",
       "      <td>...</td>\n",
       "      <td>...</td>\n",
       "      <td>...</td>\n",
       "      <td>...</td>\n",
       "      <td>...</td>\n",
       "      <td>...</td>\n",
       "      <td>...</td>\n",
       "      <td>...</td>\n",
       "      <td>...</td>\n",
       "      <td>...</td>\n",
       "      <td>...</td>\n",
       "      <td>...</td>\n",
       "      <td>...</td>\n",
       "      <td>...</td>\n",
       "    </tr>\n",
       "    <tr>\n",
       "      <th>71</th>\n",
       "      <td>Triples</td>\n",
       "      <td>G</td>\n",
       "      <td>C</td>\n",
       "      <td>110</td>\n",
       "      <td>2</td>\n",
       "      <td>1</td>\n",
       "      <td>250</td>\n",
       "      <td>0.0</td>\n",
       "      <td>21.0</td>\n",
       "      <td>3</td>\n",
       "      <td>60</td>\n",
       "      <td>25</td>\n",
       "      <td>3</td>\n",
       "      <td>1.0</td>\n",
       "      <td>0.75</td>\n",
       "      <td>39.106174</td>\n",
       "    </tr>\n",
       "    <tr>\n",
       "      <th>72</th>\n",
       "      <td>Trix</td>\n",
       "      <td>G</td>\n",
       "      <td>C</td>\n",
       "      <td>110</td>\n",
       "      <td>1</td>\n",
       "      <td>1</td>\n",
       "      <td>140</td>\n",
       "      <td>0.0</td>\n",
       "      <td>13.0</td>\n",
       "      <td>12</td>\n",
       "      <td>25</td>\n",
       "      <td>25</td>\n",
       "      <td>2</td>\n",
       "      <td>1.0</td>\n",
       "      <td>1.00</td>\n",
       "      <td>27.753301</td>\n",
       "    </tr>\n",
       "    <tr>\n",
       "      <th>73</th>\n",
       "      <td>Wheat_Chex</td>\n",
       "      <td>R</td>\n",
       "      <td>C</td>\n",
       "      <td>100</td>\n",
       "      <td>3</td>\n",
       "      <td>1</td>\n",
       "      <td>230</td>\n",
       "      <td>3.0</td>\n",
       "      <td>17.0</td>\n",
       "      <td>3</td>\n",
       "      <td>115</td>\n",
       "      <td>25</td>\n",
       "      <td>1</td>\n",
       "      <td>1.0</td>\n",
       "      <td>0.67</td>\n",
       "      <td>49.787445</td>\n",
       "    </tr>\n",
       "    <tr>\n",
       "      <th>74</th>\n",
       "      <td>Wheaties</td>\n",
       "      <td>G</td>\n",
       "      <td>C</td>\n",
       "      <td>100</td>\n",
       "      <td>3</td>\n",
       "      <td>1</td>\n",
       "      <td>200</td>\n",
       "      <td>3.0</td>\n",
       "      <td>17.0</td>\n",
       "      <td>3</td>\n",
       "      <td>110</td>\n",
       "      <td>25</td>\n",
       "      <td>1</td>\n",
       "      <td>1.0</td>\n",
       "      <td>1.00</td>\n",
       "      <td>51.592193</td>\n",
       "    </tr>\n",
       "    <tr>\n",
       "      <th>75</th>\n",
       "      <td>Wheaties_Honey_Gold</td>\n",
       "      <td>G</td>\n",
       "      <td>C</td>\n",
       "      <td>110</td>\n",
       "      <td>2</td>\n",
       "      <td>1</td>\n",
       "      <td>200</td>\n",
       "      <td>1.0</td>\n",
       "      <td>16.0</td>\n",
       "      <td>8</td>\n",
       "      <td>60</td>\n",
       "      <td>25</td>\n",
       "      <td>1</td>\n",
       "      <td>1.0</td>\n",
       "      <td>0.75</td>\n",
       "      <td>36.187559</td>\n",
       "    </tr>\n",
       "  </tbody>\n",
       "</table>\n",
       "<p>76 rows × 16 columns</p>\n",
       "</div>"
      ],
      "text/plain": [
       "                         name mfr type  calories  protein  fat  sodium  fiber  \\\n",
       "0           100%_Natural_Bran   Q    C       120        3    5      15    2.0   \n",
       "1                    All-Bran   K    C        70        4    1     260    9.0   \n",
       "2   All-Bran_with_Extra_Fiber   K    C        50        4    0     140   14.0   \n",
       "3              Almond_Delight   R    C       110        2    2     200    1.0   \n",
       "4     Apple_Cinnamon_Cheerios   G    C       110        2    2     180    1.5   \n",
       "..                        ...  ..  ...       ...      ...  ...     ...    ...   \n",
       "71                    Triples   G    C       110        2    1     250    0.0   \n",
       "72                       Trix   G    C       110        1    1     140    0.0   \n",
       "73                 Wheat_Chex   R    C       100        3    1     230    3.0   \n",
       "74                   Wheaties   G    C       100        3    1     200    3.0   \n",
       "75        Wheaties_Honey_Gold   G    C       110        2    1     200    1.0   \n",
       "\n",
       "    carbo  sugars  potass  vitamins  shelf  weight  cups     rating  \n",
       "0     8.0       8     135         0      3     1.0  1.00  33.983679  \n",
       "1     7.0       5     320        25      3     1.0  0.33  59.425505  \n",
       "2     8.0       0     330        25      3     1.0  0.50  93.704912  \n",
       "3    14.0       8      -1        25      3     1.0  0.75  34.384843  \n",
       "4    10.5      10      70        25      1     1.0  0.75  29.509541  \n",
       "..    ...     ...     ...       ...    ...     ...   ...        ...  \n",
       "71   21.0       3      60        25      3     1.0  0.75  39.106174  \n",
       "72   13.0      12      25        25      2     1.0  1.00  27.753301  \n",
       "73   17.0       3     115        25      1     1.0  0.67  49.787445  \n",
       "74   17.0       3     110        25      1     1.0  1.00  51.592193  \n",
       "75   16.0       8      60        25      1     1.0  0.75  36.187559  \n",
       "\n",
       "[76 rows x 16 columns]"
      ]
     },
     "execution_count": 2,
     "metadata": {},
     "output_type": "execute_result"
    }
   ],
   "source": [
    "df = pd.read_csv('Cereals1.csv')\n",
    "df"
   ]
  },
  {
   "cell_type": "markdown",
   "id": "0d6c197b",
   "metadata": {},
   "source": [
    "### Ans 1"
   ]
  },
  {
   "cell_type": "code",
   "execution_count": 3,
   "id": "4009f3bc",
   "metadata": {},
   "outputs": [
    {
     "name": "stdout",
     "output_type": "stream",
     "text": [
      "<class 'pandas.core.frame.DataFrame'>\n",
      "RangeIndex: 76 entries, 0 to 75\n",
      "Data columns (total 16 columns):\n",
      " #   Column    Non-Null Count  Dtype  \n",
      "---  ------    --------------  -----  \n",
      " 0   name      76 non-null     object \n",
      " 1   mfr       76 non-null     object \n",
      " 2   type      76 non-null     object \n",
      " 3   calories  76 non-null     int64  \n",
      " 4   protein   76 non-null     int64  \n",
      " 5   fat       76 non-null     int64  \n",
      " 6   sodium    76 non-null     int64  \n",
      " 7   fiber     76 non-null     float64\n",
      " 8   carbo     76 non-null     float64\n",
      " 9   sugars    76 non-null     int64  \n",
      " 10  potass    76 non-null     int64  \n",
      " 11  vitamins  76 non-null     int64  \n",
      " 12  shelf     76 non-null     int64  \n",
      " 13  weight    76 non-null     float64\n",
      " 14  cups      76 non-null     float64\n",
      " 15  rating    76 non-null     float64\n",
      "dtypes: float64(5), int64(8), object(3)\n",
      "memory usage: 9.6+ KB\n"
     ]
    }
   ],
   "source": [
    "df.info()"
   ]
  },
  {
   "cell_type": "code",
   "execution_count": 4,
   "id": "a68859c4",
   "metadata": {},
   "outputs": [
    {
     "data": {
      "text/html": [
       "<div>\n",
       "<style scoped>\n",
       "    .dataframe tbody tr th:only-of-type {\n",
       "        vertical-align: middle;\n",
       "    }\n",
       "\n",
       "    .dataframe tbody tr th {\n",
       "        vertical-align: top;\n",
       "    }\n",
       "\n",
       "    .dataframe thead th {\n",
       "        text-align: right;\n",
       "    }\n",
       "</style>\n",
       "<table border=\"1\" class=\"dataframe\">\n",
       "  <thead>\n",
       "    <tr style=\"text-align: right;\">\n",
       "      <th></th>\n",
       "      <th>calories</th>\n",
       "      <th>protein</th>\n",
       "      <th>fat</th>\n",
       "      <th>sodium</th>\n",
       "      <th>fiber</th>\n",
       "      <th>carbo</th>\n",
       "      <th>sugars</th>\n",
       "      <th>potass</th>\n",
       "      <th>vitamins</th>\n",
       "      <th>shelf</th>\n",
       "      <th>weight</th>\n",
       "      <th>cups</th>\n",
       "      <th>rating</th>\n",
       "    </tr>\n",
       "  </thead>\n",
       "  <tbody>\n",
       "    <tr>\n",
       "      <th>0</th>\n",
       "      <td>120</td>\n",
       "      <td>3</td>\n",
       "      <td>5</td>\n",
       "      <td>15</td>\n",
       "      <td>2.0</td>\n",
       "      <td>8.0</td>\n",
       "      <td>8</td>\n",
       "      <td>135</td>\n",
       "      <td>0</td>\n",
       "      <td>3</td>\n",
       "      <td>1.0</td>\n",
       "      <td>1.00</td>\n",
       "      <td>33.983679</td>\n",
       "    </tr>\n",
       "    <tr>\n",
       "      <th>1</th>\n",
       "      <td>70</td>\n",
       "      <td>4</td>\n",
       "      <td>1</td>\n",
       "      <td>260</td>\n",
       "      <td>9.0</td>\n",
       "      <td>7.0</td>\n",
       "      <td>5</td>\n",
       "      <td>320</td>\n",
       "      <td>25</td>\n",
       "      <td>3</td>\n",
       "      <td>1.0</td>\n",
       "      <td>0.33</td>\n",
       "      <td>59.425505</td>\n",
       "    </tr>\n",
       "    <tr>\n",
       "      <th>2</th>\n",
       "      <td>50</td>\n",
       "      <td>4</td>\n",
       "      <td>0</td>\n",
       "      <td>140</td>\n",
       "      <td>14.0</td>\n",
       "      <td>8.0</td>\n",
       "      <td>0</td>\n",
       "      <td>330</td>\n",
       "      <td>25</td>\n",
       "      <td>3</td>\n",
       "      <td>1.0</td>\n",
       "      <td>0.50</td>\n",
       "      <td>93.704912</td>\n",
       "    </tr>\n",
       "    <tr>\n",
       "      <th>3</th>\n",
       "      <td>110</td>\n",
       "      <td>2</td>\n",
       "      <td>2</td>\n",
       "      <td>200</td>\n",
       "      <td>1.0</td>\n",
       "      <td>14.0</td>\n",
       "      <td>8</td>\n",
       "      <td>-1</td>\n",
       "      <td>25</td>\n",
       "      <td>3</td>\n",
       "      <td>1.0</td>\n",
       "      <td>0.75</td>\n",
       "      <td>34.384843</td>\n",
       "    </tr>\n",
       "    <tr>\n",
       "      <th>4</th>\n",
       "      <td>110</td>\n",
       "      <td>2</td>\n",
       "      <td>2</td>\n",
       "      <td>180</td>\n",
       "      <td>1.5</td>\n",
       "      <td>10.5</td>\n",
       "      <td>10</td>\n",
       "      <td>70</td>\n",
       "      <td>25</td>\n",
       "      <td>1</td>\n",
       "      <td>1.0</td>\n",
       "      <td>0.75</td>\n",
       "      <td>29.509541</td>\n",
       "    </tr>\n",
       "    <tr>\n",
       "      <th>...</th>\n",
       "      <td>...</td>\n",
       "      <td>...</td>\n",
       "      <td>...</td>\n",
       "      <td>...</td>\n",
       "      <td>...</td>\n",
       "      <td>...</td>\n",
       "      <td>...</td>\n",
       "      <td>...</td>\n",
       "      <td>...</td>\n",
       "      <td>...</td>\n",
       "      <td>...</td>\n",
       "      <td>...</td>\n",
       "      <td>...</td>\n",
       "    </tr>\n",
       "    <tr>\n",
       "      <th>71</th>\n",
       "      <td>110</td>\n",
       "      <td>2</td>\n",
       "      <td>1</td>\n",
       "      <td>250</td>\n",
       "      <td>0.0</td>\n",
       "      <td>21.0</td>\n",
       "      <td>3</td>\n",
       "      <td>60</td>\n",
       "      <td>25</td>\n",
       "      <td>3</td>\n",
       "      <td>1.0</td>\n",
       "      <td>0.75</td>\n",
       "      <td>39.106174</td>\n",
       "    </tr>\n",
       "    <tr>\n",
       "      <th>72</th>\n",
       "      <td>110</td>\n",
       "      <td>1</td>\n",
       "      <td>1</td>\n",
       "      <td>140</td>\n",
       "      <td>0.0</td>\n",
       "      <td>13.0</td>\n",
       "      <td>12</td>\n",
       "      <td>25</td>\n",
       "      <td>25</td>\n",
       "      <td>2</td>\n",
       "      <td>1.0</td>\n",
       "      <td>1.00</td>\n",
       "      <td>27.753301</td>\n",
       "    </tr>\n",
       "    <tr>\n",
       "      <th>73</th>\n",
       "      <td>100</td>\n",
       "      <td>3</td>\n",
       "      <td>1</td>\n",
       "      <td>230</td>\n",
       "      <td>3.0</td>\n",
       "      <td>17.0</td>\n",
       "      <td>3</td>\n",
       "      <td>115</td>\n",
       "      <td>25</td>\n",
       "      <td>1</td>\n",
       "      <td>1.0</td>\n",
       "      <td>0.67</td>\n",
       "      <td>49.787445</td>\n",
       "    </tr>\n",
       "    <tr>\n",
       "      <th>74</th>\n",
       "      <td>100</td>\n",
       "      <td>3</td>\n",
       "      <td>1</td>\n",
       "      <td>200</td>\n",
       "      <td>3.0</td>\n",
       "      <td>17.0</td>\n",
       "      <td>3</td>\n",
       "      <td>110</td>\n",
       "      <td>25</td>\n",
       "      <td>1</td>\n",
       "      <td>1.0</td>\n",
       "      <td>1.00</td>\n",
       "      <td>51.592193</td>\n",
       "    </tr>\n",
       "    <tr>\n",
       "      <th>75</th>\n",
       "      <td>110</td>\n",
       "      <td>2</td>\n",
       "      <td>1</td>\n",
       "      <td>200</td>\n",
       "      <td>1.0</td>\n",
       "      <td>16.0</td>\n",
       "      <td>8</td>\n",
       "      <td>60</td>\n",
       "      <td>25</td>\n",
       "      <td>1</td>\n",
       "      <td>1.0</td>\n",
       "      <td>0.75</td>\n",
       "      <td>36.187559</td>\n",
       "    </tr>\n",
       "  </tbody>\n",
       "</table>\n",
       "<p>76 rows × 13 columns</p>\n",
       "</div>"
      ],
      "text/plain": [
       "    calories  protein  fat  sodium  fiber  carbo  sugars  potass  vitamins  \\\n",
       "0        120        3    5      15    2.0    8.0       8     135         0   \n",
       "1         70        4    1     260    9.0    7.0       5     320        25   \n",
       "2         50        4    0     140   14.0    8.0       0     330        25   \n",
       "3        110        2    2     200    1.0   14.0       8      -1        25   \n",
       "4        110        2    2     180    1.5   10.5      10      70        25   \n",
       "..       ...      ...  ...     ...    ...    ...     ...     ...       ...   \n",
       "71       110        2    1     250    0.0   21.0       3      60        25   \n",
       "72       110        1    1     140    0.0   13.0      12      25        25   \n",
       "73       100        3    1     230    3.0   17.0       3     115        25   \n",
       "74       100        3    1     200    3.0   17.0       3     110        25   \n",
       "75       110        2    1     200    1.0   16.0       8      60        25   \n",
       "\n",
       "    shelf  weight  cups     rating  \n",
       "0       3     1.0  1.00  33.983679  \n",
       "1       3     1.0  0.33  59.425505  \n",
       "2       3     1.0  0.50  93.704912  \n",
       "3       3     1.0  0.75  34.384843  \n",
       "4       1     1.0  0.75  29.509541  \n",
       "..    ...     ...   ...        ...  \n",
       "71      3     1.0  0.75  39.106174  \n",
       "72      2     1.0  1.00  27.753301  \n",
       "73      1     1.0  0.67  49.787445  \n",
       "74      1     1.0  1.00  51.592193  \n",
       "75      1     1.0  0.75  36.187559  \n",
       "\n",
       "[76 rows x 13 columns]"
      ]
     },
     "execution_count": 4,
     "metadata": {},
     "output_type": "execute_result"
    }
   ],
   "source": [
    "num_cols = df.select_dtypes(exclude=['object'])\n",
    "cat_cols = df.select_dtypes(include=['object'])\n",
    "num_cols"
   ]
  },
  {
   "cell_type": "code",
   "execution_count": 5,
   "id": "2250c841",
   "metadata": {},
   "outputs": [
    {
     "data": {
      "text/html": [
       "<div>\n",
       "<style scoped>\n",
       "    .dataframe tbody tr th:only-of-type {\n",
       "        vertical-align: middle;\n",
       "    }\n",
       "\n",
       "    .dataframe tbody tr th {\n",
       "        vertical-align: top;\n",
       "    }\n",
       "\n",
       "    .dataframe thead th {\n",
       "        text-align: right;\n",
       "    }\n",
       "</style>\n",
       "<table border=\"1\" class=\"dataframe\">\n",
       "  <thead>\n",
       "    <tr style=\"text-align: right;\">\n",
       "      <th></th>\n",
       "      <th>calories</th>\n",
       "      <th>protein</th>\n",
       "      <th>fat</th>\n",
       "      <th>sodium</th>\n",
       "      <th>fiber</th>\n",
       "      <th>carbo</th>\n",
       "      <th>sugars</th>\n",
       "      <th>potass</th>\n",
       "      <th>vitamins</th>\n",
       "      <th>shelf</th>\n",
       "      <th>weight</th>\n",
       "      <th>cups</th>\n",
       "      <th>rating</th>\n",
       "    </tr>\n",
       "  </thead>\n",
       "  <tbody>\n",
       "    <tr>\n",
       "      <th>min</th>\n",
       "      <td>50.0</td>\n",
       "      <td>1.0</td>\n",
       "      <td>0.0</td>\n",
       "      <td>0.0</td>\n",
       "      <td>0.00</td>\n",
       "      <td>-1.0</td>\n",
       "      <td>-1.0</td>\n",
       "      <td>-1.0</td>\n",
       "      <td>0.0</td>\n",
       "      <td>1.0</td>\n",
       "      <td>0.5</td>\n",
       "      <td>0.25</td>\n",
       "      <td>18.042851</td>\n",
       "    </tr>\n",
       "    <tr>\n",
       "      <th>25%</th>\n",
       "      <td>100.0</td>\n",
       "      <td>2.0</td>\n",
       "      <td>0.0</td>\n",
       "      <td>132.5</td>\n",
       "      <td>0.75</td>\n",
       "      <td>12.0</td>\n",
       "      <td>3.0</td>\n",
       "      <td>40.0</td>\n",
       "      <td>25.0</td>\n",
       "      <td>1.0</td>\n",
       "      <td>1.0</td>\n",
       "      <td>0.67</td>\n",
       "      <td>32.932466</td>\n",
       "    </tr>\n",
       "    <tr>\n",
       "      <th>50%</th>\n",
       "      <td>110.0</td>\n",
       "      <td>2.5</td>\n",
       "      <td>1.0</td>\n",
       "      <td>180.0</td>\n",
       "      <td>1.75</td>\n",
       "      <td>14.5</td>\n",
       "      <td>7.0</td>\n",
       "      <td>90.0</td>\n",
       "      <td>25.0</td>\n",
       "      <td>2.0</td>\n",
       "      <td>1.0</td>\n",
       "      <td>0.75</td>\n",
       "      <td>40.253086</td>\n",
       "    </tr>\n",
       "    <tr>\n",
       "      <th>75%</th>\n",
       "      <td>110.0</td>\n",
       "      <td>3.0</td>\n",
       "      <td>2.0</td>\n",
       "      <td>212.5</td>\n",
       "      <td>3.00</td>\n",
       "      <td>17.0</td>\n",
       "      <td>11.0</td>\n",
       "      <td>120.0</td>\n",
       "      <td>25.0</td>\n",
       "      <td>3.0</td>\n",
       "      <td>1.0</td>\n",
       "      <td>1.00</td>\n",
       "      <td>50.780847</td>\n",
       "    </tr>\n",
       "    <tr>\n",
       "      <th>max</th>\n",
       "      <td>160.0</td>\n",
       "      <td>6.0</td>\n",
       "      <td>5.0</td>\n",
       "      <td>320.0</td>\n",
       "      <td>14.00</td>\n",
       "      <td>23.0</td>\n",
       "      <td>15.0</td>\n",
       "      <td>330.0</td>\n",
       "      <td>100.0</td>\n",
       "      <td>3.0</td>\n",
       "      <td>1.5</td>\n",
       "      <td>1.50</td>\n",
       "      <td>93.704912</td>\n",
       "    </tr>\n",
       "  </tbody>\n",
       "</table>\n",
       "</div>"
      ],
      "text/plain": [
       "     calories  protein  fat  sodium  fiber  carbo  sugars  potass  vitamins  \\\n",
       "min      50.0      1.0  0.0     0.0   0.00   -1.0    -1.0    -1.0       0.0   \n",
       "25%     100.0      2.0  0.0   132.5   0.75   12.0     3.0    40.0      25.0   \n",
       "50%     110.0      2.5  1.0   180.0   1.75   14.5     7.0    90.0      25.0   \n",
       "75%     110.0      3.0  2.0   212.5   3.00   17.0    11.0   120.0      25.0   \n",
       "max     160.0      6.0  5.0   320.0  14.00   23.0    15.0   330.0     100.0   \n",
       "\n",
       "     shelf  weight  cups     rating  \n",
       "min    1.0     0.5  0.25  18.042851  \n",
       "25%    1.0     1.0  0.67  32.932466  \n",
       "50%    2.0     1.0  0.75  40.253086  \n",
       "75%    3.0     1.0  1.00  50.780847  \n",
       "max    3.0     1.5  1.50  93.704912  "
      ]
     },
     "execution_count": 5,
     "metadata": {},
     "output_type": "execute_result"
    }
   ],
   "source": [
    "## 5 number summary\n",
    "num_cols_sum = num_cols.describe()['min':'max']\n",
    "num_cols_sum"
   ]
  },
  {
   "cell_type": "code",
   "execution_count": 6,
   "id": "36f5e21c",
   "metadata": {},
   "outputs": [
    {
     "data": {
      "text/plain": [
       "<AxesSubplot:>"
      ]
     },
     "execution_count": 6,
     "metadata": {},
     "output_type": "execute_result"
    },
    {
     "data": {
      "image/png": "[encoded data removed]",
      "text/plain": [
       "<Figure size 864x432 with 1 Axes>"
      ]
     },
     "metadata": {
      "needs_background": "light"
     },
     "output_type": "display_data"
    }
   ],
   "source": [
    "fig, ax = plt.subplots(figsize=(12,6))\n",
    "sns.set_style(\"darkgrid\")\n",
    "sns.boxplot(data = num_cols)"
   ]
  },
  {
   "cell_type": "markdown",
   "id": "ff7c0e4f",
   "metadata": {},
   "source": [
    "### Ans 2"
   ]
  },
  {
   "cell_type": "code",
   "execution_count": 7,
   "id": "2a220264",
   "metadata": {},
   "outputs": [
    {
     "data": {
      "text/plain": [
       "calories    0\n",
       "protein     0\n",
       "fat         0\n",
       "sodium      0\n",
       "fiber       0\n",
       "carbo       0\n",
       "sugars      0\n",
       "potass      0\n",
       "vitamins    0\n",
       "shelf       0\n",
       "weight      0\n",
       "cups        0\n",
       "rating      0\n",
       "dtype: int64"
      ]
     },
     "execution_count": 7,
     "metadata": {},
     "output_type": "execute_result"
    }
   ],
   "source": [
    "## check for NaN values\n",
    "num_cols.isna().sum()"
   ]
  },
  {
   "cell_type": "code",
   "execution_count": 8,
   "id": "2c8786a9",
   "metadata": {},
   "outputs": [
    {
     "data": {
      "text/plain": [
       "calories    0.0\n",
       "protein     0.0\n",
       "fat         0.0\n",
       "sodium      0.0\n",
       "fiber       0.0\n",
       "carbo      -1.0\n",
       "sugars     -1.0\n",
       "potass     -2.0\n",
       "vitamins    0.0\n",
       "shelf       0.0\n",
       "weight      0.0\n",
       "cups        0.0\n",
       "rating      0.0\n",
       "dtype: float64"
      ]
     },
     "execution_count": 8,
     "metadata": {},
     "output_type": "execute_result"
    }
   ],
   "source": [
    "## we do not have any immediate missing values\n",
    "## what about -1?\n",
    "num_cols[num_cols == -1].sum()"
   ]
  },
  {
   "cell_type": "code",
   "execution_count": 9,
   "id": "3e5230d6",
   "metadata": {},
   "outputs": [],
   "source": [
    "## 3 columns have missing values, let us replace them with the mean\n",
    "df.loc[num_cols['carbo'] == -1,'carbo'] = num_cols['carbo'].mean()\n",
    "df.loc[num_cols['sugars'] == -1,'sugars'] = num_cols['sugars'].mean()\n",
    "df.loc[num_cols['potass'] == -1,'potass'] = num_cols['potass'].mean()"
   ]
  },
  {
   "cell_type": "code",
   "execution_count": 10,
   "id": "da5d2050",
   "metadata": {},
   "outputs": [],
   "source": [
    "num_cols = df.select_dtypes(exclude=['object'])"
   ]
  },
  {
   "cell_type": "markdown",
   "id": "38dc5762",
   "metadata": {},
   "source": [
    "### Ans 3"
   ]
  },
  {
   "cell_type": "code",
   "execution_count": 11,
   "id": "f56e5fc1",
   "metadata": {},
   "outputs": [
    {
     "data": {
      "text/html": [
       "<div>\n",
       "<style scoped>\n",
       "    .dataframe tbody tr th:only-of-type {\n",
       "        vertical-align: middle;\n",
       "    }\n",
       "\n",
       "    .dataframe tbody tr th {\n",
       "        vertical-align: top;\n",
       "    }\n",
       "\n",
       "    .dataframe thead th {\n",
       "        text-align: right;\n",
       "    }\n",
       "</style>\n",
       "<table border=\"1\" class=\"dataframe\">\n",
       "  <thead>\n",
       "    <tr style=\"text-align: right;\">\n",
       "      <th></th>\n",
       "      <th>calories</th>\n",
       "      <th>protein</th>\n",
       "      <th>fat</th>\n",
       "      <th>sodium</th>\n",
       "      <th>fiber</th>\n",
       "      <th>carbo</th>\n",
       "      <th>sugars</th>\n",
       "      <th>potass</th>\n",
       "      <th>vitamins</th>\n",
       "      <th>shelf</th>\n",
       "      <th>weight</th>\n",
       "      <th>cups</th>\n",
       "      <th>rating</th>\n",
       "    </tr>\n",
       "  </thead>\n",
       "  <tbody>\n",
       "    <tr>\n",
       "      <th>min</th>\n",
       "      <td>50.0</td>\n",
       "      <td>1.0</td>\n",
       "      <td>0.0</td>\n",
       "      <td>0.0</td>\n",
       "      <td>0.00</td>\n",
       "      <td>7.000000</td>\n",
       "      <td>0.0</td>\n",
       "      <td>15.00</td>\n",
       "      <td>0.0</td>\n",
       "      <td>1.0</td>\n",
       "      <td>0.5</td>\n",
       "      <td>0.25</td>\n",
       "      <td>18.042851</td>\n",
       "    </tr>\n",
       "    <tr>\n",
       "      <th>25%</th>\n",
       "      <td>100.0</td>\n",
       "      <td>2.0</td>\n",
       "      <td>0.0</td>\n",
       "      <td>132.5</td>\n",
       "      <td>0.75</td>\n",
       "      <td>12.000000</td>\n",
       "      <td>3.0</td>\n",
       "      <td>43.75</td>\n",
       "      <td>25.0</td>\n",
       "      <td>1.0</td>\n",
       "      <td>1.0</td>\n",
       "      <td>0.67</td>\n",
       "      <td>32.932466</td>\n",
       "    </tr>\n",
       "    <tr>\n",
       "      <th>50%</th>\n",
       "      <td>110.0</td>\n",
       "      <td>2.5</td>\n",
       "      <td>1.0</td>\n",
       "      <td>180.0</td>\n",
       "      <td>1.75</td>\n",
       "      <td>14.861842</td>\n",
       "      <td>7.0</td>\n",
       "      <td>90.00</td>\n",
       "      <td>25.0</td>\n",
       "      <td>2.0</td>\n",
       "      <td>1.0</td>\n",
       "      <td>0.75</td>\n",
       "      <td>40.253086</td>\n",
       "    </tr>\n",
       "    <tr>\n",
       "      <th>75%</th>\n",
       "      <td>110.0</td>\n",
       "      <td>3.0</td>\n",
       "      <td>2.0</td>\n",
       "      <td>212.5</td>\n",
       "      <td>3.00</td>\n",
       "      <td>17.000000</td>\n",
       "      <td>11.0</td>\n",
       "      <td>120.00</td>\n",
       "      <td>25.0</td>\n",
       "      <td>3.0</td>\n",
       "      <td>1.0</td>\n",
       "      <td>1.00</td>\n",
       "      <td>50.780847</td>\n",
       "    </tr>\n",
       "    <tr>\n",
       "      <th>max</th>\n",
       "      <td>160.0</td>\n",
       "      <td>6.0</td>\n",
       "      <td>5.0</td>\n",
       "      <td>320.0</td>\n",
       "      <td>14.00</td>\n",
       "      <td>23.000000</td>\n",
       "      <td>15.0</td>\n",
       "      <td>330.00</td>\n",
       "      <td>100.0</td>\n",
       "      <td>3.0</td>\n",
       "      <td>1.5</td>\n",
       "      <td>1.50</td>\n",
       "      <td>93.704912</td>\n",
       "    </tr>\n",
       "  </tbody>\n",
       "</table>\n",
       "</div>"
      ],
      "text/plain": [
       "     calories  protein  fat  sodium  fiber      carbo  sugars  potass  \\\n",
       "min      50.0      1.0  0.0     0.0   0.00   7.000000     0.0   15.00   \n",
       "25%     100.0      2.0  0.0   132.5   0.75  12.000000     3.0   43.75   \n",
       "50%     110.0      2.5  1.0   180.0   1.75  14.861842     7.0   90.00   \n",
       "75%     110.0      3.0  2.0   212.5   3.00  17.000000    11.0  120.00   \n",
       "max     160.0      6.0  5.0   320.0  14.00  23.000000    15.0  330.00   \n",
       "\n",
       "     vitamins  shelf  weight  cups     rating  \n",
       "min       0.0    1.0     0.5  0.25  18.042851  \n",
       "25%      25.0    1.0     1.0  0.67  32.932466  \n",
       "50%      25.0    2.0     1.0  0.75  40.253086  \n",
       "75%      25.0    3.0     1.0  1.00  50.780847  \n",
       "max     100.0    3.0     1.5  1.50  93.704912  "
      ]
     },
     "execution_count": 11,
     "metadata": {},
     "output_type": "execute_result"
    }
   ],
   "source": [
    "num_cols_sum = num_cols.describe()['min':'max']\n",
    "num_cols_sum"
   ]
  },
  {
   "cell_type": "code",
   "execution_count": 12,
   "id": "576d11fb",
   "metadata": {},
   "outputs": [
    {
     "data": {
      "text/plain": [
       "<AxesSubplot:>"
      ]
     },
     "execution_count": 12,
     "metadata": {},
     "output_type": "execute_result"
    },
    {
     "data": {
      "image/png": "[encoded data removed]",
      "text/plain": [
       "<Figure size 432x288 with 1 Axes>"
      ]
     },
     "metadata": {},
     "output_type": "display_data"
    }
   ],
   "source": [
    "sns.set_style(\"darkgrid\")\n",
    "sns.boxplot(data = num_cols[['carbo','sugars','potass']])"
   ]
  },
  {
   "cell_type": "code",
   "execution_count": 13,
   "id": "2324547e",
   "metadata": {},
   "outputs": [
    {
     "data": {
      "text/plain": [
       "array([[<AxesSubplot:title={'center':'carbo'}>,\n",
       "        <AxesSubplot:title={'center':'sugars'}>],\n",
       "       [<AxesSubplot:title={'center':'potass'}>, <AxesSubplot:>]],\n",
       "      dtype=object)"
      ]
     },
     "execution_count": 13,
     "metadata": {},
     "output_type": "execute_result"
    },
    {
     "data": {
      "image/png": "[encoded data removed]",
      "text/plain": [
       "<Figure size 432x288 with 4 Axes>"
      ]
     },
     "metadata": {},
     "output_type": "display_data"
    }
   ],
   "source": [
    "num_cols[['carbo','sugars','potass']].hist(bins = 6)"
   ]
  },
  {
   "cell_type": "code",
   "execution_count": 14,
   "id": "095b4511",
   "metadata": {},
   "outputs": [
    {
     "data": {
      "text/plain": [
       "carbo     0.270327\n",
       "sugars    0.036018\n",
       "potass    1.466663\n",
       "dtype: float64"
      ]
     },
     "execution_count": 14,
     "metadata": {},
     "output_type": "execute_result"
    }
   ],
   "source": [
    "skewness = num_cols.skew()\n",
    "skewness[['carbo','sugars','potass']]"
   ]
  },
  {
   "cell_type": "markdown",
   "id": "e36c31a1",
   "metadata": {},
   "source": [
    "### Replacement  \n",
    "We observe an acceptable amount of skewness in columns of carbo and sugars (<0.5).  \n",
    "Hence, we can conclude that replacing missing values was a good idea in the above cases.  \n",
    "  \n",
    "  However, the data for potass is not uniformly distributed but has an appreciable positive skewness to it.  \n",
    "  Hence, it would have been more appropriate to replace it missing value with median as it would be a better measure of central tendency of the data.  "
   ]
  },
  {
   "cell_type": "markdown",
   "id": "5596bfe2",
   "metadata": {},
   "source": [
    "### Ans 4"
   ]
  },
  {
   "cell_type": "code",
   "execution_count": 15,
   "id": "e750a692",
   "metadata": {},
   "outputs": [
    {
     "data": {
      "text/plain": [
       "<AxesSubplot:>"
      ]
     },
     "execution_count": 15,
     "metadata": {},
     "output_type": "execute_result"
    },
    {
     "data": {
      "image/png": "[encoded data removed]",
      "text/plain": [
       "<Figure size 864x432 with 1 Axes>"
      ]
     },
     "metadata": {},
     "output_type": "display_data"
    }
   ],
   "source": [
    "## first of all, we must observe noisy data\n",
    "fig, ax = plt.subplots(figsize=(12,6))\n",
    "sns.set_style(\"darkgrid\")\n",
    "sns.boxplot(data = num_cols)"
   ]
  },
  {
   "cell_type": "code",
   "execution_count": 16,
   "id": "8ed81f16",
   "metadata": {},
   "outputs": [],
   "source": [
    "## We find quite a few outliers in the data. \n",
    "## It would be apporpriate to remove outliers \n",
    "\n",
    "## Anything above or below 1.5 times quartiles 1 and 3 respectively\n",
    "## is an outlier.\n",
    "\n",
    "Q1 = df.quantile(0.25)\n",
    "Q3 = df.quantile(0.75)\n",
    "IQR = Q3 - Q1\n",
    "whisker_width = 1.5\n",
    "lower_whisker = Q1 - (whisker_width*IQR)\n",
    "upper_whisker = Q3 + (whisker_width*IQR)"
   ]
  },
  {
   "cell_type": "code",
   "execution_count": 17,
   "id": "ff780371",
   "metadata": {},
   "outputs": [],
   "source": [
    "temp = num_cols.copy()\n",
    "for feature in num_cols.columns:\n",
    "    temp.loc[(temp[feature] > upper_whisker[feature]) | (temp[feature] < lower_whisker[feature]), [feature]] = temp[feature].median()"
   ]
  },
  {
   "cell_type": "code",
   "execution_count": 18,
   "id": "fac27fa7",
   "metadata": {},
   "outputs": [
    {
     "data": {
      "text/plain": [
       "<AxesSubplot:>"
      ]
     },
     "execution_count": 18,
     "metadata": {},
     "output_type": "execute_result"
    },
    {
     "data": {
      "image/png": "[encoded data removed]",
      "text/plain": [
       "<Figure size 1008x468 with 1 Axes>"
      ]
     },
     "metadata": {},
     "output_type": "display_data"
    }
   ],
   "source": [
    "num_cols_processed = temp\n",
    "sns.set_style(\"darkgrid\")\n",
    "fig, ax = plt.subplots(figsize=(14,6.5))\n",
    "sns.boxplot(data=num_cols_processed)"
   ]
  },
  {
   "cell_type": "markdown",
   "id": "6e94efe7",
   "metadata": {},
   "source": [
    "### BAM!  \n",
    "We have now removed majority of outliers and replaced them with median.  \n"
   ]
  },
  {
   "cell_type": "markdown",
   "id": "d622a8c9",
   "metadata": {},
   "source": [
    "### Ans 5"
   ]
  },
  {
   "cell_type": "code",
   "execution_count": 19,
   "id": "12a800ae",
   "metadata": {},
   "outputs": [
    {
     "data": {
      "text/html": [
       "<div>\n",
       "<style scoped>\n",
       "    .dataframe tbody tr th:only-of-type {\n",
       "        vertical-align: middle;\n",
       "    }\n",
       "\n",
       "    .dataframe tbody tr th {\n",
       "        vertical-align: top;\n",
       "    }\n",
       "\n",
       "    .dataframe thead th {\n",
       "        text-align: right;\n",
       "    }\n",
       "</style>\n",
       "<table border=\"1\" class=\"dataframe\">\n",
       "  <thead>\n",
       "    <tr style=\"text-align: right;\">\n",
       "      <th></th>\n",
       "      <th>calories</th>\n",
       "      <th>protein</th>\n",
       "      <th>fat</th>\n",
       "      <th>sodium</th>\n",
       "      <th>fiber</th>\n",
       "      <th>carbo</th>\n",
       "      <th>sugars</th>\n",
       "      <th>potass</th>\n",
       "      <th>vitamins</th>\n",
       "      <th>shelf</th>\n",
       "      <th>weight</th>\n",
       "      <th>cups</th>\n",
       "      <th>rating</th>\n",
       "    </tr>\n",
       "  </thead>\n",
       "  <tbody>\n",
       "    <tr>\n",
       "      <th>count</th>\n",
       "      <td>76.000000</td>\n",
       "      <td>76.000000</td>\n",
       "      <td>76.000000</td>\n",
       "      <td>76.000000</td>\n",
       "      <td>76.000000</td>\n",
       "      <td>76.000000</td>\n",
       "      <td>76.000000</td>\n",
       "      <td>76.000000</td>\n",
       "      <td>76.0</td>\n",
       "      <td>76.000000</td>\n",
       "      <td>76.0</td>\n",
       "      <td>76.000000</td>\n",
       "      <td>76.000000</td>\n",
       "    </tr>\n",
       "    <tr>\n",
       "      <th>mean</th>\n",
       "      <td>107.236842</td>\n",
       "      <td>2.401316</td>\n",
       "      <td>1.013158</td>\n",
       "      <td>181.381579</td>\n",
       "      <td>1.792105</td>\n",
       "      <td>14.930575</td>\n",
       "      <td>7.038608</td>\n",
       "      <td>85.754155</td>\n",
       "      <td>25.0</td>\n",
       "      <td>2.197368</td>\n",
       "      <td>1.0</td>\n",
       "      <td>0.817632</td>\n",
       "      <td>41.623743</td>\n",
       "    </tr>\n",
       "    <tr>\n",
       "      <th>std</th>\n",
       "      <td>8.099166</td>\n",
       "      <td>0.875670</td>\n",
       "      <td>1.013159</td>\n",
       "      <td>60.186370</td>\n",
       "      <td>1.520220</td>\n",
       "      <td>3.737575</td>\n",
       "      <td>4.377048</td>\n",
       "      <td>48.049515</td>\n",
       "      <td>0.0</td>\n",
       "      <td>0.832982</td>\n",
       "      <td>0.0</td>\n",
       "      <td>0.213478</td>\n",
       "      <td>12.464724</td>\n",
       "    </tr>\n",
       "    <tr>\n",
       "      <th>min</th>\n",
       "      <td>90.000000</td>\n",
       "      <td>1.000000</td>\n",
       "      <td>0.000000</td>\n",
       "      <td>15.000000</td>\n",
       "      <td>0.000000</td>\n",
       "      <td>7.000000</td>\n",
       "      <td>0.000000</td>\n",
       "      <td>15.000000</td>\n",
       "      <td>25.0</td>\n",
       "      <td>1.000000</td>\n",
       "      <td>1.0</td>\n",
       "      <td>0.250000</td>\n",
       "      <td>18.042851</td>\n",
       "    </tr>\n",
       "    <tr>\n",
       "      <th>25%</th>\n",
       "      <td>100.000000</td>\n",
       "      <td>2.000000</td>\n",
       "      <td>0.000000</td>\n",
       "      <td>147.500000</td>\n",
       "      <td>0.750000</td>\n",
       "      <td>12.000000</td>\n",
       "      <td>3.000000</td>\n",
       "      <td>43.750000</td>\n",
       "      <td>25.0</td>\n",
       "      <td>1.000000</td>\n",
       "      <td>1.0</td>\n",
       "      <td>0.670000</td>\n",
       "      <td>32.932466</td>\n",
       "    </tr>\n",
       "    <tr>\n",
       "      <th>50%</th>\n",
       "      <td>110.000000</td>\n",
       "      <td>2.250000</td>\n",
       "      <td>1.000000</td>\n",
       "      <td>180.000000</td>\n",
       "      <td>1.625000</td>\n",
       "      <td>14.861842</td>\n",
       "      <td>7.000000</td>\n",
       "      <td>90.000000</td>\n",
       "      <td>25.0</td>\n",
       "      <td>2.000000</td>\n",
       "      <td>1.0</td>\n",
       "      <td>0.750000</td>\n",
       "      <td>40.179526</td>\n",
       "    </tr>\n",
       "    <tr>\n",
       "      <th>75%</th>\n",
       "      <td>110.000000</td>\n",
       "      <td>3.000000</td>\n",
       "      <td>2.000000</td>\n",
       "      <td>212.500000</td>\n",
       "      <td>3.000000</td>\n",
       "      <td>17.000000</td>\n",
       "      <td>11.000000</td>\n",
       "      <td>110.000000</td>\n",
       "      <td>25.0</td>\n",
       "      <td>3.000000</td>\n",
       "      <td>1.0</td>\n",
       "      <td>1.000000</td>\n",
       "      <td>50.031833</td>\n",
       "    </tr>\n",
       "    <tr>\n",
       "      <th>max</th>\n",
       "      <td>120.000000</td>\n",
       "      <td>4.000000</td>\n",
       "      <td>5.000000</td>\n",
       "      <td>320.000000</td>\n",
       "      <td>6.000000</td>\n",
       "      <td>23.000000</td>\n",
       "      <td>15.000000</td>\n",
       "      <td>230.000000</td>\n",
       "      <td>25.0</td>\n",
       "      <td>3.000000</td>\n",
       "      <td>1.0</td>\n",
       "      <td>1.330000</td>\n",
       "      <td>74.472949</td>\n",
       "    </tr>\n",
       "  </tbody>\n",
       "</table>\n",
       "</div>"
      ],
      "text/plain": [
       "         calories    protein        fat      sodium      fiber      carbo  \\\n",
       "count   76.000000  76.000000  76.000000   76.000000  76.000000  76.000000   \n",
       "mean   107.236842   2.401316   1.013158  181.381579   1.792105  14.930575   \n",
       "std      8.099166   0.875670   1.013159   60.186370   1.520220   3.737575   \n",
       "min     90.000000   1.000000   0.000000   15.000000   0.000000   7.000000   \n",
       "25%    100.000000   2.000000   0.000000  147.500000   0.750000  12.000000   \n",
       "50%    110.000000   2.250000   1.000000  180.000000   1.625000  14.861842   \n",
       "75%    110.000000   3.000000   2.000000  212.500000   3.000000  17.000000   \n",
       "max    120.000000   4.000000   5.000000  320.000000   6.000000  23.000000   \n",
       "\n",
       "          sugars      potass  vitamins      shelf  weight       cups  \\\n",
       "count  76.000000   76.000000      76.0  76.000000    76.0  76.000000   \n",
       "mean    7.038608   85.754155      25.0   2.197368     1.0   0.817632   \n",
       "std     4.377048   48.049515       0.0   0.832982     0.0   0.213478   \n",
       "min     0.000000   15.000000      25.0   1.000000     1.0   0.250000   \n",
       "25%     3.000000   43.750000      25.0   1.000000     1.0   0.670000   \n",
       "50%     7.000000   90.000000      25.0   2.000000     1.0   0.750000   \n",
       "75%    11.000000  110.000000      25.0   3.000000     1.0   1.000000   \n",
       "max    15.000000  230.000000      25.0   3.000000     1.0   1.330000   \n",
       "\n",
       "          rating  \n",
       "count  76.000000  \n",
       "mean   41.623743  \n",
       "std    12.464724  \n",
       "min    18.042851  \n",
       "25%    32.932466  \n",
       "50%    40.179526  \n",
       "75%    50.031833  \n",
       "max    74.472949  "
      ]
     },
     "execution_count": 19,
     "metadata": {},
     "output_type": "execute_result"
    }
   ],
   "source": [
    "num_cols_processed.describe()"
   ]
  },
  {
   "cell_type": "code",
   "execution_count": 20,
   "id": "2803ec03",
   "metadata": {},
   "outputs": [
    {
     "data": {
      "text/html": [
       "<div>\n",
       "<style scoped>\n",
       "    .dataframe tbody tr th:only-of-type {\n",
       "        vertical-align: middle;\n",
       "    }\n",
       "\n",
       "    .dataframe tbody tr th {\n",
       "        vertical-align: top;\n",
       "    }\n",
       "\n",
       "    .dataframe thead th {\n",
       "        text-align: right;\n",
       "    }\n",
       "</style>\n",
       "<table border=\"1\" class=\"dataframe\">\n",
       "  <thead>\n",
       "    <tr style=\"text-align: right;\">\n",
       "      <th></th>\n",
       "      <th>calories</th>\n",
       "      <th>protein</th>\n",
       "      <th>fat</th>\n",
       "      <th>sodium</th>\n",
       "      <th>fiber</th>\n",
       "      <th>carbo</th>\n",
       "      <th>sugars</th>\n",
       "      <th>potass</th>\n",
       "      <th>vitamins</th>\n",
       "      <th>shelf</th>\n",
       "      <th>weight</th>\n",
       "      <th>cups</th>\n",
       "      <th>rating</th>\n",
       "    </tr>\n",
       "  </thead>\n",
       "  <tbody>\n",
       "    <tr>\n",
       "      <th>count</th>\n",
       "      <td>76.000000</td>\n",
       "      <td>76.000000</td>\n",
       "      <td>76.000000</td>\n",
       "      <td>76.000000</td>\n",
       "      <td>76.000000</td>\n",
       "      <td>76.000000</td>\n",
       "      <td>76.000000</td>\n",
       "      <td>76.000000</td>\n",
       "      <td>76.000000</td>\n",
       "      <td>76.000000</td>\n",
       "      <td>76.000000</td>\n",
       "      <td>76.000000</td>\n",
       "      <td>76.000000</td>\n",
       "    </tr>\n",
       "    <tr>\n",
       "      <th>mean</th>\n",
       "      <td>107.368421</td>\n",
       "      <td>2.526316</td>\n",
       "      <td>1.013158</td>\n",
       "      <td>160.065789</td>\n",
       "      <td>2.048684</td>\n",
       "      <td>14.930575</td>\n",
       "      <td>7.038608</td>\n",
       "      <td>96.148892</td>\n",
       "      <td>28.289474</td>\n",
       "      <td>2.197368</td>\n",
       "      <td>1.030000</td>\n",
       "      <td>0.827500</td>\n",
       "      <td>42.327057</td>\n",
       "    </tr>\n",
       "    <tr>\n",
       "      <th>std</th>\n",
       "      <td>19.139378</td>\n",
       "      <td>1.089020</td>\n",
       "      <td>1.013159</td>\n",
       "      <td>84.318813</td>\n",
       "      <td>2.219038</td>\n",
       "      <td>3.737575</td>\n",
       "      <td>4.377048</td>\n",
       "      <td>66.688658</td>\n",
       "      <td>22.487813</td>\n",
       "      <td>0.832982</td>\n",
       "      <td>0.151438</td>\n",
       "      <td>0.227204</td>\n",
       "      <td>13.820602</td>\n",
       "    </tr>\n",
       "    <tr>\n",
       "      <th>min</th>\n",
       "      <td>50.000000</td>\n",
       "      <td>1.000000</td>\n",
       "      <td>0.000000</td>\n",
       "      <td>0.000000</td>\n",
       "      <td>0.000000</td>\n",
       "      <td>7.000000</td>\n",
       "      <td>0.000000</td>\n",
       "      <td>15.000000</td>\n",
       "      <td>0.000000</td>\n",
       "      <td>1.000000</td>\n",
       "      <td>0.500000</td>\n",
       "      <td>0.250000</td>\n",
       "      <td>18.042851</td>\n",
       "    </tr>\n",
       "    <tr>\n",
       "      <th>25%</th>\n",
       "      <td>100.000000</td>\n",
       "      <td>2.000000</td>\n",
       "      <td>0.000000</td>\n",
       "      <td>132.500000</td>\n",
       "      <td>0.750000</td>\n",
       "      <td>12.000000</td>\n",
       "      <td>3.000000</td>\n",
       "      <td>43.750000</td>\n",
       "      <td>25.000000</td>\n",
       "      <td>1.000000</td>\n",
       "      <td>1.000000</td>\n",
       "      <td>0.670000</td>\n",
       "      <td>32.932466</td>\n",
       "    </tr>\n",
       "    <tr>\n",
       "      <th>50%</th>\n",
       "      <td>110.000000</td>\n",
       "      <td>2.500000</td>\n",
       "      <td>1.000000</td>\n",
       "      <td>180.000000</td>\n",
       "      <td>1.750000</td>\n",
       "      <td>14.861842</td>\n",
       "      <td>7.000000</td>\n",
       "      <td>90.000000</td>\n",
       "      <td>25.000000</td>\n",
       "      <td>2.000000</td>\n",
       "      <td>1.000000</td>\n",
       "      <td>0.750000</td>\n",
       "      <td>40.253086</td>\n",
       "    </tr>\n",
       "    <tr>\n",
       "      <th>75%</th>\n",
       "      <td>110.000000</td>\n",
       "      <td>3.000000</td>\n",
       "      <td>2.000000</td>\n",
       "      <td>212.500000</td>\n",
       "      <td>3.000000</td>\n",
       "      <td>17.000000</td>\n",
       "      <td>11.000000</td>\n",
       "      <td>120.000000</td>\n",
       "      <td>25.000000</td>\n",
       "      <td>3.000000</td>\n",
       "      <td>1.000000</td>\n",
       "      <td>1.000000</td>\n",
       "      <td>50.780847</td>\n",
       "    </tr>\n",
       "    <tr>\n",
       "      <th>max</th>\n",
       "      <td>160.000000</td>\n",
       "      <td>6.000000</td>\n",
       "      <td>5.000000</td>\n",
       "      <td>320.000000</td>\n",
       "      <td>14.000000</td>\n",
       "      <td>23.000000</td>\n",
       "      <td>15.000000</td>\n",
       "      <td>330.000000</td>\n",
       "      <td>100.000000</td>\n",
       "      <td>3.000000</td>\n",
       "      <td>1.500000</td>\n",
       "      <td>1.500000</td>\n",
       "      <td>93.704912</td>\n",
       "    </tr>\n",
       "  </tbody>\n",
       "</table>\n",
       "</div>"
      ],
      "text/plain": [
       "         calories    protein        fat      sodium      fiber      carbo  \\\n",
       "count   76.000000  76.000000  76.000000   76.000000  76.000000  76.000000   \n",
       "mean   107.368421   2.526316   1.013158  160.065789   2.048684  14.930575   \n",
       "std     19.139378   1.089020   1.013159   84.318813   2.219038   3.737575   \n",
       "min     50.000000   1.000000   0.000000    0.000000   0.000000   7.000000   \n",
       "25%    100.000000   2.000000   0.000000  132.500000   0.750000  12.000000   \n",
       "50%    110.000000   2.500000   1.000000  180.000000   1.750000  14.861842   \n",
       "75%    110.000000   3.000000   2.000000  212.500000   3.000000  17.000000   \n",
       "max    160.000000   6.000000   5.000000  320.000000  14.000000  23.000000   \n",
       "\n",
       "          sugars      potass    vitamins      shelf     weight       cups  \\\n",
       "count  76.000000   76.000000   76.000000  76.000000  76.000000  76.000000   \n",
       "mean    7.038608   96.148892   28.289474   2.197368   1.030000   0.827500   \n",
       "std     4.377048   66.688658   22.487813   0.832982   0.151438   0.227204   \n",
       "min     0.000000   15.000000    0.000000   1.000000   0.500000   0.250000   \n",
       "25%     3.000000   43.750000   25.000000   1.000000   1.000000   0.670000   \n",
       "50%     7.000000   90.000000   25.000000   2.000000   1.000000   0.750000   \n",
       "75%    11.000000  120.000000   25.000000   3.000000   1.000000   1.000000   \n",
       "max    15.000000  330.000000  100.000000   3.000000   1.500000   1.500000   \n",
       "\n",
       "          rating  \n",
       "count  76.000000  \n",
       "mean   42.327057  \n",
       "std    13.820602  \n",
       "min    18.042851  \n",
       "25%    32.932466  \n",
       "50%    40.253086  \n",
       "75%    50.780847  \n",
       "max    93.704912  "
      ]
     },
     "execution_count": 20,
     "metadata": {},
     "output_type": "execute_result"
    }
   ],
   "source": [
    "num_cols.describe()"
   ]
  },
  {
   "cell_type": "markdown",
   "id": "3657938a",
   "metadata": {},
   "source": [
    "### Success  \n",
    "We successfully removed most of the outliers from our dataset.  \n",
    "Most Numeric columns see a reduction in the number of outliers.  \n",
    "The min,max range has decreased.  \n",
    "But the quantiles remain roughly the same.  \n"
   ]
  },
  {
   "cell_type": "markdown",
   "id": "1d933652",
   "metadata": {},
   "source": [
    "### Merging Datasets  \n",
    "now, we need to merge our pre-processed data sets.  \n",
    "We did not make any changes to cat_cols and all changes made in num_cols are stored and represented in  \n",
    "num_cols_processed"
   ]
  },
  {
   "cell_type": "code",
   "execution_count": 21,
   "id": "8d949059",
   "metadata": {},
   "outputs": [],
   "source": [
    "df_processed = df.copy()\n",
    "df_processed[num_cols.columns] = num_cols_processed"
   ]
  },
  {
   "cell_type": "markdown",
   "id": "191d4959",
   "metadata": {},
   "source": [
    "### Ans 6"
   ]
  },
  {
   "cell_type": "code",
   "execution_count": 22,
   "id": "75403c52",
   "metadata": {},
   "outputs": [
    {
     "data": {
      "text/html": [
       "<div>\n",
       "<style scoped>\n",
       "    .dataframe tbody tr th:only-of-type {\n",
       "        vertical-align: middle;\n",
       "    }\n",
       "\n",
       "    .dataframe tbody tr th {\n",
       "        vertical-align: top;\n",
       "    }\n",
       "\n",
       "    .dataframe thead th {\n",
       "        text-align: right;\n",
       "    }\n",
       "</style>\n",
       "<table border=\"1\" class=\"dataframe\">\n",
       "  <thead>\n",
       "    <tr style=\"text-align: right;\">\n",
       "      <th></th>\n",
       "      <th>name</th>\n",
       "      <th>mfr</th>\n",
       "      <th>type</th>\n",
       "      <th>calories</th>\n",
       "      <th>protein</th>\n",
       "      <th>fat</th>\n",
       "      <th>sodium</th>\n",
       "      <th>fiber</th>\n",
       "      <th>carbo</th>\n",
       "      <th>sugars</th>\n",
       "      <th>potass</th>\n",
       "      <th>vitamins</th>\n",
       "      <th>shelf</th>\n",
       "      <th>weight</th>\n",
       "      <th>cups</th>\n",
       "      <th>rating</th>\n",
       "    </tr>\n",
       "  </thead>\n",
       "  <tbody>\n",
       "    <tr>\n",
       "      <th>0</th>\n",
       "      <td>100%_Natural_Bran</td>\n",
       "      <td>Q</td>\n",
       "      <td>C</td>\n",
       "      <td>120</td>\n",
       "      <td>3.0</td>\n",
       "      <td>5</td>\n",
       "      <td>15</td>\n",
       "      <td>2.00</td>\n",
       "      <td>8.0</td>\n",
       "      <td>8.0</td>\n",
       "      <td>135.000000</td>\n",
       "      <td>25</td>\n",
       "      <td>3</td>\n",
       "      <td>1.0</td>\n",
       "      <td>1.00</td>\n",
       "      <td>33.983679</td>\n",
       "    </tr>\n",
       "    <tr>\n",
       "      <th>1</th>\n",
       "      <td>All-Bran</td>\n",
       "      <td>K</td>\n",
       "      <td>C</td>\n",
       "      <td>110</td>\n",
       "      <td>4.0</td>\n",
       "      <td>1</td>\n",
       "      <td>260</td>\n",
       "      <td>1.75</td>\n",
       "      <td>7.0</td>\n",
       "      <td>5.0</td>\n",
       "      <td>90.000000</td>\n",
       "      <td>25</td>\n",
       "      <td>3</td>\n",
       "      <td>1.0</td>\n",
       "      <td>0.33</td>\n",
       "      <td>59.425505</td>\n",
       "    </tr>\n",
       "    <tr>\n",
       "      <th>2</th>\n",
       "      <td>All-Bran_with_Extra_Fiber</td>\n",
       "      <td>K</td>\n",
       "      <td>C</td>\n",
       "      <td>110</td>\n",
       "      <td>4.0</td>\n",
       "      <td>0</td>\n",
       "      <td>140</td>\n",
       "      <td>1.75</td>\n",
       "      <td>8.0</td>\n",
       "      <td>0.0</td>\n",
       "      <td>90.000000</td>\n",
       "      <td>25</td>\n",
       "      <td>3</td>\n",
       "      <td>1.0</td>\n",
       "      <td>0.50</td>\n",
       "      <td>40.253086</td>\n",
       "    </tr>\n",
       "    <tr>\n",
       "      <th>3</th>\n",
       "      <td>Almond_Delight</td>\n",
       "      <td>R</td>\n",
       "      <td>C</td>\n",
       "      <td>110</td>\n",
       "      <td>2.0</td>\n",
       "      <td>2</td>\n",
       "      <td>200</td>\n",
       "      <td>1.00</td>\n",
       "      <td>14.0</td>\n",
       "      <td>8.0</td>\n",
       "      <td>93.657895</td>\n",
       "      <td>25</td>\n",
       "      <td>3</td>\n",
       "      <td>1.0</td>\n",
       "      <td>0.75</td>\n",
       "      <td>34.384843</td>\n",
       "    </tr>\n",
       "    <tr>\n",
       "      <th>4</th>\n",
       "      <td>Apple_Cinnamon_Cheerios</td>\n",
       "      <td>G</td>\n",
       "      <td>C</td>\n",
       "      <td>110</td>\n",
       "      <td>2.0</td>\n",
       "      <td>2</td>\n",
       "      <td>180</td>\n",
       "      <td>1.50</td>\n",
       "      <td>10.5</td>\n",
       "      <td>10.0</td>\n",
       "      <td>70.000000</td>\n",
       "      <td>25</td>\n",
       "      <td>1</td>\n",
       "      <td>1.0</td>\n",
       "      <td>0.75</td>\n",
       "      <td>29.509541</td>\n",
       "    </tr>\n",
       "    <tr>\n",
       "      <th>...</th>\n",
       "      <td>...</td>\n",
       "      <td>...</td>\n",
       "      <td>...</td>\n",
       "      <td>...</td>\n",
       "      <td>...</td>\n",
       "      <td>...</td>\n",
       "      <td>...</td>\n",
       "      <td>...</td>\n",
       "      <td>...</td>\n",
       "      <td>...</td>\n",
       "      <td>...</td>\n",
       "      <td>...</td>\n",
       "      <td>...</td>\n",
       "      <td>...</td>\n",
       "      <td>...</td>\n",
       "      <td>...</td>\n",
       "    </tr>\n",
       "    <tr>\n",
       "      <th>71</th>\n",
       "      <td>Triples</td>\n",
       "      <td>G</td>\n",
       "      <td>C</td>\n",
       "      <td>110</td>\n",
       "      <td>2.0</td>\n",
       "      <td>1</td>\n",
       "      <td>250</td>\n",
       "      <td>0.00</td>\n",
       "      <td>21.0</td>\n",
       "      <td>3.0</td>\n",
       "      <td>60.000000</td>\n",
       "      <td>25</td>\n",
       "      <td>3</td>\n",
       "      <td>1.0</td>\n",
       "      <td>0.75</td>\n",
       "      <td>39.106174</td>\n",
       "    </tr>\n",
       "    <tr>\n",
       "      <th>72</th>\n",
       "      <td>Trix</td>\n",
       "      <td>G</td>\n",
       "      <td>C</td>\n",
       "      <td>110</td>\n",
       "      <td>1.0</td>\n",
       "      <td>1</td>\n",
       "      <td>140</td>\n",
       "      <td>0.00</td>\n",
       "      <td>13.0</td>\n",
       "      <td>12.0</td>\n",
       "      <td>25.000000</td>\n",
       "      <td>25</td>\n",
       "      <td>2</td>\n",
       "      <td>1.0</td>\n",
       "      <td>1.00</td>\n",
       "      <td>27.753301</td>\n",
       "    </tr>\n",
       "    <tr>\n",
       "      <th>73</th>\n",
       "      <td>Wheat_Chex</td>\n",
       "      <td>R</td>\n",
       "      <td>C</td>\n",
       "      <td>100</td>\n",
       "      <td>3.0</td>\n",
       "      <td>1</td>\n",
       "      <td>230</td>\n",
       "      <td>3.00</td>\n",
       "      <td>17.0</td>\n",
       "      <td>3.0</td>\n",
       "      <td>115.000000</td>\n",
       "      <td>25</td>\n",
       "      <td>1</td>\n",
       "      <td>1.0</td>\n",
       "      <td>0.67</td>\n",
       "      <td>49.787445</td>\n",
       "    </tr>\n",
       "    <tr>\n",
       "      <th>74</th>\n",
       "      <td>Wheaties</td>\n",
       "      <td>G</td>\n",
       "      <td>C</td>\n",
       "      <td>100</td>\n",
       "      <td>3.0</td>\n",
       "      <td>1</td>\n",
       "      <td>200</td>\n",
       "      <td>3.00</td>\n",
       "      <td>17.0</td>\n",
       "      <td>3.0</td>\n",
       "      <td>110.000000</td>\n",
       "      <td>25</td>\n",
       "      <td>1</td>\n",
       "      <td>1.0</td>\n",
       "      <td>1.00</td>\n",
       "      <td>51.592193</td>\n",
       "    </tr>\n",
       "    <tr>\n",
       "      <th>75</th>\n",
       "      <td>Wheaties_Honey_Gold</td>\n",
       "      <td>G</td>\n",
       "      <td>C</td>\n",
       "      <td>110</td>\n",
       "      <td>2.0</td>\n",
       "      <td>1</td>\n",
       "      <td>200</td>\n",
       "      <td>1.00</td>\n",
       "      <td>16.0</td>\n",
       "      <td>8.0</td>\n",
       "      <td>60.000000</td>\n",
       "      <td>25</td>\n",
       "      <td>1</td>\n",
       "      <td>1.0</td>\n",
       "      <td>0.75</td>\n",
       "      <td>36.187559</td>\n",
       "    </tr>\n",
       "  </tbody>\n",
       "</table>\n",
       "<p>76 rows × 16 columns</p>\n",
       "</div>"
      ],
      "text/plain": [
       "                         name mfr type  calories  protein  fat  sodium  fiber  \\\n",
       "0           100%_Natural_Bran   Q    C       120      3.0    5      15   2.00   \n",
       "1                    All-Bran   K    C       110      4.0    1     260   1.75   \n",
       "2   All-Bran_with_Extra_Fiber   K    C       110      4.0    0     140   1.75   \n",
       "3              Almond_Delight   R    C       110      2.0    2     200   1.00   \n",
       "4     Apple_Cinnamon_Cheerios   G    C       110      2.0    2     180   1.50   \n",
       "..                        ...  ..  ...       ...      ...  ...     ...    ...   \n",
       "71                    Triples   G    C       110      2.0    1     250   0.00   \n",
       "72                       Trix   G    C       110      1.0    1     140   0.00   \n",
       "73                 Wheat_Chex   R    C       100      3.0    1     230   3.00   \n",
       "74                   Wheaties   G    C       100      3.0    1     200   3.00   \n",
       "75        Wheaties_Honey_Gold   G    C       110      2.0    1     200   1.00   \n",
       "\n",
       "    carbo  sugars      potass  vitamins  shelf  weight  cups     rating  \n",
       "0     8.0     8.0  135.000000        25      3     1.0  1.00  33.983679  \n",
       "1     7.0     5.0   90.000000        25      3     1.0  0.33  59.425505  \n",
       "2     8.0     0.0   90.000000        25      3     1.0  0.50  40.253086  \n",
       "3    14.0     8.0   93.657895        25      3     1.0  0.75  34.384843  \n",
       "4    10.5    10.0   70.000000        25      1     1.0  0.75  29.509541  \n",
       "..    ...     ...         ...       ...    ...     ...   ...        ...  \n",
       "71   21.0     3.0   60.000000        25      3     1.0  0.75  39.106174  \n",
       "72   13.0    12.0   25.000000        25      2     1.0  1.00  27.753301  \n",
       "73   17.0     3.0  115.000000        25      1     1.0  0.67  49.787445  \n",
       "74   17.0     3.0  110.000000        25      1     1.0  1.00  51.592193  \n",
       "75   16.0     8.0   60.000000        25      1     1.0  0.75  36.187559  \n",
       "\n",
       "[76 rows x 16 columns]"
      ]
     },
     "execution_count": 22,
     "metadata": {},
     "output_type": "execute_result"
    }
   ],
   "source": [
    "df_processed"
   ]
  },
  {
   "cell_type": "code",
   "execution_count": 23,
   "id": "4143ed5f",
   "metadata": {
    "scrolled": true
   },
   "outputs": [
    {
     "data": {
      "text/html": [
       "<div>\n",
       "<style scoped>\n",
       "    .dataframe tbody tr th:only-of-type {\n",
       "        vertical-align: middle;\n",
       "    }\n",
       "\n",
       "    .dataframe tbody tr th {\n",
       "        vertical-align: top;\n",
       "    }\n",
       "\n",
       "    .dataframe thead th {\n",
       "        text-align: right;\n",
       "    }\n",
       "</style>\n",
       "<table border=\"1\" class=\"dataframe\">\n",
       "  <thead>\n",
       "    <tr style=\"text-align: right;\">\n",
       "      <th>type</th>\n",
       "      <th>Cold</th>\n",
       "      <th>Hot</th>\n",
       "    </tr>\n",
       "    <tr>\n",
       "      <th>Manufacturer</th>\n",
       "      <th></th>\n",
       "      <th></th>\n",
       "    </tr>\n",
       "  </thead>\n",
       "  <tbody>\n",
       "    <tr>\n",
       "      <th>AHFP</th>\n",
       "      <td>0</td>\n",
       "      <td>1</td>\n",
       "    </tr>\n",
       "    <tr>\n",
       "      <th>GeneralMills</th>\n",
       "      <td>22</td>\n",
       "      <td>0</td>\n",
       "    </tr>\n",
       "    <tr>\n",
       "      <th>Kelloggs</th>\n",
       "      <td>23</td>\n",
       "      <td>0</td>\n",
       "    </tr>\n",
       "    <tr>\n",
       "      <th>Nabisco</th>\n",
       "      <td>4</td>\n",
       "      <td>1</td>\n",
       "    </tr>\n",
       "    <tr>\n",
       "      <th>Post</th>\n",
       "      <td>9</td>\n",
       "      <td>0</td>\n",
       "    </tr>\n",
       "    <tr>\n",
       "      <th>Quaker</th>\n",
       "      <td>7</td>\n",
       "      <td>1</td>\n",
       "    </tr>\n",
       "    <tr>\n",
       "      <th>RalstonPurina</th>\n",
       "      <td>8</td>\n",
       "      <td>0</td>\n",
       "    </tr>\n",
       "  </tbody>\n",
       "</table>\n",
       "</div>"
      ],
      "text/plain": [
       "type           Cold  Hot\n",
       "Manufacturer            \n",
       "AHFP              0    1\n",
       "GeneralMills     22    0\n",
       "Kelloggs         23    0\n",
       "Nabisco           4    1\n",
       "Post              9    0\n",
       "Quaker            7    1\n",
       "RalstonPurina     8    0"
      ]
     },
     "execution_count": 23,
     "metadata": {},
     "output_type": "execute_result"
    }
   ],
   "source": [
    "## giving meaningful names\n",
    "df_processed.loc[df_processed['type'] == 'C','type'] = 'Cold'\n",
    "df_processed.loc[df_processed['type'] == 'H','type'] = 'Hot'\n",
    "df_processed.loc[df_processed['mfr'] == 'G','mfr'] = 'GeneralMills'\n",
    "df_processed.loc[df_processed['mfr'] == 'K','mfr'] = 'Kelloggs'\n",
    "df_processed.loc[df_processed['mfr'] == 'A','mfr'] = 'AHFP'\n",
    "df_processed.loc[df_processed['mfr'] == 'N','mfr'] = 'Nabisco'\n",
    "df_processed.loc[df_processed['mfr'] == 'P','mfr'] = 'Post'\n",
    "df_processed.loc[df_processed['mfr'] == 'Q','mfr'] = 'Quaker'\n",
    "df_processed.loc[df_processed['mfr'] == 'R','mfr'] = 'RalstonPurina'\n",
    "pd.crosstab(df_processed['mfr'],df_processed['type'],rownames=['Manufacturer'])"
   ]
  },
  {
   "cell_type": "markdown",
   "id": "e6ee838d",
   "metadata": {},
   "source": [
    "### Ans 7"
   ]
  },
  {
   "cell_type": "code",
   "execution_count": 24,
   "id": "b82c4e62",
   "metadata": {},
   "outputs": [
    {
     "name": "stdout",
     "output_type": "stream",
     "text": [
      "Highest Rated Cereal is: Shredded_Wheat_'n'Bran\n",
      "Lowest Rated Cereal is: Cap'n'Crunch\n"
     ]
    }
   ],
   "source": [
    "sort_rating = df_processed.sort_values(by=['rating'],ascending=False,ignore_index=True)[['name','rating']]\n",
    "print(\"Highest Rated Cereal is: %s\" % sort_rating.loc[0,'name'])\n",
    "print(\"Lowest Rated Cereal is: %s\" % sort_rating.loc[sort_rating.shape[0]-1,'name'])"
   ]
  },
  {
   "cell_type": "markdown",
   "id": "56f8ac11",
   "metadata": {},
   "source": [
    "### Ans 8"
   ]
  },
  {
   "cell_type": "code",
   "execution_count": 25,
   "id": "c4881d41",
   "metadata": {
    "scrolled": true
   },
   "outputs": [
    {
     "data": {
      "text/plain": [
       "<AxesSubplot:xlabel='type', ylabel='rating'>"
      ]
     },
     "execution_count": 25,
     "metadata": {},
     "output_type": "execute_result"
    },
    {
     "data": {
      "image/png": "[encoded data removed]",
      "text/plain": [
       "<Figure size 432x288 with 1 Axes>"
      ]
     },
     "metadata": {},
     "output_type": "display_data"
    }
   ],
   "source": [
    "sns.set_style(\"darkgrid\")\n",
    "sns.boxplot(x='type',y='rating',data=df_processed)"
   ]
  },
  {
   "cell_type": "code",
   "execution_count": 26,
   "id": "4de7c3e1",
   "metadata": {},
   "outputs": [
    {
     "name": "stdout",
     "output_type": "stream",
     "text": [
      "Cold 39.7034\n",
      "Hot 54.850917\n"
     ]
    }
   ],
   "source": [
    "print(\"Cold\", df_processed.loc[df_processed['type'] == 'Cold','rating'].median())\n",
    "print(\"Hot\", df_processed.loc[df_processed['type'] == 'Hot','rating'].median())"
   ]
  },
  {
   "cell_type": "markdown",
   "id": "761fb49e",
   "metadata": {},
   "source": [
    "## Conclusion  \n",
    "Hot Cereals tend to be rated much higher than Cold Cereals"
   ]
  },
  {
   "cell_type": "markdown",
   "id": "66d509bc",
   "metadata": {},
   "source": [
    "### Ans 9"
   ]
  },
  {
   "cell_type": "code",
   "execution_count": 27,
   "id": "ffe58265",
   "metadata": {},
   "outputs": [
    {
     "data": {
      "text/plain": [
       "<AxesSubplot:>"
      ]
     },
     "execution_count": 27,
     "metadata": {},
     "output_type": "execute_result"
    },
    {
     "data": {
      "image/png": "[encoded data removed]",
      "text/plain": [
       "<Figure size 432x288 with 2 Axes>"
      ]
     },
     "metadata": {},
     "output_type": "display_data"
    }
   ],
   "source": [
    "temp = df_processed[['sugars', 'calories', 'carbo','fat']]\n",
    "corr = temp.corr()\n",
    "sns.heatmap(data=corr, annot=True)"
   ]
  },
  {
   "cell_type": "markdown",
   "id": "4813dc70",
   "metadata": {},
   "source": [
    "## BAM!\n",
    "No multi-collinearity is present between our data.  \n",
    "Most of our variables are observed to be mildly correlated.  \n",
    "Since pearson's correlation is a linear correlation, we must analyze the data further.  \n",
    "This suggests that manufacturers prefer to optimize their cereals for specific nutrients rather than providing a wholemeal.  "
   ]
  },
  {
   "cell_type": "markdown",
   "id": "2aa96547",
   "metadata": {},
   "source": [
    "### Ans 10"
   ]
  },
  {
   "cell_type": "code",
   "execution_count": 28,
   "id": "a9e39396",
   "metadata": {},
   "outputs": [
    {
     "data": {
      "text/plain": [
       "mfr\n",
       "Nabisco           96.000000\n",
       "AHFP             100.000000\n",
       "RalstonPurina    105.000000\n",
       "GeneralMills     108.181818\n",
       "Kelloggs         108.260870\n",
       "Post             108.888889\n",
       "Quaker           110.000000\n",
       "Name: mean, dtype: float64"
      ]
     },
     "execution_count": 28,
     "metadata": {},
     "output_type": "execute_result"
    }
   ],
   "source": [
    "#df_processed.sort_values(by='calories',ascending=True,ignore_index=True).head(5)['mfr']\n",
    "#pd.pivot_table(df_processed['mfr'],df_processed['calories'])\n",
    "calories = df_processed.groupby('mfr')['calories'].describe()['mean']\n",
    "calories = calories.sort_values()\n",
    "calories"
   ]
  },
  {
   "cell_type": "code",
   "execution_count": 29,
   "id": "4647f6ad",
   "metadata": {},
   "outputs": [
    {
     "data": {
      "text/plain": [
       "mfr            name                                      \n",
       "AHFP           Maypo                                         100\n",
       "GeneralMills   Apple_Cinnamon_Cheerios                       110\n",
       "               Basic_4                                       110\n",
       "               Cheerios                                      110\n",
       "               Cinnamon_Toast_Crunch                         120\n",
       "               Clusters                                      110\n",
       "               Cocoa_Puffs                                   110\n",
       "               Count_Chocula                                 110\n",
       "               Crispy_Wheat_&amp;_Raisins                    100\n",
       "               Golden_Grahams                                110\n",
       "               Honey_Nut_Cheerios                            110\n",
       "               Kix                                           110\n",
       "               Lucky_Charms                                  110\n",
       "               Multi-Grain_Cheerios                          100\n",
       "               Oatmeal_Raisin_Crisp                          110\n",
       "               Raisin_Nut_Bran                               100\n",
       "               Total_Corn_Flakes                             110\n",
       "               Total_Raisin_Bran                             110\n",
       "               Total_Whole_Grain                             100\n",
       "               Triples                                       110\n",
       "               Trix                                          110\n",
       "               Wheaties                                      100\n",
       "               Wheaties_Honey_Gold                           110\n",
       "Kelloggs       All-Bran                                      110\n",
       "               All-Bran_with_Extra_Fiber                     110\n",
       "               Apple_Jacks                                   110\n",
       "               Corn_Flakes                                   100\n",
       "               Corn_Pops                                     110\n",
       "               Cracklin'_Oat_Bran                            110\n",
       "               Crispix                                       110\n",
       "               Froot_Loops                                   110\n",
       "               Frosted_Flakes                                110\n",
       "               Frosted_Mini-Wheats                           100\n",
       "               Fruitful_Bran                                 120\n",
       "               Just_Right_Crunchy__Nuggets                   110\n",
       "               Just_Right_Fruit_&amp;_Nut                    110\n",
       "               Mueslix_Crispy_Blend                          110\n",
       "               Nut&amp;Honey_Crunch                          120\n",
       "               Nutri-Grain_Almond-Raisin                     110\n",
       "               Nutri-grain_Wheat                              90\n",
       "               Product_19                                    100\n",
       "               Raisin_Bran                                   120\n",
       "               Raisin_Squares                                 90\n",
       "               Rice_Krispies                                 110\n",
       "               Smacks                                        110\n",
       "               Special_K                                     110\n",
       "Nabisco        Cream_of_Wheat_(Quick)                        100\n",
       "               Shredded_Wheat                                110\n",
       "               Shredded_Wheat_'n'Bran                         90\n",
       "               Shredded_Wheat_spoon_size                      90\n",
       "               Strawberry_Fruit_Wheats                        90\n",
       "Post           Bran_Flakes                                    90\n",
       "               Fruit_&amp;_Fibre_Dates,_Walnuts,_and_Oats    120\n",
       "               Fruity_Pebbles                                110\n",
       "               Golden_Crisp                                  100\n",
       "               Grape-Nuts                                    110\n",
       "               Grape_Nuts_Flakes                             100\n",
       "               Great_Grains_Pecan                            120\n",
       "               Honey-comb                                    110\n",
       "               Post_Nat._Raisin_Bran                         120\n",
       "Quaker         100%_Natural_Bran                             120\n",
       "               Cap'n'Crunch                                  120\n",
       "               Honey_Graham_Ohs                              120\n",
       "               Life                                          100\n",
       "               Puffed_Rice                                   110\n",
       "               Puffed_Wheat                                  110\n",
       "               Quaker_Oat_Squares                            100\n",
       "               Quaker_Oatmeal                                100\n",
       "RalstonPurina  Almond_Delight                                110\n",
       "               Bran_Chex                                      90\n",
       "               Corn_Chex                                     110\n",
       "               Double_Chex                                   100\n",
       "               Muesli_Raisins,_Dates,_&amp;_Almonds          110\n",
       "               Muesli_Raisins,_Peaches,_&amp;_Pecans         110\n",
       "               Rice_Chex                                     110\n",
       "               Wheat_Chex                                    100\n",
       "Name: calories, dtype: int64"
      ]
     },
     "execution_count": 29,
     "metadata": {},
     "output_type": "execute_result"
    }
   ],
   "source": [
    "## display complete pivot table \n",
    "pd.set_option('display.max_rows', 500)\n",
    "pd.pivot_table(data=df_processed,index=['mfr','name'])['calories']"
   ]
  },
  {
   "cell_type": "markdown",
   "id": "f16d40dd",
   "metadata": {},
   "source": [
    "## Flaw in data\n",
    "The calories mentioned are for one full serving size, but instead, we should \n",
    "actually aim to get calories per gram of one serving"
   ]
  },
  {
   "cell_type": "code",
   "execution_count": 30,
   "id": "a0c7de54",
   "metadata": {},
   "outputs": [
    {
     "data": {
      "text/plain": [
       "mfr\n",
       "Post              77.000000\n",
       "Nabisco           84.120000\n",
       "Kelloggs          85.956522\n",
       "GeneralMills      90.909091\n",
       "Quaker            91.750000\n",
       "RalstonPurina     92.387500\n",
       "AHFP             100.000000\n",
       "Name: mean, dtype: float64"
      ]
     },
     "execution_count": 30,
     "metadata": {},
     "output_type": "execute_result"
    }
   ],
   "source": [
    "## create new column with calories per serving\n",
    "df_processed['CaloriesPerCup'] = df_processed['calories']*df_processed['cups']\n",
    "calories = df_processed.groupby('mfr')['CaloriesPerCup'].describe()['mean']\n",
    "calories = calories.sort_values()\n",
    "calories"
   ]
  },
  {
   "cell_type": "markdown",
   "id": "0c9845db",
   "metadata": {},
   "source": [
    "### Ans 11"
   ]
  },
  {
   "cell_type": "code",
   "execution_count": 31,
   "id": "e4ffc963",
   "metadata": {
    "scrolled": true
   },
   "outputs": [
    {
     "data": {
      "text/plain": [
       "<AxesSubplot:xlabel='calories', ylabel='rating'>"
      ]
     },
     "execution_count": 31,
     "metadata": {},
     "output_type": "execute_result"
    },
    {
     "data": {
      "image/png": "[encoded data removed]",
      "text/plain": [
       "<Figure size 432x288 with 1 Axes>"
      ]
     },
     "metadata": {},
     "output_type": "display_data"
    }
   ],
   "source": [
    "sns.boxplot(data=df_processed, x = 'calories', y = 'rating')"
   ]
  },
  {
   "cell_type": "markdown",
   "id": "068c3bc5",
   "metadata": {},
   "source": [
    "## Trend\n",
    "A very clear trend where cereals with lower calories tend to be rated higher"
   ]
  },
  {
   "cell_type": "code",
   "execution_count": 32,
   "id": "8545aef8",
   "metadata": {},
   "outputs": [],
   "source": [
    "from scipy.stats import pearsonr\n",
    "from scipy.stats import spearmanr\n",
    "from scipy.stats import chi2_contingency"
   ]
  },
  {
   "cell_type": "code",
   "execution_count": 33,
   "id": "038c7222",
   "metadata": {},
   "outputs": [
    {
     "name": "stdout",
     "output_type": "stream",
     "text": [
      "Pearsons correlation between calories and rating: -0.5969\n"
     ]
    }
   ],
   "source": [
    "corr, _ = pearsonr(df_processed['calories'],df_processed['rating'])\n",
    "print('Pearsons correlation between calories and rating: %.4f' % corr)"
   ]
  },
  {
   "cell_type": "code",
   "execution_count": 34,
   "id": "d4c80444",
   "metadata": {},
   "outputs": [
    {
     "name": "stdout",
     "output_type": "stream",
     "text": [
      "Spearmans correlation between calories and rating: -0.5590\n"
     ]
    }
   ],
   "source": [
    "corr, _ = spearmanr(df_processed['calories'],df_processed['rating'])\n",
    "print('Spearmans correlation between calories and rating: %.4f' % corr)"
   ]
  },
  {
   "cell_type": "code",
   "execution_count": 35,
   "id": "7db622d4",
   "metadata": {},
   "outputs": [
    {
     "name": "stdout",
     "output_type": "stream",
     "text": [
      "p value is 3.9974160021519954e-24\n",
      "Dependent Variables\n"
     ]
    }
   ],
   "source": [
    "stat, p, dof, expected = chi2_contingency(df_processed[['calories','rating']])\n",
    "print(\"p value is \" + str(p))\n",
    "alpha  = 0.05\n",
    "if p <= alpha:\n",
    "    print('Dependent Variables')\n",
    "else:\n",
    "    print('Independent Variables')"
   ]
  },
  {
   "cell_type": "markdown",
   "id": "afdd6b80",
   "metadata": {},
   "source": [
    "## Conclusion\n",
    "### Chi Square Test\n",
    "Since the Calories category is discrete, we can conduct a chi-square test on the variables.  \n",
    "The test concludes that the two variables are dependent.  \n",
    "### On further analysis,  \n",
    "From both spearman and pearsons correlation test, it is evident that calories and rating are moderately correlated.  "
   ]
  },
  {
   "cell_type": "markdown",
   "id": "b4bdee40",
   "metadata": {},
   "source": [
    "### Ans 12"
   ]
  },
  {
   "cell_type": "code",
   "execution_count": 36,
   "id": "484fc1f5",
   "metadata": {},
   "outputs": [
    {
     "data": {
      "text/plain": [
       "<AxesSubplot:xlabel='shelf', ylabel='rating'>"
      ]
     },
     "execution_count": 36,
     "metadata": {},
     "output_type": "execute_result"
    },
    {
     "data": {
      "image/png": "[encoded data removed]",
      "text/plain": [
       "<Figure size 432x288 with 1 Axes>"
      ]
     },
     "metadata": {},
     "output_type": "display_data"
    }
   ],
   "source": [
    "sns.boxplot(data=df_processed, x = 'shelf', y = 'rating')"
   ]
  },
  {
   "cell_type": "markdown",
   "id": "70e4335e",
   "metadata": {},
   "source": [
    "### Ans 13"
   ]
  },
  {
   "cell_type": "code",
   "execution_count": 37,
   "id": "eae9f6c5",
   "metadata": {},
   "outputs": [
    {
     "data": {
      "text/plain": [
       "<AxesSubplot:xlabel='mfr', ylabel='rating'>"
      ]
     },
     "execution_count": 37,
     "metadata": {},
     "output_type": "execute_result"
    },
    {
     "data": {
      "image/png": "[encoded data removed]",
      "text/plain": [
       "<Figure size 432x288 with 1 Axes>"
      ]
     },
     "metadata": {},
     "output_type": "display_data"
    }
   ],
   "source": [
    "sns.boxplot(data=df_processed, x = 'mfr', y = 'rating')"
   ]
  },
  {
   "cell_type": "markdown",
   "id": "3760768d",
   "metadata": {},
   "source": [
    "### Ans 14"
   ]
  },
  {
   "cell_type": "code",
   "execution_count": 38,
   "id": "afe7a3e0",
   "metadata": {},
   "outputs": [],
   "source": [
    "nutrients = df_processed[['protein','fat','sodium','fiber','carbo','sugars','potass','vitamins']]"
   ]
  },
  {
   "cell_type": "markdown",
   "id": "259c5cd4",
   "metadata": {},
   "source": [
    "### Ans 15"
   ]
  },
  {
   "cell_type": "code",
   "execution_count": null,
   "id": "712af831",
   "metadata": {},
   "outputs": [],
   "source": []
  }
 ],
 "metadata": {
  "kernelspec": {
   "display_name": "Python 3",
   "language": "python",
   "name": "python3"
  },
  "language_info": {
   "codemirror_mode": {
    "name": "ipython",
    "version": 3
   },
   "file_extension": ".py",
   "mimetype": "text/x-python",
   "name": "python",
   "nbconvert_exporter": "python",
   "pygments_lexer": "ipython3",
   "version": "3.8.8"
  }
 },
 "nbformat": 4,
 "nbformat_minor": 5
}
