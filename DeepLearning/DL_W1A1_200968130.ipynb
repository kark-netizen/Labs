{
  "nbformat": 4,
  "nbformat_minor": 0,
  "metadata": {
    "colab": {
      "name": "LAB_DL_W1A1_200968130.ipynb",
      "provenance": [],
      "collapsed_sections": [
        "RJhElwvaEkvJ"
      ]
    },
    "kernelspec": {
      "name": "python3",
      "display_name": "Python 3"
    },
    "language_info": {
      "name": "python"
    }
  },
  "cells": [
    {
      "cell_type": "markdown",
      "source": [
        "## Importing Libraries"
      ],
      "metadata": {
        "id": "GrEOgRtaEEQZ"
      }
    },
    {
      "cell_type": "code",
      "execution_count": 3,
      "metadata": {
        "colab": {
          "base_uri": "https://localhost:8080/",
          "height": 0
        },
        "id": "zJBT2NSwiPrI",
        "outputId": "66671cf3-8255-4659-a897-93a53a61fb30"
      },
      "outputs": [
        {
          "output_type": "stream",
          "name": "stdout",
          "text": [
            "Tensorflow Version :  2.8.2\n",
            "Keras Version :  2.8.0\n"
          ]
        }
      ],
      "source": [
        "import tensorflow as tf\n",
        "from tensorflow import keras\n",
        "print(\"Tensorflow Version : \", tf.__version__)\n",
        "print(\"Keras Version : \", keras.__version__)"
      ]
    },
    {
      "cell_type": "code",
      "source": [
        "import numpy as np\n",
        "import matplotlib.pyplot as plt\n",
        "import seaborn as sns\n",
        "import pandas as pd"
      ],
      "metadata": {
        "id": "pSpqWzWvi-lL"
      },
      "execution_count": 4,
      "outputs": []
    },
    {
      "cell_type": "markdown",
      "source": [
        "## Load Datasets"
      ],
      "metadata": {
        "id": "pEbe6_OcEL5x"
      }
    },
    {
      "cell_type": "code",
      "source": [
        "mnist = keras.datasets.mnist"
      ],
      "metadata": {
        "id": "Mkr2hz3Ojmb8"
      },
      "execution_count": 5,
      "outputs": []
    },
    {
      "cell_type": "code",
      "source": [
        "type(mnist)"
      ],
      "metadata": {
        "colab": {
          "base_uri": "https://localhost:8080/",
          "height": 0
        },
        "id": "UCyETe5pkbPD",
        "outputId": "4bd4a3b6-2d99-4a21-8de0-5b700a094cdd"
      },
      "execution_count": 6,
      "outputs": [
        {
          "output_type": "execute_result",
          "data": {
            "text/plain": [
              "module"
            ]
          },
          "metadata": {},
          "execution_count": 6
        }
      ]
    },
    {
      "cell_type": "code",
      "source": [
        "trainset, testset = mnist.load_data()\n",
        "X_train, y_train = trainset\n",
        "X_test , y_test = testset"
      ],
      "metadata": {
        "id": "etz8u_ZvkcYz"
      },
      "execution_count": 37,
      "outputs": []
    },
    {
      "cell_type": "markdown",
      "source": [
        "## Exploratory Data Analysis"
      ],
      "metadata": {
        "id": "-sUBFEZoERR5"
      }
    },
    {
      "cell_type": "code",
      "source": [
        "print(\"X_train_shape {0}\".format(X_train.shape))\n",
        "print(\"y_train shape {0}\".format(y_train.shape))\n",
        "print(\"X_test shape {0}\".format(X_test.shape))\n",
        "print(\"y_test shape {0}\".format(y_test.shape))"
      ],
      "metadata": {
        "colab": {
          "base_uri": "https://localhost:8080/",
          "height": 0
        },
        "id": "1AUvlKLpkfwx",
        "outputId": "3de36dc0-c108-4780-9d50-7b6c0172b1be"
      },
      "execution_count": 42,
      "outputs": [
        {
          "output_type": "stream",
          "name": "stdout",
          "text": [
            "X_train_shape (60000, 28, 28)\n",
            "y_train shape (60000,)\n",
            "X_test shape (10000, 28, 28)\n",
            "y_test shape (10000,)\n"
          ]
        }
      ]
    },
    {
      "cell_type": "code",
      "source": [
        "X_train[2]"
      ],
      "metadata": {
        "colab": {
          "base_uri": "https://localhost:8080/"
        },
        "id": "ZYCV_ghatAUZ",
        "outputId": "c9f7e39f-63b4-45bc-d5d4-9e9560233874"
      },
      "execution_count": 56,
      "outputs": [
        {
          "output_type": "execute_result",
          "data": {
            "text/plain": [
              "array([[  0,   0,   0,   0,   0,   0,   0,   0,   0,   0,   0,   0,   0,\n",
              "          0,   0,   0,   0,   0,   0,   0,   0,   0,   0,   0,   0,   0,\n",
              "          0,   0],\n",
              "       [  0,   0,   0,   0,   0,   0,   0,   0,   0,   0,   0,   0,   0,\n",
              "          0,   0,   0,   0,   0,   0,   0,   0,   0,   0,   0,   0,   0,\n",
              "          0,   0],\n",
              "       [  0,   0,   0,   0,   0,   0,   0,   0,   0,   0,   0,   0,   0,\n",
              "          0,   0,   0,   0,   0,   0,   0,   0,   0,   0,   0,   0,   0,\n",
              "          0,   0],\n",
              "       [  0,   0,   0,   0,   0,   0,   0,   0,   0,   0,   0,   0,   0,\n",
              "          0,   0,   0,   0,   0,   0,   0,   0,   0,   0,   0,   0,   0,\n",
              "          0,   0],\n",
              "       [  0,   0,   0,   0,   0,   0,   0,   0,   0,   0,   0,   0,   0,\n",
              "          0,   0,   0,   0,   0,   0,   0,   0,   0,   0,   0,   0,   0,\n",
              "          0,   0],\n",
              "       [  0,   0,   0,   0,   0,   0,   0,   0,   0,   0,   0,   0,   0,\n",
              "          0,   0,   0,   0,   0,   0,   0,  67, 232,  39,   0,   0,   0,\n",
              "          0,   0],\n",
              "       [  0,   0,   0,   0,  62,  81,   0,   0,   0,   0,   0,   0,   0,\n",
              "          0,   0,   0,   0,   0,   0,   0, 120, 180,  39,   0,   0,   0,\n",
              "          0,   0],\n",
              "       [  0,   0,   0,   0, 126, 163,   0,   0,   0,   0,   0,   0,   0,\n",
              "          0,   0,   0,   0,   0,   0,   2, 153, 210,  40,   0,   0,   0,\n",
              "          0,   0],\n",
              "       [  0,   0,   0,   0, 220, 163,   0,   0,   0,   0,   0,   0,   0,\n",
              "          0,   0,   0,   0,   0,   0,  27, 254, 162,   0,   0,   0,   0,\n",
              "          0,   0],\n",
              "       [  0,   0,   0,   0, 222, 163,   0,   0,   0,   0,   0,   0,   0,\n",
              "          0,   0,   0,   0,   0,   0, 183, 254, 125,   0,   0,   0,   0,\n",
              "          0,   0],\n",
              "       [  0,   0,   0,  46, 245, 163,   0,   0,   0,   0,   0,   0,   0,\n",
              "          0,   0,   0,   0,   0,   0, 198, 254,  56,   0,   0,   0,   0,\n",
              "          0,   0],\n",
              "       [  0,   0,   0, 120, 254, 163,   0,   0,   0,   0,   0,   0,   0,\n",
              "          0,   0,   0,   0,   0,  23, 231, 254,  29,   0,   0,   0,   0,\n",
              "          0,   0],\n",
              "       [  0,   0,   0, 159, 254, 120,   0,   0,   0,   0,   0,   0,   0,\n",
              "          0,   0,   0,   0,   0, 163, 254, 216,  16,   0,   0,   0,   0,\n",
              "          0,   0],\n",
              "       [  0,   0,   0, 159, 254,  67,   0,   0,   0,   0,   0,   0,   0,\n",
              "          0,   0,  14,  86, 178, 248, 254,  91,   0,   0,   0,   0,   0,\n",
              "          0,   0],\n",
              "       [  0,   0,   0, 159, 254,  85,   0,   0,   0,  47,  49, 116, 144,\n",
              "        150, 241, 243, 234, 179, 241, 252,  40,   0,   0,   0,   0,   0,\n",
              "          0,   0],\n",
              "       [  0,   0,   0, 150, 253, 237, 207, 207, 207, 253, 254, 250, 240,\n",
              "        198, 143,  91,  28,   5, 233, 250,   0,   0,   0,   0,   0,   0,\n",
              "          0,   0],\n",
              "       [  0,   0,   0,   0, 119, 177, 177, 177, 177, 177,  98,  56,   0,\n",
              "          0,   0,   0,   0, 102, 254, 220,   0,   0,   0,   0,   0,   0,\n",
              "          0,   0],\n",
              "       [  0,   0,   0,   0,   0,   0,   0,   0,   0,   0,   0,   0,   0,\n",
              "          0,   0,   0,   0, 169, 254, 137,   0,   0,   0,   0,   0,   0,\n",
              "          0,   0],\n",
              "       [  0,   0,   0,   0,   0,   0,   0,   0,   0,   0,   0,   0,   0,\n",
              "          0,   0,   0,   0, 169, 254,  57,   0,   0,   0,   0,   0,   0,\n",
              "          0,   0],\n",
              "       [  0,   0,   0,   0,   0,   0,   0,   0,   0,   0,   0,   0,   0,\n",
              "          0,   0,   0,   0, 169, 254,  57,   0,   0,   0,   0,   0,   0,\n",
              "          0,   0],\n",
              "       [  0,   0,   0,   0,   0,   0,   0,   0,   0,   0,   0,   0,   0,\n",
              "          0,   0,   0,   0, 169, 255,  94,   0,   0,   0,   0,   0,   0,\n",
              "          0,   0],\n",
              "       [  0,   0,   0,   0,   0,   0,   0,   0,   0,   0,   0,   0,   0,\n",
              "          0,   0,   0,   0, 169, 254,  96,   0,   0,   0,   0,   0,   0,\n",
              "          0,   0],\n",
              "       [  0,   0,   0,   0,   0,   0,   0,   0,   0,   0,   0,   0,   0,\n",
              "          0,   0,   0,   0, 169, 254, 153,   0,   0,   0,   0,   0,   0,\n",
              "          0,   0],\n",
              "       [  0,   0,   0,   0,   0,   0,   0,   0,   0,   0,   0,   0,   0,\n",
              "          0,   0,   0,   0, 169, 255, 153,   0,   0,   0,   0,   0,   0,\n",
              "          0,   0],\n",
              "       [  0,   0,   0,   0,   0,   0,   0,   0,   0,   0,   0,   0,   0,\n",
              "          0,   0,   0,   0,  96, 254, 153,   0,   0,   0,   0,   0,   0,\n",
              "          0,   0],\n",
              "       [  0,   0,   0,   0,   0,   0,   0,   0,   0,   0,   0,   0,   0,\n",
              "          0,   0,   0,   0,   0,   0,   0,   0,   0,   0,   0,   0,   0,\n",
              "          0,   0],\n",
              "       [  0,   0,   0,   0,   0,   0,   0,   0,   0,   0,   0,   0,   0,\n",
              "          0,   0,   0,   0,   0,   0,   0,   0,   0,   0,   0,   0,   0,\n",
              "          0,   0],\n",
              "       [  0,   0,   0,   0,   0,   0,   0,   0,   0,   0,   0,   0,   0,\n",
              "          0,   0,   0,   0,   0,   0,   0,   0,   0,   0,   0,   0,   0,\n",
              "          0,   0]], dtype=uint8)"
            ]
          },
          "metadata": {},
          "execution_count": 56
        }
      ]
    },
    {
      "cell_type": "markdown",
      "source": [
        "### Analyse Training Dataset"
      ],
      "metadata": {
        "id": "Tz6DKLCMEV4B"
      }
    },
    {
      "cell_type": "code",
      "source": [
        "import random\n",
        "%matplotlib inline\n",
        "\n",
        "rows,cols = 4,4\n",
        "fig, axes = plt.subplots(rows,cols,figsize = (16,16))\n",
        "\n",
        "fig.suptitle(\"------TRAIN-SET-------\")\n",
        "for i in range(rows):\n",
        "    for j in range(cols):\n",
        "        ax = axes[i][j]\n",
        "        ind = random.randint(0,X_train.shape[0])\n",
        "        ax.imshow(X_train[ind],cmap='gray')\n",
        "        ax.set_title(y_train[ind])"
      ],
      "metadata": {
        "colab": {
          "base_uri": "https://localhost:8080/",
          "height": 1000
        },
        "id": "7te_CDTlkroL",
        "outputId": "96a56bf6-fab6-4ded-b1cf-50664f5d5e19"
      },
      "execution_count": 61,
      "outputs": [
        {
          "output_type": "display_data",
          "data": {
            "text/plain": [
              "<Figure size 1152x1152 with 16 Axes>"
            ],
            "image/png": "[encoded data removed]"
          },
          "metadata": {
            "needs_background": "light"
          }
        }
      ]
    },
    {
      "cell_type": "code",
      "source": [
        "X_train[0].shape"
      ],
      "metadata": {
        "colab": {
          "base_uri": "https://localhost:8080/"
        },
        "id": "aHFuFRqdkvSD",
        "outputId": "2de01468-3d5b-4392-95c8-824a9975fa69"
      },
      "execution_count": 47,
      "outputs": [
        {
          "output_type": "execute_result",
          "data": {
            "text/plain": [
              "(28, 28)"
            ]
          },
          "metadata": {},
          "execution_count": 47
        }
      ]
    },
    {
      "cell_type": "markdown",
      "source": [
        "### Analyse Test Dataset"
      ],
      "metadata": {
        "id": "z96MKx31EdXB"
      }
    },
    {
      "cell_type": "code",
      "source": [
        "rows,cols = 3,3\n",
        "fig, axes = plt.subplots(rows,cols,figsize = (9,9))\n",
        "\n",
        "fig.suptitle(\"------TEST-SET-------\")\n",
        "for i in range(rows):\n",
        "    for j in range(cols):\n",
        "        ax = axes[i][j]\n",
        "        ind = random.randint(0,X_test.shape[0])\n",
        "        ax.imshow(X_test[ind],cmap='gray')\n",
        "        ax.set_title(y_test[ind])"
      ],
      "metadata": {
        "colab": {
          "base_uri": "https://localhost:8080/",
          "height": 602
        },
        "id": "lk2jWFUamjxa",
        "outputId": "d3a3f8af-1b52-462e-896f-76c0a8b35dac"
      },
      "execution_count": 62,
      "outputs": [
        {
          "output_type": "display_data",
          "data": {
            "text/plain": [
              "<Figure size 648x648 with 9 Axes>"
            ],
            "image/png": "[encoded data removed]"
          },
          "metadata": {
            "needs_background": "light"
          }
        }
      ]
    },
    {
      "cell_type": "markdown",
      "source": [
        "## Model Creation"
      ],
      "metadata": {
        "id": "l5H4jtajEgOB"
      }
    },
    {
      "cell_type": "markdown",
      "source": [
        "### Model 1 \n",
        "-- 2 Hidden Layers  \n",
        "\n",
        "-- Adam Optimizer \n",
        "\n",
        "-- Early Stopping to Stop Model when Validation Loss stays with 1% for 5 consecutive epochs.  \n"
      ],
      "metadata": {
        "id": "RJhElwvaEkvJ"
      }
    },
    {
      "cell_type": "code",
      "source": [
        "def get_model():\n",
        "\n",
        "    model = keras.models.Sequential([\n",
        "        keras.layers.Input(shape=(28,28)),\n",
        "        keras.layers.Flatten(),\n",
        "        keras.layers.Dense(units=512,activation='relu'),\n",
        "        keras.layers.Dense(units=256,activation='relu'),\n",
        "        keras.layers.Dense(units=10,activation='softmax')\n",
        "    ])\n",
        "\n",
        "    return model"
      ],
      "metadata": {
        "id": "7VX-Ln8qmlDC"
      },
      "execution_count": 135,
      "outputs": []
    },
    {
      "cell_type": "code",
      "source": [
        "model = get_model()"
      ],
      "metadata": {
        "id": "joz4KJ8R0e8w"
      },
      "execution_count": 142,
      "outputs": []
    },
    {
      "cell_type": "code",
      "source": [
        "model.compile(optimizer='adam',\n",
        "              loss='sparse_categorical_crossentropy',\n",
        "              metrics=['accuracy'])"
      ],
      "metadata": {
        "id": "YoECxSST0kKO"
      },
      "execution_count": 154,
      "outputs": []
    },
    {
      "cell_type": "markdown",
      "source": [
        "### Model 1 Summary"
      ],
      "metadata": {
        "id": "7Ix-wMAWE49U"
      }
    },
    {
      "cell_type": "code",
      "source": [
        "model.summary()"
      ],
      "metadata": {
        "colab": {
          "base_uri": "https://localhost:8080/"
        },
        "id": "KTnStUAA1Mvf",
        "outputId": "1538cf53-9df3-4468-8e0e-bb1159fb0d65"
      },
      "execution_count": 155,
      "outputs": [
        {
          "output_type": "stream",
          "name": "stdout",
          "text": [
            "Model: \"sequential_8\"\n",
            "_________________________________________________________________\n",
            " Layer (type)                Output Shape              Param #   \n",
            "=================================================================\n",
            " flatten_4 (Flatten)         (None, 784)               0         \n",
            "                                                                 \n",
            " dense_22 (Dense)            (None, 512)               401920    \n",
            "                                                                 \n",
            " dense_23 (Dense)            (None, 256)               131328    \n",
            "                                                                 \n",
            " dense_24 (Dense)            (None, 10)                2570      \n",
            "                                                                 \n",
            "=================================================================\n",
            "Total params: 535,818\n",
            "Trainable params: 535,818\n",
            "Non-trainable params: 0\n",
            "_________________________________________________________________\n"
          ]
        }
      ]
    },
    {
      "cell_type": "markdown",
      "source": [
        "### Model 1 Training"
      ],
      "metadata": {
        "id": "JDLxc2DxE8Z5"
      }
    },
    {
      "cell_type": "code",
      "source": [
        "callback = keras.callbacks.EarlyStopping(monitor='val_loss', mode='min', verbose=1, patience=10)\n",
        "epochs = 100\n",
        "batch_size = int(X_train.shape[0]/epochs)\n",
        "validation_split = 0.3"
      ],
      "metadata": {
        "id": "IiJEp8gT1xMe"
      },
      "execution_count": 163,
      "outputs": []
    },
    {
      "cell_type": "code",
      "source": [
        "history = model.fit(X_train,y_train,\n",
        "          batch_size = batch_size ,\n",
        "          epochs = epochs ,\n",
        "          callbacks = callback,\n",
        "          validation_split = validation_split,\n",
        "          initial_epoch=0)"
      ],
      "metadata": {
        "colab": {
          "base_uri": "https://localhost:8080/"
        },
        "id": "n8lDl62l4BSd",
        "outputId": "7f321b62-9407-46f2-ba8b-c7c9146d0a55"
      },
      "execution_count": 164,
      "outputs": [
        {
          "output_type": "stream",
          "name": "stdout",
          "text": [
            "Epoch 1/100\n",
            "70/70 [==============================] - 8s 106ms/step - loss: 0.0647 - accuracy: 0.9828 - val_loss: 0.1828 - val_accuracy: 0.9699\n",
            "Epoch 2/100\n",
            "70/70 [==============================] - 5s 72ms/step - loss: 0.0342 - accuracy: 0.9899 - val_loss: 0.1719 - val_accuracy: 0.9723\n",
            "Epoch 3/100\n",
            "70/70 [==============================] - 5s 78ms/step - loss: 0.0254 - accuracy: 0.9922 - val_loss: 0.1745 - val_accuracy: 0.9732\n",
            "Epoch 4/100\n",
            "70/70 [==============================] - 5s 69ms/step - loss: 0.0209 - accuracy: 0.9935 - val_loss: 0.1752 - val_accuracy: 0.9734\n",
            "Epoch 5/100\n",
            "70/70 [==============================] - 5s 68ms/step - loss: 0.0182 - accuracy: 0.9943 - val_loss: 0.1759 - val_accuracy: 0.9737\n",
            "Epoch 6/100\n",
            "70/70 [==============================] - 4s 51ms/step - loss: 0.0163 - accuracy: 0.9946 - val_loss: 0.1783 - val_accuracy: 0.9738\n",
            "Epoch 7/100\n",
            "70/70 [==============================] - 4s 62ms/step - loss: 0.0149 - accuracy: 0.9949 - val_loss: 0.1817 - val_accuracy: 0.9739\n",
            "Epoch 8/100\n",
            "70/70 [==============================] - 5s 76ms/step - loss: 0.0140 - accuracy: 0.9952 - val_loss: 0.1843 - val_accuracy: 0.9741\n",
            "Epoch 9/100\n",
            "70/70 [==============================] - 6s 87ms/step - loss: 0.0132 - accuracy: 0.9955 - val_loss: 0.1882 - val_accuracy: 0.9741\n",
            "Epoch 10/100\n",
            "70/70 [==============================] - 4s 58ms/step - loss: 0.0125 - accuracy: 0.9956 - val_loss: 0.1893 - val_accuracy: 0.9747\n",
            "Epoch 11/100\n",
            "70/70 [==============================] - 4s 57ms/step - loss: 0.0118 - accuracy: 0.9958 - val_loss: 0.1924 - val_accuracy: 0.9748\n",
            "Epoch 12/100\n",
            "70/70 [==============================] - 5s 65ms/step - loss: 0.0112 - accuracy: 0.9958 - val_loss: 0.1968 - val_accuracy: 0.9752\n",
            "Epoch 12: early stopping\n"
          ]
        }
      ]
    },
    {
      "cell_type": "markdown",
      "source": [
        "--- Model 1 Reached about 99.6% training set accuracy and 97.52% test set accuracy"
      ],
      "metadata": {
        "id": "WADd5Jj4E_0Q"
      }
    },
    {
      "cell_type": "markdown",
      "source": [
        "### Model 2\n",
        "-- 2 Hidden Layers  \n",
        "\n",
        "-- Adam Optimizer \n",
        "\n",
        "-- Early Stopping to Stop Model when Validation Loss stays with 1% for 5 consecutive epochs.  "
      ],
      "metadata": {
        "id": "iTC0BX0FFOlI"
      }
    },
    {
      "cell_type": "code",
      "source": [
        "def get_model_2():\n",
        "\n",
        "    model = keras.models.Sequential([\n",
        "        keras.layers.Input(shape=(28,28)),\n",
        "        keras.layers.Flatten(),\n",
        "        keras.layers.Dense(units=512,activation='relu'),\n",
        "        keras.layers.Dense(units=256,activation='relu'),\n",
        "        keras.layers.Dense(units=128,activation='relu'),\n",
        "        keras.layers.Dense(units=64,activation='relu'),\n",
        "        keras.layers.Dense(units=32,activation='relu'),\n",
        "        keras.layers.Dense(units=10,activation='softmax'),\n",
        "    ])\n",
        "\n",
        "    return model"
      ],
      "metadata": {
        "id": "Etxk9vJo4vqN"
      },
      "execution_count": 165,
      "outputs": []
    },
    {
      "cell_type": "code",
      "source": [
        "model_2 = get_model_2()\n",
        "\n",
        "model_2.compile(optimizer='Adamax',\n",
        "                loss='sparse_categorical_crossentropy',\n",
        "                metrics='accuracy',\n",
        "                steps_per_execution=1)"
      ],
      "metadata": {
        "id": "dUJieDC2_ml8"
      },
      "execution_count": 166,
      "outputs": []
    },
    {
      "cell_type": "markdown",
      "source": [
        "### Model 2 Summary"
      ],
      "metadata": {
        "id": "SmAN393-FSn5"
      }
    },
    {
      "cell_type": "code",
      "source": [
        "model_2.summary()"
      ],
      "metadata": {
        "colab": {
          "base_uri": "https://localhost:8080/"
        },
        "id": "926SDHGECyXq",
        "outputId": "5285ffff-7bb8-40d4-d613-02375a40ccbc"
      },
      "execution_count": 178,
      "outputs": [
        {
          "output_type": "stream",
          "name": "stdout",
          "text": [
            "Model: \"sequential_9\"\n",
            "_________________________________________________________________\n",
            " Layer (type)                Output Shape              Param #   \n",
            "=================================================================\n",
            " flatten_5 (Flatten)         (None, 784)               0         \n",
            "                                                                 \n",
            " dense_25 (Dense)            (None, 512)               401920    \n",
            "                                                                 \n",
            " dense_26 (Dense)            (None, 256)               131328    \n",
            "                                                                 \n",
            " dense_27 (Dense)            (None, 128)               32896     \n",
            "                                                                 \n",
            " dense_28 (Dense)            (None, 64)                8256      \n",
            "                                                                 \n",
            " dense_29 (Dense)            (None, 32)                2080      \n",
            "                                                                 \n",
            " dense_30 (Dense)            (None, 10)                330       \n",
            "                                                                 \n",
            "=================================================================\n",
            "Total params: 576,810\n",
            "Trainable params: 576,810\n",
            "Non-trainable params: 0\n",
            "_________________________________________________________________\n"
          ]
        }
      ]
    },
    {
      "cell_type": "markdown",
      "source": [
        "### Model 2 Training"
      ],
      "metadata": {
        "id": "lFdZGhsuFedg"
      }
    },
    {
      "cell_type": "code",
      "source": [
        "history_2 = model_2.fit(X_train,y_train,\n",
        "          batch_size = batch_size ,\n",
        "          epochs = epochs ,\n",
        "          callbacks = callback,\n",
        "          validation_split = validation_split,\n",
        "          initial_epoch=0)"
      ],
      "metadata": {
        "colab": {
          "base_uri": "https://localhost:8080/"
        },
        "id": "RfHpV5uL_-xa",
        "outputId": "15fea4da-66a7-436c-fdb8-ae1601980c90"
      },
      "execution_count": 167,
      "outputs": [
        {
          "output_type": "stream",
          "name": "stdout",
          "text": [
            "Epoch 1/100\n",
            "70/70 [==============================] - 36s 66ms/step - loss: 4.1521 - accuracy: 0.6115 - val_loss: 0.7811 - val_accuracy: 0.8066\n",
            "Epoch 2/100\n",
            "70/70 [==============================] - 4s 64ms/step - loss: 0.6524 - accuracy: 0.8340 - val_loss: 0.5667 - val_accuracy: 0.8562\n",
            "Epoch 3/100\n",
            "70/70 [==============================] - 4s 64ms/step - loss: 0.4668 - accuracy: 0.8745 - val_loss: 0.4648 - val_accuracy: 0.8803\n",
            "Epoch 4/100\n",
            "70/70 [==============================] - 5s 65ms/step - loss: 0.3663 - accuracy: 0.8987 - val_loss: 0.4035 - val_accuracy: 0.8943\n",
            "Epoch 5/100\n",
            "70/70 [==============================] - 4s 61ms/step - loss: 0.3013 - accuracy: 0.9161 - val_loss: 0.3709 - val_accuracy: 0.9039\n",
            "Epoch 6/100\n",
            "70/70 [==============================] - 4s 53ms/step - loss: 0.2542 - accuracy: 0.9298 - val_loss: 0.3427 - val_accuracy: 0.9111\n",
            "Epoch 7/100\n",
            "70/70 [==============================] - 3s 48ms/step - loss: 0.2189 - accuracy: 0.9396 - val_loss: 0.3200 - val_accuracy: 0.9171\n",
            "Epoch 8/100\n",
            "70/70 [==============================] - 6s 82ms/step - loss: 0.1887 - accuracy: 0.9476 - val_loss: 0.2991 - val_accuracy: 0.9227\n",
            "Epoch 9/100\n",
            "70/70 [==============================] - 7s 98ms/step - loss: 0.1645 - accuracy: 0.9547 - val_loss: 0.2891 - val_accuracy: 0.9251\n",
            "Epoch 10/100\n",
            "70/70 [==============================] - 4s 61ms/step - loss: 0.1437 - accuracy: 0.9610 - val_loss: 0.2751 - val_accuracy: 0.9298\n",
            "Epoch 11/100\n",
            "70/70 [==============================] - 3s 49ms/step - loss: 0.1266 - accuracy: 0.9653 - val_loss: 0.2684 - val_accuracy: 0.9313\n",
            "Epoch 12/100\n",
            "70/70 [==============================] - 5s 69ms/step - loss: 0.1113 - accuracy: 0.9696 - val_loss: 0.2625 - val_accuracy: 0.9338\n",
            "Epoch 13/100\n",
            "70/70 [==============================] - 5s 70ms/step - loss: 0.0983 - accuracy: 0.9731 - val_loss: 0.2534 - val_accuracy: 0.9359\n",
            "Epoch 14/100\n",
            "70/70 [==============================] - 4s 63ms/step - loss: 0.0863 - accuracy: 0.9775 - val_loss: 0.2468 - val_accuracy: 0.9383\n",
            "Epoch 15/100\n",
            "70/70 [==============================] - 6s 93ms/step - loss: 0.0761 - accuracy: 0.9804 - val_loss: 0.2487 - val_accuracy: 0.9378\n",
            "Epoch 16/100\n",
            "70/70 [==============================] - 5s 71ms/step - loss: 0.0668 - accuracy: 0.9832 - val_loss: 0.2428 - val_accuracy: 0.9394\n",
            "Epoch 17/100\n",
            "70/70 [==============================] - 4s 54ms/step - loss: 0.0587 - accuracy: 0.9856 - val_loss: 0.2410 - val_accuracy: 0.9393\n",
            "Epoch 18/100\n",
            "70/70 [==============================] - 5s 71ms/step - loss: 0.0517 - accuracy: 0.9880 - val_loss: 0.2348 - val_accuracy: 0.9404\n",
            "Epoch 19/100\n",
            "70/70 [==============================] - 6s 84ms/step - loss: 0.0452 - accuracy: 0.9901 - val_loss: 0.2331 - val_accuracy: 0.9426\n",
            "Epoch 20/100\n",
            "70/70 [==============================] - 6s 80ms/step - loss: 0.0394 - accuracy: 0.9917 - val_loss: 0.2294 - val_accuracy: 0.9441\n",
            "Epoch 21/100\n",
            "70/70 [==============================] - 5s 75ms/step - loss: 0.0346 - accuracy: 0.9935 - val_loss: 0.2302 - val_accuracy: 0.9443\n",
            "Epoch 22/100\n",
            "70/70 [==============================] - 4s 54ms/step - loss: 0.0304 - accuracy: 0.9945 - val_loss: 0.2299 - val_accuracy: 0.9453\n",
            "Epoch 23/100\n",
            "70/70 [==============================] - 5s 67ms/step - loss: 0.0264 - accuracy: 0.9955 - val_loss: 0.2296 - val_accuracy: 0.9450\n",
            "Epoch 24/100\n",
            "70/70 [==============================] - 5s 70ms/step - loss: 0.0231 - accuracy: 0.9966 - val_loss: 0.2280 - val_accuracy: 0.9463\n",
            "Epoch 25/100\n",
            "70/70 [==============================] - 4s 59ms/step - loss: 0.0201 - accuracy: 0.9971 - val_loss: 0.2265 - val_accuracy: 0.9467\n",
            "Epoch 26/100\n",
            "70/70 [==============================] - 4s 56ms/step - loss: 0.0170 - accuracy: 0.9976 - val_loss: 0.2305 - val_accuracy: 0.9464\n",
            "Epoch 27/100\n",
            "70/70 [==============================] - 3s 46ms/step - loss: 0.0149 - accuracy: 0.9980 - val_loss: 0.2272 - val_accuracy: 0.9489\n",
            "Epoch 28/100\n",
            "70/70 [==============================] - 4s 64ms/step - loss: 0.0126 - accuracy: 0.9987 - val_loss: 0.2279 - val_accuracy: 0.9486\n",
            "Epoch 29/100\n",
            "70/70 [==============================] - 3s 49ms/step - loss: 0.0109 - accuracy: 0.9990 - val_loss: 0.2292 - val_accuracy: 0.9486\n",
            "Epoch 30/100\n",
            "70/70 [==============================] - 5s 65ms/step - loss: 0.0095 - accuracy: 0.9993 - val_loss: 0.2287 - val_accuracy: 0.9500\n",
            "Epoch 31/100\n",
            "70/70 [==============================] - 4s 56ms/step - loss: 0.0080 - accuracy: 0.9995 - val_loss: 0.2289 - val_accuracy: 0.9497\n",
            "Epoch 32/100\n",
            "70/70 [==============================] - 5s 68ms/step - loss: 0.0070 - accuracy: 0.9995 - val_loss: 0.2290 - val_accuracy: 0.9508\n",
            "Epoch 33/100\n",
            "70/70 [==============================] - 4s 51ms/step - loss: 0.0059 - accuracy: 0.9996 - val_loss: 0.2313 - val_accuracy: 0.9519\n",
            "Epoch 34/100\n",
            "70/70 [==============================] - 4s 63ms/step - loss: 0.0053 - accuracy: 0.9998 - val_loss: 0.2297 - val_accuracy: 0.9528\n",
            "Epoch 35/100\n",
            "70/70 [==============================] - 5s 72ms/step - loss: 0.0046 - accuracy: 0.9998 - val_loss: 0.2295 - val_accuracy: 0.9524\n",
            "Epoch 35: early stopping\n"
          ]
        }
      ]
    },
    {
      "cell_type": "markdown",
      "source": [
        "## Comparing Performance"
      ],
      "metadata": {
        "id": "eFfioaQfFhKx"
      }
    },
    {
      "cell_type": "code",
      "source": [
        "fig, axes = plt.subplots(1,2,figsize=(20,6))\n",
        "\n",
        "ax1 , ax2 = axes\n",
        "\n",
        "ax1.plot(history.history['accuracy'])\n",
        "ax1.plot(history.history['val_accuracy'])\n",
        "ax1.set_title('model 1 accuracy -- 2 Hidden Layers')\n",
        "ax1.set_ylabel('accuracy')\n",
        "ax1.set_xlabel('epoch')\n",
        "ax1.set_ylim(0.7,1.0)\n",
        "ax1.set_xlim(0,15)\n",
        "ax1.grid()\n",
        "ax1.legend(['train', 'test'], loc='upper left')\n",
        "\n",
        "ax2.plot(history_2.history['accuracy'])\n",
        "ax2.plot(history_2.history['val_accuracy'])\n",
        "ax2.set_title('model 2 accuracy -- 5 Hidden Layers')\n",
        "ax2.set_ylabel('accuracy')\n",
        "ax2.set_xlabel('epoch')\n",
        "ax2.set_ylim(0.7,1.0)\n",
        "ax2.set_xlim(0,35)\n",
        "ax2.grid()\n",
        "ax2.legend(['train', 'test'], loc='upper left')\n",
        "\n",
        "plt.title(\"Comparing Model Performances\")"
      ],
      "metadata": {
        "colab": {
          "base_uri": "https://localhost:8080/",
          "height": 422
        },
        "id": "LiQjbd_jAFPK",
        "outputId": "b3d09111-7068-4ffa-efab-e70a8dec2168"
      },
      "execution_count": 184,
      "outputs": [
        {
          "output_type": "execute_result",
          "data": {
            "text/plain": [
              "Text(0.5, 1.0, 'Comparing Model Performances')"
            ]
          },
          "metadata": {},
          "execution_count": 184
        },
        {
          "output_type": "display_data",
          "data": {
            "text/plain": [
              "<Figure size 1440x432 with 2 Axes>"
            ],
            "image/png": "[encoded data removed]"
          },
          "metadata": {
            "needs_background": "light"
          }
        }
      ]
    },
    {
      "cell_type": "markdown",
      "source": [
        "### Accuracy\n",
        "-- Model 1 with 2 Hidden Layers sees a difference of 2% between train and validation set accuracy.  \n",
        "-- On the Other hand, alternate model with 5 hidden layers observes a difference of 5% between train and validation set accuracy.\n",
        "\n",
        "### Fitting the training set\n",
        "-- Clearly model 2 overfits the dataset, this could be attributed to the large number of hidden layers of the model.  \n",
        "-- This is because there ARE NOT enough features in the 28*28 images for such a large dataset.\n",
        "\n",
        "### Number of Parameters\n",
        "--- Model 1 and Model 2 have comparable number of parameters.\n",
        "--- Even though Model 2 is bigger, the decreasing number of units in hidden layers exponentially decreases number of parameters (weights and biases).  \n",
        "\n",
        "### Model Fit time \n",
        "--- Model 1 takes 50 sec for compilation and training.  \n",
        "--- Model 2 takes over 140 sec for compilation and training.  \n",
        "--- This is again, due to the huge size of the model, it takes time to converge to a minima."
      ],
      "metadata": {
        "id": "WPd4_5lbEC85"
      }
    },
    {
      "cell_type": "code",
      "source": [
        ""
      ],
      "metadata": {
        "id": "3KN9EVh3D_1q"
      },
      "execution_count": null,
      "outputs": []
    }
  ]
}