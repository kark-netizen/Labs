{
 "cells": [
  {
   "cell_type": "markdown",
   "metadata": {
    "id": "WI419U7gKYcC"
   },
   "source": [
    "## Importing Libraries"
   ]
  },
  {
   "cell_type": "code",
   "execution_count": 79,
   "metadata": {
    "execution": {
     "iopub.execute_input": "2022-09-18T14:45:59.250730Z",
     "iopub.status.busy": "2022-09-18T14:45:59.250428Z",
     "iopub.status.idle": "2022-09-18T14:45:59.257334Z",
     "shell.execute_reply": "2022-09-18T14:45:59.255960Z",
     "shell.execute_reply.started": "2022-09-18T14:45:59.250699Z"
    },
    "id": "01qzFpLmKbxA"
   },
   "outputs": [],
   "source": [
    "import numpy as np\n",
    "import matplotlib.pyplot as plt\n",
    "import pandas as pd\n",
    "import tensorflow as tf\n",
    "import matplotlib.pyplot as plt\n",
    "from sklearn.preprocessing import MinMaxScaler"
   ]
  },
  {
   "cell_type": "markdown",
   "metadata": {
    "id": "iZLXUWgaKv-j"
   },
   "source": [
    "## Importing Data"
   ]
  },
  {
   "cell_type": "markdown",
   "metadata": {
    "id": "Xk3og_GXMCdd"
   },
   "source": [
    "* Only Considering Opening Price of Stock for making predictions.\n",
    "* Considering all the historic data is left as experiment for future."
   ]
  },
  {
   "cell_type": "code",
   "execution_count": 2,
   "metadata": {
    "execution": {
     "iopub.execute_input": "2022-09-18T13:30:12.219199Z",
     "iopub.status.busy": "2022-09-18T13:30:12.218911Z",
     "iopub.status.idle": "2022-09-18T13:30:12.235749Z",
     "shell.execute_reply": "2022-09-18T13:30:12.234652Z",
     "shell.execute_reply.started": "2022-09-18T13:30:12.219169Z"
    },
    "id": "9The4ldgKsw3"
   },
   "outputs": [],
   "source": [
    "dataset_train= pd.read_csv('../input/google-stock-price/Google_Stock_Price_Train.csv')\n",
    "training_set = dataset_train.iloc[:,1:2].values"
   ]
  },
  {
   "cell_type": "code",
   "execution_count": 3,
   "metadata": {
    "execution": {
     "iopub.execute_input": "2022-09-18T13:30:12.238082Z",
     "iopub.status.busy": "2022-09-18T13:30:12.237278Z",
     "iopub.status.idle": "2022-09-18T13:30:12.258625Z",
     "shell.execute_reply": "2022-09-18T13:30:12.257583Z",
     "shell.execute_reply.started": "2022-09-18T13:30:12.238040Z"
    },
    "id": "bZFTbHUDLrvc",
    "outputId": "52c79794-41d0-4821-9371-e66fc63077e5"
   },
   "outputs": [
    {
     "data": {
      "text/html": [
       "<div>\n",
       "<style scoped>\n",
       "    .dataframe tbody tr th:only-of-type {\n",
       "        vertical-align: middle;\n",
       "    }\n",
       "\n",
       "    .dataframe tbody tr th {\n",
       "        vertical-align: top;\n",
       "    }\n",
       "\n",
       "    .dataframe thead th {\n",
       "        text-align: right;\n",
       "    }\n",
       "</style>\n",
       "<table border=\"1\" class=\"dataframe\">\n",
       "  <thead>\n",
       "    <tr style=\"text-align: right;\">\n",
       "      <th></th>\n",
       "      <th>Date</th>\n",
       "      <th>Open</th>\n",
       "      <th>High</th>\n",
       "      <th>Low</th>\n",
       "      <th>Close</th>\n",
       "      <th>Volume</th>\n",
       "    </tr>\n",
       "  </thead>\n",
       "  <tbody>\n",
       "    <tr>\n",
       "      <th>0</th>\n",
       "      <td>1/3/2012</td>\n",
       "      <td>325.25</td>\n",
       "      <td>332.83</td>\n",
       "      <td>324.97</td>\n",
       "      <td>663.59</td>\n",
       "      <td>7,380,500</td>\n",
       "    </tr>\n",
       "    <tr>\n",
       "      <th>1</th>\n",
       "      <td>1/4/2012</td>\n",
       "      <td>331.27</td>\n",
       "      <td>333.87</td>\n",
       "      <td>329.08</td>\n",
       "      <td>666.45</td>\n",
       "      <td>5,749,400</td>\n",
       "    </tr>\n",
       "    <tr>\n",
       "      <th>2</th>\n",
       "      <td>1/5/2012</td>\n",
       "      <td>329.83</td>\n",
       "      <td>330.75</td>\n",
       "      <td>326.89</td>\n",
       "      <td>657.21</td>\n",
       "      <td>6,590,300</td>\n",
       "    </tr>\n",
       "    <tr>\n",
       "      <th>3</th>\n",
       "      <td>1/6/2012</td>\n",
       "      <td>328.34</td>\n",
       "      <td>328.77</td>\n",
       "      <td>323.68</td>\n",
       "      <td>648.24</td>\n",
       "      <td>5,405,900</td>\n",
       "    </tr>\n",
       "    <tr>\n",
       "      <th>4</th>\n",
       "      <td>1/9/2012</td>\n",
       "      <td>322.04</td>\n",
       "      <td>322.29</td>\n",
       "      <td>309.46</td>\n",
       "      <td>620.76</td>\n",
       "      <td>11,688,800</td>\n",
       "    </tr>\n",
       "  </tbody>\n",
       "</table>\n",
       "</div>"
      ],
      "text/plain": [
       "       Date    Open    High     Low   Close      Volume\n",
       "0  1/3/2012  325.25  332.83  324.97  663.59   7,380,500\n",
       "1  1/4/2012  331.27  333.87  329.08  666.45   5,749,400\n",
       "2  1/5/2012  329.83  330.75  326.89  657.21   6,590,300\n",
       "3  1/6/2012  328.34  328.77  323.68  648.24   5,405,900\n",
       "4  1/9/2012  322.04  322.29  309.46  620.76  11,688,800"
      ]
     },
     "execution_count": 3,
     "metadata": {},
     "output_type": "execute_result"
    }
   ],
   "source": [
    "dataset_train.head()"
   ]
  },
  {
   "cell_type": "markdown",
   "metadata": {},
   "source": [
    "## Exploratory Data Analysis"
   ]
  },
  {
   "cell_type": "code",
   "execution_count": 5,
   "metadata": {
    "execution": {
     "iopub.execute_input": "2022-09-18T13:30:12.270385Z",
     "iopub.status.busy": "2022-09-18T13:30:12.269918Z",
     "iopub.status.idle": "2022-09-18T13:30:12.739268Z",
     "shell.execute_reply": "2022-09-18T13:30:12.738303Z",
     "shell.execute_reply.started": "2022-09-18T13:30:12.270334Z"
    },
    "id": "B8CXL-mIV79M",
    "outputId": "bd2d85ab-a934-4631-a394-fbc2c4c9eb36"
   },
   "outputs": [
    {
     "data": {
      "text/plain": [
       "<AxesSubplot:xlabel='Date'>"
      ]
     },
     "execution_count": 5,
     "metadata": {},
     "output_type": "execute_result"
    },
    {
     "data": {
      "image/png": "[encoded data removed]",
      "text/plain": [
       "<Figure size 1152x432 with 1 Axes>"
      ]
     },
     "metadata": {
      "needs_background": "light"
     },
     "output_type": "display_data"
    }
   ],
   "source": [
    "dataset = pd.read_csv('../input/google-stock-price/Google_Stock_Price_Train.csv',index_col=\"Date\",parse_dates=True)\n",
    "dataset['Open'].plot(figsize=(16,6))"
   ]
  },
  {
   "cell_type": "markdown",
   "metadata": {
    "id": "7Y2owdbyNaFJ"
   },
   "source": [
    "## Data Pre-Processing"
   ]
  },
  {
   "cell_type": "code",
   "execution_count": 90,
   "metadata": {
    "execution": {
     "iopub.execute_input": "2022-09-18T14:55:32.502294Z",
     "iopub.status.busy": "2022-09-18T14:55:32.501841Z",
     "iopub.status.idle": "2022-09-18T14:55:32.509241Z",
     "shell.execute_reply": "2022-09-18T14:55:32.508374Z",
     "shell.execute_reply.started": "2022-09-18T14:55:32.502259Z"
    }
   },
   "outputs": [
    {
     "data": {
      "text/plain": [
       "array([[325.25],\n",
       "       [331.27],\n",
       "       [329.83],\n",
       "       ...,\n",
       "       [793.7 ],\n",
       "       [783.33],\n",
       "       [782.75]])"
      ]
     },
     "execution_count": 90,
     "metadata": {},
     "output_type": "execute_result"
    }
   ],
   "source": [
    "training_set"
   ]
  },
  {
   "cell_type": "markdown",
   "metadata": {},
   "source": [
    "### Scaling Opening Prices\n",
    "* Speeds up computations of Gradient."
   ]
  },
  {
   "cell_type": "code",
   "execution_count": 91,
   "metadata": {
    "execution": {
     "iopub.execute_input": "2022-09-18T14:55:41.772787Z",
     "iopub.status.busy": "2022-09-18T14:55:41.772472Z",
     "iopub.status.idle": "2022-09-18T14:55:41.777398Z",
     "shell.execute_reply": "2022-09-18T14:55:41.776553Z",
     "shell.execute_reply.started": "2022-09-18T14:55:41.772755Z"
    },
    "id": "CTB0skKSNbXY"
   },
   "outputs": [],
   "source": [
    "scaler = MinMaxScaler(feature_range=(0,1))\n",
    "training_set_scaled = scaler.fit_transform(training_set)"
   ]
  },
  {
   "cell_type": "markdown",
   "metadata": {
    "id": "6Xo9YsBaONWM"
   },
   "source": [
    "### Data Extraction"
   ]
  },
  {
   "cell_type": "markdown",
   "metadata": {
    "id": "FIr8sFbFN0Xp"
   },
   "source": [
    "* t = 50, that is last 50 days of data will be used for computing final opening stock price of day 51.\n",
    "* note that it is essential that during this step, we EXCLUDE the day of prediction from training set.\n",
    "* that is   \n",
    "training set should be stock prices of days [0,50).  \n",
    "testing set should be stock price at day [50]"
   ]
  },
  {
   "cell_type": "code",
   "execution_count": 118,
   "metadata": {
    "execution": {
     "iopub.execute_input": "2022-09-18T15:23:32.443896Z",
     "iopub.status.busy": "2022-09-18T15:23:32.443566Z",
     "iopub.status.idle": "2022-09-18T15:23:32.452457Z",
     "shell.execute_reply": "2022-09-18T15:23:32.451511Z",
     "shell.execute_reply.started": "2022-09-18T15:23:32.443862Z"
    },
    "id": "9_0FB5GcOfnW"
   },
   "outputs": [],
   "source": [
    "def get_training_data(t=50, data = None, ndim = 1, train = True):\n",
    "    \"\"\"\n",
    "    function to extract data of last t days\n",
    "    t -> last number of days to be considered\n",
    "    data -> raw training data\n",
    "    ndim -> number of features to considered\n",
    "    \"\"\"\n",
    "    X_train = []\n",
    "    y_train = []\n",
    "    \n",
    "    rows = data.shape[0]\n",
    "    for i in range(t,rows):\n",
    "        ## note that numpy selections are (inclusive,exclusive)\n",
    "        X_train.append(data[i-t:i])\n",
    "        if train:\n",
    "            y_train.append(data[i])\n",
    "        else:\n",
    "            y_train.append(-1)\n",
    "\n",
    "    X_train, y_train = np.array(X_train), np.array(y_train)\n",
    "    X_train = np.reshape(X_train, newshape = (rows-t,ndim,t))\n",
    "    return X_train, y_train"
   ]
  },
  {
   "cell_type": "code",
   "execution_count": 94,
   "metadata": {
    "execution": {
     "iopub.execute_input": "2022-09-18T15:02:30.709046Z",
     "iopub.status.busy": "2022-09-18T15:02:30.708376Z",
     "iopub.status.idle": "2022-09-18T15:02:30.715150Z",
     "shell.execute_reply": "2022-09-18T15:02:30.714300Z",
     "shell.execute_reply.started": "2022-09-18T15:02:30.709009Z"
    }
   },
   "outputs": [],
   "source": [
    "X_train,y_train = get_training_data(t = 50 , data = training_set_scaled , ndim = 1)"
   ]
  },
  {
   "cell_type": "code",
   "execution_count": 95,
   "metadata": {
    "execution": {
     "iopub.execute_input": "2022-09-18T15:02:33.106393Z",
     "iopub.status.busy": "2022-09-18T15:02:33.105854Z",
     "iopub.status.idle": "2022-09-18T15:02:33.111402Z",
     "shell.execute_reply": "2022-09-18T15:02:33.110881Z",
     "shell.execute_reply.started": "2022-09-18T15:02:33.106360Z"
    }
   },
   "outputs": [
    {
     "data": {
      "text/plain": [
       "(1208, 1, 50)"
      ]
     },
     "execution_count": 95,
     "metadata": {},
     "output_type": "execute_result"
    }
   ],
   "source": [
    "X_train.shape"
   ]
  },
  {
   "cell_type": "markdown",
   "metadata": {},
   "source": [
    "* note that 1 represents only 1 feature being used, that is, opening price\n",
    "* as mentioned, more features will be used in future experiments"
   ]
  },
  {
   "cell_type": "code",
   "execution_count": 96,
   "metadata": {
    "execution": {
     "iopub.execute_input": "2022-09-18T15:03:46.674562Z",
     "iopub.status.busy": "2022-09-18T15:03:46.674247Z",
     "iopub.status.idle": "2022-09-18T15:03:46.680321Z",
     "shell.execute_reply": "2022-09-18T15:03:46.679522Z",
     "shell.execute_reply.started": "2022-09-18T15:03:46.674527Z"
    }
   },
   "outputs": [
    {
     "data": {
      "text/plain": [
       "(1208, 1)"
      ]
     },
     "execution_count": 96,
     "metadata": {},
     "output_type": "execute_result"
    }
   ],
   "source": [
    "y_train.shape"
   ]
  },
  {
   "cell_type": "markdown",
   "metadata": {
    "id": "Nzt6zAGMPHly"
   },
   "source": [
    "## Model Architectures"
   ]
  },
  {
   "cell_type": "markdown",
   "metadata": {},
   "source": [
    "### LSTM (Long Short Term Memory) "
   ]
  },
  {
   "cell_type": "code",
   "execution_count": 98,
   "metadata": {
    "execution": {
     "iopub.execute_input": "2022-09-18T15:08:01.352631Z",
     "iopub.status.busy": "2022-09-18T15:08:01.352364Z",
     "iopub.status.idle": "2022-09-18T15:08:01.362176Z",
     "shell.execute_reply": "2022-09-18T15:08:01.361296Z",
     "shell.execute_reply.started": "2022-09-18T15:08:01.352604Z"
    },
    "id": "ZT0lxCLpRjlJ"
   },
   "outputs": [],
   "source": [
    "def get_LSTM(input_shape = None):\n",
    "    \"\"\"\n",
    "    input_shape[0] = rows\n",
    "    input_shape[1] = number of dimensions\n",
    "    input_shape[2] = dimensions of data (t)\n",
    "    \"\"\"\n",
    "    model = tf.keras.Sequential([\n",
    "        \n",
    "        ## lstm layer 1\n",
    "        tf.keras.layers.LSTM(\n",
    "            units = 50,\n",
    "            return_sequences=True,\n",
    "            activation='relu',\n",
    "            recurrent_activation='sigmoid',\n",
    "            input_shape = (input_shape[1],input_shape[2])\n",
    "        ),\n",
    "        tf.keras.layers.Dropout(0.2),\n",
    "        \n",
    "        ##lstm layer 2\n",
    "        tf.keras.layers.LSTM(\n",
    "            units = 50,\n",
    "            return_sequences=True,\n",
    "            activation='relu',\n",
    "            recurrent_activation='sigmoid',\n",
    "        ),\n",
    "        tf.keras.layers.Dropout(0.2),\n",
    "        \n",
    "        ## lstm layer 3\n",
    "        tf.keras.layers.LSTM(\n",
    "            units = 50,\n",
    "            return_sequences=True,\n",
    "            activation='relu',\n",
    "            recurrent_activation='sigmoid',\n",
    "        ),\n",
    "        tf.keras.layers.Dropout(0.2),\n",
    "        \n",
    "        ## lstm layer 4\n",
    "        tf.keras.layers.LSTM(\n",
    "            units = 50,\n",
    "            return_sequences=True,\n",
    "            activation='relu',\n",
    "            recurrent_activation='sigmoid',\n",
    "        ),\n",
    "        tf.keras.layers.Dropout(0.2),\n",
    "        \n",
    "        ## final output layer\n",
    "        tf.keras.layers.Dense(units=1)\n",
    "    ]) \n",
    "    \n",
    "    model.compile(\n",
    "        optimizer = 'adamax',\n",
    "        loss = 'mean_squared_error',\n",
    "        metrics=[tf.keras.metrics.RootMeanSquaredError()]\n",
    "    )\n",
    "    \n",
    "    return model"
   ]
  },
  {
   "cell_type": "markdown",
   "metadata": {},
   "source": [
    "### Simple RNN (Recurrent Neural Networks)"
   ]
  },
  {
   "cell_type": "code",
   "execution_count": 99,
   "metadata": {
    "execution": {
     "iopub.execute_input": "2022-09-18T15:08:02.931665Z",
     "iopub.status.busy": "2022-09-18T15:08:02.931413Z",
     "iopub.status.idle": "2022-09-18T15:08:02.940600Z",
     "shell.execute_reply": "2022-09-18T15:08:02.939442Z",
     "shell.execute_reply.started": "2022-09-18T15:08:02.931637Z"
    }
   },
   "outputs": [],
   "source": [
    "def get_simple_RNN(input_shape = None):\n",
    "    \"\"\"\n",
    "    input_shape[0] = rows\n",
    "    input_shape[1] = number of dimensions\n",
    "    input_shape[2] = dimensions of data (t)\n",
    "    \"\"\"\n",
    "    model = tf.keras.Sequential([\n",
    "        \n",
    "        ## RNN layer 1\n",
    "        tf.keras.layers.SimpleRNN(\n",
    "            units = 50,\n",
    "            return_sequences=True,\n",
    "            activation='relu',\n",
    "            input_shape = (input_shape[1],input_shape[2])\n",
    "        ),\n",
    "        tf.keras.layers.Dropout(0.2),\n",
    "        \n",
    "        ## RNN layer 2\n",
    "        tf.keras.layers.SimpleRNN(\n",
    "            units = 50,\n",
    "            return_sequences=True,\n",
    "            activation='relu',\n",
    "        ),\n",
    "        tf.keras.layers.Dropout(0.2),\n",
    "        \n",
    "        ## RNN layer 3\n",
    "        tf.keras.layers.SimpleRNN(\n",
    "            units = 50,\n",
    "            return_sequences=True,\n",
    "            activation='relu',\n",
    "        ),\n",
    "        tf.keras.layers.Dropout(0.2),\n",
    "        \n",
    "        ## RNN layer 4\n",
    "        tf.keras.layers.SimpleRNN(\n",
    "            units = 50,\n",
    "            return_sequences=True,\n",
    "            activation='relu',\n",
    "        ),\n",
    "        tf.keras.layers.Dropout(0.2),\n",
    "        \n",
    "        ## final output layer\n",
    "        tf.keras.layers.Dense(units=1)\n",
    "    ]) \n",
    "    \n",
    "    model.compile(\n",
    "        optimizer = 'adamax',\n",
    "        loss = 'mean_squared_error',\n",
    "        metrics=[tf.keras.metrics.RootMeanSquaredError()]\n",
    "    )\n",
    "    \n",
    "    return model"
   ]
  },
  {
   "cell_type": "markdown",
   "metadata": {},
   "source": [
    "## Model Training"
   ]
  },
  {
   "cell_type": "markdown",
   "metadata": {},
   "source": [
    "### LSTM Training"
   ]
  },
  {
   "cell_type": "code",
   "execution_count": 100,
   "metadata": {
    "execution": {
     "iopub.execute_input": "2022-09-18T15:08:07.402873Z",
     "iopub.status.busy": "2022-09-18T15:08:07.402272Z",
     "iopub.status.idle": "2022-09-18T15:08:34.132669Z",
     "shell.execute_reply": "2022-09-18T15:08:34.131850Z",
     "shell.execute_reply.started": "2022-09-18T15:08:07.402831Z"
    },
    "id": "2xL4NwRuS3vd",
    "outputId": "282011f9-808a-45f9-adb7-180be253231f"
   },
   "outputs": [
    {
     "name": "stdout",
     "output_type": "stream",
     "text": [
      "Epoch 1/100\n",
      "29/29 [==============================] - 7s 36ms/step - loss: 0.1515 - root_mean_squared_error: 0.3893 - val_loss: 0.6156 - val_root_mean_squared_error: 0.7846\n",
      "Epoch 2/100\n",
      "29/29 [==============================] - 0s 7ms/step - loss: 0.0943 - root_mean_squared_error: 0.3071 - val_loss: 0.1658 - val_root_mean_squared_error: 0.4072\n",
      "Epoch 3/100\n",
      "29/29 [==============================] - 0s 7ms/step - loss: 0.0227 - root_mean_squared_error: 0.1507 - val_loss: 0.5392 - val_root_mean_squared_error: 0.7343\n",
      "Epoch 4/100\n",
      "29/29 [==============================] - 0s 7ms/step - loss: 0.0135 - root_mean_squared_error: 0.1161 - val_loss: 0.2512 - val_root_mean_squared_error: 0.5012\n",
      "Epoch 5/100\n",
      "29/29 [==============================] - 0s 7ms/step - loss: 0.0126 - root_mean_squared_error: 0.1121 - val_loss: 0.2115 - val_root_mean_squared_error: 0.4599\n",
      "Epoch 6/100\n",
      "29/29 [==============================] - 0s 7ms/step - loss: 0.0117 - root_mean_squared_error: 0.1080 - val_loss: 0.2452 - val_root_mean_squared_error: 0.4952\n",
      "Epoch 7/100\n",
      "29/29 [==============================] - 0s 6ms/step - loss: 0.0124 - root_mean_squared_error: 0.1115 - val_loss: 0.1302 - val_root_mean_squared_error: 0.3608\n",
      "Epoch 8/100\n",
      "29/29 [==============================] - 0s 6ms/step - loss: 0.0115 - root_mean_squared_error: 0.1073 - val_loss: 0.1442 - val_root_mean_squared_error: 0.3797\n",
      "Epoch 9/100\n",
      "29/29 [==============================] - 0s 6ms/step - loss: 0.0113 - root_mean_squared_error: 0.1063 - val_loss: 0.1425 - val_root_mean_squared_error: 0.3775\n",
      "Epoch 10/100\n",
      "29/29 [==============================] - 0s 7ms/step - loss: 0.0116 - root_mean_squared_error: 0.1079 - val_loss: 0.0991 - val_root_mean_squared_error: 0.3149\n",
      "Epoch 11/100\n",
      "29/29 [==============================] - 0s 7ms/step - loss: 0.0101 - root_mean_squared_error: 0.1003 - val_loss: 0.1045 - val_root_mean_squared_error: 0.3232\n",
      "Epoch 12/100\n",
      "29/29 [==============================] - 0s 6ms/step - loss: 0.0108 - root_mean_squared_error: 0.1040 - val_loss: 0.0855 - val_root_mean_squared_error: 0.2923\n",
      "Epoch 13/100\n",
      "29/29 [==============================] - 0s 6ms/step - loss: 0.0105 - root_mean_squared_error: 0.1024 - val_loss: 0.0516 - val_root_mean_squared_error: 0.2271\n",
      "Epoch 14/100\n",
      "29/29 [==============================] - 0s 6ms/step - loss: 0.0103 - root_mean_squared_error: 0.1013 - val_loss: 0.0460 - val_root_mean_squared_error: 0.2144\n",
      "Epoch 15/100\n",
      "29/29 [==============================] - 0s 7ms/step - loss: 0.0093 - root_mean_squared_error: 0.0965 - val_loss: 0.0630 - val_root_mean_squared_error: 0.2510\n",
      "Epoch 16/100\n",
      "29/29 [==============================] - 0s 7ms/step - loss: 0.0095 - root_mean_squared_error: 0.0976 - val_loss: 0.0507 - val_root_mean_squared_error: 0.2251\n",
      "Epoch 17/100\n",
      "29/29 [==============================] - 0s 7ms/step - loss: 0.0090 - root_mean_squared_error: 0.0947 - val_loss: 0.0750 - val_root_mean_squared_error: 0.2738\n",
      "Epoch 18/100\n",
      "29/29 [==============================] - 0s 7ms/step - loss: 0.0079 - root_mean_squared_error: 0.0889 - val_loss: 0.0383 - val_root_mean_squared_error: 0.1956\n",
      "Epoch 19/100\n",
      "29/29 [==============================] - 0s 6ms/step - loss: 0.0084 - root_mean_squared_error: 0.0918 - val_loss: 0.0497 - val_root_mean_squared_error: 0.2230\n",
      "Epoch 20/100\n",
      "29/29 [==============================] - 0s 6ms/step - loss: 0.0084 - root_mean_squared_error: 0.0918 - val_loss: 0.0306 - val_root_mean_squared_error: 0.1748\n",
      "Epoch 21/100\n",
      "29/29 [==============================] - 0s 7ms/step - loss: 0.0084 - root_mean_squared_error: 0.0915 - val_loss: 0.0166 - val_root_mean_squared_error: 0.1289\n",
      "Epoch 22/100\n",
      "29/29 [==============================] - 0s 6ms/step - loss: 0.0073 - root_mean_squared_error: 0.0857 - val_loss: 0.0182 - val_root_mean_squared_error: 0.1347\n",
      "Epoch 23/100\n",
      "29/29 [==============================] - 0s 6ms/step - loss: 0.0071 - root_mean_squared_error: 0.0844 - val_loss: 0.0101 - val_root_mean_squared_error: 0.1004\n",
      "Epoch 24/100\n",
      "29/29 [==============================] - 0s 6ms/step - loss: 0.0070 - root_mean_squared_error: 0.0836 - val_loss: 0.0112 - val_root_mean_squared_error: 0.1056\n",
      "Epoch 25/100\n",
      "29/29 [==============================] - 0s 7ms/step - loss: 0.0068 - root_mean_squared_error: 0.0823 - val_loss: 0.0117 - val_root_mean_squared_error: 0.1083\n",
      "Epoch 26/100\n",
      "29/29 [==============================] - 0s 7ms/step - loss: 0.0062 - root_mean_squared_error: 0.0789 - val_loss: 0.0135 - val_root_mean_squared_error: 0.1161\n",
      "Epoch 27/100\n",
      "29/29 [==============================] - 0s 7ms/step - loss: 0.0069 - root_mean_squared_error: 0.0830 - val_loss: 0.0052 - val_root_mean_squared_error: 0.0720\n",
      "Epoch 28/100\n",
      "29/29 [==============================] - 0s 6ms/step - loss: 0.0069 - root_mean_squared_error: 0.0831 - val_loss: 0.0061 - val_root_mean_squared_error: 0.0784\n",
      "Epoch 29/100\n",
      "29/29 [==============================] - 0s 9ms/step - loss: 0.0059 - root_mean_squared_error: 0.0768 - val_loss: 0.0024 - val_root_mean_squared_error: 0.0493\n",
      "Epoch 30/100\n",
      "29/29 [==============================] - 0s 7ms/step - loss: 0.0063 - root_mean_squared_error: 0.0793 - val_loss: 0.0025 - val_root_mean_squared_error: 0.0502\n",
      "Epoch 31/100\n",
      "29/29 [==============================] - 0s 7ms/step - loss: 0.0058 - root_mean_squared_error: 0.0762 - val_loss: 0.0030 - val_root_mean_squared_error: 0.0545\n",
      "Epoch 32/100\n",
      "29/29 [==============================] - 0s 6ms/step - loss: 0.0056 - root_mean_squared_error: 0.0749 - val_loss: 0.0053 - val_root_mean_squared_error: 0.0726\n",
      "Epoch 33/100\n",
      "29/29 [==============================] - 0s 7ms/step - loss: 0.0053 - root_mean_squared_error: 0.0731 - val_loss: 0.0075 - val_root_mean_squared_error: 0.0864\n",
      "Epoch 34/100\n",
      "29/29 [==============================] - 0s 6ms/step - loss: 0.0056 - root_mean_squared_error: 0.0746 - val_loss: 0.0091 - val_root_mean_squared_error: 0.0953\n",
      "Epoch 35/100\n",
      "29/29 [==============================] - 0s 6ms/step - loss: 0.0056 - root_mean_squared_error: 0.0746 - val_loss: 0.0091 - val_root_mean_squared_error: 0.0956\n",
      "Epoch 36/100\n",
      "29/29 [==============================] - 0s 7ms/step - loss: 0.0053 - root_mean_squared_error: 0.0728 - val_loss: 0.0110 - val_root_mean_squared_error: 0.1050\n",
      "Epoch 37/100\n",
      "29/29 [==============================] - 0s 6ms/step - loss: 0.0053 - root_mean_squared_error: 0.0726 - val_loss: 0.0124 - val_root_mean_squared_error: 0.1114\n",
      "Epoch 38/100\n",
      "29/29 [==============================] - 0s 7ms/step - loss: 0.0050 - root_mean_squared_error: 0.0706 - val_loss: 0.0125 - val_root_mean_squared_error: 0.1120\n",
      "Epoch 39/100\n",
      "29/29 [==============================] - 0s 6ms/step - loss: 0.0051 - root_mean_squared_error: 0.0716 - val_loss: 0.0188 - val_root_mean_squared_error: 0.1370\n",
      "Epoch 40/100\n",
      "29/29 [==============================] - 0s 6ms/step - loss: 0.0048 - root_mean_squared_error: 0.0693 - val_loss: 0.0163 - val_root_mean_squared_error: 0.1278\n",
      "Epoch 41/100\n",
      "29/29 [==============================] - 0s 7ms/step - loss: 0.0048 - root_mean_squared_error: 0.0691 - val_loss: 0.0158 - val_root_mean_squared_error: 0.1257\n",
      "Epoch 42/100\n",
      "29/29 [==============================] - 0s 6ms/step - loss: 0.0051 - root_mean_squared_error: 0.0715 - val_loss: 0.0252 - val_root_mean_squared_error: 0.1587\n",
      "Epoch 43/100\n",
      "29/29 [==============================] - 0s 6ms/step - loss: 0.0045 - root_mean_squared_error: 0.0674 - val_loss: 0.0185 - val_root_mean_squared_error: 0.1360\n",
      "Epoch 44/100\n",
      "29/29 [==============================] - 0s 6ms/step - loss: 0.0043 - root_mean_squared_error: 0.0654 - val_loss: 0.0248 - val_root_mean_squared_error: 0.1576\n",
      "Epoch 45/100\n",
      "29/29 [==============================] - 0s 6ms/step - loss: 0.0046 - root_mean_squared_error: 0.0679 - val_loss: 0.0264 - val_root_mean_squared_error: 0.1625\n",
      "Epoch 46/100\n",
      "29/29 [==============================] - 0s 7ms/step - loss: 0.0043 - root_mean_squared_error: 0.0657 - val_loss: 0.0231 - val_root_mean_squared_error: 0.1519\n",
      "Epoch 47/100\n",
      "29/29 [==============================] - 0s 6ms/step - loss: 0.0048 - root_mean_squared_error: 0.0694 - val_loss: 0.0171 - val_root_mean_squared_error: 0.1307\n",
      "Epoch 48/100\n",
      "29/29 [==============================] - 0s 6ms/step - loss: 0.0042 - root_mean_squared_error: 0.0647 - val_loss: 0.0235 - val_root_mean_squared_error: 0.1533\n",
      "Epoch 49/100\n",
      "29/29 [==============================] - 0s 6ms/step - loss: 0.0043 - root_mean_squared_error: 0.0657 - val_loss: 0.0274 - val_root_mean_squared_error: 0.1655\n",
      "Epoch 50/100\n",
      "29/29 [==============================] - 0s 6ms/step - loss: 0.0039 - root_mean_squared_error: 0.0623 - val_loss: 0.0288 - val_root_mean_squared_error: 0.1697\n",
      "Epoch 51/100\n",
      "29/29 [==============================] - 0s 15ms/step - loss: 0.0045 - root_mean_squared_error: 0.0668 - val_loss: 0.0275 - val_root_mean_squared_error: 0.1659\n",
      "Epoch 52/100\n",
      "29/29 [==============================] - 0s 12ms/step - loss: 0.0042 - root_mean_squared_error: 0.0647 - val_loss: 0.0310 - val_root_mean_squared_error: 0.1760\n",
      "Epoch 53/100\n",
      "29/29 [==============================] - 0s 10ms/step - loss: 0.0042 - root_mean_squared_error: 0.0647 - val_loss: 0.0247 - val_root_mean_squared_error: 0.1572\n",
      "Epoch 54/100\n",
      "29/29 [==============================] - 0s 7ms/step - loss: 0.0040 - root_mean_squared_error: 0.0632 - val_loss: 0.0351 - val_root_mean_squared_error: 0.1875\n",
      "Epoch 55/100\n",
      "29/29 [==============================] - 0s 7ms/step - loss: 0.0038 - root_mean_squared_error: 0.0619 - val_loss: 0.0332 - val_root_mean_squared_error: 0.1822\n",
      "Epoch 56/100\n",
      "29/29 [==============================] - 0s 7ms/step - loss: 0.0042 - root_mean_squared_error: 0.0645 - val_loss: 0.0349 - val_root_mean_squared_error: 0.1868\n",
      "Epoch 57/100\n",
      "29/29 [==============================] - 0s 7ms/step - loss: 0.0036 - root_mean_squared_error: 0.0601 - val_loss: 0.0375 - val_root_mean_squared_error: 0.1938\n",
      "Epoch 58/100\n",
      "29/29 [==============================] - 0s 7ms/step - loss: 0.0036 - root_mean_squared_error: 0.0601 - val_loss: 0.0346 - val_root_mean_squared_error: 0.1860\n",
      "Epoch 59/100\n",
      "29/29 [==============================] - 0s 6ms/step - loss: 0.0040 - root_mean_squared_error: 0.0636 - val_loss: 0.0352 - val_root_mean_squared_error: 0.1877\n",
      "Epoch 60/100\n",
      "29/29 [==============================] - 0s 7ms/step - loss: 0.0038 - root_mean_squared_error: 0.0615 - val_loss: 0.0368 - val_root_mean_squared_error: 0.1919\n",
      "Epoch 61/100\n",
      "29/29 [==============================] - 0s 6ms/step - loss: 0.0038 - root_mean_squared_error: 0.0620 - val_loss: 0.0428 - val_root_mean_squared_error: 0.2069\n",
      "Epoch 62/100\n",
      "29/29 [==============================] - 0s 6ms/step - loss: 0.0037 - root_mean_squared_error: 0.0609 - val_loss: 0.0367 - val_root_mean_squared_error: 0.1915\n",
      "Epoch 63/100\n",
      "29/29 [==============================] - 0s 6ms/step - loss: 0.0040 - root_mean_squared_error: 0.0631 - val_loss: 0.0491 - val_root_mean_squared_error: 0.2216\n",
      "Epoch 64/100\n",
      "29/29 [==============================] - 0s 6ms/step - loss: 0.0036 - root_mean_squared_error: 0.0600 - val_loss: 0.0458 - val_root_mean_squared_error: 0.2139\n",
      "Epoch 65/100\n",
      "29/29 [==============================] - 0s 7ms/step - loss: 0.0040 - root_mean_squared_error: 0.0636 - val_loss: 0.0503 - val_root_mean_squared_error: 0.2242\n",
      "Epoch 66/100\n",
      "29/29 [==============================] - 0s 7ms/step - loss: 0.0037 - root_mean_squared_error: 0.0606 - val_loss: 0.0430 - val_root_mean_squared_error: 0.2074\n",
      "Epoch 67/100\n",
      "29/29 [==============================] - 0s 7ms/step - loss: 0.0034 - root_mean_squared_error: 0.0581 - val_loss: 0.0384 - val_root_mean_squared_error: 0.1959\n",
      "Epoch 68/100\n",
      "29/29 [==============================] - 0s 7ms/step - loss: 0.0037 - root_mean_squared_error: 0.0606 - val_loss: 0.0462 - val_root_mean_squared_error: 0.2149\n",
      "Epoch 69/100\n",
      "29/29 [==============================] - 0s 6ms/step - loss: 0.0035 - root_mean_squared_error: 0.0594 - val_loss: 0.0516 - val_root_mean_squared_error: 0.2271\n",
      "Epoch 70/100\n",
      "29/29 [==============================] - ETA: 0s - loss: 0.0035 - root_mean_squared_error: 0.059 - 0s 7ms/step - loss: 0.0035 - root_mean_squared_error: 0.0592 - val_loss: 0.0489 - val_root_mean_squared_error: 0.2212\n",
      "Epoch 71/100\n",
      "29/29 [==============================] - 0s 6ms/step - loss: 0.0033 - root_mean_squared_error: 0.0573 - val_loss: 0.0530 - val_root_mean_squared_error: 0.2302\n",
      "Epoch 72/100\n",
      "29/29 [==============================] - 0s 7ms/step - loss: 0.0035 - root_mean_squared_error: 0.0588 - val_loss: 0.0476 - val_root_mean_squared_error: 0.2181\n",
      "Epoch 73/100\n",
      "29/29 [==============================] - 0s 6ms/step - loss: 0.0039 - root_mean_squared_error: 0.0621 - val_loss: 0.0535 - val_root_mean_squared_error: 0.2313\n",
      "Epoch 74/100\n",
      "29/29 [==============================] - 0s 7ms/step - loss: 0.0035 - root_mean_squared_error: 0.0590 - val_loss: 0.0511 - val_root_mean_squared_error: 0.2261\n",
      "Epoch 75/100\n",
      "29/29 [==============================] - 0s 7ms/step - loss: 0.0034 - root_mean_squared_error: 0.0585 - val_loss: 0.0465 - val_root_mean_squared_error: 0.2157\n",
      "Epoch 76/100\n",
      "29/29 [==============================] - 0s 6ms/step - loss: 0.0033 - root_mean_squared_error: 0.0579 - val_loss: 0.0515 - val_root_mean_squared_error: 0.2269\n",
      "Epoch 77/100\n",
      "29/29 [==============================] - 0s 6ms/step - loss: 0.0032 - root_mean_squared_error: 0.0562 - val_loss: 0.0511 - val_root_mean_squared_error: 0.2260\n",
      "Epoch 78/100\n",
      "29/29 [==============================] - 0s 7ms/step - loss: 0.0032 - root_mean_squared_error: 0.0568 - val_loss: 0.0406 - val_root_mean_squared_error: 0.2014\n",
      "Epoch 79/100\n",
      "29/29 [==============================] - 0s 7ms/step - loss: 0.0033 - root_mean_squared_error: 0.0576 - val_loss: 0.0501 - val_root_mean_squared_error: 0.2237\n",
      "Epoch 80/100\n",
      "29/29 [==============================] - 0s 7ms/step - loss: 0.0034 - root_mean_squared_error: 0.0581 - val_loss: 0.0589 - val_root_mean_squared_error: 0.2428\n",
      "Epoch 81/100\n",
      "29/29 [==============================] - 0s 7ms/step - loss: 0.0029 - root_mean_squared_error: 0.0541 - val_loss: 0.0482 - val_root_mean_squared_error: 0.2196\n",
      "Epoch 82/100\n",
      "29/29 [==============================] - 0s 7ms/step - loss: 0.0032 - root_mean_squared_error: 0.0569 - val_loss: 0.0449 - val_root_mean_squared_error: 0.2120\n",
      "Epoch 83/100\n",
      "29/29 [==============================] - 0s 9ms/step - loss: 0.0030 - root_mean_squared_error: 0.0547 - val_loss: 0.0429 - val_root_mean_squared_error: 0.2072\n",
      "Epoch 84/100\n",
      "29/29 [==============================] - 0s 6ms/step - loss: 0.0031 - root_mean_squared_error: 0.0552 - val_loss: 0.0434 - val_root_mean_squared_error: 0.2083\n",
      "Epoch 85/100\n",
      "29/29 [==============================] - 0s 6ms/step - loss: 0.0033 - root_mean_squared_error: 0.0573 - val_loss: 0.0506 - val_root_mean_squared_error: 0.2250\n",
      "Epoch 86/100\n",
      "29/29 [==============================] - 0s 6ms/step - loss: 0.0031 - root_mean_squared_error: 0.0560 - val_loss: 0.0447 - val_root_mean_squared_error: 0.2115\n",
      "Epoch 87/100\n",
      "29/29 [==============================] - 0s 6ms/step - loss: 0.0032 - root_mean_squared_error: 0.0562 - val_loss: 0.0474 - val_root_mean_squared_error: 0.2177\n",
      "Epoch 88/100\n",
      "29/29 [==============================] - 0s 6ms/step - loss: 0.0033 - root_mean_squared_error: 0.0574 - val_loss: 0.0414 - val_root_mean_squared_error: 0.2034\n",
      "Epoch 89/100\n",
      "29/29 [==============================] - 0s 6ms/step - loss: 0.0030 - root_mean_squared_error: 0.0547 - val_loss: 0.0454 - val_root_mean_squared_error: 0.2130\n",
      "Epoch 90/100\n",
      "29/29 [==============================] - 0s 7ms/step - loss: 0.0032 - root_mean_squared_error: 0.0565 - val_loss: 0.0444 - val_root_mean_squared_error: 0.2108\n",
      "Epoch 91/100\n",
      "29/29 [==============================] - 0s 6ms/step - loss: 0.0030 - root_mean_squared_error: 0.0544 - val_loss: 0.0513 - val_root_mean_squared_error: 0.2264\n",
      "Epoch 92/100\n",
      "29/29 [==============================] - 0s 6ms/step - loss: 0.0032 - root_mean_squared_error: 0.0566 - val_loss: 0.0510 - val_root_mean_squared_error: 0.2257\n",
      "Epoch 93/100\n",
      "29/29 [==============================] - 0s 7ms/step - loss: 0.0030 - root_mean_squared_error: 0.0546 - val_loss: 0.0493 - val_root_mean_squared_error: 0.2221\n",
      "Epoch 94/100\n",
      "29/29 [==============================] - 0s 6ms/step - loss: 0.0027 - root_mean_squared_error: 0.0523 - val_loss: 0.0441 - val_root_mean_squared_error: 0.2100\n",
      "Epoch 95/100\n",
      "29/29 [==============================] - 0s 7ms/step - loss: 0.0028 - root_mean_squared_error: 0.0527 - val_loss: 0.0446 - val_root_mean_squared_error: 0.2113\n",
      "Epoch 96/100\n",
      "29/29 [==============================] - 0s 7ms/step - loss: 0.0030 - root_mean_squared_error: 0.0551 - val_loss: 0.0473 - val_root_mean_squared_error: 0.2175\n",
      "Epoch 97/100\n",
      "29/29 [==============================] - 0s 7ms/step - loss: 0.0029 - root_mean_squared_error: 0.0537 - val_loss: 0.0524 - val_root_mean_squared_error: 0.2289\n",
      "Epoch 98/100\n",
      "29/29 [==============================] - 0s 7ms/step - loss: 0.0028 - root_mean_squared_error: 0.0526 - val_loss: 0.0470 - val_root_mean_squared_error: 0.2168\n",
      "Epoch 99/100\n",
      "29/29 [==============================] - 0s 7ms/step - loss: 0.0028 - root_mean_squared_error: 0.0525 - val_loss: 0.0488 - val_root_mean_squared_error: 0.2209\n",
      "Epoch 100/100\n",
      "29/29 [==============================] - 0s 6ms/step - loss: 0.0029 - root_mean_squared_error: 0.0537 - val_loss: 0.0462 - val_root_mean_squared_error: 0.2149\n"
     ]
    }
   ],
   "source": [
    "BATCH_SIZE = 32\n",
    "EPOCHS = 100\n",
    "\n",
    "model_lstm = get_LSTM(input_shape = X_train.shape)\n",
    "history_lstm = model_lstm.fit(\n",
    "    X_train, \n",
    "    y_train, \n",
    "    epochs = EPOCHS, \n",
    "    batch_size = BATCH_SIZE,\n",
    "    validation_split = 0.25\n",
    ")"
   ]
  },
  {
   "cell_type": "markdown",
   "metadata": {},
   "source": [
    "### RNN Training"
   ]
  },
  {
   "cell_type": "code",
   "execution_count": 78,
   "metadata": {
    "execution": {
     "iopub.execute_input": "2022-09-18T14:41:15.938820Z",
     "iopub.status.busy": "2022-09-18T14:41:15.938363Z",
     "iopub.status.idle": "2022-09-18T14:41:41.737500Z",
     "shell.execute_reply": "2022-09-18T14:41:41.736582Z",
     "shell.execute_reply.started": "2022-09-18T14:41:15.938788Z"
    }
   },
   "outputs": [
    {
     "name": "stdout",
     "output_type": "stream",
     "text": [
      "Epoch 1/100\n",
      "29/29 [==============================] - 5s 33ms/step - loss: 0.1347 - root_mean_squared_error: 0.3670 - val_loss: 0.0122 - val_root_mean_squared_error: 0.1106\n",
      "Epoch 2/100\n",
      "29/29 [==============================] - 0s 7ms/step - loss: 0.0275 - root_mean_squared_error: 0.1658 - val_loss: 0.0470 - val_root_mean_squared_error: 0.2168\n",
      "Epoch 3/100\n",
      "29/29 [==============================] - 0s 7ms/step - loss: 0.0214 - root_mean_squared_error: 0.1464 - val_loss: 0.0403 - val_root_mean_squared_error: 0.2008\n",
      "Epoch 4/100\n",
      "29/29 [==============================] - 0s 6ms/step - loss: 0.0191 - root_mean_squared_error: 0.1383 - val_loss: 0.0500 - val_root_mean_squared_error: 0.2236\n",
      "Epoch 5/100\n",
      "29/29 [==============================] - 0s 7ms/step - loss: 0.0185 - root_mean_squared_error: 0.1362 - val_loss: 0.0466 - val_root_mean_squared_error: 0.2158\n",
      "Epoch 6/100\n",
      "29/29 [==============================] - 0s 7ms/step - loss: 0.0175 - root_mean_squared_error: 0.1325 - val_loss: 0.0579 - val_root_mean_squared_error: 0.2407\n",
      "Epoch 7/100\n",
      "29/29 [==============================] - 0s 7ms/step - loss: 0.0143 - root_mean_squared_error: 0.1197 - val_loss: 0.0628 - val_root_mean_squared_error: 0.2505\n",
      "Epoch 8/100\n",
      "29/29 [==============================] - 0s 9ms/step - loss: 0.0138 - root_mean_squared_error: 0.1173 - val_loss: 0.0691 - val_root_mean_squared_error: 0.2629\n",
      "Epoch 9/100\n",
      "29/29 [==============================] - 0s 13ms/step - loss: 0.0124 - root_mean_squared_error: 0.1115 - val_loss: 0.0721 - val_root_mean_squared_error: 0.2684\n",
      "Epoch 10/100\n",
      "29/29 [==============================] - 0s 12ms/step - loss: 0.0128 - root_mean_squared_error: 0.1131 - val_loss: 0.0779 - val_root_mean_squared_error: 0.2791\n",
      "Epoch 11/100\n",
      "29/29 [==============================] - 0s 12ms/step - loss: 0.0108 - root_mean_squared_error: 0.1041 - val_loss: 0.0694 - val_root_mean_squared_error: 0.2634\n",
      "Epoch 12/100\n",
      "29/29 [==============================] - 0s 8ms/step - loss: 0.0109 - root_mean_squared_error: 0.1046 - val_loss: 0.0714 - val_root_mean_squared_error: 0.2673\n",
      "Epoch 13/100\n",
      "29/29 [==============================] - 0s 7ms/step - loss: 0.0097 - root_mean_squared_error: 0.0987 - val_loss: 0.0686 - val_root_mean_squared_error: 0.2619\n",
      "Epoch 14/100\n",
      "29/29 [==============================] - 0s 7ms/step - loss: 0.0099 - root_mean_squared_error: 0.0993 - val_loss: 0.0710 - val_root_mean_squared_error: 0.2664\n",
      "Epoch 15/100\n",
      "29/29 [==============================] - 0s 7ms/step - loss: 0.0102 - root_mean_squared_error: 0.1011 - val_loss: 0.0631 - val_root_mean_squared_error: 0.2511\n",
      "Epoch 16/100\n",
      "29/29 [==============================] - 0s 6ms/step - loss: 0.0087 - root_mean_squared_error: 0.0934 - val_loss: 0.0766 - val_root_mean_squared_error: 0.2767\n",
      "Epoch 17/100\n",
      "29/29 [==============================] - 0s 7ms/step - loss: 0.0095 - root_mean_squared_error: 0.0976 - val_loss: 0.0772 - val_root_mean_squared_error: 0.2778\n",
      "Epoch 18/100\n",
      "29/29 [==============================] - 0s 7ms/step - loss: 0.0092 - root_mean_squared_error: 0.0958 - val_loss: 0.0728 - val_root_mean_squared_error: 0.2699\n",
      "Epoch 19/100\n",
      "29/29 [==============================] - 0s 7ms/step - loss: 0.0086 - root_mean_squared_error: 0.0925 - val_loss: 0.0853 - val_root_mean_squared_error: 0.2920\n",
      "Epoch 20/100\n",
      "29/29 [==============================] - 0s 7ms/step - loss: 0.0090 - root_mean_squared_error: 0.0946 - val_loss: 0.0917 - val_root_mean_squared_error: 0.3029\n",
      "Epoch 21/100\n",
      "29/29 [==============================] - 0s 7ms/step - loss: 0.0091 - root_mean_squared_error: 0.0956 - val_loss: 0.0732 - val_root_mean_squared_error: 0.2706\n",
      "Epoch 22/100\n",
      "29/29 [==============================] - 0s 6ms/step - loss: 0.0090 - root_mean_squared_error: 0.0949 - val_loss: 0.0727 - val_root_mean_squared_error: 0.2697\n",
      "Epoch 23/100\n",
      "29/29 [==============================] - 0s 7ms/step - loss: 0.0080 - root_mean_squared_error: 0.0896 - val_loss: 0.0727 - val_root_mean_squared_error: 0.2695\n",
      "Epoch 24/100\n",
      "29/29 [==============================] - 0s 7ms/step - loss: 0.0086 - root_mean_squared_error: 0.0927 - val_loss: 0.0765 - val_root_mean_squared_error: 0.2765\n",
      "Epoch 25/100\n",
      "29/29 [==============================] - 0s 7ms/step - loss: 0.0081 - root_mean_squared_error: 0.0900 - val_loss: 0.0975 - val_root_mean_squared_error: 0.3123\n",
      "Epoch 26/100\n",
      "29/29 [==============================] - 0s 7ms/step - loss: 0.0082 - root_mean_squared_error: 0.0906 - val_loss: 0.0780 - val_root_mean_squared_error: 0.2793\n",
      "Epoch 27/100\n",
      "29/29 [==============================] - 0s 7ms/step - loss: 0.0073 - root_mean_squared_error: 0.0857 - val_loss: 0.0729 - val_root_mean_squared_error: 0.2700\n",
      "Epoch 28/100\n",
      "29/29 [==============================] - 0s 7ms/step - loss: 0.0076 - root_mean_squared_error: 0.0871 - val_loss: 0.0810 - val_root_mean_squared_error: 0.2846\n",
      "Epoch 29/100\n",
      "29/29 [==============================] - 0s 6ms/step - loss: 0.0075 - root_mean_squared_error: 0.0869 - val_loss: 0.0729 - val_root_mean_squared_error: 0.2700\n",
      "Epoch 30/100\n",
      "29/29 [==============================] - 0s 7ms/step - loss: 0.0083 - root_mean_squared_error: 0.0908 - val_loss: 0.0768 - val_root_mean_squared_error: 0.2772\n",
      "Epoch 31/100\n",
      "29/29 [==============================] - 0s 6ms/step - loss: 0.0067 - root_mean_squared_error: 0.0820 - val_loss: 0.0684 - val_root_mean_squared_error: 0.2615\n",
      "Epoch 32/100\n",
      "29/29 [==============================] - 0s 6ms/step - loss: 0.0072 - root_mean_squared_error: 0.0847 - val_loss: 0.0867 - val_root_mean_squared_error: 0.2945\n",
      "Epoch 33/100\n",
      "29/29 [==============================] - 0s 7ms/step - loss: 0.0069 - root_mean_squared_error: 0.0833 - val_loss: 0.0787 - val_root_mean_squared_error: 0.2806\n",
      "Epoch 34/100\n",
      "29/29 [==============================] - 0s 6ms/step - loss: 0.0072 - root_mean_squared_error: 0.0849 - val_loss: 0.1051 - val_root_mean_squared_error: 0.3242\n",
      "Epoch 35/100\n",
      "29/29 [==============================] - 0s 6ms/step - loss: 0.0068 - root_mean_squared_error: 0.0826 - val_loss: 0.0764 - val_root_mean_squared_error: 0.2764\n",
      "Epoch 36/100\n",
      "29/29 [==============================] - 0s 7ms/step - loss: 0.0072 - root_mean_squared_error: 0.0851 - val_loss: 0.0629 - val_root_mean_squared_error: 0.2507\n",
      "Epoch 37/100\n",
      "29/29 [==============================] - 0s 6ms/step - loss: 0.0074 - root_mean_squared_error: 0.0860 - val_loss: 0.0864 - val_root_mean_squared_error: 0.2939\n",
      "Epoch 38/100\n",
      "29/29 [==============================] - 0s 7ms/step - loss: 0.0063 - root_mean_squared_error: 0.0793 - val_loss: 0.0889 - val_root_mean_squared_error: 0.2982\n",
      "Epoch 39/100\n",
      "29/29 [==============================] - 0s 6ms/step - loss: 0.0073 - root_mean_squared_error: 0.0852 - val_loss: 0.0727 - val_root_mean_squared_error: 0.2697\n",
      "Epoch 40/100\n",
      "29/29 [==============================] - 0s 6ms/step - loss: 0.0069 - root_mean_squared_error: 0.0833 - val_loss: 0.0612 - val_root_mean_squared_error: 0.2475\n",
      "Epoch 41/100\n",
      "29/29 [==============================] - 0s 7ms/step - loss: 0.0073 - root_mean_squared_error: 0.0852 - val_loss: 0.0782 - val_root_mean_squared_error: 0.2796\n",
      "Epoch 42/100\n",
      "29/29 [==============================] - 0s 7ms/step - loss: 0.0066 - root_mean_squared_error: 0.0815 - val_loss: 0.0558 - val_root_mean_squared_error: 0.2362\n",
      "Epoch 43/100\n",
      "29/29 [==============================] - 0s 7ms/step - loss: 0.0065 - root_mean_squared_error: 0.0808 - val_loss: 0.0782 - val_root_mean_squared_error: 0.2796\n",
      "Epoch 44/100\n",
      "29/29 [==============================] - 0s 7ms/step - loss: 0.0065 - root_mean_squared_error: 0.0809 - val_loss: 0.0776 - val_root_mean_squared_error: 0.2786\n",
      "Epoch 45/100\n",
      "29/29 [==============================] - 0s 7ms/step - loss: 0.0063 - root_mean_squared_error: 0.0794 - val_loss: 0.0726 - val_root_mean_squared_error: 0.2695\n",
      "Epoch 46/100\n",
      "29/29 [==============================] - 0s 6ms/step - loss: 0.0060 - root_mean_squared_error: 0.0778 - val_loss: 0.0823 - val_root_mean_squared_error: 0.2870\n",
      "Epoch 47/100\n",
      "29/29 [==============================] - 0s 7ms/step - loss: 0.0069 - root_mean_squared_error: 0.0833 - val_loss: 0.0751 - val_root_mean_squared_error: 0.2740\n",
      "Epoch 48/100\n",
      "29/29 [==============================] - 0s 7ms/step - loss: 0.0063 - root_mean_squared_error: 0.0795 - val_loss: 0.0846 - val_root_mean_squared_error: 0.2908\n",
      "Epoch 49/100\n",
      "29/29 [==============================] - 0s 7ms/step - loss: 0.0064 - root_mean_squared_error: 0.0803 - val_loss: 0.0740 - val_root_mean_squared_error: 0.2721\n",
      "Epoch 50/100\n",
      "29/29 [==============================] - 0s 7ms/step - loss: 0.0060 - root_mean_squared_error: 0.0772 - val_loss: 0.0687 - val_root_mean_squared_error: 0.2621\n",
      "Epoch 51/100\n",
      "29/29 [==============================] - 0s 7ms/step - loss: 0.0061 - root_mean_squared_error: 0.0781 - val_loss: 0.0845 - val_root_mean_squared_error: 0.2906\n",
      "Epoch 52/100\n",
      "29/29 [==============================] - 0s 7ms/step - loss: 0.0053 - root_mean_squared_error: 0.0731 - val_loss: 0.0800 - val_root_mean_squared_error: 0.2828\n",
      "Epoch 53/100\n",
      "29/29 [==============================] - 0s 7ms/step - loss: 0.0057 - root_mean_squared_error: 0.0755 - val_loss: 0.0867 - val_root_mean_squared_error: 0.2944\n",
      "Epoch 54/100\n",
      "29/29 [==============================] - 0s 7ms/step - loss: 0.0053 - root_mean_squared_error: 0.0727 - val_loss: 0.0809 - val_root_mean_squared_error: 0.2844\n",
      "Epoch 55/100\n",
      "29/29 [==============================] - 0s 7ms/step - loss: 0.0056 - root_mean_squared_error: 0.0752 - val_loss: 0.1119 - val_root_mean_squared_error: 0.3345\n",
      "Epoch 56/100\n",
      "29/29 [==============================] - 0s 7ms/step - loss: 0.0053 - root_mean_squared_error: 0.0731 - val_loss: 0.0779 - val_root_mean_squared_error: 0.2791\n",
      "Epoch 57/100\n",
      "29/29 [==============================] - 0s 7ms/step - loss: 0.0055 - root_mean_squared_error: 0.0741 - val_loss: 0.0841 - val_root_mean_squared_error: 0.2900\n",
      "Epoch 58/100\n",
      "29/29 [==============================] - 0s 7ms/step - loss: 0.0056 - root_mean_squared_error: 0.0749 - val_loss: 0.0878 - val_root_mean_squared_error: 0.2962\n",
      "Epoch 59/100\n",
      "29/29 [==============================] - 0s 7ms/step - loss: 0.0054 - root_mean_squared_error: 0.0735 - val_loss: 0.0873 - val_root_mean_squared_error: 0.2954\n",
      "Epoch 60/100\n",
      "29/29 [==============================] - 0s 7ms/step - loss: 0.0058 - root_mean_squared_error: 0.0760 - val_loss: 0.0870 - val_root_mean_squared_error: 0.2949\n",
      "Epoch 61/100\n",
      "29/29 [==============================] - 0s 9ms/step - loss: 0.0052 - root_mean_squared_error: 0.0719 - val_loss: 0.0951 - val_root_mean_squared_error: 0.3084\n",
      "Epoch 62/100\n",
      "29/29 [==============================] - 0s 7ms/step - loss: 0.0060 - root_mean_squared_error: 0.0775 - val_loss: 0.0747 - val_root_mean_squared_error: 0.2734\n",
      "Epoch 63/100\n",
      "29/29 [==============================] - 0s 7ms/step - loss: 0.0057 - root_mean_squared_error: 0.0755 - val_loss: 0.0769 - val_root_mean_squared_error: 0.2772\n",
      "Epoch 64/100\n",
      "29/29 [==============================] - 0s 7ms/step - loss: 0.0056 - root_mean_squared_error: 0.0749 - val_loss: 0.0969 - val_root_mean_squared_error: 0.3112\n",
      "Epoch 65/100\n",
      "29/29 [==============================] - 0s 7ms/step - loss: 0.0052 - root_mean_squared_error: 0.0719 - val_loss: 0.0860 - val_root_mean_squared_error: 0.2932\n",
      "Epoch 66/100\n",
      "29/29 [==============================] - 0s 7ms/step - loss: 0.0050 - root_mean_squared_error: 0.0710 - val_loss: 0.0761 - val_root_mean_squared_error: 0.2759\n",
      "Epoch 67/100\n",
      "29/29 [==============================] - 0s 7ms/step - loss: 0.0048 - root_mean_squared_error: 0.0692 - val_loss: 0.0909 - val_root_mean_squared_error: 0.3014\n",
      "Epoch 68/100\n",
      "29/29 [==============================] - 0s 7ms/step - loss: 0.0049 - root_mean_squared_error: 0.0700 - val_loss: 0.0946 - val_root_mean_squared_error: 0.3076\n",
      "Epoch 69/100\n",
      "29/29 [==============================] - 0s 7ms/step - loss: 0.0049 - root_mean_squared_error: 0.0703 - val_loss: 0.0932 - val_root_mean_squared_error: 0.3052\n",
      "Epoch 70/100\n",
      "29/29 [==============================] - 0s 6ms/step - loss: 0.0051 - root_mean_squared_error: 0.0715 - val_loss: 0.0825 - val_root_mean_squared_error: 0.2873\n",
      "Epoch 71/100\n",
      "29/29 [==============================] - 0s 7ms/step - loss: 0.0050 - root_mean_squared_error: 0.0706 - val_loss: 0.0894 - val_root_mean_squared_error: 0.2990\n",
      "Epoch 72/100\n",
      "29/29 [==============================] - 0s 7ms/step - loss: 0.0055 - root_mean_squared_error: 0.0740 - val_loss: 0.0854 - val_root_mean_squared_error: 0.2923\n",
      "Epoch 73/100\n",
      "29/29 [==============================] - 0s 7ms/step - loss: 0.0048 - root_mean_squared_error: 0.0693 - val_loss: 0.0789 - val_root_mean_squared_error: 0.2808\n",
      "Epoch 74/100\n",
      "29/29 [==============================] - 0s 7ms/step - loss: 0.0048 - root_mean_squared_error: 0.0693 - val_loss: 0.1009 - val_root_mean_squared_error: 0.3177\n",
      "Epoch 75/100\n",
      "29/29 [==============================] - 0s 7ms/step - loss: 0.0049 - root_mean_squared_error: 0.0700 - val_loss: 0.0835 - val_root_mean_squared_error: 0.2890\n",
      "Epoch 76/100\n",
      "29/29 [==============================] - 0s 6ms/step - loss: 0.0049 - root_mean_squared_error: 0.0703 - val_loss: 0.0855 - val_root_mean_squared_error: 0.2925\n",
      "Epoch 77/100\n",
      "29/29 [==============================] - 0s 7ms/step - loss: 0.0053 - root_mean_squared_error: 0.0725 - val_loss: 0.0981 - val_root_mean_squared_error: 0.3133\n",
      "Epoch 78/100\n",
      "29/29 [==============================] - 0s 7ms/step - loss: 0.0051 - root_mean_squared_error: 0.0711 - val_loss: 0.0960 - val_root_mean_squared_error: 0.3098\n",
      "Epoch 79/100\n",
      "29/29 [==============================] - 0s 7ms/step - loss: 0.0049 - root_mean_squared_error: 0.0699 - val_loss: 0.1000 - val_root_mean_squared_error: 0.3163\n",
      "Epoch 80/100\n",
      "29/29 [==============================] - 0s 7ms/step - loss: 0.0045 - root_mean_squared_error: 0.0673 - val_loss: 0.0967 - val_root_mean_squared_error: 0.3109\n",
      "Epoch 81/100\n",
      "29/29 [==============================] - 0s 7ms/step - loss: 0.0043 - root_mean_squared_error: 0.0658 - val_loss: 0.0869 - val_root_mean_squared_error: 0.2947\n",
      "Epoch 82/100\n",
      "29/29 [==============================] - 0s 7ms/step - loss: 0.0044 - root_mean_squared_error: 0.0661 - val_loss: 0.1023 - val_root_mean_squared_error: 0.3199\n",
      "Epoch 83/100\n",
      "29/29 [==============================] - 0s 7ms/step - loss: 0.0043 - root_mean_squared_error: 0.0655 - val_loss: 0.0932 - val_root_mean_squared_error: 0.3053\n",
      "Epoch 84/100\n",
      "29/29 [==============================] - 0s 7ms/step - loss: 0.0044 - root_mean_squared_error: 0.0660 - val_loss: 0.0969 - val_root_mean_squared_error: 0.3113\n",
      "Epoch 85/100\n",
      "29/29 [==============================] - 0s 7ms/step - loss: 0.0044 - root_mean_squared_error: 0.0662 - val_loss: 0.1058 - val_root_mean_squared_error: 0.3253\n",
      "Epoch 86/100\n",
      "29/29 [==============================] - 0s 7ms/step - loss: 0.0039 - root_mean_squared_error: 0.0626 - val_loss: 0.0963 - val_root_mean_squared_error: 0.3103\n",
      "Epoch 87/100\n",
      "29/29 [==============================] - 0s 7ms/step - loss: 0.0038 - root_mean_squared_error: 0.0619 - val_loss: 0.0868 - val_root_mean_squared_error: 0.2946\n",
      "Epoch 88/100\n",
      "29/29 [==============================] - 0s 7ms/step - loss: 0.0040 - root_mean_squared_error: 0.0633 - val_loss: 0.0902 - val_root_mean_squared_error: 0.3003\n",
      "Epoch 89/100\n",
      "29/29 [==============================] - 0s 7ms/step - loss: 0.0044 - root_mean_squared_error: 0.0660 - val_loss: 0.0873 - val_root_mean_squared_error: 0.2954\n",
      "Epoch 90/100\n",
      "29/29 [==============================] - 0s 7ms/step - loss: 0.0044 - root_mean_squared_error: 0.0660 - val_loss: 0.0824 - val_root_mean_squared_error: 0.2870\n",
      "Epoch 91/100\n",
      "29/29 [==============================] - 0s 7ms/step - loss: 0.0040 - root_mean_squared_error: 0.0631 - val_loss: 0.0998 - val_root_mean_squared_error: 0.3160\n",
      "Epoch 92/100\n",
      "29/29 [==============================] - 0s 7ms/step - loss: 0.0039 - root_mean_squared_error: 0.0623 - val_loss: 0.0888 - val_root_mean_squared_error: 0.2980\n",
      "Epoch 93/100\n",
      "29/29 [==============================] - 0s 7ms/step - loss: 0.0040 - root_mean_squared_error: 0.0634 - val_loss: 0.0872 - val_root_mean_squared_error: 0.2953\n",
      "Epoch 94/100\n",
      "29/29 [==============================] - 0s 7ms/step - loss: 0.0036 - root_mean_squared_error: 0.0600 - val_loss: 0.0946 - val_root_mean_squared_error: 0.3075\n",
      "Epoch 95/100\n",
      "29/29 [==============================] - 0s 7ms/step - loss: 0.0034 - root_mean_squared_error: 0.0580 - val_loss: 0.0920 - val_root_mean_squared_error: 0.3034\n",
      "Epoch 96/100\n",
      "29/29 [==============================] - 0s 7ms/step - loss: 0.0039 - root_mean_squared_error: 0.0622 - val_loss: 0.0702 - val_root_mean_squared_error: 0.2649\n",
      "Epoch 97/100\n",
      "29/29 [==============================] - 0s 7ms/step - loss: 0.0039 - root_mean_squared_error: 0.0625 - val_loss: 0.0930 - val_root_mean_squared_error: 0.3050\n",
      "Epoch 98/100\n",
      "29/29 [==============================] - 0s 7ms/step - loss: 0.0039 - root_mean_squared_error: 0.0622 - val_loss: 0.0704 - val_root_mean_squared_error: 0.2653\n",
      "Epoch 99/100\n",
      "29/29 [==============================] - 0s 7ms/step - loss: 0.0038 - root_mean_squared_error: 0.0615 - val_loss: 0.0978 - val_root_mean_squared_error: 0.3128\n",
      "Epoch 100/100\n",
      "29/29 [==============================] - 0s 7ms/step - loss: 0.0038 - root_mean_squared_error: 0.0619 - val_loss: 0.0773 - val_root_mean_squared_error: 0.2780\n"
     ]
    }
   ],
   "source": [
    "BATCH_SIZE = 32\n",
    "EPOCHS = 100\n",
    "\n",
    "model_simple_RNN = get_simple_RNN(input_shape = X_train.shape)\n",
    "history_simple_RNN = model_simple_RNN.fit(\n",
    "    X_train, \n",
    "    y_train, \n",
    "    epochs = EPOCHS, \n",
    "    batch_size = BATCH_SIZE,\n",
    "    validation_split = 0.25\n",
    ")"
   ]
  },
  {
   "cell_type": "markdown",
   "metadata": {},
   "source": [
    "## Model Comparision"
   ]
  },
  {
   "cell_type": "code",
   "execution_count": 101,
   "metadata": {
    "execution": {
     "iopub.execute_input": "2022-09-18T15:08:49.951266Z",
     "iopub.status.busy": "2022-09-18T15:08:49.950886Z",
     "iopub.status.idle": "2022-09-18T15:08:50.377184Z",
     "shell.execute_reply": "2022-09-18T15:08:50.376350Z",
     "shell.execute_reply.started": "2022-09-18T15:08:49.951211Z"
    }
   },
   "outputs": [
    {
     "data": {
      "text/plain": [
       "<matplotlib.legend.Legend at 0x7ff9783b8890>"
      ]
     },
     "execution_count": 101,
     "metadata": {},
     "output_type": "execute_result"
    },
    {
     "data": {
      "image/png": "[encoded data removed]",
      "text/plain": [
       "<Figure size 1440x432 with 2 Axes>"
      ]
     },
     "metadata": {
      "needs_background": "light"
     },
     "output_type": "display_data"
    }
   ],
   "source": [
    "fig, axes = plt.subplots(1,2,figsize=(20,6), sharey = True)\n",
    "plt.title(\"LSTM vs Simple RNN\")\n",
    "ax1 , ax2 = axes\n",
    " \n",
    "ax1.plot(history_lstm.history['loss'])\n",
    "ax1.plot(history_lstm.history['val_loss'])\n",
    "ax1.set_title('LSTM')\n",
    "ax1.set_ylabel('loss')\n",
    "ax1.set_xlabel('epoch')\n",
    "ax1.grid()\n",
    "ax1.legend(['train', 'validation'], loc='upper left')\n",
    "\n",
    "ax2.plot(history_simple_RNN.history['loss'])\n",
    "ax2.plot(history_simple_RNN.history['val_loss'])\n",
    "ax2.set_title('simple_RNN')\n",
    "ax2.set_ylabel('loss')\n",
    "ax2.set_xlabel('epoch')\n",
    "ax2.grid()\n",
    "ax2.legend(['train', 'validation'], loc='upper left')\n"
   ]
  },
  {
   "cell_type": "markdown",
   "metadata": {},
   "source": [
    "## Conclusion\n",
    "* RNN reaches an extremely low RMSE of 0.01 at 30 epochs but then starts to overfit the training set, causing it to increase it's overall loss.\n",
    "* Future experiments of the dataset must involve a callback function to stop training at such instances.\n",
    "* On the other hand, Simple RNN performs much poor and stabilised at a loss of 0.1 after 20 epochs.\n",
    "* This is probably caused by a mixture of a being too simple of an architecture to understand dataset and vanishing gradients causing it to not be able to learn anything new."
   ]
  },
  {
   "cell_type": "markdown",
   "metadata": {
    "id": "uc7eD3O9S_lB"
   },
   "source": [
    "## Predictions for 2017"
   ]
  },
  {
   "cell_type": "markdown",
   "metadata": {},
   "source": [
    "### Importing Test Data"
   ]
  },
  {
   "cell_type": "code",
   "execution_count": 88,
   "metadata": {
    "execution": {
     "iopub.execute_input": "2022-09-18T14:51:50.172121Z",
     "iopub.status.busy": "2022-09-18T14:51:50.171815Z",
     "iopub.status.idle": "2022-09-18T14:51:50.190643Z",
     "shell.execute_reply": "2022-09-18T14:51:50.189765Z",
     "shell.execute_reply.started": "2022-09-18T14:51:50.172091Z"
    },
    "id": "IM82dwYPTBeu"
   },
   "outputs": [],
   "source": [
    "dataset_test= pd.read_csv('../input/google-stock-price/Google_Stock_Price_Test.csv')\n",
    "real_stock_price = dataset_test.iloc[:,1:2].values"
   ]
  },
  {
   "cell_type": "code",
   "execution_count": 151,
   "metadata": {
    "execution": {
     "iopub.execute_input": "2022-09-18T15:32:28.053882Z",
     "iopub.status.busy": "2022-09-18T15:32:28.053582Z",
     "iopub.status.idle": "2022-09-18T15:32:28.060090Z",
     "shell.execute_reply": "2022-09-18T15:32:28.059187Z",
     "shell.execute_reply.started": "2022-09-18T15:32:28.053853Z"
    }
   },
   "outputs": [
    {
     "data": {
      "text/plain": [
       "(20, 6)"
      ]
     },
     "execution_count": 151,
     "metadata": {},
     "output_type": "execute_result"
    }
   ],
   "source": [
    "dataset_test.shape"
   ]
  },
  {
   "cell_type": "markdown",
   "metadata": {},
   "source": [
    "* RNN Needs data for last 50 days, but we have only 20 rows of data\n",
    "* We need to append last 50 rows of data from testing set to make final predictions"
   ]
  },
  {
   "cell_type": "markdown",
   "metadata": {},
   "source": [
    "### Data Pre-Processing\n",
    "* append historic data of last 50 days from train-set\n",
    "* same pre-processing has to be applied.\n",
    "* Pipelines would be a more sophisticated way of doing it in future to avoid mistakes"
   ]
  },
  {
   "cell_type": "code",
   "execution_count": 153,
   "metadata": {
    "execution": {
     "iopub.execute_input": "2022-09-18T15:35:00.130401Z",
     "iopub.status.busy": "2022-09-18T15:35:00.129900Z",
     "iopub.status.idle": "2022-09-18T15:35:00.137222Z",
     "shell.execute_reply": "2022-09-18T15:35:00.136474Z",
     "shell.execute_reply.started": "2022-09-18T15:35:00.130344Z"
    },
    "id": "fNIEOngyUCeb"
   },
   "outputs": [],
   "source": [
    "dataset_total = pd.concat((dataset_train['Open'],dataset_test['Open']), axis=0)\n",
    "testing_data = dataset_total[ len(dataset_total) - len(dataset_test) - 50:].values\n",
    "testing_data = testing_data.reshape(-1,1)\n",
    "\n",
    "## use the same scaler as training data but only use transform\n",
    "testing_data = scaler.transform(testing_data)"
   ]
  },
  {
   "cell_type": "code",
   "execution_count": 157,
   "metadata": {
    "execution": {
     "iopub.execute_input": "2022-09-18T15:35:23.887700Z",
     "iopub.status.busy": "2022-09-18T15:35:23.887400Z",
     "iopub.status.idle": "2022-09-18T15:35:23.893289Z",
     "shell.execute_reply": "2022-09-18T15:35:23.892487Z",
     "shell.execute_reply.started": "2022-09-18T15:35:23.887670Z"
    }
   },
   "outputs": [
    {
     "data": {
      "text/plain": [
       "(70, 1)"
      ]
     },
     "execution_count": 157,
     "metadata": {},
     "output_type": "execute_result"
    }
   ],
   "source": [
    "testing_data.shape"
   ]
  },
  {
   "cell_type": "markdown",
   "metadata": {},
   "source": [
    "### Get Data"
   ]
  },
  {
   "cell_type": "code",
   "execution_count": 154,
   "metadata": {
    "execution": {
     "iopub.execute_input": "2022-09-18T15:35:05.590422Z",
     "iopub.status.busy": "2022-09-18T15:35:05.589527Z",
     "iopub.status.idle": "2022-09-18T15:35:05.594400Z",
     "shell.execute_reply": "2022-09-18T15:35:05.593707Z",
     "shell.execute_reply.started": "2022-09-18T15:35:05.590374Z"
    }
   },
   "outputs": [],
   "source": [
    "## call function created earlier but we dont have y_values so use _\n",
    "X_test,_ = get_training_data(t = 50 , data = testing_data , ndim = 1, train = False)"
   ]
  },
  {
   "cell_type": "code",
   "execution_count": 155,
   "metadata": {
    "execution": {
     "iopub.execute_input": "2022-09-18T15:35:06.154543Z",
     "iopub.status.busy": "2022-09-18T15:35:06.154197Z",
     "iopub.status.idle": "2022-09-18T15:35:06.160687Z",
     "shell.execute_reply": "2022-09-18T15:35:06.159732Z",
     "shell.execute_reply.started": "2022-09-18T15:35:06.154507Z"
    }
   },
   "outputs": [
    {
     "data": {
      "text/plain": [
       "(20, 1, 50)"
      ]
     },
     "execution_count": 155,
     "metadata": {},
     "output_type": "execute_result"
    }
   ],
   "source": [
    "X_test.shape"
   ]
  },
  {
   "cell_type": "markdown",
   "metadata": {},
   "source": [
    "### Make Predictions"
   ]
  },
  {
   "cell_type": "markdown",
   "metadata": {},
   "source": [
    "#### LSTM"
   ]
  },
  {
   "cell_type": "code",
   "execution_count": 158,
   "metadata": {
    "execution": {
     "iopub.execute_input": "2022-09-18T15:35:30.060807Z",
     "iopub.status.busy": "2022-09-18T15:35:30.060096Z",
     "iopub.status.idle": "2022-09-18T15:35:30.128389Z",
     "shell.execute_reply": "2022-09-18T15:35:30.127382Z",
     "shell.execute_reply.started": "2022-09-18T15:35:30.060770Z"
    }
   },
   "outputs": [],
   "source": [
    "lstm_preds = model_lstm.predict(X_test)\n",
    "lstm_preds = np.reshape(lstm_preds,newshape=(lstm_preds.shape[0],1))"
   ]
  },
  {
   "cell_type": "code",
   "execution_count": 159,
   "metadata": {
    "execution": {
     "iopub.execute_input": "2022-09-18T15:35:30.636185Z",
     "iopub.status.busy": "2022-09-18T15:35:30.635571Z",
     "iopub.status.idle": "2022-09-18T15:35:30.640066Z",
     "shell.execute_reply": "2022-09-18T15:35:30.639462Z",
     "shell.execute_reply.started": "2022-09-18T15:35:30.636146Z"
    }
   },
   "outputs": [],
   "source": [
    "lstm_preds = scaler.inverse_transform(lstm_preds)"
   ]
  },
  {
   "cell_type": "code",
   "execution_count": 160,
   "metadata": {
    "execution": {
     "iopub.execute_input": "2022-09-18T15:35:31.359452Z",
     "iopub.status.busy": "2022-09-18T15:35:31.358842Z",
     "iopub.status.idle": "2022-09-18T15:35:31.365191Z",
     "shell.execute_reply": "2022-09-18T15:35:31.364346Z",
     "shell.execute_reply.started": "2022-09-18T15:35:31.359412Z"
    }
   },
   "outputs": [
    {
     "data": {
      "text/plain": [
       "array([[639.9247 ],\n",
       "       [639.5506 ],\n",
       "       [640.04675],\n",
       "       [640.1728 ],\n",
       "       [640.0118 ],\n",
       "       [640.8425 ],\n",
       "       [641.2663 ],\n",
       "       [641.6863 ],\n",
       "       [642.12427],\n",
       "       [642.15857],\n",
       "       [641.8784 ],\n",
       "       [642.0103 ],\n",
       "       [642.1812 ],\n",
       "       [642.3937 ],\n",
       "       [642.772  ],\n",
       "       [643.20337],\n",
       "       [643.3115 ],\n",
       "       [643.63635],\n",
       "       [643.7805 ],\n",
       "       [643.9517 ]], dtype=float32)"
      ]
     },
     "execution_count": 160,
     "metadata": {},
     "output_type": "execute_result"
    }
   ],
   "source": [
    "lstm_preds"
   ]
  },
  {
   "cell_type": "markdown",
   "metadata": {},
   "source": [
    "#### Simple RNN"
   ]
  },
  {
   "cell_type": "code",
   "execution_count": 161,
   "metadata": {
    "execution": {
     "iopub.execute_input": "2022-09-18T15:35:36.977215Z",
     "iopub.status.busy": "2022-09-18T15:35:36.976105Z",
     "iopub.status.idle": "2022-09-18T15:35:37.039606Z",
     "shell.execute_reply": "2022-09-18T15:35:37.038702Z",
     "shell.execute_reply.started": "2022-09-18T15:35:36.977152Z"
    }
   },
   "outputs": [],
   "source": [
    "rnn_preds = model_simple_RNN.predict(X_test)\n",
    "rnn_preds = np.reshape(rnn_preds,newshape=(rnn_preds.shape[0],1))"
   ]
  },
  {
   "cell_type": "code",
   "execution_count": 162,
   "metadata": {
    "execution": {
     "iopub.execute_input": "2022-09-18T15:35:37.633751Z",
     "iopub.status.busy": "2022-09-18T15:35:37.633085Z",
     "iopub.status.idle": "2022-09-18T15:35:37.638653Z",
     "shell.execute_reply": "2022-09-18T15:35:37.637690Z",
     "shell.execute_reply.started": "2022-09-18T15:35:37.633708Z"
    }
   },
   "outputs": [],
   "source": [
    "rnn_preds = scaler.inverse_transform(rnn_preds)"
   ]
  },
  {
   "cell_type": "markdown",
   "metadata": {
    "id": "SVPcdnJkVVOK"
   },
   "source": [
    "### Visualizing the Results"
   ]
  },
  {
   "cell_type": "code",
   "execution_count": 163,
   "metadata": {
    "execution": {
     "iopub.execute_input": "2022-09-18T15:35:38.918671Z",
     "iopub.status.busy": "2022-09-18T15:35:38.918307Z",
     "iopub.status.idle": "2022-09-18T15:35:39.173327Z",
     "shell.execute_reply": "2022-09-18T15:35:39.172624Z",
     "shell.execute_reply.started": "2022-09-18T15:35:38.918637Z"
    },
    "id": "PKIEzxj9VQ_c",
    "outputId": "0c4deb65-d765-4bf7-bef8-2bf6dc7cf9ca"
   },
   "outputs": [
    {
     "data": {
      "image/png": "[encoded data removed]",
      "text/plain": [
       "<Figure size 432x288 with 1 Axes>"
      ]
     },
     "metadata": {
      "needs_background": "light"
     },
     "output_type": "display_data"
    }
   ],
   "source": [
    "plt.plot(real_stock_price,color='red', label='Actual Stock Price')\n",
    "plt.plot(lstm_preds,color='blue', label='LSTM Predicted Stock Price')\n",
    "plt.plot(rnn_preds,color='green', label='RNN Predicted Stock Price')\n",
    "plt.title('Google Stock Price Prediction')\n",
    "plt.xlabel('Time')\n",
    "plt.ylabel('Google Stock Price')\n",
    "plt.legend()\n",
    "plt.ylim(0,1000)\n",
    "plt.grid()\n",
    "plt.show()"
   ]
  },
  {
   "cell_type": "markdown",
   "metadata": {},
   "source": [
    "* Results are not very accurate\n",
    "* Due to Lack of Features"
   ]
  },
  {
   "cell_type": "markdown",
   "metadata": {},
   "source": []
  }
 ],
 "metadata": {
  "kernelspec": {
   "display_name": "Python 3 (ipykernel)",
   "language": "python",
   "name": "python3"
  },
  "language_info": {
   "codemirror_mode": {
    "name": "ipython",
    "version": 3
   },
   "file_extension": ".py",
   "mimetype": "text/x-python",
   "name": "python",
   "nbconvert_exporter": "python",
   "pygments_lexer": "ipython3",
   "version": "3.9.7"
  }
 },
 "nbformat": 4,
 "nbformat_minor": 4
}
