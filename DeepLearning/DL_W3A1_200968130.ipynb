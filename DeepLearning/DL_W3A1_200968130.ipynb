{
  "nbformat": 4,
  "nbformat_minor": 0,
  "metadata": {
    "colab": {
      "provenance": [],
      "collapsed_sections": [
        "wrRsZP1IOPbn"
      ]
    },
    "kernelspec": {
      "name": "python3",
      "display_name": "Python 3"
    },
    "language_info": {
      "name": "python"
    },
    "accelerator": "GPU",
    "gpuClass": "standard"
  },
  "cells": [
    {
      "cell_type": "code",
      "source": [],
      "metadata": {
        "id": "3pDyTflCh-QN"
      },
      "execution_count": null,
      "outputs": []
    },
    {
      "cell_type": "markdown",
      "source": [
        "# Importing Libraries"
      ],
      "metadata": {
        "id": "7QonpsjjLUyD"
      }
    },
    {
      "cell_type": "code",
      "execution_count": null,
      "metadata": {
        "id": "EWJUy35HP2bw"
      },
      "outputs": [],
      "source": [
        "import pandas as pd\n",
        "import tensorflow as tf\n",
        "import numpy as np\n",
        "import seaborn as sns\n",
        "import matplotlib.pyplot as plt\n",
        "import keras\n",
        "import os"
      ]
    },
    {
      "cell_type": "markdown",
      "source": [
        "# MNIST Dataset"
      ],
      "metadata": {
        "id": "kNHiQat1LsOL"
      }
    },
    {
      "cell_type": "markdown",
      "source": [
        "## Importing Dataset"
      ],
      "metadata": {
        "id": "_lzLSoROLiQv"
      }
    },
    {
      "cell_type": "code",
      "source": [
        "trainset, testset = keras.datasets.mnist.load_data()\n",
        "X_train, y_train = trainset\n",
        "X_test , y_test = testset"
      ],
      "metadata": {
        "id": "_Hji2OTESybH",
        "colab": {
          "base_uri": "https://localhost:8080/"
        },
        "outputId": "d13ac671-ee8f-4e9e-8b6b-97245cf5f0e5"
      },
      "execution_count": null,
      "outputs": [
        {
          "output_type": "stream",
          "name": "stdout",
          "text": [
            "Downloading data from https://storage.googleapis.com/tensorflow/tf-keras-datasets/mnist.npz\n",
            "11493376/11490434 [==============================] - 0s 0us/step\n",
            "11501568/11490434 [==============================] - 0s 0us/step\n"
          ]
        }
      ]
    },
    {
      "cell_type": "markdown",
      "source": [
        "## Exploratory Data Analysis"
      ],
      "metadata": {
        "id": "6MRbYcT8LmZl"
      }
    },
    {
      "cell_type": "code",
      "source": [
        "print(\"X_train_shape {0}\".format(X_train.shape))\n",
        "print(\"y_train shape {0}\".format(y_train.shape))\n",
        "print(\"X_test shape {0}\".format(X_test.shape))\n",
        "print(\"y_test shape {0}\".format(y_test.shape))"
      ],
      "metadata": {
        "colab": {
          "base_uri": "https://localhost:8080/"
        },
        "id": "LH7v1fmSS6H3",
        "outputId": "0d15d933-c151-4917-df81-764fe85dbb46"
      },
      "execution_count": null,
      "outputs": [
        {
          "output_type": "stream",
          "name": "stdout",
          "text": [
            "X_train_shape (60000, 28, 28)\n",
            "y_train shape (60000,)\n",
            "X_test shape (10000, 28, 28)\n",
            "y_test shape (10000,)\n"
          ]
        }
      ]
    },
    {
      "cell_type": "code",
      "source": [
        "import random\n",
        "%matplotlib inline\n",
        "\n",
        "def plot_dataset(data_X = None, data_Y = None ,rows=3,cols=3, train= True):\n",
        "    fig, axes = plt.subplots(rows,cols,figsize = (rows**2,cols**2))\n",
        "\n",
        "    if train:\n",
        "        fig.suptitle(\"------TRAIN-SET-------\")\n",
        "    else:\n",
        "        fig.suptitle(\"------TESTING-SET-------\")\n",
        "    for i in range(rows):\n",
        "        for j in range(cols):\n",
        "            ax = axes[i][j]\n",
        "            ind = random.randint(0,data_X.shape[0])\n",
        "            ax.imshow(data_X[ind],cmap='gray')\n",
        "            ax.set_title(data_Y[ind], fontsize = 20)"
      ],
      "metadata": {
        "id": "jPxryOVdS7Ye"
      },
      "execution_count": null,
      "outputs": []
    },
    {
      "cell_type": "markdown",
      "source": [
        "### Plotting Train Dataset"
      ],
      "metadata": {
        "id": "eBm9MCu3L4QV"
      }
    },
    {
      "cell_type": "code",
      "source": [
        "plot_dataset(X_train, y_train, 3,3)"
      ],
      "metadata": {
        "colab": {
          "base_uri": "https://localhost:8080/",
          "height": 602
        },
        "id": "WEqI3I-QVP-k",
        "outputId": "68ce4315-2b26-4156-a6e6-8be6854f594b"
      },
      "execution_count": null,
      "outputs": [
        {
          "output_type": "display_data",
          "data": {
            "text/plain": [
              "<Figure size 648x648 with 9 Axes>"
            ],
            "image/png": "[encoded data removed]"
          },
          "metadata": {
            "needs_background": "light"
          }
        }
      ]
    },
    {
      "cell_type": "markdown",
      "source": [
        "### Plotting Test Dataset"
      ],
      "metadata": {
        "id": "BFa4lGcJL9DG"
      }
    },
    {
      "cell_type": "code",
      "source": [
        "plot_dataset(X_test, y_test, 2,2, False)"
      ],
      "metadata": {
        "colab": {
          "base_uri": "https://localhost:8080/",
          "height": 294
        },
        "id": "RvyyquwBWncN",
        "outputId": "7e00acb6-5d78-4ed5-f3ab-8378099ce909"
      },
      "execution_count": null,
      "outputs": [
        {
          "output_type": "display_data",
          "data": {
            "text/plain": [
              "<Figure size 288x288 with 4 Axes>"
            ],
            "image/png": "[encoded data removed]"
          },
          "metadata": {
            "needs_background": "light"
          }
        }
      ]
    },
    {
      "cell_type": "markdown",
      "source": [
        "## Model Architectures"
      ],
      "metadata": {
        "id": "bMpUE810MD6a"
      }
    },
    {
      "cell_type": "markdown",
      "source": [
        "### Model Architecture 1 "
      ],
      "metadata": {
        "id": "USdE6c_BMGsx"
      }
    },
    {
      "cell_type": "code",
      "source": [
        "def get_model_32(input_shape = (28,28,1)):\n",
        "    \n",
        "    model = keras.models.Sequential([\n",
        "\n",
        "        ## Convolution Layer 1 \n",
        "        keras.layers.Input(input_shape),\n",
        "        keras.layers.Conv2D(\n",
        "                            filters=32,\n",
        "                            kernel_size=(5,5),\n",
        "                            strides=(1,1),\n",
        "                            padding='valid',\n",
        "                            activation='relu'),\n",
        "        ## Max Pooling Layer 1\n",
        "        keras.layers.MaxPool2D(\n",
        "                                pool_size=(2, 2),\n",
        "                               strides=(2,2),\n",
        "                               padding='valid'),\n",
        "        \n",
        "        \n",
        "        ## Flatten\n",
        "        keras.layers.Flatten(),\n",
        "        \n",
        "        ## Dense Layer (100 Units)\n",
        "        keras.layers.Dense(units=100,\n",
        "                           activation='relu'),\n",
        "        \n",
        "        ## Final Output\n",
        "        keras.layers.Dense(units=10,\n",
        "        activation='softmax')\n",
        "\n",
        "    ])\n",
        "    \n",
        "    model.compile(optimizer='adam',\n",
        "              loss='sparse_categorical_crossentropy',\n",
        "              metrics=['accuracy'])\n",
        "    \n",
        "    return model"
      ],
      "metadata": {
        "id": "kwBh0o3DXds9"
      },
      "execution_count": null,
      "outputs": []
    },
    {
      "cell_type": "code",
      "source": [
        "model_32 = get_model_32()\n",
        "model_32.summary()"
      ],
      "metadata": {
        "colab": {
          "base_uri": "https://localhost:8080/"
        },
        "id": "mK-4F24da77O",
        "outputId": "7995dd0b-53fa-4e73-e8f0-8127d25dfd7d"
      },
      "execution_count": null,
      "outputs": [
        {
          "output_type": "stream",
          "name": "stdout",
          "text": [
            "Model: \"sequential\"\n",
            "_________________________________________________________________\n",
            " Layer (type)                Output Shape              Param #   \n",
            "=================================================================\n",
            " conv2d (Conv2D)             (None, 24, 24, 32)        832       \n",
            "                                                                 \n",
            " max_pooling2d (MaxPooling2D  (None, 12, 12, 32)       0         \n",
            " )                                                               \n",
            "                                                                 \n",
            " flatten (Flatten)           (None, 4608)              0         \n",
            "                                                                 \n",
            " dense (Dense)               (None, 100)               460900    \n",
            "                                                                 \n",
            " dense_1 (Dense)             (None, 10)                1010      \n",
            "                                                                 \n",
            "=================================================================\n",
            "Total params: 462,742\n",
            "Trainable params: 462,742\n",
            "Non-trainable params: 0\n",
            "_________________________________________________________________\n"
          ]
        }
      ]
    },
    {
      "cell_type": "markdown",
      "source": [
        "### Model Architecture 2"
      ],
      "metadata": {
        "id": "7K1VBUE3MQv2"
      }
    },
    {
      "cell_type": "code",
      "source": [
        "def get_model_32_32(input_shape = (28,28,1)):\n",
        "    \n",
        "    model = keras.models.Sequential([\n",
        "\n",
        "        ## input shape\n",
        "        keras.layers.Input(input_shape),\n",
        "\n",
        "        ## Convolution 1 (32 Filters)\n",
        "        keras.layers.Conv2D(\n",
        "                            filters=32,\n",
        "                            kernel_size=(3,3),\n",
        "                            strides=(1,1),\n",
        "                            padding='valid',\n",
        "                            activation='relu'),\n",
        "        ## Max Pooling Layer 1\n",
        "        keras.layers.MaxPool2D(\n",
        "                                pool_size=(2, 2),\n",
        "                               strides=(2,2),\n",
        "                               padding='valid'),\n",
        "\n",
        "\n",
        "        ## Convolution 2 (32 Filters)\n",
        "        keras.layers.Conv2D(\n",
        "                            filters=32,\n",
        "                            kernel_size=(3,3),\n",
        "                            strides=(1,1),\n",
        "                            padding='valid',\n",
        "                            activation='relu'),\n",
        "\n",
        "        ## Max Pooling Layer 2\n",
        "        keras.layers.MaxPool2D(\n",
        "                                pool_size=(2, 2),\n",
        "                               strides=(2,2),\n",
        "                               padding='valid'),\n",
        "        \n",
        "\n",
        "        ## Flatten Output\n",
        "        keras.layers.Flatten(),\n",
        "\n",
        "        ## Dense Layer (100 Units)\n",
        "        keras.layers.Dense(units=100,\n",
        "                           activation='relu'),\n",
        "        \n",
        "        ## Final Output Layer\n",
        "        keras.layers.Dense(units=10,\n",
        "                            activation='softmax')\n",
        "\n",
        "    ])\n",
        "\n",
        "    model.compile(optimizer='adamax',\n",
        "              loss='sparse_categorical_crossentropy',\n",
        "              metrics=['accuracy'])\n",
        "    \n",
        "    return model"
      ],
      "metadata": {
        "id": "r2mYFj7Hh8Br"
      },
      "execution_count": null,
      "outputs": []
    },
    {
      "cell_type": "code",
      "source": [
        "model_32_32 = get_model_32_32()\n",
        "model_32_32.summary()"
      ],
      "metadata": {
        "colab": {
          "base_uri": "https://localhost:8080/"
        },
        "id": "hq89_9k6jSmm",
        "outputId": "b7338a20-db26-4a30-8df6-a173c41a3651"
      },
      "execution_count": null,
      "outputs": [
        {
          "output_type": "stream",
          "name": "stdout",
          "text": [
            "Model: \"sequential_1\"\n",
            "_________________________________________________________________\n",
            " Layer (type)                Output Shape              Param #   \n",
            "=================================================================\n",
            " conv2d_1 (Conv2D)           (None, 26, 26, 32)        320       \n",
            "                                                                 \n",
            " max_pooling2d_1 (MaxPooling  (None, 13, 13, 32)       0         \n",
            " 2D)                                                             \n",
            "                                                                 \n",
            " conv2d_2 (Conv2D)           (None, 11, 11, 32)        9248      \n",
            "                                                                 \n",
            " max_pooling2d_2 (MaxPooling  (None, 5, 5, 32)         0         \n",
            " 2D)                                                             \n",
            "                                                                 \n",
            " flatten_1 (Flatten)         (None, 800)               0         \n",
            "                                                                 \n",
            " dense_2 (Dense)             (None, 100)               80100     \n",
            "                                                                 \n",
            " dense_3 (Dense)             (None, 10)                1010      \n",
            "                                                                 \n",
            "=================================================================\n",
            "Total params: 90,678\n",
            "Trainable params: 90,678\n",
            "Non-trainable params: 0\n",
            "_________________________________________________________________\n"
          ]
        }
      ]
    },
    {
      "cell_type": "markdown",
      "source": [
        "### Model Architecture 3"
      ],
      "metadata": {
        "id": "Abh7XOS6M-v4"
      }
    },
    {
      "cell_type": "code",
      "source": [
        "def get_model_Le_net(input_shape = (28,28,1)):\n",
        "    \n",
        "    model = keras.models.Sequential([\n",
        "        ## Input Shape\n",
        "        keras.layers.Input(input_shape),\n",
        "\n",
        "        ## Convolution Layer 1\n",
        "        keras.layers.Conv2D(\n",
        "                            filters=6,\n",
        "                            kernel_size=(5,5),\n",
        "                            strides=(1,1),\n",
        "                            padding='same',\n",
        "                            activation='tanh'),\n",
        "\n",
        "        ## Max Pooling\n",
        "        keras.layers.MaxPool2D(\n",
        "                                pool_size=(2, 2),\n",
        "                               strides=(2,2),\n",
        "                               padding='same'),\n",
        "\n",
        "        ## Convolution Layer 2\n",
        "        keras.layers.Conv2D(\n",
        "                            filters=16,\n",
        "                            kernel_size=(5,5),\n",
        "                            strides=(1,1),\n",
        "                            padding='same',\n",
        "                            activation='tanh'),\n",
        "\n",
        "        ## Max Pooling Layer 3\n",
        "        keras.layers.MaxPool2D(\n",
        "                                pool_size=(2, 2),\n",
        "                               strides=(2,2),\n",
        "                               padding='same'),\n",
        "        \n",
        "\n",
        "        keras.layers.Flatten(),\n",
        "\n",
        "        keras.layers.Dense(units=120,\n",
        "                           activation='sigmoid'),\n",
        "        keras.layers.Dense(units=64,\n",
        "                           activation='sigmoid'),\n",
        "        \n",
        "        keras.layers.Dense(units=10,\n",
        "        activation='softmax')\n",
        "\n",
        "    ])\n",
        "\n",
        "    model.compile(optimizer='adamax',\n",
        "              loss='sparse_categorical_crossentropy',\n",
        "              metrics=['accuracy'])\n",
        "    \n",
        "    return model"
      ],
      "metadata": {
        "id": "euGn1HQOjvLF"
      },
      "execution_count": null,
      "outputs": []
    },
    {
      "cell_type": "code",
      "source": [
        "model_Le_net = get_model_Le_net()\n",
        "model_Le_net.summary()"
      ],
      "metadata": {
        "colab": {
          "base_uri": "https://localhost:8080/"
        },
        "id": "UF5tUmJImjLk",
        "outputId": "3a599cc7-ed1a-4010-e8e5-d0b893daa564"
      },
      "execution_count": null,
      "outputs": [
        {
          "output_type": "stream",
          "name": "stdout",
          "text": [
            "Model: \"sequential_2\"\n",
            "_________________________________________________________________\n",
            " Layer (type)                Output Shape              Param #   \n",
            "=================================================================\n",
            " conv2d_3 (Conv2D)           (None, 28, 28, 6)         156       \n",
            "                                                                 \n",
            " max_pooling2d_3 (MaxPooling  (None, 14, 14, 6)        0         \n",
            " 2D)                                                             \n",
            "                                                                 \n",
            " conv2d_4 (Conv2D)           (None, 14, 14, 16)        2416      \n",
            "                                                                 \n",
            " max_pooling2d_4 (MaxPooling  (None, 7, 7, 16)         0         \n",
            " 2D)                                                             \n",
            "                                                                 \n",
            " flatten_2 (Flatten)         (None, 784)               0         \n",
            "                                                                 \n",
            " dense_4 (Dense)             (None, 120)               94200     \n",
            "                                                                 \n",
            " dense_5 (Dense)             (None, 64)                7744      \n",
            "                                                                 \n",
            " dense_6 (Dense)             (None, 10)                650       \n",
            "                                                                 \n",
            "=================================================================\n",
            "Total params: 105,166\n",
            "Trainable params: 105,166\n",
            "Non-trainable params: 0\n",
            "_________________________________________________________________\n"
          ]
        }
      ]
    },
    {
      "cell_type": "markdown",
      "source": [
        "## Model Training"
      ],
      "metadata": {
        "id": "LExvNuaCMxcX"
      }
    },
    {
      "cell_type": "markdown",
      "source": [
        "### Model Architecture 1"
      ],
      "metadata": {
        "id": "-hM57UQKM21g"
      }
    },
    {
      "cell_type": "code",
      "source": [
        "batch_size = 64\n",
        "epochs = 10\n",
        "\n",
        "history_32 = model_32.fit(X_train,y_train,\n",
        "                          batch_size=batch_size,\n",
        "                          epochs=epochs, \n",
        "                          validation_split=0.2,\n",
        "                          shuffle=True)"
      ],
      "metadata": {
        "colab": {
          "base_uri": "https://localhost:8080/"
        },
        "id": "cTnwtXDDbI3b",
        "outputId": "25445e61-288e-41f2-e1a9-558394dfcf34"
      },
      "execution_count": null,
      "outputs": [
        {
          "output_type": "stream",
          "name": "stdout",
          "text": [
            "Epoch 1/10\n",
            "750/750 [==============================] - 14s 4ms/step - loss: 0.7501 - accuracy: 0.9274 - val_loss: 0.1213 - val_accuracy: 0.9679\n",
            "Epoch 2/10\n",
            "750/750 [==============================] - 3s 4ms/step - loss: 0.0746 - accuracy: 0.9774 - val_loss: 0.0923 - val_accuracy: 0.9755\n",
            "Epoch 3/10\n",
            "750/750 [==============================] - 4s 5ms/step - loss: 0.0484 - accuracy: 0.9857 - val_loss: 0.0963 - val_accuracy: 0.9732\n",
            "Epoch 4/10\n",
            "750/750 [==============================] - 4s 6ms/step - loss: 0.0343 - accuracy: 0.9891 - val_loss: 0.0825 - val_accuracy: 0.9805\n",
            "Epoch 5/10\n",
            "750/750 [==============================] - 4s 5ms/step - loss: 0.0336 - accuracy: 0.9893 - val_loss: 0.1016 - val_accuracy: 0.9787\n",
            "Epoch 6/10\n",
            "750/750 [==============================] - 3s 4ms/step - loss: 0.0306 - accuracy: 0.9905 - val_loss: 0.0861 - val_accuracy: 0.9793\n",
            "Epoch 7/10\n",
            "750/750 [==============================] - 3s 4ms/step - loss: 0.0312 - accuracy: 0.9910 - val_loss: 0.0920 - val_accuracy: 0.9805\n",
            "Epoch 8/10\n",
            "750/750 [==============================] - 2s 3ms/step - loss: 0.0259 - accuracy: 0.9921 - val_loss: 0.1277 - val_accuracy: 0.9733\n",
            "Epoch 9/10\n",
            "750/750 [==============================] - 3s 4ms/step - loss: 0.0268 - accuracy: 0.9923 - val_loss: 0.1151 - val_accuracy: 0.9772\n",
            "Epoch 10/10\n",
            "750/750 [==============================] - 2s 3ms/step - loss: 0.0220 - accuracy: 0.9934 - val_loss: 0.1366 - val_accuracy: 0.9776\n"
          ]
        }
      ]
    },
    {
      "cell_type": "markdown",
      "source": [
        "### Model Architecture 2"
      ],
      "metadata": {
        "id": "O7ixZh0WOKeT"
      }
    },
    {
      "cell_type": "code",
      "source": [
        "batch_size = 64\n",
        "epochs = 10\n",
        "\n",
        "history_32_32 = model_32_32.fit(X_train,y_train,\n",
        "                          batch_size=batch_size,\n",
        "                          epochs=epochs, \n",
        "                          validation_split=0.2,\n",
        "                          shuffle=True)"
      ],
      "metadata": {
        "colab": {
          "base_uri": "https://localhost:8080/"
        },
        "id": "9v8xse1XjlJ-",
        "outputId": "fdc07585-46a6-42d9-ec95-9119bddf978d"
      },
      "execution_count": null,
      "outputs": [
        {
          "output_type": "stream",
          "name": "stdout",
          "text": [
            "Epoch 1/10\n",
            "750/750 [==============================] - 4s 4ms/step - loss: 0.7627 - accuracy: 0.8852 - val_loss: 0.1975 - val_accuracy: 0.9477\n",
            "Epoch 2/10\n",
            "750/750 [==============================] - 3s 3ms/step - loss: 0.1675 - accuracy: 0.9551 - val_loss: 0.1286 - val_accuracy: 0.9643\n",
            "Epoch 3/10\n",
            "750/750 [==============================] - 3s 4ms/step - loss: 0.1063 - accuracy: 0.9692 - val_loss: 0.0955 - val_accuracy: 0.9730\n",
            "Epoch 4/10\n",
            "750/750 [==============================] - 3s 4ms/step - loss: 0.0734 - accuracy: 0.9781 - val_loss: 0.0877 - val_accuracy: 0.9773\n",
            "Epoch 5/10\n",
            "750/750 [==============================] - 3s 4ms/step - loss: 0.0558 - accuracy: 0.9829 - val_loss: 0.0745 - val_accuracy: 0.9812\n",
            "Epoch 6/10\n",
            "750/750 [==============================] - 3s 4ms/step - loss: 0.0396 - accuracy: 0.9876 - val_loss: 0.0718 - val_accuracy: 0.9810\n",
            "Epoch 7/10\n",
            "750/750 [==============================] - 4s 5ms/step - loss: 0.0283 - accuracy: 0.9908 - val_loss: 0.0744 - val_accuracy: 0.9811\n",
            "Epoch 8/10\n",
            "750/750 [==============================] - 3s 3ms/step - loss: 0.0215 - accuracy: 0.9931 - val_loss: 0.0702 - val_accuracy: 0.9830\n",
            "Epoch 9/10\n",
            "750/750 [==============================] - 3s 4ms/step - loss: 0.0152 - accuracy: 0.9951 - val_loss: 0.0666 - val_accuracy: 0.9844\n",
            "Epoch 10/10\n",
            "750/750 [==============================] - 3s 4ms/step - loss: 0.0116 - accuracy: 0.9963 - val_loss: 0.0662 - val_accuracy: 0.9841\n"
          ]
        }
      ]
    },
    {
      "cell_type": "markdown",
      "source": [
        "### Model Architecture 3"
      ],
      "metadata": {
        "id": "99t14QePONjB"
      }
    },
    {
      "cell_type": "code",
      "source": [
        "batch_size = 64\n",
        "epochs = 10\n",
        "\n",
        "history_Le_net = model_Le_net.fit(X_train,y_train,\n",
        "                          batch_size=batch_size,\n",
        "                          epochs=epochs, \n",
        "                          validation_split=0.2,\n",
        "                          shuffle=True)"
      ],
      "metadata": {
        "colab": {
          "base_uri": "https://localhost:8080/"
        },
        "id": "UXjx0OAMmqlk",
        "outputId": "ee9415c8-4caa-4b91-f4df-ce1276c4a017"
      },
      "execution_count": null,
      "outputs": [
        {
          "output_type": "stream",
          "name": "stdout",
          "text": [
            "Epoch 1/10\n",
            "750/750 [==============================] - 4s 4ms/step - loss: 0.8028 - accuracy: 0.8385 - val_loss: 0.2567 - val_accuracy: 0.9456\n",
            "Epoch 2/10\n",
            "750/750 [==============================] - 3s 4ms/step - loss: 0.1925 - accuracy: 0.9526 - val_loss: 0.1329 - val_accuracy: 0.9643\n",
            "Epoch 3/10\n",
            "750/750 [==============================] - 3s 4ms/step - loss: 0.1197 - accuracy: 0.9677 - val_loss: 0.0982 - val_accuracy: 0.9733\n",
            "Epoch 4/10\n",
            "750/750 [==============================] - 3s 4ms/step - loss: 0.0914 - accuracy: 0.9744 - val_loss: 0.0815 - val_accuracy: 0.9773\n",
            "Epoch 5/10\n",
            "750/750 [==============================] - 3s 4ms/step - loss: 0.0747 - accuracy: 0.9787 - val_loss: 0.0718 - val_accuracy: 0.9796\n",
            "Epoch 6/10\n",
            "750/750 [==============================] - 4s 5ms/step - loss: 0.0632 - accuracy: 0.9822 - val_loss: 0.0665 - val_accuracy: 0.9800\n",
            "Epoch 7/10\n",
            "750/750 [==============================] - 3s 5ms/step - loss: 0.0543 - accuracy: 0.9850 - val_loss: 0.0639 - val_accuracy: 0.9809\n",
            "Epoch 8/10\n",
            "750/750 [==============================] - 3s 4ms/step - loss: 0.0481 - accuracy: 0.9866 - val_loss: 0.0616 - val_accuracy: 0.9812\n",
            "Epoch 9/10\n",
            "750/750 [==============================] - 3s 4ms/step - loss: 0.0416 - accuracy: 0.9888 - val_loss: 0.0592 - val_accuracy: 0.9827\n",
            "Epoch 10/10\n",
            "750/750 [==============================] - 5s 6ms/step - loss: 0.0372 - accuracy: 0.9902 - val_loss: 0.0580 - val_accuracy: 0.9825\n"
          ]
        }
      ]
    },
    {
      "cell_type": "markdown",
      "source": [
        "## Saving Models"
      ],
      "metadata": {
        "id": "i0wfqGYzTjyJ"
      }
    },
    {
      "cell_type": "code",
      "source": [
        "import os\n",
        "\n",
        "path = '/content/MNIST_models_cp'\n",
        "os.mkdir(path)\n",
        "\n",
        "## model 1\n",
        "path_mdl = os.path.join(path,'model_32.h5')\n",
        "path_wts = os.path.join(path,'model_32wts.h5')\n",
        "\n",
        "model_32.save(path_mdl)\n",
        "model_32.save_weights(path_wts)\n",
        "\n",
        "## model 2\n",
        "path_mdl = os.path.join(path,'model_32_32.h5')\n",
        "path_wts = os.path.join(path,'model_32_32wts.h5')\n",
        "\n",
        "model_32_32.save(path_mdl)\n",
        "model_32_32.save_weights(path_wts)\n",
        "\n",
        "## model 3\n",
        "path_mdl = os.path.join(path,'model_LeNet.h5')\n",
        "path_wts = os.path.join(path,'model_LeNetwts.h5')\n",
        "\n",
        "model_Le_net.save(path_mdl)\n",
        "model_Le_net.save_weights(path_wts)"
      ],
      "metadata": {
        "id": "lX-OQpFtTjF9"
      },
      "execution_count": null,
      "outputs": []
    },
    {
      "cell_type": "markdown",
      "source": [
        "# CIFAR Dataset"
      ],
      "metadata": {
        "id": "wrRsZP1IOPbn"
      }
    },
    {
      "cell_type": "markdown",
      "source": [
        "## Importing Dataset"
      ],
      "metadata": {
        "id": "hQ5OhMyvP2j4"
      }
    },
    {
      "cell_type": "code",
      "source": [
        "cifar_ds = keras.datasets.cifar10.load_data()"
      ],
      "metadata": {
        "colab": {
          "base_uri": "https://localhost:8080/"
        },
        "id": "BU5vl6pym0R8",
        "outputId": "8927f91b-d5c4-4e70-de06-a1e899842466"
      },
      "execution_count": null,
      "outputs": [
        {
          "output_type": "stream",
          "name": "stdout",
          "text": [
            "Downloading data from https://www.cs.toronto.edu/~kriz/cifar-10-python.tar.gz\n",
            "170500096/170498071 [==============================] - 13s 0us/step\n",
            "170508288/170498071 [==============================] - 13s 0us/step\n"
          ]
        }
      ]
    },
    {
      "cell_type": "code",
      "source": [
        "train_cifar, test_cifar = cifar_ds"
      ],
      "metadata": {
        "id": "tVQ1zVEOo_mM"
      },
      "execution_count": null,
      "outputs": []
    },
    {
      "cell_type": "code",
      "source": [
        "X_train_cifar, y_train_cifar = train_cifar\n",
        "X_test_cifar, y_test_cifar = test_cifar"
      ],
      "metadata": {
        "id": "GqsUZlSbpH3k"
      },
      "execution_count": null,
      "outputs": []
    },
    {
      "cell_type": "code",
      "source": [
        "print(\"X_train_shape {0}\".format(X_train_cifar.shape))\n",
        "print(\"y_train shape {0}\".format(y_train_cifar.shape))\n",
        "print(\"X_test shape {0}\".format(X_test_cifar.shape))\n",
        "print(\"y_test shape {0}\".format(y_test_cifar.shape))"
      ],
      "metadata": {
        "colab": {
          "base_uri": "https://localhost:8080/"
        },
        "id": "zSXmL0tzpkPe",
        "outputId": "fbe367ed-009e-47b6-effe-c090ca1ca64b"
      },
      "execution_count": null,
      "outputs": [
        {
          "output_type": "stream",
          "name": "stdout",
          "text": [
            "X_train_shape (50000, 32, 32, 3)\n",
            "y_train shape (50000, 1)\n",
            "X_test shape (10000, 32, 32, 3)\n",
            "y_test shape (10000, 1)\n"
          ]
        }
      ]
    },
    {
      "cell_type": "markdown",
      "source": [
        "## Exploratory Data Analysis"
      ],
      "metadata": {
        "id": "eC7BL21VP6W1"
      }
    },
    {
      "cell_type": "markdown",
      "source": [
        "### Training Dataset"
      ],
      "metadata": {
        "id": "E7U-jzhyQABX"
      }
    },
    {
      "cell_type": "code",
      "source": [
        "plot_dataset(X_train_cifar, y_train_cifar, 3,3)"
      ],
      "metadata": {
        "colab": {
          "base_uri": "https://localhost:8080/",
          "height": 658
        },
        "id": "3v4jCCwTcCmn",
        "outputId": "72ce2d16-01c1-4085-ab97-ae9f2b0a171a"
      },
      "execution_count": null,
      "outputs": [
        {
          "output_type": "stream",
          "name": "stderr",
          "text": [
            "/usr/local/lib/python3.7/dist-packages/matplotlib/text.py:1165: FutureWarning: elementwise comparison failed; returning scalar instead, but in the future will perform elementwise comparison\n",
            "  if s != self._text:\n"
          ]
        },
        {
          "output_type": "display_data",
          "data": {
            "text/plain": [
              "<Figure size 648x648 with 9 Axes>"
            ],
            "image/png": "[encoded data removed]"
          },
          "metadata": {
            "needs_background": "light"
          }
        }
      ]
    },
    {
      "cell_type": "markdown",
      "source": [
        "### Testing Dataset"
      ],
      "metadata": {
        "id": "QtTMYR_8QCWb"
      }
    },
    {
      "cell_type": "code",
      "source": [
        "plot_dataset(X_test_cifar,y_test_cifar,3,3, False)"
      ],
      "metadata": {
        "colab": {
          "base_uri": "https://localhost:8080/",
          "height": 658
        },
        "id": "JmWyWK3lcZcs",
        "outputId": "017b9421-55aa-449d-878c-3a15f1a0da74"
      },
      "execution_count": null,
      "outputs": [
        {
          "output_type": "stream",
          "name": "stderr",
          "text": [
            "/usr/local/lib/python3.7/dist-packages/matplotlib/text.py:1165: FutureWarning: elementwise comparison failed; returning scalar instead, but in the future will perform elementwise comparison\n",
            "  if s != self._text:\n"
          ]
        },
        {
          "output_type": "display_data",
          "data": {
            "text/plain": [
              "<Figure size 648x648 with 9 Axes>"
            ],
            "image/png": "[encoded data removed]"
          },
          "metadata": {
            "needs_background": "light"
          }
        }
      ]
    },
    {
      "cell_type": "markdown",
      "source": [
        "## Model Architecture 1"
      ],
      "metadata": {
        "id": "d144em5jQE1Z"
      }
    },
    {
      "cell_type": "code",
      "source": [
        "model_32_cifar = get_model_32(input_shape = (32,32,3))\n",
        "model_32_cifar.summary()"
      ],
      "metadata": {
        "colab": {
          "base_uri": "https://localhost:8080/"
        },
        "id": "wCfEcFGQprxk",
        "outputId": "bd6fae76-41b8-4ef2-cbb7-6db1181c7e6d"
      },
      "execution_count": null,
      "outputs": [
        {
          "output_type": "stream",
          "name": "stdout",
          "text": [
            "Model: \"sequential_3\"\n",
            "_________________________________________________________________\n",
            " Layer (type)                Output Shape              Param #   \n",
            "=================================================================\n",
            " conv2d_5 (Conv2D)           (None, 28, 28, 32)        2432      \n",
            "                                                                 \n",
            " max_pooling2d_5 (MaxPooling  (None, 14, 14, 32)       0         \n",
            " 2D)                                                             \n",
            "                                                                 \n",
            " flatten_3 (Flatten)         (None, 6272)              0         \n",
            "                                                                 \n",
            " dense_7 (Dense)             (None, 100)               627300    \n",
            "                                                                 \n",
            " dense_8 (Dense)             (None, 10)                1010      \n",
            "                                                                 \n",
            "=================================================================\n",
            "Total params: 630,742\n",
            "Trainable params: 630,742\n",
            "Non-trainable params: 0\n",
            "_________________________________________________________________\n"
          ]
        }
      ]
    },
    {
      "cell_type": "markdown",
      "source": [
        "## Model Training 1"
      ],
      "metadata": {
        "id": "vwnulw2eQ2dG"
      }
    },
    {
      "cell_type": "code",
      "source": [
        "history_32_cifar = batch_size = 64\n",
        "epochs = 10\n",
        "\n",
        "history_32_cifar = model_32_cifar.fit(X_train_cifar,y_train_cifar,\n",
        "                          batch_size=batch_size,\n",
        "                          epochs=epochs, \n",
        "                          validation_split=0.2,\n",
        "                          shuffle=True)"
      ],
      "metadata": {
        "colab": {
          "base_uri": "https://localhost:8080/"
        },
        "id": "OdlZ-AFMqe6t",
        "outputId": "319bf80b-4ecb-4b6d-ebcd-0f1fc61becde"
      },
      "execution_count": null,
      "outputs": [
        {
          "output_type": "stream",
          "name": "stdout",
          "text": [
            "Epoch 1/10\n",
            "625/625 [==============================] - 3s 4ms/step - loss: 6.5272 - accuracy: 0.2246 - val_loss: 1.9570 - val_accuracy: 0.2842\n",
            "Epoch 2/10\n",
            "625/625 [==============================] - 2s 3ms/step - loss: 1.7647 - accuracy: 0.3654 - val_loss: 1.7892 - val_accuracy: 0.3641\n",
            "Epoch 3/10\n",
            "625/625 [==============================] - 2s 3ms/step - loss: 1.5699 - accuracy: 0.4375 - val_loss: 1.6733 - val_accuracy: 0.4128\n",
            "Epoch 4/10\n",
            "625/625 [==============================] - 2s 4ms/step - loss: 1.4076 - accuracy: 0.4979 - val_loss: 1.6797 - val_accuracy: 0.4186\n",
            "Epoch 5/10\n",
            "625/625 [==============================] - 3s 5ms/step - loss: 1.2736 - accuracy: 0.5470 - val_loss: 1.7327 - val_accuracy: 0.4270\n",
            "Epoch 6/10\n",
            "625/625 [==============================] - 2s 4ms/step - loss: 1.1424 - accuracy: 0.5935 - val_loss: 1.8759 - val_accuracy: 0.4201\n",
            "Epoch 7/10\n",
            "625/625 [==============================] - 2s 3ms/step - loss: 1.0244 - accuracy: 0.6377 - val_loss: 1.9983 - val_accuracy: 0.4066\n",
            "Epoch 8/10\n",
            "625/625 [==============================] - 2s 4ms/step - loss: 0.9206 - accuracy: 0.6755 - val_loss: 2.0344 - val_accuracy: 0.4278\n",
            "Epoch 9/10\n",
            "625/625 [==============================] - 2s 4ms/step - loss: 0.8204 - accuracy: 0.7088 - val_loss: 2.1303 - val_accuracy: 0.4258\n",
            "Epoch 10/10\n",
            "625/625 [==============================] - 2s 3ms/step - loss: 0.7420 - accuracy: 0.7408 - val_loss: 2.4782 - val_accuracy: 0.4243\n"
          ]
        }
      ]
    },
    {
      "cell_type": "markdown",
      "source": [
        "## Model History"
      ],
      "metadata": {
        "id": "a6m1OnRpQ-20"
      }
    },
    {
      "cell_type": "code",
      "source": [
        "plt.plot(history_32_cifar.history['accuracy'])\n",
        "plt.plot(history_32_cifar.history['val_accuracy'])\n",
        "plt.title('model accuracy')\n",
        "plt.ylabel('accuracy')\n",
        "plt.xlabel('epoch')\n",
        "plt.legend(['train', 'test'], loc='upper left')\n",
        "plt.grid()\n",
        "plt.show()"
      ],
      "metadata": {
        "id": "C1t-aYgvRFVn",
        "outputId": "9293c973-3341-4a86-f302-0837649eb5b1",
        "colab": {
          "base_uri": "https://localhost:8080/",
          "height": 295
        }
      },
      "execution_count": null,
      "outputs": [
        {
          "output_type": "display_data",
          "data": {
            "text/plain": [
              "<Figure size 432x288 with 1 Axes>"
            ],
            "image/png": "[encoded data removed]"
          },
          "metadata": {
            "needs_background": "light"
          }
        }
      ]
    },
    {
      "cell_type": "markdown",
      "source": [
        "> Clearly the model ended up horribly Overfitting.  \n",
        "> To combat this issue, I add a Dropout Layer after every convolution in further archtitectures.\n",
        "\n",
        "\n",
        "\n",
        "\n",
        "\n"
      ],
      "metadata": {
        "id": "Epas7iEPRFpY"
      }
    },
    {
      "cell_type": "markdown",
      "source": [
        "## Model Architecture 1.1\n",
        " > Adding Dropout Layers.  \n",
        " > Adding Batch Normalization"
      ],
      "metadata": {
        "id": "e8-KnFTOW9AF"
      }
    },
    {
      "cell_type": "code",
      "source": [
        "def get_model_32(input_shape = (28,28,1)):\n",
        "    \n",
        "    model = keras.models.Sequential([\n",
        "\n",
        "        ## Input Shape\n",
        "        keras.layers.Input(input_shape),\n",
        "\n",
        "        ## Convolution 1\n",
        "        keras.layers.Conv2D(\n",
        "                            filters=32,\n",
        "                            kernel_size=(5,5),\n",
        "                            strides=(1,1),\n",
        "                            padding='valid',\n",
        "                            activation='relu'),\n",
        "\n",
        "        ## Dropout 1\n",
        "        keras.layers.Dropout(0.25),\n",
        "        keras.layers.BatchNormalization(),\n",
        "        ## Pooling 1\n",
        "        keras.layers.MaxPool2D(\n",
        "                                pool_size=(2, 2),\n",
        "                               strides=(2,2),\n",
        "                               padding='valid'),\n",
        "        \n",
        "        ## Flatten\n",
        "        keras.layers.Flatten(),\n",
        "\n",
        "        ## Dense\n",
        "        keras.layers.Dense(units=100,\n",
        "                           activation='relu'),\n",
        "        ## Output\n",
        "        keras.layers.Dense(units=10,\n",
        "        activation='softmax')\n",
        "\n",
        "    ])\n",
        "\n",
        "    model.compile(optimizer='adam',\n",
        "              loss='sparse_categorical_crossentropy',\n",
        "              metrics=['accuracy'])\n",
        "    \n",
        "    return model"
      ],
      "metadata": {
        "id": "HOCk-eTjq_Z8"
      },
      "execution_count": null,
      "outputs": []
    },
    {
      "cell_type": "code",
      "source": [
        "model_32_cifar_2 = get_model_32(input_shape = (32,32,3))\n",
        "model_32_cifar_2.summary()"
      ],
      "metadata": {
        "colab": {
          "base_uri": "https://localhost:8080/"
        },
        "id": "9a4J2PDcs44U",
        "outputId": "ebe42c27-d273-4b12-9846-9faaa96602b9"
      },
      "execution_count": null,
      "outputs": [
        {
          "output_type": "stream",
          "name": "stdout",
          "text": [
            "Model: \"sequential_4\"\n",
            "_________________________________________________________________\n",
            " Layer (type)                Output Shape              Param #   \n",
            "=================================================================\n",
            " conv2d_6 (Conv2D)           (None, 28, 28, 32)        2432      \n",
            "                                                                 \n",
            " dropout (Dropout)           (None, 28, 28, 32)        0         \n",
            "                                                                 \n",
            " batch_normalization (BatchN  (None, 28, 28, 32)       128       \n",
            " ormalization)                                                   \n",
            "                                                                 \n",
            " max_pooling2d_6 (MaxPooling  (None, 14, 14, 32)       0         \n",
            " 2D)                                                             \n",
            "                                                                 \n",
            " flatten_4 (Flatten)         (None, 6272)              0         \n",
            "                                                                 \n",
            " dense_9 (Dense)             (None, 100)               627300    \n",
            "                                                                 \n",
            " dense_10 (Dense)            (None, 10)                1010      \n",
            "                                                                 \n",
            "=================================================================\n",
            "Total params: 630,870\n",
            "Trainable params: 630,806\n",
            "Non-trainable params: 64\n",
            "_________________________________________________________________\n"
          ]
        }
      ]
    },
    {
      "cell_type": "markdown",
      "source": [
        "## Model Training"
      ],
      "metadata": {
        "id": "spkTFgaUXgO5"
      }
    },
    {
      "cell_type": "code",
      "source": [
        "history_32_cifar_2 = batch_size = 64\n",
        "epochs = 10\n",
        "\n",
        "history_32_cifar_2 = model_32_cifar_2.fit(X_train_cifar,y_train_cifar,\n",
        "                          batch_size=batch_size,\n",
        "                          epochs=epochs, \n",
        "                          validation_split=0.2,\n",
        "                          shuffle=True)"
      ],
      "metadata": {
        "colab": {
          "base_uri": "https://localhost:8080/"
        },
        "id": "vfRpxqyGtIf7",
        "outputId": "53721434-c163-4bdd-f255-a9d141c3771d"
      },
      "execution_count": null,
      "outputs": [
        {
          "output_type": "stream",
          "name": "stdout",
          "text": [
            "Epoch 1/10\n",
            "625/625 [==============================] - 4s 5ms/step - loss: 1.5556 - accuracy: 0.4561 - val_loss: 1.3978 - val_accuracy: 0.5151\n",
            "Epoch 2/10\n",
            "625/625 [==============================] - 3s 4ms/step - loss: 1.1492 - accuracy: 0.5953 - val_loss: 1.2415 - val_accuracy: 0.5640\n",
            "Epoch 3/10\n",
            "625/625 [==============================] - 3s 4ms/step - loss: 0.9883 - accuracy: 0.6538 - val_loss: 1.3566 - val_accuracy: 0.5470\n",
            "Epoch 4/10\n",
            "625/625 [==============================] - 3s 4ms/step - loss: 0.8792 - accuracy: 0.6923 - val_loss: 1.2794 - val_accuracy: 0.5764\n",
            "Epoch 5/10\n",
            "625/625 [==============================] - 3s 5ms/step - loss: 0.7819 - accuracy: 0.7276 - val_loss: 1.3805 - val_accuracy: 0.5768\n",
            "Epoch 6/10\n",
            "625/625 [==============================] - 2s 4ms/step - loss: 0.7029 - accuracy: 0.7535 - val_loss: 1.3876 - val_accuracy: 0.5875\n",
            "Epoch 7/10\n",
            "625/625 [==============================] - 2s 4ms/step - loss: 0.6257 - accuracy: 0.7797 - val_loss: 1.3480 - val_accuracy: 0.5960\n",
            "Epoch 8/10\n",
            "625/625 [==============================] - 2s 4ms/step - loss: 0.5496 - accuracy: 0.8079 - val_loss: 1.8601 - val_accuracy: 0.5508\n",
            "Epoch 9/10\n",
            "625/625 [==============================] - 2s 4ms/step - loss: 0.4955 - accuracy: 0.8259 - val_loss: 1.6592 - val_accuracy: 0.5435\n",
            "Epoch 10/10\n",
            "625/625 [==============================] - 3s 4ms/step - loss: 0.4424 - accuracy: 0.8435 - val_loss: 1.6951 - val_accuracy: 0.5982\n"
          ]
        }
      ]
    },
    {
      "cell_type": "markdown",
      "source": [
        "## Model Architecture 2.1"
      ],
      "metadata": {
        "id": "vGIlEXAoXl-M"
      }
    },
    {
      "cell_type": "code",
      "source": [
        "def get_model_32_32(input_shape = (28,28,1)):\n",
        "    \n",
        "    model = keras.models.Sequential([\n",
        "        \n",
        "\n",
        "        keras.layers.Input(input_shape),\n",
        "        keras.layers.Conv2D(\n",
        "                            filters=32,\n",
        "                            kernel_size=(3,3),\n",
        "                            strides=(1,1),\n",
        "                            padding='valid',\n",
        "                            activation='relu'),\n",
        "        keras.layers.MaxPool2D(\n",
        "                                pool_size=(2, 2),\n",
        "                               strides=(2,2),\n",
        "                               padding='valid'),\n",
        "        keras.layers.Dropout(0.25),\n",
        "        keras.layers.BatchNormalization(),    \n",
        "\n",
        "        keras.layers.Conv2D(\n",
        "                            filters=32,\n",
        "                            kernel_size=(3,3),\n",
        "                            strides=(1,1),\n",
        "                            padding='valid',\n",
        "                            activation='relu'),\n",
        "        keras.layers.MaxPool2D(\n",
        "                                pool_size=(2, 2),\n",
        "                               strides=(2,2),\n",
        "                               padding='valid'),\n",
        "        keras.layers.Dropout(0.25),\n",
        "        keras.layers.BatchNormalization(), \n",
        "        \n",
        "\n",
        "        keras.layers.Flatten(),\n",
        "\n",
        "        keras.layers.Dense(units=100,\n",
        "                           activation='relu'),\n",
        "        \n",
        "        keras.layers.Dense(units=10,\n",
        "        activation='softmax')\n",
        "\n",
        "    ])\n",
        "\n",
        "    model.compile(optimizer='adamax',\n",
        "              loss='sparse_categorical_crossentropy',\n",
        "              metrics=['accuracy'])\n",
        "    \n",
        "    return model"
      ],
      "metadata": {
        "id": "ALScXFoxtorq"
      },
      "execution_count": null,
      "outputs": []
    },
    {
      "cell_type": "code",
      "source": [
        "model_32_32_cifar = get_model_32_32(input_shape = (32,32,3))\n",
        "model_32_32_cifar.summary()"
      ],
      "metadata": {
        "colab": {
          "base_uri": "https://localhost:8080/"
        },
        "id": "eptpd7-LwNgj",
        "outputId": "4a41b285-b4a1-41bb-a7ee-7a37b999d7ed"
      },
      "execution_count": null,
      "outputs": [
        {
          "output_type": "stream",
          "name": "stdout",
          "text": [
            "Model: \"sequential_5\"\n",
            "_________________________________________________________________\n",
            " Layer (type)                Output Shape              Param #   \n",
            "=================================================================\n",
            " conv2d_7 (Conv2D)           (None, 30, 30, 32)        896       \n",
            "                                                                 \n",
            " max_pooling2d_7 (MaxPooling  (None, 15, 15, 32)       0         \n",
            " 2D)                                                             \n",
            "                                                                 \n",
            " conv2d_8 (Conv2D)           (None, 13, 13, 32)        9248      \n",
            "                                                                 \n",
            " max_pooling2d_8 (MaxPooling  (None, 6, 6, 32)         0         \n",
            " 2D)                                                             \n",
            "                                                                 \n",
            " flatten_5 (Flatten)         (None, 1152)              0         \n",
            "                                                                 \n",
            " dense_11 (Dense)            (None, 100)               115300    \n",
            "                                                                 \n",
            " dense_12 (Dense)            (None, 10)                1010      \n",
            "                                                                 \n",
            "=================================================================\n",
            "Total params: 126,454\n",
            "Trainable params: 126,454\n",
            "Non-trainable params: 0\n",
            "_________________________________________________________________\n"
          ]
        }
      ]
    },
    {
      "cell_type": "markdown",
      "source": [
        "### Model Training"
      ],
      "metadata": {
        "id": "o57gPbFvgcT9"
      }
    },
    {
      "cell_type": "code",
      "source": [
        "batch_size = 64\n",
        "epochs = 10\n",
        "\n",
        "history_32_32_cifar = model_32_32_cifar.fit(X_train_cifar,y_train_cifar,\n",
        "                          batch_size=batch_size,\n",
        "                          epochs=epochs, \n",
        "\n",
        "                          validation_split=0.2,\n",
        "                          shuffle=True)"
      ],
      "metadata": {
        "colab": {
          "base_uri": "https://localhost:8080/"
        },
        "id": "SBytoQXOwYXS",
        "outputId": "90a8965a-fa7d-423e-d926-bf0a6c04f061"
      },
      "execution_count": null,
      "outputs": [
        {
          "output_type": "stream",
          "name": "stdout",
          "text": [
            "Epoch 1/10\n",
            "625/625 [==============================] - 3s 5ms/step - loss: 2.8871 - accuracy: 0.2251 - val_loss: 1.9191 - val_accuracy: 0.3190\n",
            "Epoch 2/10\n",
            "625/625 [==============================] - 3s 4ms/step - loss: 1.7859 - accuracy: 0.3601 - val_loss: 1.7220 - val_accuracy: 0.3859\n",
            "Epoch 3/10\n",
            "625/625 [==============================] - 3s 4ms/step - loss: 1.6149 - accuracy: 0.4194 - val_loss: 1.6912 - val_accuracy: 0.4048\n",
            "Epoch 4/10\n",
            "625/625 [==============================] - 2s 4ms/step - loss: 1.5047 - accuracy: 0.4618 - val_loss: 1.5292 - val_accuracy: 0.4579\n",
            "Epoch 5/10\n",
            "625/625 [==============================] - 2s 4ms/step - loss: 1.4186 - accuracy: 0.4937 - val_loss: 1.5321 - val_accuracy: 0.4676\n",
            "Epoch 6/10\n",
            "625/625 [==============================] - 3s 4ms/step - loss: 1.3481 - accuracy: 0.5211 - val_loss: 1.4338 - val_accuracy: 0.4960\n",
            "Epoch 7/10\n",
            "625/625 [==============================] - 3s 4ms/step - loss: 1.2833 - accuracy: 0.5457 - val_loss: 1.3706 - val_accuracy: 0.5196\n",
            "Epoch 8/10\n",
            "625/625 [==============================] - 3s 4ms/step - loss: 1.2337 - accuracy: 0.5646 - val_loss: 1.3402 - val_accuracy: 0.5306\n",
            "Epoch 9/10\n",
            "625/625 [==============================] - 2s 4ms/step - loss: 1.1776 - accuracy: 0.5855 - val_loss: 1.3123 - val_accuracy: 0.5454\n",
            "Epoch 10/10\n",
            "625/625 [==============================] - 2s 4ms/step - loss: 1.1174 - accuracy: 0.6068 - val_loss: 1.2755 - val_accuracy: 0.5659\n"
          ]
        }
      ]
    },
    {
      "cell_type": "markdown",
      "source": [
        "## Model Architecture 3.1"
      ],
      "metadata": {
        "id": "N2a9C5o4gfcQ"
      }
    },
    {
      "cell_type": "code",
      "source": [
        "def get_model_Le_net(input_shape = (28,28,1)):\n",
        "    \n",
        "    model = keras.models.Sequential([\n",
        "        \n",
        "        ## Input Shape\n",
        "        keras.layers.Input(input_shape),\n",
        "\n",
        "        ## Convolution 1\n",
        "        keras.layers.Conv2D(\n",
        "                            filters=6,\n",
        "                            kernel_size=(5,5),\n",
        "                            strides=(1,1),\n",
        "                            padding='same',\n",
        "                            activation='tanh'),\n",
        "        keras.layers.MaxPool2D(\n",
        "                                pool_size=(2, 2),\n",
        "                               strides=(2,2),\n",
        "                               padding='same'),\n",
        "        keras.layers.Dropout(0.20),\n",
        "        keras.layers.BatchNormalization(),\n",
        "\n",
        "\n",
        "        ## Convolution 2\n",
        "        keras.layers.Conv2D(\n",
        "                            filters=16,\n",
        "                            kernel_size=(5,5),\n",
        "                            strides=(1,1),\n",
        "                            padding='same',\n",
        "                            activation='tanh'),\n",
        "        keras.layers.MaxPool2D(\n",
        "                                pool_size=(2, 2),\n",
        "                               strides=(2,2),\n",
        "                               padding='same'),\n",
        "        keras.layers.Dropout(0.20),\n",
        "        keras.layers.BatchNormalization(),\n",
        "        \n",
        "\n",
        "        ## Flatten\n",
        "        keras.layers.Flatten(),\n",
        "\n",
        "\n",
        "        ## Dense 1 , 120\n",
        "        keras.layers.Dense(units=120,\n",
        "                           activation='sigmoid'),\n",
        "\n",
        "        ## Dense 2, 64\n",
        "        keras.layers.Dense(units=64,\n",
        "                           activation='sigmoid'),\n",
        "        \n",
        "        keras.layers.Dense(units=10,\n",
        "        activation='softmax')\n",
        "\n",
        "    ])\n",
        "\n",
        "    model.compile(optimizer='adamax',\n",
        "              loss='sparse_categorical_crossentropy',\n",
        "              metrics=['accuracy'])\n",
        "    \n",
        "    return model"
      ],
      "metadata": {
        "id": "8-Om2WgyiHIt"
      },
      "execution_count": null,
      "outputs": []
    },
    {
      "cell_type": "code",
      "source": [
        "model_le_net_cifar = get_model_Le_net((32,32,3))\n",
        "model_le_net_cifar.summary()"
      ],
      "metadata": {
        "id": "aEVyNaSRwfmC",
        "outputId": "4a67a9b5-2df1-44bb-d6a2-f6a0bffe0040",
        "colab": {
          "base_uri": "https://localhost:8080/"
        }
      },
      "execution_count": null,
      "outputs": [
        {
          "output_type": "stream",
          "name": "stdout",
          "text": [
            "Model: \"sequential_6\"\n",
            "_________________________________________________________________\n",
            " Layer (type)                Output Shape              Param #   \n",
            "=================================================================\n",
            " conv2d_9 (Conv2D)           (None, 32, 32, 6)         456       \n",
            "                                                                 \n",
            " max_pooling2d_9 (MaxPooling  (None, 16, 16, 6)        0         \n",
            " 2D)                                                             \n",
            "                                                                 \n",
            " dropout_1 (Dropout)         (None, 16, 16, 6)         0         \n",
            "                                                                 \n",
            " batch_normalization_1 (Batc  (None, 16, 16, 6)        24        \n",
            " hNormalization)                                                 \n",
            "                                                                 \n",
            " conv2d_10 (Conv2D)          (None, 16, 16, 16)        2416      \n",
            "                                                                 \n",
            " max_pooling2d_10 (MaxPoolin  (None, 8, 8, 16)         0         \n",
            " g2D)                                                            \n",
            "                                                                 \n",
            " dropout_2 (Dropout)         (None, 8, 8, 16)          0         \n",
            "                                                                 \n",
            " batch_normalization_2 (Batc  (None, 8, 8, 16)         64        \n",
            " hNormalization)                                                 \n",
            "                                                                 \n",
            " flatten_6 (Flatten)         (None, 1024)              0         \n",
            "                                                                 \n",
            " dense_13 (Dense)            (None, 120)               123000    \n",
            "                                                                 \n",
            " dense_14 (Dense)            (None, 64)                7744      \n",
            "                                                                 \n",
            " dense_15 (Dense)            (None, 10)                650       \n",
            "                                                                 \n",
            "=================================================================\n",
            "Total params: 134,354\n",
            "Trainable params: 134,310\n",
            "Non-trainable params: 44\n",
            "_________________________________________________________________\n"
          ]
        }
      ]
    },
    {
      "cell_type": "markdown",
      "source": [
        "### Model Training"
      ],
      "metadata": {
        "id": "GpQxSwi7gkTs"
      }
    },
    {
      "cell_type": "code",
      "source": [
        "batch_size = 64\n",
        "epochs = 20\n",
        "\n",
        "history_model_le_net_cifar = model_le_net_cifar.fit(X_train_cifar,y_train_cifar,\n",
        "                          batch_size=batch_size,\n",
        "                          epochs=epochs, \n",
        "                          validation_split=0.2,\n",
        "                          shuffle=True)"
      ],
      "metadata": {
        "id": "IWI7q_TIVz6s",
        "outputId": "330560b1-9688-4975-f287-6bd703b655dc",
        "colab": {
          "base_uri": "https://localhost:8080/"
        }
      },
      "execution_count": null,
      "outputs": [
        {
          "output_type": "stream",
          "name": "stdout",
          "text": [
            "Epoch 1/20\n",
            "625/625 [==============================] - 4s 5ms/step - loss: 1.8730 - accuracy: 0.3362 - val_loss: 1.6887 - val_accuracy: 0.3896\n",
            "Epoch 2/20\n",
            "625/625 [==============================] - 3s 4ms/step - loss: 1.5888 - accuracy: 0.4321 - val_loss: 1.5585 - val_accuracy: 0.4496\n",
            "Epoch 3/20\n",
            "625/625 [==============================] - 3s 5ms/step - loss: 1.5020 - accuracy: 0.4622 - val_loss: 1.4450 - val_accuracy: 0.4924\n",
            "Epoch 4/20\n",
            "625/625 [==============================] - 3s 4ms/step - loss: 1.4428 - accuracy: 0.4843 - val_loss: 1.4297 - val_accuracy: 0.4885\n",
            "Epoch 5/20\n",
            "625/625 [==============================] - 3s 4ms/step - loss: 1.3995 - accuracy: 0.5013 - val_loss: 1.3588 - val_accuracy: 0.5157\n",
            "Epoch 6/20\n",
            "625/625 [==============================] - 3s 5ms/step - loss: 1.3682 - accuracy: 0.5117 - val_loss: 1.3746 - val_accuracy: 0.5138\n",
            "Epoch 7/20\n",
            "625/625 [==============================] - 3s 5ms/step - loss: 1.3312 - accuracy: 0.5256 - val_loss: 1.3090 - val_accuracy: 0.5384\n",
            "Epoch 8/20\n",
            "625/625 [==============================] - 3s 5ms/step - loss: 1.3068 - accuracy: 0.5349 - val_loss: 1.3366 - val_accuracy: 0.5258\n",
            "Epoch 9/20\n",
            "625/625 [==============================] - 3s 5ms/step - loss: 1.2895 - accuracy: 0.5418 - val_loss: 1.3824 - val_accuracy: 0.5149\n",
            "Epoch 10/20\n",
            "625/625 [==============================] - 3s 5ms/step - loss: 1.2626 - accuracy: 0.5500 - val_loss: 1.3056 - val_accuracy: 0.5384\n",
            "Epoch 11/20\n",
            "625/625 [==============================] - 3s 5ms/step - loss: 1.2478 - accuracy: 0.5580 - val_loss: 1.2582 - val_accuracy: 0.5547\n",
            "Epoch 12/20\n",
            "625/625 [==============================] - 5s 8ms/step - loss: 1.2292 - accuracy: 0.5649 - val_loss: 1.2543 - val_accuracy: 0.5573\n",
            "Epoch 13/20\n",
            "625/625 [==============================] - 4s 6ms/step - loss: 1.2148 - accuracy: 0.5675 - val_loss: 1.2727 - val_accuracy: 0.5489\n",
            "Epoch 14/20\n",
            "625/625 [==============================] - 4s 6ms/step - loss: 1.1949 - accuracy: 0.5774 - val_loss: 1.2041 - val_accuracy: 0.5785\n",
            "Epoch 15/20\n",
            "625/625 [==============================] - 3s 5ms/step - loss: 1.1749 - accuracy: 0.5813 - val_loss: 1.2104 - val_accuracy: 0.5727\n",
            "Epoch 16/20\n",
            "625/625 [==============================] - 4s 6ms/step - loss: 1.1631 - accuracy: 0.5876 - val_loss: 1.1895 - val_accuracy: 0.5764\n",
            "Epoch 17/20\n",
            "625/625 [==============================] - 5s 8ms/step - loss: 1.1539 - accuracy: 0.5927 - val_loss: 1.2108 - val_accuracy: 0.5724\n",
            "Epoch 18/20\n",
            "625/625 [==============================] - 3s 5ms/step - loss: 1.1410 - accuracy: 0.5971 - val_loss: 1.1827 - val_accuracy: 0.5818\n",
            "Epoch 19/20\n",
            "625/625 [==============================] - 4s 6ms/step - loss: 1.1265 - accuracy: 0.6001 - val_loss: 1.1785 - val_accuracy: 0.5822\n",
            "Epoch 20/20\n",
            "625/625 [==============================] - 4s 6ms/step - loss: 1.1202 - accuracy: 0.6021 - val_loss: 1.1753 - val_accuracy: 0.5826\n"
          ]
        }
      ]
    },
    {
      "cell_type": "markdown",
      "source": [
        "## Saving Models"
      ],
      "metadata": {
        "id": "Cb7f459wf_vS"
      }
    },
    {
      "cell_type": "code",
      "source": [
        "import os\n",
        "\n",
        "path = '/content/CIFAR_model_cp'\n",
        "os.mkdir(path)\n",
        "\n",
        "## model 1\n",
        "path_mdl = os.path.join(path,'model_32_cifar.h5')\n",
        "path_wts = os.path.join(path,'model_32wts_cifar.h5')\n",
        "\n",
        "model_32_cifar_2.save(path_mdl)\n",
        "model_32_cifar_2.save_weights(path_wts)\n",
        "\n",
        "## model 2\n",
        "path_mdl = os.path.join(path,'model_32_32_cifar.h5')\n",
        "path_wts = os.path.join(path,'model_32_32wts_cifar.h5')\n",
        "\n",
        "model_32_32_cifar.save(path_mdl)\n",
        "model_32_32_cifar.save_weights(path_wts)\n",
        "\n",
        "## model 3\n",
        "path_mdl = os.path.join(path,'model_le_net_cifar.h5')\n",
        "path_wts = os.path.join(path,'model_le_net_cifar.h5')\n",
        "\n",
        "model_le_net_cifar.save(path_mdl)\n",
        "model_le_net_cifar.save_weights(path_wts)"
      ],
      "metadata": {
        "id": "9a9VYTd-gCn5"
      },
      "execution_count": null,
      "outputs": []
    },
    {
      "cell_type": "markdown",
      "source": [
        "# Model Analysis"
      ],
      "metadata": {
        "id": "sho2Vxuccu67"
      }
    },
    {
      "cell_type": "markdown",
      "source": [
        "## MNIST"
      ],
      "metadata": {
        "id": "UUWfjLt6cx5P"
      }
    },
    {
      "cell_type": "code",
      "source": [
        "import matplotlib.pyplot as plt\n",
        "\n",
        "models_mnist = [history_32,history_32_32,history_Le_net]\n",
        "models_mnist_lbls = ['history_32','history_32_32','history_Le_net']\n",
        "\n",
        "plt, axes = plt.subplots(1,3,figsize=(25,7),sharey=True)\n",
        "\n",
        "for i,history in enumerate(models_mnist):\n",
        "\n",
        "    axes[i].plot(history.history['accuracy'])\n",
        "    axes[i].plot(history.history['val_accuracy'])\n",
        "    axes[i].set_title(models_mnist_lbls[i])\n",
        "    axes[i].set_ylabel('accuracy')\n",
        "    axes[i].set_xlabel('epoch')\n",
        "    axes[i].grid()\n",
        "    axes[i].legend(['train', 'test'], loc='upper left')\n",
        "\n",
        "plt.show()"
      ],
      "metadata": {
        "colab": {
          "base_uri": "https://localhost:8080/",
          "height": 343
        },
        "id": "gOQr5WS9mAhb",
        "outputId": "55aea1e0-f3ef-4dd8-ea90-b23cfecfab15"
      },
      "execution_count": null,
      "outputs": [
        {
          "output_type": "display_data",
          "data": {
            "text/plain": [
              "<Figure size 1800x504 with 3 Axes>"
            ],
            "image/png": "[encoded data removed]"
          },
          "metadata": {
            "needs_background": "light"
          }
        }
      ]
    },
    {
      "cell_type": "markdown",
      "source": [
        "> The 3 Models Demonstrate Similar Performance.  \n",
        "> They Plateau Test Accuracy at about 98%.  \n",
        "> The Deep Neural Network does point towards slight overfitting, but given the small size of dataset and high accuracy, this can not be said conclusively"
      ],
      "metadata": {
        "id": "mMgIezmdc6P9"
      }
    },
    {
      "cell_type": "markdown",
      "source": [
        "## CIFAR"
      ],
      "metadata": {
        "id": "sMw0f3Hsc0Vi"
      }
    },
    {
      "cell_type": "code",
      "source": [
        "import matplotlib.pyplot as plt\n",
        "\n",
        "models_mnist = [history_32_cifar, history_32_cifar_2,history_32_32_cifar,history_model_le_net_cifar]\n",
        "models_mnist_lbls = ['history_32_cifar','history_32_cifar_2','history_32_32_cifar','history_model_le_net_cifar']\n",
        "\n",
        "plt, axes = plt.subplots(1,4,figsize=(25,5),sharey=True)\n",
        "\n",
        "for i,history in enumerate(models_mnist):\n",
        "\n",
        "    axes[i].plot(history.history['accuracy'])\n",
        "    axes[i].plot(history.history['val_accuracy'])\n",
        "    axes[i].set_title(models_mnist_lbls[i])\n",
        "    axes[i].set_ylabel('accuracy')\n",
        "    axes[i].set_xlabel('epoch')\n",
        "    axes[i].grid()\n",
        "    axes[i].legend(['train', 'test'], loc='upper left')\n",
        "\n",
        "plt.show()"
      ],
      "metadata": {
        "id": "iujrcWpNZuts",
        "outputId": "e9f8148b-4423-4530-af12-d23e3fbcf5e1",
        "colab": {
          "base_uri": "https://localhost:8080/",
          "height": 265
        }
      },
      "execution_count": null,
      "outputs": [
        {
          "output_type": "display_data",
          "data": {
            "text/plain": [
              "<Figure size 1800x360 with 4 Axes>"
            ],
            "image/png": "[encoded data removed]"
          },
          "metadata": {
            "needs_background": "light"
          }
        }
      ]
    },
    {
      "cell_type": "markdown",
      "source": [
        "> The shallow neural networks massively overfit the neural network.  \n",
        "> This is due to the complexity of features to be learnt, the shallow networks start learning noise in the dataset, rather than trying to create accurate feature maps.  \n",
        "> Due to this, I add a dropout layers to randomly turn off a few activations during training, this improves performance significantly.  \n",
        "> The deeper neural networks do seem to better learn the complexity of features better than the shallow networks.  \n",
        "> They do not overfit the data, visualized by the feature maps below.  \n",
        "> However, they only have an accuracy of less than 60%.  "
      ],
      "metadata": {
        "id": "atc9fQJrLSK0"
      }
    },
    {
      "cell_type": "code",
      "source": [
        "\n"
      ],
      "metadata": {
        "id": "iexgFTT0KR-d"
      },
      "execution_count": null,
      "outputs": []
    }
  ]
}