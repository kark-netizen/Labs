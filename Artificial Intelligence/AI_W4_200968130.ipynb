{
  "nbformat": 4,
  "nbformat_minor": 0,
  "metadata": {
    "colab": {
      "provenance": []
    },
    "kernelspec": {
      "name": "python3",
      "display_name": "Python 3"
    },
    "language_info": {
      "name": "python"
    }
  },
  "cells": [
    {
      "cell_type": "markdown",
      "source": [
        "# Setup"
      ],
      "metadata": {
        "id": "e7RESIFsr4kI"
      }
    },
    {
      "cell_type": "code",
      "execution_count": 1,
      "metadata": {
        "colab": {
          "base_uri": "https://localhost:8080/"
        },
        "id": "1qX1nrZ1bpKj",
        "outputId": "220f024e-0506-4195-8fb2-212b80e0e976"
      },
      "outputs": [
        {
          "output_type": "stream",
          "name": "stdout",
          "text": [
            "Looking in indexes: https://pypi.org/simple, https://us-python.pkg.dev/colab-wheels/public/simple/\n",
            "Collecting easyAI\n",
            "  Downloading easyAI-2.0.12-py3-none-any.whl (42 kB)\n",
            "\u001b[2K     \u001b[90m━━━━━━━━━━━━━━━━━━━━━━━━━━━━━━━━━━━━━━━━\u001b[0m \u001b[32m42.2/42.2 KB\u001b[0m \u001b[31m1.6 MB/s\u001b[0m eta \u001b[36m0:00:00\u001b[0m\n",
            "\u001b[?25hRequirement already satisfied: numpy in /usr/local/lib/python3.8/dist-packages (from easyAI) (1.22.4)\n",
            "Installing collected packages: easyAI\n",
            "Successfully installed easyAI-2.0.12\n"
          ]
        }
      ],
      "source": [
        "'!sudo pip install easyAI"
      ]
    },
    {
      "cell_type": "markdown",
      "source": [
        "# Importing Library"
      ],
      "metadata": {
        "id": "b_WjSzbAr7Gw"
      }
    },
    {
      "cell_type": "code",
      "source": [
        "from easyAI import TwoPlayerGame\n",
        "from easyAI.Player import Human_Player"
      ],
      "metadata": {
        "id": "DOAtRjBtbvul"
      },
      "execution_count": 2,
      "outputs": []
    },
    {
      "cell_type": "markdown",
      "source": [
        "# TicTacToe"
      ],
      "metadata": {
        "id": "MLIKsEKnr-c_"
      }
    },
    {
      "cell_type": "code",
      "source": [
        "class TicTacToe(TwoPlayerGame):\n",
        "    \"\"\" The positions are\n",
        "        7 8 9\n",
        "        4 5 6\n",
        "        1 2 3\n",
        "    \"\"\"\n",
        "    def __init__(self, players):\n",
        "        self.players = players\n",
        "        self.board = [0 for i in range(9)]\n",
        "        self.current_player = 1\n",
        "\n",
        "    def possible_moves(self):\n",
        "        return [i+1 for i, e in enumerate(self.board) if e == 0]\n",
        "\n",
        "    def make_move(self, move):\n",
        "        self.board[int(move)-1] = self.current_player\n",
        "\n",
        "    def unmake_move(self, move):\n",
        "        self.board[int(move)-1] = 0\n",
        "\n",
        "    def lose(self):\n",
        "        return any( [all([(self.board[c-1]== self.opponent_index)\n",
        "                      for c in line])\n",
        "                      for line in [[1,2,3],[4,5,6],[7,8,9], # horiz.\n",
        "                                   [1,4,7],[2,5,8],[3,6,9], # vertical\n",
        "                                   [1,5,9],[3,5,7]]]) # diagonal\n",
        "    \n",
        "    def is_over(self):\n",
        "        return (self.possible_moves() == []) or self.lose()\n",
        "    \n",
        "    def show(self):\n",
        "        print ('\\n'+'\\n'.join([\n",
        "                        ' '.join([['.','O','X'][self.board[3*j+i]]\n",
        "                        for i in range(3)])\n",
        "                 for j in range(3)]) )\n",
        "        \n",
        "    def scoring(self):\n",
        "        return -100 if self.lose() else 0"
      ],
      "metadata": {
        "id": "T6MX6qwrcMLP"
      },
      "execution_count": 3,
      "outputs": []
    },
    {
      "cell_type": "markdown",
      "source": [
        "# Running the Game"
      ],
      "metadata": {
        "id": "tA-9LLDFsFRm"
      }
    },
    {
      "cell_type": "code",
      "source": [
        "from easyAI import TwoPlayerGame, Human_Player, AI_Player, Negamax\n",
        "\n",
        "ai_algo = Negamax(9)\n",
        "TicTacToe( [Human_Player(), AI_Player(ai_algo)]).play()"
      ],
      "metadata": {
        "colab": {
          "base_uri": "https://localhost:8080/"
        },
        "id": "xk8eLugAc2mB",
        "outputId": "ff3d786f-39a7-4c22-91ab-c31342adc392"
      },
      "execution_count": null,
      "outputs": [
        {
          "output_type": "stream",
          "name": "stdout",
          "text": [
            "\n",
            ". . .\n",
            ". . .\n",
            ". . .\n",
            "\n",
            "Move #1: player 1 plays 9 :\n",
            "\n",
            ". . .\n",
            ". . .\n",
            ". . O\n",
            "\n",
            "Move #2: player 2 plays 5 :\n",
            "\n",
            ". . .\n",
            ". X .\n",
            ". . O\n",
            "\n",
            "Player 1 what do you play ? 7\n",
            "\n",
            "Move #3: player 1 plays 7 :\n",
            "\n",
            ". . .\n",
            ". X .\n",
            "O . O\n",
            "\n",
            "Move #4: player 2 plays 8 :\n",
            "\n",
            ". . .\n",
            ". X .\n",
            "O X O\n"
          ]
        }
      ]
    },
    {
      "cell_type": "markdown",
      "source": [
        "# Interative Deepening"
      ],
      "metadata": {
        "id": "n79CWlnfsHfO"
      }
    },
    {
      "cell_type": "code",
      "source": [
        "from easyAI import solve_with_depth_first_search, solve_with_iterative_deepening\n",
        "\n",
        "result, depth, ai_move = solve_with_iterative_deepening(TicTacToe([Human_Player(), AI_Player(ai_algo)]), [5,6,7,8,9,10], 100, verbose=True)"
      ],
      "metadata": {
        "id": "5D7_kHw7ezCU"
      },
      "execution_count": null,
      "outputs": []
    },
    {
      "cell_type": "markdown",
      "source": [
        "# Depth First Search"
      ],
      "metadata": {
        "id": "at_Sog0ysOkE"
      }
    },
    {
      "cell_type": "code",
      "source": [
        "result = solve_with_depth_first_search(TicTacToe( [AI_Player(ai_algo), AI_Player(ai_algo)]), 200)\n",
        "result"
      ],
      "metadata": {
        "id": "TFFdzTswkxyW"
      },
      "execution_count": null,
      "outputs": []
    },
    {
      "cell_type": "markdown",
      "source": [
        "# Conclusion\n",
        "* Depth First Search algorithm can be faster but less informative than ``solve_with_iterative_deepening``,\n",
        "    as it does not provide 'optimal' strategies (like shortest path to\n",
        "    the victory). It returns simply 1, 0, or -1 to indicate certain\n",
        "    victory, draw, or defeat of the first player."
      ],
      "metadata": {
        "id": "zoc3FxtopNYY"
      }
    },
    {
      "cell_type": "code",
      "source": [],
      "metadata": {
        "id": "N8PGXfbH30lj"
      },
      "execution_count": null,
      "outputs": []
    }
  ]
}