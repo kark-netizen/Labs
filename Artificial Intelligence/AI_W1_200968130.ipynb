{
 "cells": [
  {
   "cell_type": "markdown",
   "metadata": {
    "id": "RbD7OkvHIvc9"
   },
   "source": [
    "# Week 1\n",
    "## Representational Learning using Autoencoders"
   ]
  },
  {
   "cell_type": "markdown",
   "metadata": {
    "id": "yyydNcGsI2OV"
   },
   "source": [
    "### 1.Use the FashionMNIST data set and train a basic autoencoder to reconstruct images.\n",
    "\n",
    "Train the  model  using  x_train  as both the  input and the  target.  The  encoder shouldlearn  to  compress  the  dataset  from  784  dimensions  to  the  latent  space,  and  the decoder should learn to reconstruct the original images.\n",
    "Let the autoencoder have two Dense layers: \n",
    "- an encoder, which compresses the images into a 64 dimensional latent vector, use reLU as activation function.\n",
    "- a decoder, that reconstructs the original image from the latent space, use sigmoid as activation function.\n",
    "\n",
    "Once the model is trained for atleast 10 epochs, with loss function as mean square error, test it by encoding and decoding images from the test set. Display original andreconstructed images."
   ]
  },
  {
   "cell_type": "code",
   "execution_count": 11,
   "metadata": {
    "id": "MwHB2l4q-UHy"
   },
   "outputs": [],
   "source": [
    "import tensorflow as tf\n",
    "from tensorflow.keras.layers import Flatten, Dense, Reshape, Input\n",
    "import numpy as np\n",
    "import matplotlib.pyplot as plt\n",
    "import seaborn as sns"
   ]
  },
  {
   "cell_type": "markdown",
   "metadata": {
    "id": "Q98yDokYJLbV"
   },
   "source": [
    "Import fashion mnist since its inbuilt in tensorflow"
   ]
  },
  {
   "cell_type": "code",
   "execution_count": 12,
   "metadata": {
    "colab": {
     "base_uri": "https://localhost:8080/",
     "height": 143
    },
    "id": "dmsnkwR0-1RZ",
    "outputId": "e5bfa585-12e4-4ad9-ba76-c1d2cf88d8b8"
   },
   "outputs": [
    {
     "name": "stdout",
     "output_type": "stream",
     "text": [
      "(60000, 28, 28)\n",
      "(10000, 28, 28)\n"
     ]
    },
    {
     "data": {
      "image/png": "[encoded data removed]",
      "text/plain": [
       "<Figure size 432x288 with 5 Axes>"
      ]
     },
     "metadata": {
      "needs_background": "light"
     },
     "output_type": "display_data"
    }
   ],
   "source": [
    "from tensorflow.keras.datasets import fashion_mnist\n",
    "(x_train, y_train), (x_test, y_test) = fashion_mnist.load_data()\n",
    "# Prepare label dict for labelling in viz\n",
    "labels_dict = {\n",
    "    '0': 'T-shirt/top',\n",
    "    '1': 'Trouser',\n",
    "    '2': 'Pullover',\n",
    "    '3': 'Dress',\n",
    "    '4': 'Coat',\n",
    "    '5': 'Sandal',\n",
    "    '6': 'Shirt',\n",
    "    '7': 'Sneaker',\n",
    "    '8': 'Bag',\n",
    "    '9': 'Ankle boot'\n",
    "}\n",
    "# Normalize images\n",
    "x_train = x_train.astype('float32') / 255.\n",
    "x_test = x_test.astype('float32') / 255.\n",
    "\n",
    "# Check the shapes of data\n",
    "print (x_train.shape)\n",
    "print (x_test.shape)\n",
    "\n",
    "# Display 5 original images\n",
    "n = 5\n",
    "for i in range(n):\n",
    "    ax = plt.subplot(1, n, i+1)\n",
    "    select_img_index = np.random.randint(x_test.shape[0])\n",
    "    plt.imshow(x_test[select_img_index])\n",
    "    plt.title(labels_dict[str(y_test[select_img_index])])\n",
    "    # plt.gray()\n",
    "    ax.get_xaxis().set_visible(False)\n",
    "    ax.get_yaxis().set_visible(False)\n",
    "plt.show()"
   ]
  },
  {
   "cell_type": "markdown",
   "metadata": {
    "id": "gQXOBZJmJjyF"
   },
   "source": [
    "Encoder compresses the image into 64-dim latent space"
   ]
  },
  {
   "cell_type": "code",
   "execution_count": 13,
   "metadata": {
    "id": "hzEneRWmJ9B1"
   },
   "outputs": [],
   "source": [
    "latent_dim = 64\n",
    "def build_autoencoder(latent_dim):\n",
    "  # Encoder Network\n",
    "  encoder = tf.keras.Sequential()\n",
    "  encoder.add(Flatten())\n",
    "  encoder.add(Dense(latent_dim, activation='relu'))\n",
    "  # Decoder Network\n",
    "  decoder = tf.keras.Sequential()\n",
    "  decoder.add(Dense(784, activation='sigmoid'))\n",
    "  decoder.add(Reshape((28, 28)))\n",
    "  return encoder,decoder\n",
    "\n",
    "# Get encoder and Decoder\n",
    "encoder, decoder = build_autoencoder(latent_dim)\n",
    "# Use Functional API to link them together\n",
    "inp = Input((28,28))\n",
    "code = encoder(inp)\n",
    "reconstruction = decoder(code)\n",
    "\n",
    "autoencoder = tf.keras.Model(inp,reconstruction)"
   ]
  },
  {
   "cell_type": "code",
   "execution_count": 14,
   "metadata": {
    "colab": {
     "base_uri": "https://localhost:8080/"
    },
    "id": "Y3KrE8AM-1hY",
    "outputId": "06fd512a-a7fb-4dfc-f10c-d33f75c08cee"
   },
   "outputs": [
    {
     "name": "stdout",
     "output_type": "stream",
     "text": [
      "Epoch 1/10\n",
      "1875/1875 [==============================] - 6s 3ms/step - loss: 0.0238 - val_loss: 0.0132\n",
      "Epoch 2/10\n",
      "1875/1875 [==============================] - 7s 4ms/step - loss: 0.0116 - val_loss: 0.0106\n",
      "Epoch 3/10\n",
      "1875/1875 [==============================] - 4s 2ms/step - loss: 0.0101 - val_loss: 0.0097\n",
      "Epoch 4/10\n",
      "1875/1875 [==============================] - 4s 2ms/step - loss: 0.0095 - val_loss: 0.0094\n",
      "Epoch 5/10\n",
      "1875/1875 [==============================] - 4s 2ms/step - loss: 0.0092 - val_loss: 0.0091\n",
      "Epoch 6/10\n",
      "1875/1875 [==============================] - 4s 2ms/step - loss: 0.0091 - val_loss: 0.0092\n",
      "Epoch 7/10\n",
      "1875/1875 [==============================] - 4s 2ms/step - loss: 0.0090 - val_loss: 0.0090\n",
      "Epoch 8/10\n",
      "1875/1875 [==============================] - 4s 2ms/step - loss: 0.0089 - val_loss: 0.0089\n",
      "Epoch 9/10\n",
      "1875/1875 [==============================] - 4s 2ms/step - loss: 0.0088 - val_loss: 0.0089\n",
      "Epoch 10/10\n",
      "1875/1875 [==============================] - 4s 2ms/step - loss: 0.0088 - val_loss: 0.0090\n"
     ]
    }
   ],
   "source": [
    "# Compile with ADAM optimizer and mse loss, then train for 10 epochs\n",
    "autoencoder.compile(optimizer='adam', loss='mse')\n",
    "history = autoencoder.fit(x_train, x_train,\n",
    "                epochs=10,\n",
    "                shuffle=True,\n",
    "                validation_data=(x_test, x_test))"
   ]
  },
  {
   "cell_type": "code",
   "execution_count": 15,
   "metadata": {
    "colab": {
     "base_uri": "https://localhost:8080/"
    },
    "id": "rrLMxCtA-1jx",
    "outputId": "204e57a6-9674-422a-90b2-ab760d39cfa6"
   },
   "outputs": [
    {
     "name": "stdout",
     "output_type": "stream",
     "text": [
      "Model: \"model_1\"\n",
      "_________________________________________________________________\n",
      " Layer (type)                Output Shape              Param #   \n",
      "=================================================================\n",
      " input_2 (InputLayer)        [(None, 28, 28)]          0         \n",
      "                                                                 \n",
      " sequential_2 (Sequential)   (None, 64)                50240     \n",
      "                                                                 \n",
      " sequential_3 (Sequential)   (None, 28, 28)            50960     \n",
      "                                                                 \n",
      "=================================================================\n",
      "Total params: 101,200\n",
      "Trainable params: 101,200\n",
      "Non-trainable params: 0\n",
      "_________________________________________________________________\n"
     ]
    }
   ],
   "source": [
    "autoencoder.summary()"
   ]
  },
  {
   "cell_type": "code",
   "execution_count": 16,
   "metadata": {
    "colab": {
     "base_uri": "https://localhost:8080/",
     "height": 295
    },
    "id": "6xpEhg2JDziI",
    "outputId": "e11a520f-1d4a-4657-fd60-9018ca9556f6"
   },
   "outputs": [
    {
     "data": {
      "image/png": "[encoded data removed]",
      "text/plain": [
       "<Figure size 432x288 with 1 Axes>"
      ]
     },
     "metadata": {
      "needs_background": "light"
     },
     "output_type": "display_data"
    }
   ],
   "source": [
    "plt.plot(history.history['loss'])\n",
    "plt.plot(history.history['val_loss'])\n",
    "plt.title('model loss')\n",
    "plt.ylabel('loss')\n",
    "plt.xlabel('epoch')\n",
    "plt.legend(['train', 'test'], loc='upper left')\n",
    "plt.show()"
   ]
  },
  {
   "cell_type": "markdown",
   "metadata": {
    "id": "m0PqIRhFEYSx"
   },
   "source": [
    "We can see that after the 5th epoch, there's no significant progress in loss. Visualizing like this can help you get a better idea of how many epochs is really enough to train your model. In this case, there's simply no need to train it for 10 epochs, and most of the training is redundant.\n",
    "\n",
    "This can also lead to over-fitting the model, which will make it perform poorly on new data outside the training and testing datasets."
   ]
  },
  {
   "cell_type": "code",
   "execution_count": 17,
   "metadata": {
    "id": "trMqAMFs-1mR"
   },
   "outputs": [],
   "source": [
    "encoded_imgs = encoder(x_test).numpy()\n",
    "decoded_imgs = decoder(encoded_imgs).numpy()"
   ]
  },
  {
   "cell_type": "code",
   "execution_count": 18,
   "metadata": {
    "colab": {
     "base_uri": "https://localhost:8080/",
     "height": 264
    },
    "id": "z24obGJW-1o0",
    "outputId": "8c077ba9-2269-4d1e-cc95-fb490385fd47"
   },
   "outputs": [
    {
     "data": {
      "image/png": "[encoded data removed]",
      "text/plain": [
       "<Figure size 1440x288 with 20 Axes>"
      ]
     },
     "metadata": {
      "needs_background": "light"
     },
     "output_type": "display_data"
    }
   ],
   "source": [
    "n = 10\n",
    "plt.figure(figsize=(20, 4))\n",
    "for i in range(n):\n",
    "    # display original\n",
    "    ax = plt.subplot(2, n, i + 1)\n",
    "    select_img_index = np.random.randint(x_test.shape[0])\n",
    "    plt.imshow(x_test[select_img_index])\n",
    "    plt.title(\"original\")\n",
    "    plt.gray()\n",
    "    ax.get_xaxis().set_visible(False)\n",
    "    ax.get_yaxis().set_visible(False)\n",
    "\n",
    "    # display reconstruction\n",
    "    ax = plt.subplot(2, n, i + 1 + n)\n",
    "    plt.imshow(decoded_imgs[select_img_index])\n",
    "    plt.title(\"reconstructed\")\n",
    "    plt.gray()\n",
    "    ax.get_xaxis().set_visible(False)\n",
    "    ax.get_yaxis().set_visible(False)\n",
    "plt.show()\n"
   ]
  },
  {
   "cell_type": "markdown",
   "metadata": {
    "id": "NE6zEERsEqt4"
   },
   "source": [
    "You can see that the results are not really good. However, if we take into consideration that the whole image is encoded in the extremely small vector of 64 seen in the middle, this isn't bad at all. Through the compression to just 64 we lose a lot of data."
   ]
  },
  {
   "cell_type": "markdown",
   "metadata": {
    "id": "1xRxjcHPGuAe"
   },
   "source": [
    "# Anomaly Detection"
   ]
  },
  {
   "cell_type": "markdown",
   "metadata": {
    "id": "g04dl6OpJ6xi"
   },
   "source": [
    "### Train an autoencoder to detect anomalies using the ECG5000 dataset:\n",
    "\n",
    "- Plot and observe a normal ECG vs an anomalous ECG.\n",
    "- Design and Train  an  autoencoder  on  the  normal  rhythms  only,  then  use  it  to reconstruct all the data.\n",
    "- The autoencoder is trained using only the normal ECGs, but is evaluated using the full test set.\n",
    "- Classify an ECG as anomalous if the reconstruction error is greater than one standard deviation from the normal training examples. "
   ]
  },
  {
   "cell_type": "code",
   "execution_count": 21,
   "metadata": {
    "colab": {
     "base_uri": "https://localhost:8080/",
     "height": 317
    },
    "id": "RTm4SUgo-1rA",
    "outputId": "46c67abf-0c1d-4b18-bdaa-6d3dd1ebf58a"
   },
   "outputs": [
    {
     "name": "stdout",
     "output_type": "stream",
     "text": [
      "(4998, 141)\n"
     ]
    },
    {
     "data": {
      "text/html": [
       "\n",
       "  <div id=\"df-8cd90a68-5e17-48ee-a7bd-22956a0b9f12\">\n",
       "    <div class=\"colab-df-container\">\n",
       "      <div>\n",
       "<style scoped>\n",
       "    .dataframe tbody tr th:only-of-type {\n",
       "        vertical-align: middle;\n",
       "    }\n",
       "\n",
       "    .dataframe tbody tr th {\n",
       "        vertical-align: top;\n",
       "    }\n",
       "\n",
       "    .dataframe thead th {\n",
       "        text-align: right;\n",
       "    }\n",
       "</style>\n",
       "<table border=\"1\" class=\"dataframe\">\n",
       "  <thead>\n",
       "    <tr style=\"text-align: right;\">\n",
       "      <th></th>\n",
       "      <th>0</th>\n",
       "      <th>1</th>\n",
       "      <th>2</th>\n",
       "      <th>3</th>\n",
       "      <th>4</th>\n",
       "      <th>5</th>\n",
       "      <th>6</th>\n",
       "      <th>7</th>\n",
       "      <th>8</th>\n",
       "      <th>9</th>\n",
       "      <th>...</th>\n",
       "      <th>131</th>\n",
       "      <th>132</th>\n",
       "      <th>133</th>\n",
       "      <th>134</th>\n",
       "      <th>135</th>\n",
       "      <th>136</th>\n",
       "      <th>137</th>\n",
       "      <th>138</th>\n",
       "      <th>139</th>\n",
       "      <th>140</th>\n",
       "    </tr>\n",
       "  </thead>\n",
       "  <tbody>\n",
       "    <tr>\n",
       "      <th>0</th>\n",
       "      <td>-0.112522</td>\n",
       "      <td>-2.827204</td>\n",
       "      <td>-3.773897</td>\n",
       "      <td>-4.349751</td>\n",
       "      <td>-4.376041</td>\n",
       "      <td>-3.474986</td>\n",
       "      <td>-2.181408</td>\n",
       "      <td>-1.818286</td>\n",
       "      <td>-1.250522</td>\n",
       "      <td>-0.477492</td>\n",
       "      <td>...</td>\n",
       "      <td>0.792168</td>\n",
       "      <td>0.933541</td>\n",
       "      <td>0.796958</td>\n",
       "      <td>0.578621</td>\n",
       "      <td>0.257740</td>\n",
       "      <td>0.228077</td>\n",
       "      <td>0.123431</td>\n",
       "      <td>0.925286</td>\n",
       "      <td>0.193137</td>\n",
       "      <td>1.0</td>\n",
       "    </tr>\n",
       "    <tr>\n",
       "      <th>1</th>\n",
       "      <td>-1.100878</td>\n",
       "      <td>-3.996840</td>\n",
       "      <td>-4.285843</td>\n",
       "      <td>-4.506579</td>\n",
       "      <td>-4.022377</td>\n",
       "      <td>-3.234368</td>\n",
       "      <td>-1.566126</td>\n",
       "      <td>-0.992258</td>\n",
       "      <td>-0.754680</td>\n",
       "      <td>0.042321</td>\n",
       "      <td>...</td>\n",
       "      <td>0.538356</td>\n",
       "      <td>0.656881</td>\n",
       "      <td>0.787490</td>\n",
       "      <td>0.724046</td>\n",
       "      <td>0.555784</td>\n",
       "      <td>0.476333</td>\n",
       "      <td>0.773820</td>\n",
       "      <td>1.119621</td>\n",
       "      <td>-1.436250</td>\n",
       "      <td>1.0</td>\n",
       "    </tr>\n",
       "    <tr>\n",
       "      <th>2</th>\n",
       "      <td>-0.567088</td>\n",
       "      <td>-2.593450</td>\n",
       "      <td>-3.874230</td>\n",
       "      <td>-4.584095</td>\n",
       "      <td>-4.187449</td>\n",
       "      <td>-3.151462</td>\n",
       "      <td>-1.742940</td>\n",
       "      <td>-1.490659</td>\n",
       "      <td>-1.183580</td>\n",
       "      <td>-0.394229</td>\n",
       "      <td>...</td>\n",
       "      <td>0.886073</td>\n",
       "      <td>0.531452</td>\n",
       "      <td>0.311377</td>\n",
       "      <td>-0.021919</td>\n",
       "      <td>-0.713683</td>\n",
       "      <td>-0.532197</td>\n",
       "      <td>0.321097</td>\n",
       "      <td>0.904227</td>\n",
       "      <td>-0.421797</td>\n",
       "      <td>1.0</td>\n",
       "    </tr>\n",
       "    <tr>\n",
       "      <th>3</th>\n",
       "      <td>0.490473</td>\n",
       "      <td>-1.914407</td>\n",
       "      <td>-3.616364</td>\n",
       "      <td>-4.318823</td>\n",
       "      <td>-4.268016</td>\n",
       "      <td>-3.881110</td>\n",
       "      <td>-2.993280</td>\n",
       "      <td>-1.671131</td>\n",
       "      <td>-1.333884</td>\n",
       "      <td>-0.965629</td>\n",
       "      <td>...</td>\n",
       "      <td>0.350816</td>\n",
       "      <td>0.499111</td>\n",
       "      <td>0.600345</td>\n",
       "      <td>0.842069</td>\n",
       "      <td>0.952074</td>\n",
       "      <td>0.990133</td>\n",
       "      <td>1.086798</td>\n",
       "      <td>1.403011</td>\n",
       "      <td>-0.383564</td>\n",
       "      <td>1.0</td>\n",
       "    </tr>\n",
       "    <tr>\n",
       "      <th>4</th>\n",
       "      <td>0.800232</td>\n",
       "      <td>-0.874252</td>\n",
       "      <td>-2.384761</td>\n",
       "      <td>-3.973292</td>\n",
       "      <td>-4.338224</td>\n",
       "      <td>-3.802422</td>\n",
       "      <td>-2.534510</td>\n",
       "      <td>-1.783423</td>\n",
       "      <td>-1.594450</td>\n",
       "      <td>-0.753199</td>\n",
       "      <td>...</td>\n",
       "      <td>1.148884</td>\n",
       "      <td>0.958434</td>\n",
       "      <td>1.059025</td>\n",
       "      <td>1.371682</td>\n",
       "      <td>1.277392</td>\n",
       "      <td>0.960304</td>\n",
       "      <td>0.971020</td>\n",
       "      <td>1.614392</td>\n",
       "      <td>1.421456</td>\n",
       "      <td>1.0</td>\n",
       "    </tr>\n",
       "  </tbody>\n",
       "</table>\n",
       "<p>5 rows × 141 columns</p>\n",
       "</div>\n",
       "      <button class=\"colab-df-convert\" onclick=\"convertToInteractive('df-8cd90a68-5e17-48ee-a7bd-22956a0b9f12')\"\n",
       "              title=\"Convert this dataframe to an interactive table.\"\n",
       "              style=\"display:none;\">\n",
       "        \n",
       "  <svg xmlns=\"http://www.w3.org/2000/svg\" height=\"24px\"viewBox=\"0 0 24 24\"\n",
       "       width=\"24px\">\n",
       "    <path d=\"M0 0h24v24H0V0z\" fill=\"none\"/>\n",
       "    <path d=\"M18.56 5.44l.94 2.06.94-2.06 2.06-.94-2.06-.94-.94-2.06-.94 2.06-2.06.94zm-11 1L8.5 8.5l.94-2.06 2.06-.94-2.06-.94L8.5 2.5l-.94 2.06-2.06.94zm10 10l.94 2.06.94-2.06 2.06-.94-2.06-.94-.94-2.06-.94 2.06-2.06.94z\"/><path d=\"M17.41 7.96l-1.37-1.37c-.4-.4-.92-.59-1.43-.59-.52 0-1.04.2-1.43.59L10.3 9.45l-7.72 7.72c-.78.78-.78 2.05 0 2.83L4 21.41c.39.39.9.59 1.41.59.51 0 1.02-.2 1.41-.59l7.78-7.78 2.81-2.81c.8-.78.8-2.07 0-2.86zM5.41 20L4 18.59l7.72-7.72 1.47 1.35L5.41 20z\"/>\n",
       "  </svg>\n",
       "      </button>\n",
       "      \n",
       "  <style>\n",
       "    .colab-df-container {\n",
       "      display:flex;\n",
       "      flex-wrap:wrap;\n",
       "      gap: 12px;\n",
       "    }\n",
       "\n",
       "    .colab-df-convert {\n",
       "      background-color: #E8F0FE;\n",
       "      border: none;\n",
       "      border-radius: 50%;\n",
       "      cursor: pointer;\n",
       "      display: none;\n",
       "      fill: #1967D2;\n",
       "      height: 32px;\n",
       "      padding: 0 0 0 0;\n",
       "      width: 32px;\n",
       "    }\n",
       "\n",
       "    .colab-df-convert:hover {\n",
       "      background-color: #E2EBFA;\n",
       "      box-shadow: 0px 1px 2px rgba(60, 64, 67, 0.3), 0px 1px 3px 1px rgba(60, 64, 67, 0.15);\n",
       "      fill: #174EA6;\n",
       "    }\n",
       "\n",
       "    [theme=dark] .colab-df-convert {\n",
       "      background-color: #3B4455;\n",
       "      fill: #D2E3FC;\n",
       "    }\n",
       "\n",
       "    [theme=dark] .colab-df-convert:hover {\n",
       "      background-color: #434B5C;\n",
       "      box-shadow: 0px 1px 3px 1px rgba(0, 0, 0, 0.15);\n",
       "      filter: drop-shadow(0px 1px 2px rgba(0, 0, 0, 0.3));\n",
       "      fill: #FFFFFF;\n",
       "    }\n",
       "  </style>\n",
       "\n",
       "      <script>\n",
       "        const buttonEl =\n",
       "          document.querySelector('#df-8cd90a68-5e17-48ee-a7bd-22956a0b9f12 button.colab-df-convert');\n",
       "        buttonEl.style.display =\n",
       "          google.colab.kernel.accessAllowed ? 'block' : 'none';\n",
       "\n",
       "        async function convertToInteractive(key) {\n",
       "          const element = document.querySelector('#df-8cd90a68-5e17-48ee-a7bd-22956a0b9f12');\n",
       "          const dataTable =\n",
       "            await google.colab.kernel.invokeFunction('convertToInteractive',\n",
       "                                                     [key], {});\n",
       "          if (!dataTable) return;\n",
       "\n",
       "          const docLinkHtml = 'Like what you see? Visit the ' +\n",
       "            '<a target=\"_blank\" href=https://colab.research.google.com/notebooks/data_table.ipynb>data table notebook</a>'\n",
       "            + ' to learn more about interactive tables.';\n",
       "          element.innerHTML = '';\n",
       "          dataTable['output_type'] = 'display_data';\n",
       "          await google.colab.output.renderOutput(dataTable, element);\n",
       "          const docLink = document.createElement('div');\n",
       "          docLink.innerHTML = docLinkHtml;\n",
       "          element.appendChild(docLink);\n",
       "        }\n",
       "      </script>\n",
       "    </div>\n",
       "  </div>\n",
       "  "
      ],
      "text/plain": [
       "        0         1         2         3         4         5         6    \\\n",
       "0 -0.112522 -2.827204 -3.773897 -4.349751 -4.376041 -3.474986 -2.181408   \n",
       "1 -1.100878 -3.996840 -4.285843 -4.506579 -4.022377 -3.234368 -1.566126   \n",
       "2 -0.567088 -2.593450 -3.874230 -4.584095 -4.187449 -3.151462 -1.742940   \n",
       "3  0.490473 -1.914407 -3.616364 -4.318823 -4.268016 -3.881110 -2.993280   \n",
       "4  0.800232 -0.874252 -2.384761 -3.973292 -4.338224 -3.802422 -2.534510   \n",
       "\n",
       "        7         8         9    ...       131       132       133       134  \\\n",
       "0 -1.818286 -1.250522 -0.477492  ...  0.792168  0.933541  0.796958  0.578621   \n",
       "1 -0.992258 -0.754680  0.042321  ...  0.538356  0.656881  0.787490  0.724046   \n",
       "2 -1.490659 -1.183580 -0.394229  ...  0.886073  0.531452  0.311377 -0.021919   \n",
       "3 -1.671131 -1.333884 -0.965629  ...  0.350816  0.499111  0.600345  0.842069   \n",
       "4 -1.783423 -1.594450 -0.753199  ...  1.148884  0.958434  1.059025  1.371682   \n",
       "\n",
       "        135       136       137       138       139  140  \n",
       "0  0.257740  0.228077  0.123431  0.925286  0.193137  1.0  \n",
       "1  0.555784  0.476333  0.773820  1.119621 -1.436250  1.0  \n",
       "2 -0.713683 -0.532197  0.321097  0.904227 -0.421797  1.0  \n",
       "3  0.952074  0.990133  1.086798  1.403011 -0.383564  1.0  \n",
       "4  1.277392  0.960304  0.971020  1.614392  1.421456  1.0  \n",
       "\n",
       "[5 rows x 141 columns]"
      ]
     },
     "execution_count": 21,
     "metadata": {},
     "output_type": "execute_result"
    }
   ],
   "source": [
    "# Download the dataset\n",
    "import pandas as pd\n",
    "dataframe = pd.read_csv('http://storage.googleapis.com/download.tensorflow.org/data/ecg.csv', header=None)\n",
    "raw_data = dataframe.values\n",
    "print(dataframe.shape)\n",
    "dataframe.head()"
   ]
  },
  {
   "cell_type": "markdown",
   "metadata": {
    "id": "bdnlKsv8KNTh"
   },
   "source": [
    "Do train-test split"
   ]
  },
  {
   "cell_type": "code",
   "execution_count": 22,
   "metadata": {
    "id": "VIH0B_Fb-1tp"
   },
   "outputs": [],
   "source": [
    "from sklearn.model_selection import train_test_split\n",
    "labels = raw_data[:, -1]\n",
    "\n",
    "# The other data points are the electrocadriogram data\n",
    "data = raw_data[:, 0:-1]\n",
    "\n",
    "train_data, test_data, train_labels, test_labels = train_test_split(\n",
    "    data, labels, test_size=0.2, random_state=21\n",
    ")"
   ]
  },
  {
   "cell_type": "markdown",
   "metadata": {
    "id": "7_cb3uBsKQAm"
   },
   "source": [
    "Do min max scaling"
   ]
  },
  {
   "cell_type": "code",
   "execution_count": 23,
   "metadata": {
    "id": "FBZc1RCk-1xb"
   },
   "outputs": [],
   "source": [
    "min_val = tf.reduce_min(train_data)\n",
    "max_val = tf.reduce_max(train_data)\n",
    "\n",
    "train_data = (train_data - min_val) / (max_val - min_val)\n",
    "test_data = (test_data - min_val) / (max_val - min_val)\n",
    "\n",
    "train_data = tf.cast(train_data, tf.float32)\n",
    "test_data = tf.cast(test_data, tf.float32)"
   ]
  },
  {
   "cell_type": "markdown",
   "metadata": {
    "id": "H2hR0ZCDKR4u"
   },
   "source": [
    "Convert labels to suitable format. And get train data, normal data and anomalous data"
   ]
  },
  {
   "cell_type": "code",
   "execution_count": 24,
   "metadata": {
    "colab": {
     "base_uri": "https://localhost:8080/"
    },
    "id": "TFJeOuUCHYXN",
    "outputId": "877bf097-1250-483c-e703-9e3f40a9edbf"
   },
   "outputs": [
    {
     "data": {
      "text/plain": [
       "(<tf.Tensor: shape=(3998, 140), dtype=float32, numpy=\n",
       " array([[0.57030463, 0.46561658, 0.29058117, ..., 0.48504233, 0.4233502 ,\n",
       "         0.47598344],\n",
       "        [0.48320588, 0.28246963, 0.16471253, ..., 0.567567  , 0.4677294 ,\n",
       "         0.2692329 ],\n",
       "        [0.48144642, 0.35151404, 0.25972766, ..., 0.5479421 , 0.5077544 ,\n",
       "         0.54298663],\n",
       "        ...,\n",
       "        [0.41039047, 0.24164985, 0.13120876, ..., 0.5277313 , 0.5654091 ,\n",
       "         0.5023885 ],\n",
       "        [0.5397748 , 0.4140786 , 0.28101394, ..., 0.51266515, 0.43706053,\n",
       "         0.4426865 ],\n",
       "        [0.29639772, 0.15988176, 0.18883787, ..., 0.53766966, 0.545786  ,\n",
       "         0.40826708]], dtype=float32)>,\n",
       " <tf.Tensor: shape=(560, 140), dtype=float32, numpy=\n",
       " array([[0.48035768, 0.28877792, 0.19828546, ..., 0.45463306, 0.5246125 ,\n",
       "         0.3713729 ],\n",
       "        [0.45354807, 0.2557325 , 0.15979648, ..., 0.4801337 , 0.5284734 ,\n",
       "         0.49527124],\n",
       "        [0.4521779 , 0.25685105, 0.12592098, ..., 0.55448556, 0.5861353 ,\n",
       "         0.4754273 ],\n",
       "        ...,\n",
       "        [0.48304972, 0.36122933, 0.27729514, ..., 0.32799056, 0.3158066 ,\n",
       "         0.26930442],\n",
       "        [0.4090865 , 0.27907097, 0.22604261, ..., 0.39099607, 0.45987615,\n",
       "         0.42140076],\n",
       "        [0.42648116, 0.17669384, 0.14546008, ..., 0.4733389 , 0.55036914,\n",
       "         0.37805188]], dtype=float32)>,\n",
       " <tf.Tensor: shape=(1639, 140), dtype=float32, numpy=\n",
       " array([[0.4304001 , 0.35345322, 0.30342638, ..., 0.30506894, 0.262255  ,\n",
       "         0.2502011 ],\n",
       "        [0.4494794 , 0.37906834, 0.3202905 , ..., 0.31546655, 0.39611116,\n",
       "         0.46317974],\n",
       "        [0.49198422, 0.4355403 , 0.3698029 , ..., 0.5260356 , 0.52524984,\n",
       "         0.5278486 ],\n",
       "        ...,\n",
       "        [0.43457043, 0.362154  , 0.34958026, ..., 0.3179064 , 0.3426891 ,\n",
       "         0.49215436],\n",
       "        [0.4814947 , 0.4255184 , 0.38368973, ..., 0.29031053, 0.3311408 ,\n",
       "         0.4467481 ],\n",
       "        [0.4276824 , 0.3507402 , 0.31587753, ..., 0.3177887 , 0.33242297,\n",
       "         0.419218  ]], dtype=float32)>)"
      ]
     },
     "execution_count": 24,
     "metadata": {},
     "output_type": "execute_result"
    }
   ],
   "source": [
    "train_labels = train_labels.astype(bool)\n",
    "test_labels = test_labels.astype(bool)\n",
    "\n",
    "normal_train_data = train_data[train_labels]\n",
    "normal_test_data = test_data[test_labels]\n",
    "\n",
    "anomalous_train_data = train_data[~train_labels]\n",
    "anomalous_test_data = test_data[~test_labels]\n",
    "\n",
    "train_data, normal_test_data, anomalous_train_data"
   ]
  },
  {
   "cell_type": "markdown",
   "metadata": {
    "id": "Z3Wi9hBIKcbf"
   },
   "source": [
    "Visualize all the types of data - normal and anomalous to see visible differences if any"
   ]
  },
  {
   "cell_type": "code",
   "execution_count": 25,
   "metadata": {
    "colab": {
     "base_uri": "https://localhost:8080/",
     "height": 281
    },
    "id": "jAKM13s-Ha1N",
    "outputId": "fb53f69f-63ca-4cef-ad81-2ecd6fe89fbb"
   },
   "outputs": [
    {
     "data": {
      "image/png": "[encoded data removed]",
      "text/plain": [
       "<Figure size 432x288 with 1 Axes>"
      ]
     },
     "metadata": {
      "needs_background": "light"
     },
     "output_type": "display_data"
    }
   ],
   "source": [
    "plt.grid()\n",
    "selected_index = np.random.randint(normal_train_data.shape[0])\n",
    "plt.plot(np.arange(140), normal_train_data[selected_index])\n",
    "plt.title(f\"A Normal ECG - Index:{selected_index}\")\n",
    "plt.show()"
   ]
  },
  {
   "cell_type": "code",
   "execution_count": 26,
   "metadata": {
    "colab": {
     "base_uri": "https://localhost:8080/",
     "height": 281
    },
    "id": "2de2zTR7HdXf",
    "outputId": "ada004db-d125-4cdb-ae81-5f9b41f76813"
   },
   "outputs": [
    {
     "data": {
      "image/png": "[encoded data removed]",
      "text/plain": [
       "<Figure size 432x288 with 1 Axes>"
      ]
     },
     "metadata": {
      "needs_background": "light"
     },
     "output_type": "display_data"
    }
   ],
   "source": [
    "plt.grid()\n",
    "plt.plot(np.arange(140), anomalous_train_data[0])\n",
    "plt.title(\"An Anomalous ECG\")\n",
    "plt.show()"
   ]
  },
  {
   "cell_type": "markdown",
   "metadata": {
    "id": "eMANywmkKitB"
   },
   "source": [
    "Make autoencoder thats trained on normal data only, it'll recreate the ecg and classify it as anomalous if the reconstruction error is greater than one standard deviation from the normal training examples."
   ]
  },
  {
   "cell_type": "code",
   "execution_count": 29,
   "metadata": {
    "colab": {
     "base_uri": "https://localhost:8080/"
    },
    "id": "DmvgngZ-HdUt",
    "outputId": "10c21a0c-5159-435f-c373-4215f6a72f75"
   },
   "outputs": [
    {
     "name": "stdout",
     "output_type": "stream",
     "text": [
      "Epoch 1/20\n",
      "5/5 [==============================] - 1s 66ms/step - loss: 0.0582 - val_loss: 0.0534\n",
      "Epoch 2/20\n",
      "5/5 [==============================] - 0s 17ms/step - loss: 0.0564 - val_loss: 0.0520\n",
      "Epoch 3/20\n",
      "5/5 [==============================] - 0s 13ms/step - loss: 0.0543 - val_loss: 0.0501\n",
      "Epoch 4/20\n",
      "5/5 [==============================] - 0s 18ms/step - loss: 0.0511 - val_loss: 0.0481\n",
      "Epoch 5/20\n",
      "5/5 [==============================] - 0s 9ms/step - loss: 0.0468 - val_loss: 0.0466\n",
      "Epoch 6/20\n",
      "5/5 [==============================] - 0s 8ms/step - loss: 0.0426 - val_loss: 0.0451\n",
      "Epoch 7/20\n",
      "5/5 [==============================] - 0s 8ms/step - loss: 0.0386 - val_loss: 0.0426\n",
      "Epoch 8/20\n",
      "5/5 [==============================] - 0s 8ms/step - loss: 0.0351 - val_loss: 0.0410\n",
      "Epoch 9/20\n",
      "5/5 [==============================] - 0s 8ms/step - loss: 0.0323 - val_loss: 0.0402\n",
      "Epoch 10/20\n",
      "5/5 [==============================] - 0s 10ms/step - loss: 0.0302 - val_loss: 0.0389\n",
      "Epoch 11/20\n",
      "5/5 [==============================] - 0s 12ms/step - loss: 0.0286 - val_loss: 0.0383\n",
      "Epoch 12/20\n",
      "5/5 [==============================] - 0s 8ms/step - loss: 0.0272 - val_loss: 0.0376\n",
      "Epoch 13/20\n",
      "5/5 [==============================] - 0s 9ms/step - loss: 0.0261 - val_loss: 0.0369\n",
      "Epoch 14/20\n",
      "5/5 [==============================] - 0s 8ms/step - loss: 0.0252 - val_loss: 0.0364\n",
      "Epoch 15/20\n",
      "5/5 [==============================] - 0s 8ms/step - loss: 0.0245 - val_loss: 0.0358\n",
      "Epoch 16/20\n",
      "5/5 [==============================] - 0s 9ms/step - loss: 0.0237 - val_loss: 0.0353\n",
      "Epoch 17/20\n",
      "5/5 [==============================] - 0s 9ms/step - loss: 0.0230 - val_loss: 0.0348\n",
      "Epoch 18/20\n",
      "5/5 [==============================] - 0s 11ms/step - loss: 0.0223 - val_loss: 0.0344\n",
      "Epoch 19/20\n",
      "5/5 [==============================] - 0s 9ms/step - loss: 0.0218 - val_loss: 0.0342\n",
      "Epoch 20/20\n",
      "5/5 [==============================] - 0s 9ms/step - loss: 0.0213 - val_loss: 0.0340\n"
     ]
    }
   ],
   "source": [
    "\n",
    "def build_autoencoder():\n",
    "  # Encoder Network\n",
    "  encoder = tf.keras.Sequential()\n",
    "  encoder.add(Dense(32, activation=\"relu\"))\n",
    "  encoder.add(Dense(16, activation=\"relu\"))\n",
    "  encoder.add(Dense(8, activation=\"relu\"))\n",
    "  # Decoder Network\n",
    "  decoder = tf.keras.Sequential()\n",
    "  decoder.add(Dense(16, activation=\"relu\"))\n",
    "  decoder.add(Dense(32, activation=\"relu\"))\n",
    "  decoder.add(Dense(140, activation=\"sigmoid\"))\n",
    "  return encoder,decoder\n",
    "\n",
    "# Get encoder and Decoder\n",
    "encoder, decoder = build_autoencoder()\n",
    "# Use Functional API to link them together\n",
    "inp = Input((normal_train_data.shape[1:]))\n",
    "code = encoder(inp)\n",
    "reconstruction = decoder(code)\n",
    "\n",
    "autoencoder = tf.keras.Model(inp,reconstruction)\n",
    "\n",
    "\n",
    "# autoencoder = AnomalyDetector()\n",
    "autoencoder.compile(optimizer='adam', loss='mae')\n",
    "history2 = autoencoder.fit(normal_train_data,\n",
    "                          normal_train_data,\n",
    "                          epochs=20,\n",
    "                          batch_size=512,\n",
    "                          validation_data=(test_data, test_data),\n",
    "                          shuffle=True)"
   ]
  },
  {
   "cell_type": "markdown",
   "metadata": {
    "id": "oygiLrkIK2aO"
   },
   "source": [
    "We plot the loss and val loss plots"
   ]
  },
  {
   "cell_type": "code",
   "execution_count": 30,
   "metadata": {
    "colab": {
     "base_uri": "https://localhost:8080/",
     "height": 286
    },
    "id": "lRPgANMaHdSV",
    "outputId": "b980a4e2-85d3-482c-b5da-8fecf4bcca7d"
   },
   "outputs": [
    {
     "data": {
      "text/plain": [
       "<matplotlib.legend.Legend at 0x7f26d068e100>"
      ]
     },
     "execution_count": 30,
     "metadata": {},
     "output_type": "execute_result"
    },
    {
     "data": {
      "image/png": "[encoded data removed]",
      "text/plain": [
       "<Figure size 432x288 with 1 Axes>"
      ]
     },
     "metadata": {
      "needs_background": "light"
     },
     "output_type": "display_data"
    }
   ],
   "source": [
    "plt.plot(history2.history[\"loss\"], label=\"Training Loss\")\n",
    "plt.plot(history2.history[\"val_loss\"], label=\"Validation Loss\")\n",
    "plt.legend()"
   ]
  },
  {
   "cell_type": "markdown",
   "metadata": {
    "id": "LGVWvhM4K5Ne"
   },
   "source": [
    "We observe the differences between input ecg and reconstructed ecg."
   ]
  },
  {
   "cell_type": "code",
   "execution_count": 32,
   "metadata": {
    "colab": {
     "base_uri": "https://localhost:8080/",
     "height": 281
    },
    "id": "FP8xsob5Hc_1",
    "outputId": "6eaeda2e-cab9-4ef4-9b90-ebff0872651b"
   },
   "outputs": [
    {
     "data": {
      "image/png": "[encoded data removed]",
      "text/plain": [
       "<Figure size 432x288 with 1 Axes>"
      ]
     },
     "metadata": {
      "needs_background": "light"
     },
     "output_type": "display_data"
    }
   ],
   "source": [
    "encoded_data =encoder(normal_test_data).numpy()\n",
    "decoded_data = decoder(encoded_data).numpy()\n",
    "\n",
    "selected_index = np.random.randint(normal_test_data.shape[0])\n",
    "\n",
    "plt.plot(normal_test_data[selected_index], 'b')\n",
    "plt.plot(decoded_data[selected_index], 'r')\n",
    "plt.title(f'Normal Test Example - {selected_index}')\n",
    "plt.fill_between(np.arange(140), decoded_data[selected_index], normal_test_data[selected_index], color='lightcoral')\n",
    "plt.legend(labels=[\"Input\", \"Reconstruction\", \"Error\"])\n",
    "plt.show()"
   ]
  },
  {
   "cell_type": "markdown",
   "metadata": {
    "id": "GJbImK4wLQA4"
   },
   "source": [
    "For normal ecg input, we observe that the reconstructed ecg is very close to the input."
   ]
  },
  {
   "cell_type": "code",
   "execution_count": 34,
   "metadata": {
    "colab": {
     "base_uri": "https://localhost:8080/",
     "height": 281
    },
    "id": "Y4N4ce0uIE2V",
    "outputId": "e01784ca-38f7-4d0f-a2f7-3a3fd503faa8"
   },
   "outputs": [
    {
     "data": {
      "image/png": "[encoded data removed]",
      "text/plain": [
       "<Figure size 432x288 with 1 Axes>"
      ]
     },
     "metadata": {
      "needs_background": "light"
     },
     "output_type": "display_data"
    }
   ],
   "source": [
    "encoded_data =encoder(anomalous_test_data).numpy()\n",
    "decoded_data =decoder(encoded_data).numpy()\n",
    "\n",
    "selected_index = np.random.randint(anomalous_test_data.shape[0])\n",
    "\n",
    "plt.plot(anomalous_test_data[selected_index], 'b')\n",
    "plt.plot(decoded_data[selected_index], 'r')\n",
    "plt.title(f'Normal Test Example - {selected_index}')\n",
    "plt.fill_between(np.arange(140), decoded_data[selected_index], anomalous_test_data[selected_index], color='lightcoral')\n",
    "plt.legend(labels=[\"Input\", \"Reconstruction\", \"Error\"])\n",
    "plt.show()"
   ]
  },
  {
   "cell_type": "markdown",
   "metadata": {
    "id": "uxTRMNfYLcUo"
   },
   "source": [
    "For anomlous input we observe massive differences between input and reconstruction therefore we classify it as anomalous."
   ]
  },
  {
   "cell_type": "code",
   "execution_count": 35,
   "metadata": {
    "colab": {
     "base_uri": "https://localhost:8080/",
     "height": 296
    },
    "id": "lh25wfuKIKLN",
    "outputId": "4d816b61-49ea-4319-e34c-1f08535407a1"
   },
   "outputs": [
    {
     "name": "stdout",
     "output_type": "stream",
     "text": [
      "74/74 [==============================] - 0s 2ms/step\n"
     ]
    },
    {
     "data": {
      "image/png": "[encoded data removed]",
      "text/plain": [
       "<Figure size 432x288 with 1 Axes>"
      ]
     },
     "metadata": {
      "needs_background": "light"
     },
     "output_type": "display_data"
    }
   ],
   "source": [
    "reconstructions = autoencoder.predict(normal_train_data)\n",
    "train_loss = tf.keras.losses.mae(reconstructions, normal_train_data)\n",
    "\n",
    "plt.hist(train_loss, bins=50)\n",
    "plt.xlabel(\"Train loss\")\n",
    "plt.ylabel(\"No of examples\")\n",
    "plt.show()"
   ]
  },
  {
   "cell_type": "markdown",
   "metadata": {
    "id": "wvnc4mJvOWWQ"
   },
   "source": [
    "We decide the threshold vaklue for classification. That is 1 std deviation away."
   ]
  },
  {
   "cell_type": "code",
   "execution_count": 36,
   "metadata": {
    "colab": {
     "base_uri": "https://localhost:8080/"
    },
    "id": "sESi_sfPISIS",
    "outputId": "c9d4ec52-cf9a-4ccd-faa1-967eb53a95b8"
   },
   "outputs": [
    {
     "name": "stdout",
     "output_type": "stream",
     "text": [
      "Threshold:  0.033415224\n"
     ]
    }
   ],
   "source": [
    "threshold = np.mean(train_loss) + np.std(train_loss)\n",
    "print(\"Threshold: \", threshold)"
   ]
  },
  {
   "cell_type": "code",
   "execution_count": 40,
   "metadata": {
    "colab": {
     "base_uri": "https://localhost:8080/",
     "height": 296
    },
    "id": "NqZB1d2OISGM",
    "outputId": "bb7cca73-1586-4313-bb2d-a23486136c15"
   },
   "outputs": [
    {
     "name": "stdout",
     "output_type": "stream",
     "text": [
      "14/14 [==============================] - 0s 2ms/step\n"
     ]
    },
    {
     "data": {
      "image/png": "[encoded data removed]",
      "text/plain": [
       "<Figure size 432x288 with 1 Axes>"
      ]
     },
     "metadata": {
      "needs_background": "light"
     },
     "output_type": "display_data"
    }
   ],
   "source": [
    "reconstructions = autoencoder.predict(anomalous_test_data)\n",
    "test_loss = tf.keras.losses.mae(reconstructions, anomalous_test_data)\n",
    "\n",
    "plt.hist(test_loss[None, :], bins=50)\n",
    "plt.xlabel(\"Test loss\")\n",
    "plt.ylabel(\"No of examples\")\n",
    "plt.show()"
   ]
  },
  {
   "cell_type": "markdown",
   "metadata": {
    "id": "mKh09bd-OeXv"
   },
   "source": [
    "Output the model metrics."
   ]
  },
  {
   "cell_type": "code",
   "execution_count": 38,
   "metadata": {
    "colab": {
     "base_uri": "https://localhost:8080/"
    },
    "id": "Sloi5hDdISD6",
    "outputId": "c210057d-5958-4cd5-8f91-22c253576f9d"
   },
   "outputs": [
    {
     "name": "stdout",
     "output_type": "stream",
     "text": [
      "Accuracy = 0.944\n",
      "Precision = 0.9921875\n",
      "Recall = 0.9071428571428571\n"
     ]
    }
   ],
   "source": [
    "from sklearn.metrics import accuracy_score, precision_score,recall_score\n",
    "def predict(model, data, threshold):\n",
    "    reconstructions = model(data)\n",
    "    loss = tf.keras.losses.mae(reconstructions, data)\n",
    "    return tf.math.less(loss, threshold)\n",
    "\n",
    "def print_stats(predictions, labels):\n",
    "    print(\"Accuracy = {}\".format(accuracy_score(labels, predictions)))\n",
    "    print(\"Precision = {}\".format(precision_score(labels, predictions)))\n",
    "    print(\"Recall = {}\".format(recall_score(labels, predictions)))\n",
    "    \n",
    "preds = predict(autoencoder, test_data, threshold)\n",
    "print_stats(preds, test_labels)"
   ]
  },
  {
   "cell_type": "code",
   "execution_count": null,
   "metadata": {
    "id": "PY22vf1EIRvK"
   },
   "outputs": [],
   "source": []
  }
 ],
 "metadata": {
  "accelerator": "GPU",
  "colab": {
   "provenance": []
  },
  "gpuClass": "standard",
  "kernelspec": {
   "display_name": "Python 3 (ipykernel)",
   "language": "python",
   "name": "python3"
  },
  "language_info": {
   "codemirror_mode": {
    "name": "ipython",
    "version": 3
   },
   "file_extension": ".py",
   "mimetype": "text/x-python",
   "name": "python",
   "nbconvert_exporter": "python",
   "pygments_lexer": "ipython3",
   "version": "3.9.13"
  }
 },
 "nbformat": 4,
 "nbformat_minor": 1
}
