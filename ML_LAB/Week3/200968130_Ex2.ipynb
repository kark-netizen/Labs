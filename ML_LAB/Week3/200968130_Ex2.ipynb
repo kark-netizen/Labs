{
 "cells": [
  {
   "cell_type": "code",
   "execution_count": 1,
   "id": "a28e85b7",
   "metadata": {},
   "outputs": [
    {
     "name": "stdout",
     "output_type": "stream",
     "text": [
      "Requirement already satisfied: textblob in c:\\users\\kartikeya\\anaconda3\\lib\\site-packages (0.17.1)\n",
      "Requirement already satisfied: nltk>=3.1 in c:\\users\\kartikeya\\anaconda3\\lib\\site-packages (from textblob) (3.6.5)\n",
      "Requirement already satisfied: click in c:\\users\\kartikeya\\anaconda3\\lib\\site-packages (from nltk>=3.1->textblob) (8.0.3)\n",
      "Requirement already satisfied: joblib in c:\\users\\kartikeya\\anaconda3\\lib\\site-packages (from nltk>=3.1->textblob) (1.1.0)\n",
      "Requirement already satisfied: regex>=2021.8.3 in c:\\users\\kartikeya\\anaconda3\\lib\\site-packages (from nltk>=3.1->textblob) (2021.8.3)\n",
      "Requirement already satisfied: tqdm in c:\\users\\kartikeya\\anaconda3\\lib\\site-packages (from nltk>=3.1->textblob) (4.62.3)\n",
      "Requirement already satisfied: colorama in c:\\users\\kartikeya\\anaconda3\\lib\\site-packages (from click->nltk>=3.1->textblob) (0.4.4)\n"
     ]
    }
   ],
   "source": [
    "! pip install textblob"
   ]
  },
  {
   "cell_type": "code",
   "execution_count": 2,
   "id": "65fb9c0d",
   "metadata": {},
   "outputs": [
    {
     "name": "stdout",
     "output_type": "stream",
     "text": [
      "Collecting imblearn\n",
      "  Using cached imblearn-0.0-py2.py3-none-any.whl (1.9 kB)\n",
      "Collecting imbalanced-learn\n",
      "  Using cached imbalanced_learn-0.9.0-py3-none-any.whl (199 kB)\n",
      "Requirement already satisfied: threadpoolctl>=2.0.0 in c:\\users\\kartikeya\\anaconda3\\lib\\site-packages (from imbalanced-learn->imblearn) (2.2.0)\n",
      "Requirement already satisfied: scipy>=1.1.0 in c:\\users\\kartikeya\\anaconda3\\lib\\site-packages (from imbalanced-learn->imblearn) (1.7.1)\n",
      "Requirement already satisfied: numpy>=1.14.6 in c:\\users\\kartikeya\\anaconda3\\lib\\site-packages (from imbalanced-learn->imblearn) (1.20.3)\n",
      "Requirement already satisfied: scikit-learn>=1.0.1 in c:\\users\\kartikeya\\anaconda3\\lib\\site-packages (from imbalanced-learn->imblearn) (1.0.2)\n",
      "Requirement already satisfied: joblib>=0.11 in c:\\users\\kartikeya\\anaconda3\\lib\\site-packages (from imbalanced-learn->imblearn) (1.1.0)\n",
      "Installing collected packages: imbalanced-learn, imblearn\n",
      "Successfully installed imbalanced-learn-0.9.0 imblearn-0.0\n"
     ]
    }
   ],
   "source": [
    "! pip install imblearn"
   ]
  },
  {
   "cell_type": "markdown",
   "id": "50648b65",
   "metadata": {},
   "source": [
    "## Importing Libraries"
   ]
  },
  {
   "cell_type": "code",
   "execution_count": 3,
   "id": "a6790d25",
   "metadata": {},
   "outputs": [],
   "source": [
    "import pandas as pd\n",
    "import numpy as np\n",
    "import matplotlib.pyplot as plt\n",
    "import seaborn as sns\n",
    "\n",
    "from sklearn.model_selection import train_test_split\n",
    "from sklearn.pipeline import Pipeline\n",
    "from sklearn.model_selection import KFold, cross_val_score\n",
    "from sklearn.naive_bayes import GaussianNB\n",
    "from sklearn.naive_bayes import BernoulliNB\n",
    "from sklearn.preprocessing import OneHotEncoder\n",
    "from sklearn.preprocessing import OrdinalEncoder\n",
    "from sklearn.preprocessing import StandardScaler\n",
    "from sklearn.compose import ColumnTransformer\n",
    "from sklearn.impute import SimpleImputer\n",
    "from sklearn.metrics import confusion_matrix\n",
    "from sklearn.metrics import ConfusionMatrixDisplay\n",
    "from sklearn.preprocessing import MinMaxScaler\n",
    "from sklearn.metrics import  confusion_matrix, roc_curve, roc_auc_score\n",
    "\n",
    "from imblearn.under_sampling import RandomUnderSampler\n",
    "\n",
    "from sklearn import metrics\n",
    "\n",
    "from scipy.stats import chi2_contingency\n",
    "\n",
    "from textblob import TextBlob\n",
    "\n",
    "%matplotlib inline"
   ]
  },
  {
   "cell_type": "markdown",
   "id": "260384e4",
   "metadata": {},
   "source": [
    "## Importing Dataset"
   ]
  },
  {
   "cell_type": "code",
   "execution_count": 4,
   "id": "0086a09d",
   "metadata": {},
   "outputs": [
    {
     "data": {
      "text/html": [
       "<div>\n",
       "<style scoped>\n",
       "    .dataframe tbody tr th:only-of-type {\n",
       "        vertical-align: middle;\n",
       "    }\n",
       "\n",
       "    .dataframe tbody tr th {\n",
       "        vertical-align: top;\n",
       "    }\n",
       "\n",
       "    .dataframe thead th {\n",
       "        text-align: right;\n",
       "    }\n",
       "</style>\n",
       "<table border=\"1\" class=\"dataframe\">\n",
       "  <thead>\n",
       "    <tr style=\"text-align: right;\">\n",
       "      <th></th>\n",
       "      <th>Unnamed: 0</th>\n",
       "      <th>Clothing ID</th>\n",
       "      <th>Age</th>\n",
       "      <th>Title</th>\n",
       "      <th>Review Text</th>\n",
       "      <th>Rating</th>\n",
       "      <th>Recommended IND</th>\n",
       "      <th>Positive Feedback Count</th>\n",
       "      <th>Division Name</th>\n",
       "      <th>Department Name</th>\n",
       "      <th>Class Name</th>\n",
       "    </tr>\n",
       "  </thead>\n",
       "  <tbody>\n",
       "    <tr>\n",
       "      <th>0</th>\n",
       "      <td>0</td>\n",
       "      <td>767</td>\n",
       "      <td>33</td>\n",
       "      <td>NaN</td>\n",
       "      <td>Absolutely wonderful - silky and sexy and comf...</td>\n",
       "      <td>4</td>\n",
       "      <td>1</td>\n",
       "      <td>0</td>\n",
       "      <td>Initmates</td>\n",
       "      <td>Intimate</td>\n",
       "      <td>Intimates</td>\n",
       "    </tr>\n",
       "    <tr>\n",
       "      <th>1</th>\n",
       "      <td>1</td>\n",
       "      <td>1080</td>\n",
       "      <td>34</td>\n",
       "      <td>NaN</td>\n",
       "      <td>Love this dress!  it's sooo pretty.  i happene...</td>\n",
       "      <td>5</td>\n",
       "      <td>1</td>\n",
       "      <td>4</td>\n",
       "      <td>General</td>\n",
       "      <td>Dresses</td>\n",
       "      <td>Dresses</td>\n",
       "    </tr>\n",
       "    <tr>\n",
       "      <th>2</th>\n",
       "      <td>2</td>\n",
       "      <td>1077</td>\n",
       "      <td>60</td>\n",
       "      <td>Some major design flaws</td>\n",
       "      <td>I had such high hopes for this dress and reall...</td>\n",
       "      <td>3</td>\n",
       "      <td>0</td>\n",
       "      <td>0</td>\n",
       "      <td>General</td>\n",
       "      <td>Dresses</td>\n",
       "      <td>Dresses</td>\n",
       "    </tr>\n",
       "    <tr>\n",
       "      <th>3</th>\n",
       "      <td>3</td>\n",
       "      <td>1049</td>\n",
       "      <td>50</td>\n",
       "      <td>My favorite buy!</td>\n",
       "      <td>I love, love, love this jumpsuit. it's fun, fl...</td>\n",
       "      <td>5</td>\n",
       "      <td>1</td>\n",
       "      <td>0</td>\n",
       "      <td>General Petite</td>\n",
       "      <td>Bottoms</td>\n",
       "      <td>Pants</td>\n",
       "    </tr>\n",
       "    <tr>\n",
       "      <th>4</th>\n",
       "      <td>4</td>\n",
       "      <td>847</td>\n",
       "      <td>47</td>\n",
       "      <td>Flattering shirt</td>\n",
       "      <td>This shirt is very flattering to all due to th...</td>\n",
       "      <td>5</td>\n",
       "      <td>1</td>\n",
       "      <td>6</td>\n",
       "      <td>General</td>\n",
       "      <td>Tops</td>\n",
       "      <td>Blouses</td>\n",
       "    </tr>\n",
       "  </tbody>\n",
       "</table>\n",
       "</div>"
      ],
      "text/plain": [
       "   Unnamed: 0  Clothing ID  Age                    Title  \\\n",
       "0           0          767   33                      NaN   \n",
       "1           1         1080   34                      NaN   \n",
       "2           2         1077   60  Some major design flaws   \n",
       "3           3         1049   50         My favorite buy!   \n",
       "4           4          847   47         Flattering shirt   \n",
       "\n",
       "                                         Review Text  Rating  Recommended IND  \\\n",
       "0  Absolutely wonderful - silky and sexy and comf...       4                1   \n",
       "1  Love this dress!  it's sooo pretty.  i happene...       5                1   \n",
       "2  I had such high hopes for this dress and reall...       3                0   \n",
       "3  I love, love, love this jumpsuit. it's fun, fl...       5                1   \n",
       "4  This shirt is very flattering to all due to th...       5                1   \n",
       "\n",
       "   Positive Feedback Count   Division Name Department Name Class Name  \n",
       "0                        0       Initmates        Intimate  Intimates  \n",
       "1                        4         General         Dresses    Dresses  \n",
       "2                        0         General         Dresses    Dresses  \n",
       "3                        0  General Petite         Bottoms      Pants  \n",
       "4                        6         General            Tops    Blouses  "
      ]
     },
     "execution_count": 4,
     "metadata": {},
     "output_type": "execute_result"
    }
   ],
   "source": [
    "df = pd.read_csv('Womens Clothing E-Commerce Reviews.csv')\n",
    "df.head()"
   ]
  },
  {
   "cell_type": "markdown",
   "id": "b58256b2",
   "metadata": {},
   "source": [
    "## Data Preprocessing"
   ]
  },
  {
   "cell_type": "markdown",
   "id": "6b6bbb39",
   "metadata": {},
   "source": [
    "### Removing Spaces from Column Names"
   ]
  },
  {
   "cell_type": "code",
   "execution_count": 5,
   "id": "e87778df",
   "metadata": {},
   "outputs": [],
   "source": [
    "col_names = df.columns.str.replace(' ','')\n",
    "col_names\n",
    "df.columns = col_names"
   ]
  },
  {
   "cell_type": "code",
   "execution_count": 6,
   "id": "4d138e69",
   "metadata": {},
   "outputs": [],
   "source": [
    "df.drop(columns='Unnamed:0' , inplace= True)"
   ]
  },
  {
   "cell_type": "code",
   "execution_count": 7,
   "id": "1602d3be",
   "metadata": {
    "scrolled": true
   },
   "outputs": [
    {
     "name": "stdout",
     "output_type": "stream",
     "text": [
      "<class 'pandas.core.frame.DataFrame'>\n",
      "RangeIndex: 23486 entries, 0 to 23485\n",
      "Data columns (total 10 columns):\n",
      " #   Column                 Non-Null Count  Dtype \n",
      "---  ------                 --------------  ----- \n",
      " 0   ClothingID             23486 non-null  int64 \n",
      " 1   Age                    23486 non-null  int64 \n",
      " 2   Title                  19676 non-null  object\n",
      " 3   ReviewText             22641 non-null  object\n",
      " 4   Rating                 23486 non-null  int64 \n",
      " 5   RecommendedIND         23486 non-null  int64 \n",
      " 6   PositiveFeedbackCount  23486 non-null  int64 \n",
      " 7   DivisionName           23472 non-null  object\n",
      " 8   DepartmentName         23472 non-null  object\n",
      " 9   ClassName              23472 non-null  object\n",
      "dtypes: int64(5), object(5)\n",
      "memory usage: 1.8+ MB\n"
     ]
    }
   ],
   "source": [
    "df.info()"
   ]
  },
  {
   "cell_type": "markdown",
   "id": "7cee2d6b",
   "metadata": {},
   "source": [
    "### Missing Values"
   ]
  },
  {
   "cell_type": "code",
   "execution_count": 8,
   "id": "43aaeea9",
   "metadata": {},
   "outputs": [
    {
     "data": {
      "text/plain": [
       "<AxesSubplot:title={'center':'Missing Columns'}, ylabel='% missing'>"
      ]
     },
     "execution_count": 8,
     "metadata": {},
     "output_type": "execute_result"
    },
    {
     "data": {
      "image/png": "[encoded data removed]",
      "text/plain": [
       "<Figure size 432x288 with 1 Axes>"
      ]
     },
     "metadata": {
      "needs_background": "light"
     },
     "output_type": "display_data"
    }
   ],
   "source": [
    "missing_percent = df.isna().sum(axis=0)\n",
    "missing_percent = missing_percent/df.shape[0]\n",
    "missing_percent.plot(kind='bar',\n",
    "                     title = 'Missing Columns',\n",
    "                     ylabel = '% missing',\n",
    "                     ylim = (0,1.01),\n",
    "                     grid = True)"
   ]
  },
  {
   "cell_type": "markdown",
   "id": "08cd9154",
   "metadata": {},
   "source": [
    "#### Dropping Missing Values Because they are Low"
   ]
  },
  {
   "cell_type": "code",
   "execution_count": 9,
   "id": "7582190d",
   "metadata": {},
   "outputs": [],
   "source": [
    "df.dropna(inplace= True)"
   ]
  },
  {
   "cell_type": "code",
   "execution_count": 10,
   "id": "b278f31b",
   "metadata": {},
   "outputs": [
    {
     "data": {
      "text/plain": [
       "ClothingID               0\n",
       "Age                      0\n",
       "Title                    0\n",
       "ReviewText               0\n",
       "Rating                   0\n",
       "RecommendedIND           0\n",
       "PositiveFeedbackCount    0\n",
       "DivisionName             0\n",
       "DepartmentName           0\n",
       "ClassName                0\n",
       "dtype: int64"
      ]
     },
     "execution_count": 10,
     "metadata": {},
     "output_type": "execute_result"
    }
   ],
   "source": [
    "df.isna().sum()"
   ]
  },
  {
   "cell_type": "markdown",
   "id": "4fb703bd",
   "metadata": {},
   "source": [
    "### Remove Items that have been reviewed less than 5 times"
   ]
  },
  {
   "cell_type": "code",
   "execution_count": 11,
   "id": "bba309d0",
   "metadata": {},
   "outputs": [
    {
     "name": "stdout",
     "output_type": "stream",
     "text": [
      "Maximum Number of Reviews  871\n",
      "Maximum Number of Reviews  1\n"
     ]
    }
   ],
   "source": [
    "review_count = df['ClothingID'].value_counts()\n",
    "\n",
    "print(\"Maximum Number of Reviews \", review_count.max())\n",
    "print(\"Maximum Number of Reviews \", review_count.min())"
   ]
  },
  {
   "cell_type": "code",
   "execution_count": 12,
   "id": "609ab9b9",
   "metadata": {},
   "outputs": [],
   "source": [
    "df = df.groupby('ClothingID').filter(lambda x : x['ClothingID'].shape[0]>5)"
   ]
  },
  {
   "cell_type": "code",
   "execution_count": 13,
   "id": "182075b7",
   "metadata": {
    "scrolled": true
   },
   "outputs": [
    {
     "name": "stdout",
     "output_type": "stream",
     "text": [
      "Maximum Number of Reviews  871\n",
      "Maximum Number of Reviews  6\n"
     ]
    }
   ],
   "source": [
    "review_count = df['ClothingID'].value_counts()\n",
    "\n",
    "print(\"Maximum Number of Reviews \", review_count.max())\n",
    "print(\"Maximum Number of Reviews \", review_count.min())"
   ]
  },
  {
   "cell_type": "markdown",
   "id": "b088161a",
   "metadata": {},
   "source": [
    "### Removing Special Characters"
   ]
  },
  {
   "cell_type": "code",
   "execution_count": 14,
   "id": "13a762f0",
   "metadata": {},
   "outputs": [],
   "source": [
    "special_characters = ['!','#','$','%', '&','@','[',']','_',',','.']\n",
    "for _,ch in enumerate(special_characters):\n",
    "    df['ReviewText'] = df['ReviewText'].str.replace(ch,'',regex=True)"
   ]
  },
  {
   "cell_type": "markdown",
   "id": "725d02d6",
   "metadata": {},
   "source": [
    "### Converting Review Text to Lower Text"
   ]
  },
  {
   "cell_type": "code",
   "execution_count": 15,
   "id": "e34eaf61",
   "metadata": {},
   "outputs": [],
   "source": [
    "df['ReviewText'] = df['ReviewText'].str.lower()"
   ]
  },
  {
   "cell_type": "markdown",
   "id": "7390e963",
   "metadata": {},
   "source": [
    "### Removing Contractions"
   ]
  },
  {
   "cell_type": "code",
   "execution_count": 16,
   "id": "59543c4e",
   "metadata": {},
   "outputs": [],
   "source": [
    "contractions = {\n",
    "\"a'ight\":\"alright\",\n",
    "\"ain't\":\"are not\",\n",
    "\"amn't\":\"am not\",\n",
    "\"aren't\":\"are not\",\n",
    "\"can't\":\"cannot\",\n",
    "\"'cause\": \"because\",\n",
    "\"could've\":\"could have\",\n",
    "\"couldn't\":\"could not\",\n",
    "\"couldn't've\":\"could not have\",\n",
    "\"daren't\":\"dare not\",\n",
    "\"daresn't\":\"dare not\",\n",
    "\"dasn't\":\"dare not\",\n",
    "\"didn't\":\"did not\",\n",
    "\"doesn't\":\"does not\",\n",
    "\"don't\":\"do not\",\n",
    "\"everybody's\":\"everybody is\",\n",
    "\"everyone's\":\"everyone is\",\n",
    "\"giv'n\":\"given\",\n",
    "\"gonna\":\"going to\",\n",
    "\"gon't\":\"go not\", \n",
    "\"gotta\":\"got to\",\n",
    "\"hadn't\":\"had not\",\n",
    "\"had've\":\"had have\",\n",
    "\"hasn't\":\"has not\",\n",
    "\"haven't\":\"have not\",\n",
    "\"he'd\":\"he had\", \n",
    "\"he'll\":\"he will\",\n",
    "\"he's\":\"he is\",\n",
    "\"here's\":\"here is\",\n",
    "\"how'd\":\"how did\",\n",
    "\"how'll\":\"how will\",\n",
    "\"how're\":\"how are\",\n",
    "\"how's\":\"how is\",\n",
    "\"I'd\":\"I had\",\n",
    "\"I'd've\":\"I would have\",\n",
    "\"I'd'nt\":\"I would not\",\n",
    "\"I'd'nt've\":\"I would not have\",\n",
    "\"I'll\":\"I will\",\n",
    "\"I'm\":\"I am\",\n",
    "\"I've\":\"I have\",\n",
    "\"isn't\":\"is not\",\n",
    "\"it'd\":\"it would\",\n",
    "\"it'll\":\"it will\",\n",
    "\"it's\":\"it is\",\n",
    "\"let's\":\"let us\",\n",
    "\"ma'am\":\"madam\",\n",
    "\"mayn't\":\"may not\",\n",
    "\"may've\":\"may have\",\n",
    "\"mightn't\":\"might not\",\n",
    "\"might've\":\"might have\",\n",
    "\"mustn't\":\"must not\",\n",
    "\"mustn't've\":\"must not have\",\n",
    "\"must've\":\"must have\",\n",
    "\"needn't\":\"need not\",\n",
    "\"needn't've\":\"need not have\",\n",
    "\"o'clock\":\"of the clock\",\n",
    "\"oughtn't\":\"ought not\",\n",
    "\"oughtn't've\":\"ought not have\",\n",
    "\"shan't\":\"shall not\",\n",
    "\"she'd\":\"she would\",\n",
    "\"she'll\":\"she will\",\n",
    "\"she's\":\"she is\",\n",
    "\"should've\":\"should have\",\n",
    "\"shouldn't\":\"should not\",\n",
    "\"shouldn't've\":\"should not have\",\n",
    "\"somebody's\":\"somebody is\",\n",
    "\"someone's\":\"someone is\",\n",
    "\"something's\":\"something is\",\n",
    "\"so're\":\"so are\",\n",
    "\"so’s\":\"so is\",\n",
    "\"so’ve\":\"so have\",\n",
    "\"that'll\":\"that will\",\n",
    "\"that're\":\"that are\",\n",
    "\"that's\":\"that is\",\n",
    "\"that'd\":\"that would\",\n",
    "\"there'd\":\"there would\",\n",
    "\"there'll\":\"there will\",\n",
    "\"there're\":\"there are\",\n",
    "\"there's\":\"there is\",\n",
    "\"these're\":\"these are\",\n",
    "\"these've\":\"these have\",\n",
    "\"they'd\":\"they would\",\n",
    "\"they'll\":\"they will\",\n",
    "\"they're\":\"they are\",\n",
    "\"they've\":\"they have\",\n",
    "\"this's\":\"this is\",\n",
    "\"those're\":\"those are\",\n",
    "\"those've\":\"those have\",\n",
    "\"to've\":\"to have\",\n",
    "\"wasn't\":\"was not\",\n",
    "\"we'd\":\"we would\",\n",
    "\"we'd've\":\"we would have\",\n",
    "\"we'll\":\"we will\",\n",
    "\"we're\":\"we are\",\n",
    "\"we've\":\"we have\",\n",
    "\"weren't\":\"were not\",\n",
    "\"what'd\":\"what did\",\n",
    "\"what'll\":\"what will\",\n",
    "\"what're\":\"what are\",\n",
    "\"what's\":\"what is\",\n",
    "\"what've\":\"what have\",\n",
    "\"when's\":\"when is\",\n",
    "\"where'd\":\"where did\",\n",
    "\"where'll\":\"where will\",\n",
    "\"where're\":\"where are\",\n",
    "\"where's\":\"where is\",\n",
    "\"where've\":\"where have\",\n",
    "\"which'd\":\"which would\",\n",
    "\"which'll\":\"which will\",\n",
    "\"which're\":\"which are\",\n",
    "\"which's\":\"which is\",\n",
    "\"which've\":\"which have\",\n",
    "\"who'd\":\"who would\",\n",
    "\"who'd've\":\"who would have\",\n",
    "\"who'll\":\"who will\",\n",
    "\"who're\":\"who are\",\n",
    "\"who's\":\"who is\",\n",
    "\"who've\":\"who have\",\n",
    "\"why'd\":\"why did\",\n",
    "\"why're\":\"why are\",\n",
    "\"why's\":\"why is\",\n",
    "\"won't\":\"will not\",\n",
    "\"would've\":\"would have\",\n",
    "\"wouldn't\":\"would not\",\n",
    "\"wouldn't've\":\"would not have\",\n",
    "\"y'at\":\"you at\",\n",
    "\"yes’m\":\"yes madam\",\n",
    "\"you'd\":\"you would\",\n",
    "\"you'll\":\"you will\",\n",
    "\"you're\":\"you are\",\n",
    "\"you've\":\"you have\"}"
   ]
  },
  {
   "cell_type": "code",
   "execution_count": 17,
   "id": "ea3f9238",
   "metadata": {},
   "outputs": [],
   "source": [
    "def cont_to_exp(x):\n",
    "    if type(x) is str:\n",
    "        x = x.replace('\\\\','')\n",
    "        for key in contractions:\n",
    "            value = contractions[key]\n",
    "            x = x.replace(key, value)\n",
    "        return x\n",
    "    else:\n",
    "        return x"
   ]
  },
  {
   "cell_type": "code",
   "execution_count": 18,
   "id": "93912112",
   "metadata": {},
   "outputs": [],
   "source": [
    "df['ReviewText'] = df['ReviewText'].apply(lambda x:cont_to_exp(x))"
   ]
  },
  {
   "cell_type": "markdown",
   "id": "aec87064",
   "metadata": {},
   "source": [
    "### Performing Sentiment Anaysis"
   ]
  },
  {
   "cell_type": "code",
   "execution_count": 19,
   "id": "ca445804",
   "metadata": {},
   "outputs": [],
   "source": [
    "df['polarity'] = df['ReviewText'].apply(lambda x : TextBlob(x).sentiment.polarity)\n",
    "df['review_len'] = df['ReviewText'].apply(lambda x: len(x))\n",
    "df['word_count'] = df['ReviewText'].apply(lambda x: len(x.split()))\n",
    "df['avg_word_len'] = df['review_len']/df['word_count']"
   ]
  },
  {
   "cell_type": "markdown",
   "id": "5bce5cf6",
   "metadata": {},
   "source": [
    "## Feature Selection"
   ]
  },
  {
   "cell_type": "markdown",
   "id": "d85e80f1",
   "metadata": {},
   "source": [
    "### Checking Relevant Attributes\n",
    "- attributes with p value < 0.05 will be considered"
   ]
  },
  {
   "cell_type": "code",
   "execution_count": 20,
   "id": "fa7ba683",
   "metadata": {},
   "outputs": [
    {
     "name": "stdout",
     "output_type": "stream",
     "text": [
      "P value between RecommendedIND and polarity is 0.0000000000\n"
     ]
    }
   ],
   "source": [
    "recomm_pol_ct = pd.crosstab(index=df['RecommendedIND'] , columns=df['polarity'])\n",
    "c , p , dof , expected = chi2_contingency(recomm_pol_ct) \n",
    "print(\"P value between RecommendedIND and polarity is {0:2.10f}\".format(p))"
   ]
  },
  {
   "cell_type": "code",
   "execution_count": 21,
   "id": "2f82be79",
   "metadata": {},
   "outputs": [
    {
     "name": "stdout",
     "output_type": "stream",
     "text": [
      "P value between RecommendedIND and word_count is 0.0001172387\n"
     ]
    }
   ],
   "source": [
    "words_pol_ct = pd.crosstab(index=df['RecommendedIND'] , columns=df['word_count'])\n",
    "c , p , dof , expected = chi2_contingency(words_pol_ct) \n",
    "print(\"P value between RecommendedIND and word_count is {0:2.10f}\".format(p))"
   ]
  },
  {
   "cell_type": "code",
   "execution_count": 22,
   "id": "cbd43dca",
   "metadata": {},
   "outputs": [
    {
     "name": "stdout",
     "output_type": "stream",
     "text": [
      "P value between RecommendedIND and review_len is 0.1719138150\n"
     ]
    }
   ],
   "source": [
    "revLen_pol_ct = pd.crosstab(index=df['RecommendedIND'] , columns=df['review_len'])\n",
    "c , p , dof , expected = chi2_contingency(revLen_pol_ct) \n",
    "print(\"P value between RecommendedIND and review_len is {0:2.10f}\".format(p))"
   ]
  },
  {
   "cell_type": "code",
   "execution_count": 23,
   "id": "15b73f86",
   "metadata": {
    "scrolled": true
   },
   "outputs": [
    {
     "name": "stdout",
     "output_type": "stream",
     "text": [
      "P value between RecommendedIND and avg_word_len is 0.6528648930\n"
     ]
    }
   ],
   "source": [
    "wrdLen_pol_ct =  pd.crosstab(index=df['RecommendedIND'] , columns=df['avg_word_len'])\n",
    "c , p , dof , expected = chi2_contingency(wrdLen_pol_ct) \n",
    "print(\"P value between RecommendedIND and avg_word_len is {0:2.10f}\".format(p))"
   ]
  },
  {
   "cell_type": "markdown",
   "id": "5bc4361f",
   "metadata": {},
   "source": [
    "## Train Test Split"
   ]
  },
  {
   "cell_type": "code",
   "execution_count": 24,
   "id": "2a708c6a",
   "metadata": {},
   "outputs": [],
   "source": [
    "X = df[['Age','Rating','PositiveFeedbackCount','DepartmentName','polarity','review_len']]\n",
    "y = df['RecommendedIND']\n",
    "X_train , X_test , y_train , y_test = train_test_split( X , y , test_size = 0.2 , random_state=42)"
   ]
  },
  {
   "cell_type": "markdown",
   "id": "7d2ee01f",
   "metadata": {},
   "source": [
    "## Check if classes are balanced"
   ]
  },
  {
   "cell_type": "code",
   "execution_count": 27,
   "id": "8ba0f1b3",
   "metadata": {},
   "outputs": [
    {
     "data": {
      "text/plain": [
       "<AxesSubplot:>"
      ]
     },
     "execution_count": 27,
     "metadata": {},
     "output_type": "execute_result"
    },
    {
     "data": {
      "image/png": "[encoded data removed]",
      "text/plain": [
       "<Figure size 432x288 with 1 Axes>"
      ]
     },
     "metadata": {
      "needs_background": "light"
     },
     "output_type": "display_data"
    }
   ],
   "source": [
    "y.value_counts().plot(kind='bar')"
   ]
  },
  {
   "cell_type": "markdown",
   "id": "d05925f0",
   "metadata": {},
   "source": [
    "- Unbalanced Classes\n"
   ]
  },
  {
   "cell_type": "code",
   "execution_count": 28,
   "id": "fde4fb1c",
   "metadata": {},
   "outputs": [],
   "source": [
    "under_sampler = RandomUnderSampler(random_state=42)\n",
    "X_train, y_train = under_sampler.fit_resample(X_train, y_train)"
   ]
  },
  {
   "cell_type": "code",
   "execution_count": 29,
   "id": "1393ec09",
   "metadata": {
    "scrolled": true
   },
   "outputs": [
    {
     "data": {
      "text/plain": [
       "<AxesSubplot:>"
      ]
     },
     "execution_count": 29,
     "metadata": {},
     "output_type": "execute_result"
    },
    {
     "data": {
      "image/png": "[encoded data removed]",
      "text/plain": [
       "<Figure size 432x288 with 1 Axes>"
      ]
     },
     "metadata": {
      "needs_background": "light"
     },
     "output_type": "display_data"
    }
   ],
   "source": [
    "y_train.value_counts().plot(kind='bar')"
   ]
  },
  {
   "cell_type": "markdown",
   "id": "9f4e02b2",
   "metadata": {},
   "source": [
    "### Classes are now Balanced"
   ]
  },
  {
   "cell_type": "markdown",
   "id": "bfeb6bf6",
   "metadata": {},
   "source": [
    "## Data Pipelines"
   ]
  },
  {
   "cell_type": "markdown",
   "id": "95b11fd8",
   "metadata": {},
   "source": [
    "### Creating Nominal and Numerical Pipelines"
   ]
  },
  {
   "cell_type": "code",
   "execution_count": 30,
   "id": "71562b2a",
   "metadata": {},
   "outputs": [],
   "source": [
    "nominal = ['DepartmentName']\n",
    "numerical = ['Age','Rating','PositiveFeedbackCount','polarity','review_len']"
   ]
  },
  {
   "cell_type": "code",
   "execution_count": 31,
   "id": "bd9e6389",
   "metadata": {},
   "outputs": [],
   "source": [
    "nominal_pipeline = Pipeline([\n",
    "    ('imputer_n' , SimpleImputer(strategy='most_frequent')),\n",
    "    ('encoder_n', OneHotEncoder(sparse=True, handle_unknown=\"ignore\"))\n",
    "])\n",
    "\n",
    "numerical_pipeline = Pipeline([\n",
    "    ('imputer_nu' , SimpleImputer(strategy='median')),\n",
    "    ('scaler', StandardScaler())\n",
    "])"
   ]
  },
  {
   "cell_type": "markdown",
   "id": "9248eb71",
   "metadata": {},
   "source": [
    "## Train 2 Models"
   ]
  },
  {
   "cell_type": "code",
   "execution_count": 32,
   "id": "a05c9215",
   "metadata": {},
   "outputs": [],
   "source": [
    "preprocessing_pipeline = ColumnTransformer([\n",
    "    ('nominal_preprocessor', nominal_pipeline, nominal),\n",
    "    ('numerical_preprocessor', numerical_pipeline, numerical)\n",
    "])"
   ]
  },
  {
   "cell_type": "markdown",
   "id": "dfabb1ec",
   "metadata": {},
   "source": [
    "### GaussianNB"
   ]
  },
  {
   "cell_type": "code",
   "execution_count": 33,
   "id": "178ad88f",
   "metadata": {},
   "outputs": [],
   "source": [
    "gaussian_nb_pipeline = Pipeline([\n",
    "    ('preprocessor', preprocessing_pipeline),\n",
    "    ('GaussianNB',GaussianNB())\n",
    "])"
   ]
  },
  {
   "cell_type": "markdown",
   "id": "3051814d",
   "metadata": {},
   "source": [
    "### BernoulliNB"
   ]
  },
  {
   "cell_type": "code",
   "execution_count": 34,
   "id": "38d1cc6a",
   "metadata": {},
   "outputs": [],
   "source": [
    "bernoulli_nb_pipeline = Pipeline([\n",
    "    ('preprocessor', preprocessing_pipeline),\n",
    "    ('GaussianNB',BernoulliNB())\n",
    "])"
   ]
  },
  {
   "cell_type": "markdown",
   "id": "702fae2f",
   "metadata": {},
   "source": [
    "### Scores"
   ]
  },
  {
   "cell_type": "code",
   "execution_count": 35,
   "id": "ba0012c0",
   "metadata": {},
   "outputs": [],
   "source": [
    "cross_val = KFold(n_splits = 10)\n",
    "scores = cross_val_score(bernoulli_nb_pipeline, X = X_train , y = y_train , cv = cross_val)"
   ]
  },
  {
   "cell_type": "code",
   "execution_count": 36,
   "id": "e237c415",
   "metadata": {},
   "outputs": [
    {
     "name": "stdout",
     "output_type": "stream",
     "text": [
      "Bernoulli Naive Bayes Accuracy is 94.26%\n"
     ]
    }
   ],
   "source": [
    "print(\"Bernoulli Naive Bayes Accuracy is {0:2.2f}%\".format(scores.mean()*100))"
   ]
  },
  {
   "cell_type": "code",
   "execution_count": 37,
   "id": "84dd99f2",
   "metadata": {},
   "outputs": [],
   "source": [
    "cross_val = KFold(n_splits = 10)\n",
    "scores = cross_val_score(gaussian_nb_pipeline, X = X_train , y = y_train , cv = cross_val)"
   ]
  },
  {
   "cell_type": "code",
   "execution_count": 39,
   "id": "8c1d6bef",
   "metadata": {},
   "outputs": [
    {
     "name": "stdout",
     "output_type": "stream",
     "text": [
      "Gaussian Naive Bayes Accuracy is 93.54%\n"
     ]
    }
   ],
   "source": [
    "print(\"Gaussian Naive Bayes Accuracy is {0:2.2f}%\".format(scores.mean()*100))"
   ]
  },
  {
   "cell_type": "markdown",
   "id": "7de55ede",
   "metadata": {},
   "source": [
    "### Confusion Matrix"
   ]
  },
  {
   "cell_type": "code",
   "execution_count": 41,
   "id": "a1edf59f",
   "metadata": {
    "scrolled": true
   },
   "outputs": [
    {
     "data": {
      "text/plain": [
       "0.9225700164744646"
      ]
     },
     "execution_count": 41,
     "metadata": {},
     "output_type": "execute_result"
    }
   ],
   "source": [
    "model2 = bernoulli_nb_pipeline.fit(X_train,y_train)\n",
    "model2.score(X_test,y_test)\n",
    "\n",
    "model = gaussian_nb_pipeline.fit(X_train,y_train)\n",
    "model.score(X_test,y_test)"
   ]
  },
  {
   "cell_type": "code",
   "execution_count": 42,
   "id": "864739e4",
   "metadata": {},
   "outputs": [
    {
     "data": {
      "text/plain": [
       "<sklearn.metrics._plot.confusion_matrix.ConfusionMatrixDisplay at 0x203335413d0>"
      ]
     },
     "execution_count": 42,
     "metadata": {},
     "output_type": "execute_result"
    },
    {
     "data": {
      "image/png": "[encoded data removed]",
      "text/plain": [
       "<Figure size 432x288 with 2 Axes>"
      ]
     },
     "metadata": {
      "needs_background": "light"
     },
     "output_type": "display_data"
    }
   ],
   "source": [
    "cm = confusion_matrix(y_true=y_test , y_pred=model.predict(X_test))\n",
    "ConfusionMatrixDisplay(confusion_matrix=cm , display_labels=['Not Recommended','Recommended']).plot()"
   ]
  },
  {
   "cell_type": "code",
   "execution_count": 43,
   "id": "66ca7dd3",
   "metadata": {
    "scrolled": true
   },
   "outputs": [
    {
     "data": {
      "text/plain": [
       "<sklearn.metrics._plot.confusion_matrix.ConfusionMatrixDisplay at 0x20333796190>"
      ]
     },
     "execution_count": 43,
     "metadata": {},
     "output_type": "execute_result"
    },
    {
     "data": {
      "image/png": "[encoded data removed]",
      "text/plain": [
       "<Figure size 432x288 with 2 Axes>"
      ]
     },
     "metadata": {
      "needs_background": "light"
     },
     "output_type": "display_data"
    }
   ],
   "source": [
    "cm = confusion_matrix(y_true=y_test , y_pred=model2.predict(X_test))\n",
    "ConfusionMatrixDisplay(confusion_matrix=cm , display_labels=['Not Recommended','Recommended']).plot()"
   ]
  },
  {
   "cell_type": "markdown",
   "id": "5d040574",
   "metadata": {},
   "source": [
    "### Accuracy Metrics"
   ]
  },
  {
   "cell_type": "code",
   "execution_count": 44,
   "id": "5131f421",
   "metadata": {},
   "outputs": [
    {
     "name": "stdout",
     "output_type": "stream",
     "text": [
      "                 precision    recall  f1-score   support\n",
      "\n",
      "Not Recommended       0.73      0.94      0.82       681\n",
      "    Recommended       0.99      0.92      0.95      2961\n",
      "\n",
      "       accuracy                           0.92      3642\n",
      "      macro avg       0.86      0.93      0.89      3642\n",
      "   weighted avg       0.94      0.92      0.93      3642\n",
      "\n"
     ]
    }
   ],
   "source": [
    "print(metrics.classification_report(y_test, y_pred = model.predict(X_test), labels = [0,1] , target_names=['Not Recommended','Recommended']))"
   ]
  },
  {
   "cell_type": "code",
   "execution_count": 45,
   "id": "32d7fcf7",
   "metadata": {
    "scrolled": true
   },
   "outputs": [
    {
     "name": "stdout",
     "output_type": "stream",
     "text": [
      "                 precision    recall  f1-score   support\n",
      "\n",
      "Not Recommended       0.75      0.94      0.83       681\n",
      "    Recommended       0.99      0.93      0.96      2961\n",
      "\n",
      "       accuracy                           0.93      3642\n",
      "      macro avg       0.87      0.93      0.90      3642\n",
      "   weighted avg       0.94      0.93      0.93      3642\n",
      "\n"
     ]
    }
   ],
   "source": [
    "print(metrics.classification_report(y_test, y_pred = model2.predict(X_test), labels = [0,1] , target_names=['Not Recommended','Recommended']))"
   ]
  },
  {
   "cell_type": "markdown",
   "id": "5b2d9fa5",
   "metadata": {},
   "source": [
    "### ROC Curves"
   ]
  },
  {
   "cell_type": "code",
   "execution_count": 46,
   "id": "a1167589",
   "metadata": {},
   "outputs": [
    {
     "data": {
      "text/plain": [
       "<matplotlib.legend.Legend at 0x20333956d30>"
      ]
     },
     "execution_count": 46,
     "metadata": {},
     "output_type": "execute_result"
    },
    {
     "data": {
      "image/png": "[encoded data removed]",
      "text/plain": [
       "<Figure size 432x288 with 1 Axes>"
      ]
     },
     "metadata": {
      "needs_background": "light"
     },
     "output_type": "display_data"
    }
   ],
   "source": [
    "y_pred_proba = model.predict_proba(X_test)[::,1]\n",
    "fpr, tpr, _ = roc_curve(y_test, y_pred_proba)\n",
    "\n",
    "auc = roc_auc_score(y_test, y_pred_proba)\n",
    "plt.figure(figsize = (6,4))\n",
    "plt.plot(fpr,tpr,label=\"data 1, auc=\"+str(auc))\n",
    "plt.legend(loc=4)\n",
    "plt.xlabel('False Positive Rate')\n",
    "plt.ylabel('True Positive Rate')\n",
    "plt.title('Receiver operating characteristic GaussianNB')\n",
    "plt.legend(loc=\"lower right\")"
   ]
  },
  {
   "cell_type": "code",
   "execution_count": 47,
   "id": "d66204c5",
   "metadata": {},
   "outputs": [
    {
     "data": {
      "text/plain": [
       "<matplotlib.legend.Legend at 0x203339618b0>"
      ]
     },
     "execution_count": 47,
     "metadata": {},
     "output_type": "execute_result"
    },
    {
     "data": {
      "image/png": "[encoded data removed]",
      "text/plain": [
       "<Figure size 432x288 with 1 Axes>"
      ]
     },
     "metadata": {
      "needs_background": "light"
     },
     "output_type": "display_data"
    }
   ],
   "source": [
    "y_pred_proba = model2.predict_proba(X_test)[::,1]\n",
    "fpr, tpr, _ = roc_curve(y_test, y_pred_proba)\n",
    "\n",
    "auc = roc_auc_score(y_test, y_pred_proba)\n",
    "plt.figure(figsize = (6,4))\n",
    "plt.plot(fpr,tpr,label=\"data 1, auc=\"+str(auc))\n",
    "plt.legend(loc=4)\n",
    "plt.xlabel('False Positive Rate')\n",
    "plt.ylabel('True Positive Rate')\n",
    "plt.title('Receiver operating characteristic BernoulliNB')\n",
    "plt.legend(loc=\"lower right\")"
   ]
  },
  {
   "cell_type": "markdown",
   "id": "b5b4e99e",
   "metadata": {},
   "source": [
    "### Inference\n",
    "- we get an AUC = 0.96 for GaussianNB which is slightly better than AUC = 0.94 of BernoulliNB.  \n",
    "- This means GaussianNB is a MUCH better classifier than BernoulliNB.  \n",
    "- Since the data will be used in recommender systems, we want high precision\n",
    "- We should thus prioritise Precision over Recall in this case"
   ]
  },
  {
   "cell_type": "code",
   "execution_count": null,
   "id": "a88be944",
   "metadata": {},
   "outputs": [],
   "source": []
  }
 ],
 "metadata": {
  "kernelspec": {
   "display_name": "Python 3 (ipykernel)",
   "language": "python",
   "name": "python3"
  },
  "language_info": {
   "codemirror_mode": {
    "name": "ipython",
    "version": 3
   },
   "file_extension": ".py",
   "mimetype": "text/x-python",
   "name": "python",
   "nbconvert_exporter": "python",
   "pygments_lexer": "ipython3",
   "version": "3.9.7"
  }
 },
 "nbformat": 4,
 "nbformat_minor": 5
}
