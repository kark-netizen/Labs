{
 "cells": [
  {
   "cell_type": "markdown",
   "id": "6b155471",
   "metadata": {},
   "source": [
    "## Importing Libraries\n"
   ]
  },
  {
   "cell_type": "code",
   "execution_count": 1,
   "id": "dbe6eccd",
   "metadata": {},
   "outputs": [],
   "source": [
    "import numpy as np\n",
    "import pandas as pd\n",
    "import matplotlib.pyplot as plt\n",
    "import seaborn as sns\n",
    "from numpy import random\n",
    "\n",
    "%matplotlib inline"
   ]
  },
  {
   "cell_type": "markdown",
   "id": "9b5a829e",
   "metadata": {},
   "source": [
    "## Importing Dataset"
   ]
  },
  {
   "cell_type": "code",
   "execution_count": 2,
   "id": "d26afaa7",
   "metadata": {},
   "outputs": [],
   "source": [
    "df = pd.read_csv('mtcars.csv')"
   ]
  },
  {
   "cell_type": "code",
   "execution_count": 3,
   "id": "0f65dcff",
   "metadata": {
    "scrolled": true
   },
   "outputs": [
    {
     "data": {
      "text/html": [
       "<div>\n",
       "<style scoped>\n",
       "    .dataframe tbody tr th:only-of-type {\n",
       "        vertical-align: middle;\n",
       "    }\n",
       "\n",
       "    .dataframe tbody tr th {\n",
       "        vertical-align: top;\n",
       "    }\n",
       "\n",
       "    .dataframe thead th {\n",
       "        text-align: right;\n",
       "    }\n",
       "</style>\n",
       "<table border=\"1\" class=\"dataframe\">\n",
       "  <thead>\n",
       "    <tr style=\"text-align: right;\">\n",
       "      <th></th>\n",
       "      <th>model</th>\n",
       "      <th>mpg</th>\n",
       "      <th>cyl</th>\n",
       "      <th>disp</th>\n",
       "      <th>hp</th>\n",
       "      <th>drat</th>\n",
       "      <th>wt</th>\n",
       "      <th>qsec</th>\n",
       "      <th>vs</th>\n",
       "      <th>am</th>\n",
       "      <th>gear</th>\n",
       "      <th>carb</th>\n",
       "    </tr>\n",
       "  </thead>\n",
       "  <tbody>\n",
       "    <tr>\n",
       "      <th>0</th>\n",
       "      <td>Mazda RX4</td>\n",
       "      <td>21.0</td>\n",
       "      <td>6</td>\n",
       "      <td>160.0</td>\n",
       "      <td>110</td>\n",
       "      <td>3.90</td>\n",
       "      <td>2.620</td>\n",
       "      <td>16.46</td>\n",
       "      <td>0</td>\n",
       "      <td>1</td>\n",
       "      <td>4</td>\n",
       "      <td>4</td>\n",
       "    </tr>\n",
       "    <tr>\n",
       "      <th>1</th>\n",
       "      <td>Mazda RX4 Wag</td>\n",
       "      <td>21.0</td>\n",
       "      <td>6</td>\n",
       "      <td>160.0</td>\n",
       "      <td>110</td>\n",
       "      <td>3.90</td>\n",
       "      <td>2.875</td>\n",
       "      <td>17.02</td>\n",
       "      <td>0</td>\n",
       "      <td>1</td>\n",
       "      <td>4</td>\n",
       "      <td>4</td>\n",
       "    </tr>\n",
       "    <tr>\n",
       "      <th>2</th>\n",
       "      <td>Datsun 710</td>\n",
       "      <td>22.8</td>\n",
       "      <td>4</td>\n",
       "      <td>108.0</td>\n",
       "      <td>93</td>\n",
       "      <td>3.85</td>\n",
       "      <td>2.320</td>\n",
       "      <td>18.61</td>\n",
       "      <td>1</td>\n",
       "      <td>1</td>\n",
       "      <td>4</td>\n",
       "      <td>1</td>\n",
       "    </tr>\n",
       "    <tr>\n",
       "      <th>3</th>\n",
       "      <td>Hornet 4 Drive</td>\n",
       "      <td>21.4</td>\n",
       "      <td>6</td>\n",
       "      <td>258.0</td>\n",
       "      <td>110</td>\n",
       "      <td>3.08</td>\n",
       "      <td>3.215</td>\n",
       "      <td>19.44</td>\n",
       "      <td>1</td>\n",
       "      <td>0</td>\n",
       "      <td>3</td>\n",
       "      <td>1</td>\n",
       "    </tr>\n",
       "    <tr>\n",
       "      <th>4</th>\n",
       "      <td>Hornet Sportabout</td>\n",
       "      <td>18.7</td>\n",
       "      <td>8</td>\n",
       "      <td>360.0</td>\n",
       "      <td>175</td>\n",
       "      <td>3.15</td>\n",
       "      <td>3.440</td>\n",
       "      <td>17.02</td>\n",
       "      <td>0</td>\n",
       "      <td>0</td>\n",
       "      <td>3</td>\n",
       "      <td>2</td>\n",
       "    </tr>\n",
       "  </tbody>\n",
       "</table>\n",
       "</div>"
      ],
      "text/plain": [
       "               model   mpg  cyl   disp   hp  drat     wt   qsec  vs  am  gear  \\\n",
       "0          Mazda RX4  21.0    6  160.0  110  3.90  2.620  16.46   0   1     4   \n",
       "1      Mazda RX4 Wag  21.0    6  160.0  110  3.90  2.875  17.02   0   1     4   \n",
       "2         Datsun 710  22.8    4  108.0   93  3.85  2.320  18.61   1   1     4   \n",
       "3     Hornet 4 Drive  21.4    6  258.0  110  3.08  3.215  19.44   1   0     3   \n",
       "4  Hornet Sportabout  18.7    8  360.0  175  3.15  3.440  17.02   0   0     3   \n",
       "\n",
       "   carb  \n",
       "0     4  \n",
       "1     4  \n",
       "2     1  \n",
       "3     1  \n",
       "4     2  "
      ]
     },
     "execution_count": 3,
     "metadata": {},
     "output_type": "execute_result"
    }
   ],
   "source": [
    "df.head()"
   ]
  },
  {
   "cell_type": "markdown",
   "id": "f77f9440",
   "metadata": {},
   "source": [
    "## Create X and y"
   ]
  },
  {
   "cell_type": "code",
   "execution_count": 4,
   "id": "fc2a978e",
   "metadata": {},
   "outputs": [],
   "source": [
    "X = df['wt']\n",
    "y = df['mpg']"
   ]
  },
  {
   "cell_type": "markdown",
   "id": "49c02fe9",
   "metadata": {},
   "source": [
    "## Data PreProcessing"
   ]
  },
  {
   "cell_type": "code",
   "execution_count": 5,
   "id": "6455c4ef",
   "metadata": {},
   "outputs": [],
   "source": [
    "from sklearn.model_selection import train_test_split \n",
    "\n",
    "## perform a train-test split of 80%/20%\n",
    "X_train, X_test, y_train, y_test = train_test_split(X, y, test_size=0.2, random_state=1)"
   ]
  },
  {
   "cell_type": "code",
   "execution_count": 6,
   "id": "69005a70",
   "metadata": {},
   "outputs": [
    {
     "name": "stdout",
     "output_type": "stream",
     "text": [
      "(25,) (7,) (25,) (7,)\n"
     ]
    }
   ],
   "source": [
    "## check if shapes are in correct format\n",
    "print(X_train.shape, X_test.shape,y_train.shape,y_test.shape)"
   ]
  },
  {
   "cell_type": "code",
   "execution_count": 7,
   "id": "13ed0b0d",
   "metadata": {},
   "outputs": [],
   "source": [
    "## not in correct shape\n",
    "X_train = np.array(X_train)\n",
    "X_train = X_train.reshape(X_train.shape[0],1)\n",
    "\n",
    "X_test = np.array(X_test)\n",
    "X_test = X_test.reshape(X_test.shape[0],1)\n",
    "\n",
    "y_train = np.array(y_train)\n",
    "y_train = y_train.reshape(y_train.shape[0],1)\n",
    "\n",
    "y_test = np.array(y_test)\n",
    "y_test = y_test.reshape(y_test.shape[0],1)"
   ]
  },
  {
   "cell_type": "markdown",
   "id": "e09028c8",
   "metadata": {},
   "source": [
    "## Create Function for Linear Regression"
   ]
  },
  {
   "cell_type": "code",
   "execution_count": 8,
   "id": "298979b8",
   "metadata": {},
   "outputs": [],
   "source": [
    "def myFnLinReg(X,y):\n",
    "    \n",
    "    ## m -> number of training examples\n",
    "    ## n -> number of features \n",
    "    \n",
    "    m , n = X.shape\n",
    "    \n",
    "    W = np.zeros(shape=(n,1),dtype = np.float64)\n",
    "    b = 0.0\n",
    "    \n",
    "    ## reshape y to avoid error\n",
    "    y = y.reshape(m,1)\n",
    "    \n",
    "    ## maintain history of loss\n",
    "    loss_history = []\n",
    "    \n",
    "    ## alpha -> learning rate\n",
    "    ## epochs -> number of times gradient descent runs\n",
    "    ## min_change_steps -> auto-stop if gradient doesn't change by a minimum for 5 conseqcutive steps\n",
    "    \n",
    "    alpha = 1e-3\n",
    "    epochs = 25\n",
    "    min_change_steps = 5\n",
    "    min_change_steps_counter = 0\n",
    "    last_loss = 0\n",
    "    \n",
    "    while True:    \n",
    "        ## calculate hypothesis\n",
    "        y_hat = np.dot(X,W) + b\n",
    "        \n",
    "        ## calculate loss through Mean Squared Error\n",
    "        loss = np.mean((y_hat - y)**2)\n",
    "        \n",
    "        ## append loss\n",
    "        loss_history.append(loss)\n",
    "        \n",
    "        ## calculate gradient\n",
    "        dW = (1/m)*np.dot(X.T , (y_hat - y ))\n",
    "        db = (1/m)*np.sum((y_hat - y ))\n",
    "        \n",
    "        ## avoid values getting too low\n",
    "        if abs(dW) < 1e-4:\n",
    "            break\n",
    "        if abs(db) < 1e-4:\n",
    "            break\n",
    "        \n",
    "        ## update gradients\n",
    "        W = W - alpha*dW\n",
    "        b = b - alpha*db\n",
    "        \n",
    "        ## check if gradient changed too little        \n",
    "        if abs(loss - last_loss) < 1e-5:\n",
    "            min_change_steps_counter += 1\n",
    "        else :\n",
    "            min_change_steps_counter = 0\n",
    "        \n",
    "        if(min_change_steps_counter == min_change_steps):\n",
    "            break\n",
    "    \n",
    "        last_loss = loss\n",
    "        \n",
    "    return W , b , loss_history"
   ]
  },
  {
   "cell_type": "markdown",
   "id": "5121eb89",
   "metadata": {},
   "source": [
    "## Function Call to obtain Weights & Bias"
   ]
  },
  {
   "cell_type": "code",
   "execution_count": 9,
   "id": "2e7d2c05",
   "metadata": {
    "scrolled": true
   },
   "outputs": [],
   "source": [
    "## Get Weights, Bias and Loss\n",
    "\n",
    "W , b , loss_history = myFnLinReg(X_train,y_train)"
   ]
  },
  {
   "cell_type": "markdown",
   "id": "e3fa489c",
   "metadata": {},
   "source": [
    "## Create Predict Function"
   ]
  },
  {
   "cell_type": "code",
   "execution_count": 10,
   "id": "b073a1f9",
   "metadata": {},
   "outputs": [],
   "source": [
    "def predict(W, b , X_pred):\n",
    "    \n",
    "    y_pred = np.dot(X_pred.T , W) + b\n",
    "    \n",
    "    return y_pred[0][0]"
   ]
  },
  {
   "cell_type": "code",
   "execution_count": 11,
   "id": "4ffccb8f",
   "metadata": {},
   "outputs": [],
   "source": [
    "## Predict the Value for wt = 5.5\n",
    "\n",
    "X_pred = np.array([5.5])\n",
    "X_pred = X_pred.reshape(1,1)"
   ]
  },
  {
   "cell_type": "code",
   "execution_count": 12,
   "id": "44692225",
   "metadata": {
    "scrolled": true
   },
   "outputs": [
    {
     "data": {
      "text/plain": [
       "9.915936576790422"
      ]
     },
     "execution_count": 12,
     "metadata": {},
     "output_type": "execute_result"
    }
   ],
   "source": [
    "predict(W , b , X_pred)"
   ]
  },
  {
   "cell_type": "markdown",
   "id": "0d49cd17",
   "metadata": {},
   "source": [
    "## Create Accuracy Functions"
   ]
  },
  {
   "cell_type": "code",
   "execution_count": 13,
   "id": "45c044db",
   "metadata": {},
   "outputs": [],
   "source": [
    "def getAccuracy_RMSE(W , b , X_test , y_test):\n",
    "    \n",
    "    y_hat = np.dot(X_test , W) + b\n",
    "    accuracy = np.sum((y_hat - y_test) ** 2)/7\n",
    "    accuracy = accuracy ** 0.5\n",
    "    \n",
    "    return round(accuracy,ndigits=2)"
   ]
  },
  {
   "cell_type": "code",
   "execution_count": 14,
   "id": "bb549c49",
   "metadata": {},
   "outputs": [],
   "source": [
    "def getAccuracy_RSq(W , b , X_test , y_test):\n",
    "    \n",
    "    y_hat = np.dot(X_test , W) + b\n",
    "    accuracy = 1 - np.sum((y_hat - y_test) ** 2)/np.sum((y_test - np.mean(y_test)) ** 2)\n",
    "    accuracy = accuracy*100\n",
    "    return round(accuracy,ndigits=2)"
   ]
  },
  {
   "cell_type": "markdown",
   "id": "02e078df",
   "metadata": {},
   "source": [
    "### R-Square Accuracy"
   ]
  },
  {
   "cell_type": "code",
   "execution_count": 15,
   "id": "9085420f",
   "metadata": {},
   "outputs": [
    {
     "name": "stdout",
     "output_type": "stream",
     "text": [
      "68.76 %\n"
     ]
    }
   ],
   "source": [
    "r_sq = getAccuracy_RSq ( W , b , X_test , y_test)\n",
    "print(r_sq , \"%\")"
   ]
  },
  {
   "cell_type": "markdown",
   "id": "b7e823a9",
   "metadata": {},
   "source": [
    "### RMSE Accuracy"
   ]
  },
  {
   "cell_type": "code",
   "execution_count": 16,
   "id": "daa04581",
   "metadata": {
    "scrolled": true
   },
   "outputs": [
    {
     "name": "stdout",
     "output_type": "stream",
     "text": [
      "4.28\n"
     ]
    }
   ],
   "source": [
    "rmse = getAccuracy_RMSE(W , b , X_test , y_test)\n",
    "print(rmse)"
   ]
  },
  {
   "cell_type": "markdown",
   "id": "39b5d7fa",
   "metadata": {},
   "source": [
    "## Compare Model Accuracy with Inbuilt Library Function"
   ]
  },
  {
   "cell_type": "code",
   "execution_count": 17,
   "id": "940a14cf",
   "metadata": {},
   "outputs": [],
   "source": [
    "from sklearn.linear_model import LinearRegression"
   ]
  },
  {
   "cell_type": "code",
   "execution_count": 18,
   "id": "6224e613",
   "metadata": {},
   "outputs": [
    {
     "data": {
      "text/plain": [
       "LinearRegression()"
      ]
     },
     "execution_count": 18,
     "metadata": {},
     "output_type": "execute_result"
    }
   ],
   "source": [
    "linear_model = LinearRegression()\n",
    "linear_model.fit(X_train,y_train)"
   ]
  },
  {
   "cell_type": "code",
   "execution_count": 19,
   "id": "9266ac7c",
   "metadata": {},
   "outputs": [
    {
     "data": {
      "text/plain": [
       "array([[9.38632859]])"
      ]
     },
     "execution_count": 19,
     "metadata": {},
     "output_type": "execute_result"
    }
   ],
   "source": [
    "linear_model.predict(X_pred)"
   ]
  },
  {
   "cell_type": "code",
   "execution_count": 20,
   "id": "a35b6756",
   "metadata": {
    "scrolled": true
   },
   "outputs": [
    {
     "data": {
      "text/plain": [
       "0.7200862006836332"
      ]
     },
     "execution_count": 20,
     "metadata": {},
     "output_type": "execute_result"
    }
   ],
   "source": [
    "linear_model.score(X_test,y_test)"
   ]
  },
  {
   "cell_type": "markdown",
   "id": "f2d2378c",
   "metadata": {},
   "source": [
    "#### Accuracy Difference of ~4%"
   ]
  },
  {
   "cell_type": "markdown",
   "id": "8655ff54",
   "metadata": {},
   "source": [
    "## Plotting Cost Functions"
   ]
  },
  {
   "cell_type": "code",
   "execution_count": 21,
   "id": "e17a8618",
   "metadata": {},
   "outputs": [
    {
     "data": {
      "text/plain": [
       "Text(0, 0.5, 'Cost')"
      ]
     },
     "execution_count": 21,
     "metadata": {},
     "output_type": "execute_result"
    },
    {
     "data": {
      "image/png": "[encoded data removed]",
      "text/plain": [
       "<Figure size 432x288 with 1 Axes>"
      ]
     },
     "metadata": {
      "needs_background": "light"
     },
     "output_type": "display_data"
    }
   ],
   "source": [
    "plt.plot(loss_history)\n",
    "plt.xlabel(\"Iterations\")\n",
    "plt.ylabel(\"Cost\")"
   ]
  },
  {
   "cell_type": "markdown",
   "id": "335e23c5",
   "metadata": {},
   "source": [
    "## Mini Batch Gradient Descent"
   ]
  },
  {
   "cell_type": "code",
   "execution_count": 52,
   "id": "6f42794b",
   "metadata": {},
   "outputs": [],
   "source": [
    "def mini_batch_gradient_descent_Linear_Regression(X,y,n_epochs = 20, batch_size = 0.1):\n",
    "    \n",
    "    ## m -> number of training examples\n",
    "    ## n -> number of features \n",
    "    \n",
    "    m,n = X.shape\n",
    "    \n",
    "    ## samples\n",
    "    sample = int(m*batch_size)\n",
    "    \n",
    "    ## weights and bias\n",
    "    W = np.zeros(shape=(n,1),dtype = np.float64)\n",
    "    b = 0.0\n",
    "    \n",
    "    ## reshape y to avoid error\n",
    "    y = y.reshape(m,1)\n",
    "    \n",
    "    ## maintain history of loss\n",
    "    loss_history = []\n",
    "    \n",
    "    ## alpha -> learning rate\n",
    "    ## epochs -> number of times gradient descent runs\n",
    "    ## min_change_steps -> auto-stop if gradient doesn't change by a minimum for 5 conseqcutive steps\n",
    "    \n",
    "    alpha = 1e-3\n",
    "    epochs = 1\n",
    "    min_change_steps = 5\n",
    "    min_change_steps_counter = 0\n",
    "    last_loss = 0\n",
    "    \n",
    "    while epochs < n_epochs:\n",
    "        \n",
    "        ## get a sample of training set\n",
    "        batch_index = random.randint(low = 0 , high = m, size = sample)\n",
    "        X_batch = X_train[batch_index]\n",
    "        y_batch = y_train[batch_index]\n",
    "        \n",
    "        for i in range(sample):\n",
    "            ## calculate hypothesis\n",
    "            y_hat = np.dot(X_batch,W) + b\n",
    "\n",
    "            ## calculate loss through Mean Squared Error\n",
    "            loss = np.mean((y_hat - y_batch)**2)\n",
    "\n",
    "            ## append loss\n",
    "            loss_history.append(loss)\n",
    "\n",
    "            ## calculate gradient\n",
    "            dW = (1/2*m)*np.dot(X_batch.T , (y_hat - y_batch ))\n",
    "            db = (1/2*m)*np.sum((y_hat - y_batch ))\n",
    "\n",
    "            ## avoid values getting too low\n",
    "            if abs(dW) < 1e-4:\n",
    "                break\n",
    "            if abs(db) < 1e-4:\n",
    "                break\n",
    "\n",
    "            ## update gradients\n",
    "            W = W - alpha*dW\n",
    "            b = b - alpha*db\n",
    "        \n",
    "        epochs += 1\n",
    "\n",
    "        \n",
    "    return W , b , loss_history"
   ]
  },
  {
   "cell_type": "markdown",
   "id": "7a8ecce2",
   "metadata": {},
   "source": [
    "### Function Call for Mini Batch Gradient Descent"
   ]
  },
  {
   "cell_type": "code",
   "execution_count": 53,
   "id": "2591dbef",
   "metadata": {},
   "outputs": [],
   "source": [
    "sgd_w, sgd_b, sgd_loss = mini_batch_gradient_descent_Linear_Regression(X_train,y_train, n_epochs= 10000)"
   ]
  },
  {
   "cell_type": "markdown",
   "id": "ca880313",
   "metadata": {},
   "source": [
    "### R Squared Error"
   ]
  },
  {
   "cell_type": "code",
   "execution_count": 54,
   "id": "1ffba888",
   "metadata": {},
   "outputs": [
    {
     "name": "stdout",
     "output_type": "stream",
     "text": [
      "73.71 %\n"
     ]
    }
   ],
   "source": [
    "r_sq = getAccuracy_RSq ( sgd_w , sgd_b , X_test , y_test)\n",
    "print(r_sq , \"%\")"
   ]
  },
  {
   "cell_type": "markdown",
   "id": "a44f7c8f",
   "metadata": {},
   "source": [
    "### Increased Accuracy by ~5"
   ]
  },
  {
   "cell_type": "markdown",
   "id": "158445f3",
   "metadata": {},
   "source": [
    "### RMSE "
   ]
  },
  {
   "cell_type": "code",
   "execution_count": 57,
   "id": "c676965b",
   "metadata": {
    "scrolled": true
   },
   "outputs": [
    {
     "name": "stdout",
     "output_type": "stream",
     "text": [
      "3.93\n"
     ]
    }
   ],
   "source": [
    "rmse = getAccuracy_RMSE(sgd_w , sgd_b , X_test , y_test)\n",
    "print(rmse)"
   ]
  },
  {
   "cell_type": "markdown",
   "id": "af0a09c3",
   "metadata": {},
   "source": [
    "### Prediction"
   ]
  },
  {
   "cell_type": "code",
   "execution_count": 55,
   "id": "4c08f71f",
   "metadata": {},
   "outputs": [
    {
     "data": {
      "text/plain": [
       "8.750587591317117"
      ]
     },
     "execution_count": 55,
     "metadata": {},
     "output_type": "execute_result"
    }
   ],
   "source": [
    "predict(sgd_w , sgd_b , X_pred)"
   ]
  },
  {
   "cell_type": "code",
   "execution_count": 61,
   "id": "4f2b4d7d",
   "metadata": {},
   "outputs": [
    {
     "data": {
      "text/plain": [
       "Text(0.5, 1.0, 'Mini Batch Gradient Descent')"
      ]
     },
     "execution_count": 61,
     "metadata": {},
     "output_type": "execute_result"
    },
    {
     "data": {
      "image/png": "[encoded data removed]",
      "text/plain": [
       "<Figure size 1440x792 with 1 Axes>"
      ]
     },
     "metadata": {
      "needs_background": "light"
     },
     "output_type": "display_data"
    }
   ],
   "source": [
    "plt.subplots(figsize=(20,11))\n",
    "plt.plot(sgd_loss)\n",
    "plt.xlabel(\"Iterations\")\n",
    "plt.ylabel(\"Cost\")\n",
    "plt.title(\"Mini Batch Gradient Descent\")"
   ]
  },
  {
   "cell_type": "code",
   "execution_count": null,
   "id": "3d5c7fbb",
   "metadata": {},
   "outputs": [],
   "source": []
  }
 ],
 "metadata": {
  "kernelspec": {
   "display_name": "Python 3 (ipykernel)",
   "language": "python",
   "name": "python3"
  },
  "language_info": {
   "codemirror_mode": {
    "name": "ipython",
    "version": 3
   },
   "file_extension": ".py",
   "mimetype": "text/x-python",
   "name": "python",
   "nbconvert_exporter": "python",
   "pygments_lexer": "ipython3",
   "version": "3.9.7"
  }
 },
 "nbformat": 4,
 "nbformat_minor": 5
}
