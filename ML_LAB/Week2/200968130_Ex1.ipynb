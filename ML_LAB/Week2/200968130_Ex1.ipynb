{
 "cells": [
  {
   "cell_type": "code",
   "execution_count": 1,
   "id": "85df9a35",
   "metadata": {},
   "outputs": [],
   "source": [
    "import pandas as pd\n",
    "import seaborn as sns\n",
    "import matplotlib.pyplot as plt\n",
    "import numpy as np\n",
    "from scipy.stats import chi2_contingency\n",
    "from sklearn.preprocessing import StandardScaler\n",
    "from sklearn.model_selection import train_test_split\n",
    "from sklearn.linear_model import LogisticRegression\n",
    "from sklearn.metrics import confusion_matrix\n",
    "from sklearn.metrics import ConfusionMatrixDisplay\n",
    "from sklearn.metrics import  confusion_matrix, roc_curve, roc_auc_score\n",
    "from sklearn.preprocessing import MinMaxScaler\n",
    "from sklearn import metrics\n",
    "\n",
    "%matplotlib inline"
   ]
  },
  {
   "cell_type": "markdown",
   "id": "35a6cbbf",
   "metadata": {},
   "source": [
    "# Title: Pima Indians Diabetes Database\n",
    "The diagnostic, binary-valued variable investigated is whether the patient shows signs of diabetes according to World Health Organization criteria (i.e., if the 2 hour post-load plasma glucose was at least 200 mg/dl at any survey  examination or if found during routine medical care). The population lives near Phoenix, Arizona, USA. Results: Their ADAP algorithm makes a real-valued prediction between 0 and 1. This was transformed into a binary decision using a cutoff of 0.448. Using 576 training instances, the sensitivity and specificity of their algorithm was 76% on the remaining 192 instances. \n",
    "\n",
    "## Relevant Information:\n",
    "Several constraints were placed on the selection of these instances from a larger database.  In particular, all patients here are females at least 21 years old of Pima Indian heritage.  ADAP is an adaptive learning routine that generates and executes digital analogs of perceptron-like devices.  It is a unique algorithm; see the paper for details.\n",
    "\n",
    "## For Each Attribute: (all numeric-valued)\n",
    "   1. Number of times pregnant\n",
    "   2. Plasma glucose concentration a 2 hours in an oral glucose tolerance test\n",
    "   3. Diastolic blood pressure (mm Hg)\n",
    "   4. Triceps skin fold thickness (mm)\n",
    "   5. 2-Hour serum insulin (mu U/ml)\n",
    "   6. Body mass index (weight in kg/(height in m)^2)\n",
    "   7. Diabetes pedigree function\n",
    "   8. Age (years)\n",
    "   9. Class variable (0 or 1)"
   ]
  },
  {
   "cell_type": "markdown",
   "id": "fc4b95ba",
   "metadata": {},
   "source": [
    "df_meta = pd.read_csv('pima-indians-diabetes.csv',nrows=9,header=None)\n",
    "df_meta"
   ]
  },
  {
   "cell_type": "markdown",
   "id": "813e926f",
   "metadata": {},
   "source": [
    "## Reading Data"
   ]
  },
  {
   "cell_type": "code",
   "execution_count": 2,
   "id": "7cfff801",
   "metadata": {},
   "outputs": [],
   "source": [
    "df_columns = ['Preganancies','Glucose','BloodPressure','SkinThickness','Insulin','BMI','DiabetesPedigreeFunction','Age','Outcome']"
   ]
  },
  {
   "cell_type": "code",
   "execution_count": 3,
   "id": "3b19df41",
   "metadata": {},
   "outputs": [
    {
     "data": {
      "text/html": [
       "<div>\n",
       "<style scoped>\n",
       "    .dataframe tbody tr th:only-of-type {\n",
       "        vertical-align: middle;\n",
       "    }\n",
       "\n",
       "    .dataframe tbody tr th {\n",
       "        vertical-align: top;\n",
       "    }\n",
       "\n",
       "    .dataframe thead th {\n",
       "        text-align: right;\n",
       "    }\n",
       "</style>\n",
       "<table border=\"1\" class=\"dataframe\">\n",
       "  <thead>\n",
       "    <tr style=\"text-align: right;\">\n",
       "      <th></th>\n",
       "      <th>0</th>\n",
       "      <th>1</th>\n",
       "      <th>2</th>\n",
       "      <th>3</th>\n",
       "      <th>4</th>\n",
       "      <th>5</th>\n",
       "      <th>6</th>\n",
       "      <th>7</th>\n",
       "      <th>8</th>\n",
       "    </tr>\n",
       "  </thead>\n",
       "  <tbody>\n",
       "    <tr>\n",
       "      <th>0</th>\n",
       "      <td>6</td>\n",
       "      <td>148</td>\n",
       "      <td>72</td>\n",
       "      <td>35</td>\n",
       "      <td>0</td>\n",
       "      <td>33.6</td>\n",
       "      <td>0.627</td>\n",
       "      <td>50</td>\n",
       "      <td>1</td>\n",
       "    </tr>\n",
       "    <tr>\n",
       "      <th>1</th>\n",
       "      <td>1</td>\n",
       "      <td>85</td>\n",
       "      <td>66</td>\n",
       "      <td>29</td>\n",
       "      <td>0</td>\n",
       "      <td>26.6</td>\n",
       "      <td>0.351</td>\n",
       "      <td>31</td>\n",
       "      <td>0</td>\n",
       "    </tr>\n",
       "    <tr>\n",
       "      <th>2</th>\n",
       "      <td>8</td>\n",
       "      <td>183</td>\n",
       "      <td>64</td>\n",
       "      <td>0</td>\n",
       "      <td>0</td>\n",
       "      <td>23.3</td>\n",
       "      <td>0.672</td>\n",
       "      <td>32</td>\n",
       "      <td>1</td>\n",
       "    </tr>\n",
       "    <tr>\n",
       "      <th>3</th>\n",
       "      <td>1</td>\n",
       "      <td>89</td>\n",
       "      <td>66</td>\n",
       "      <td>23</td>\n",
       "      <td>94</td>\n",
       "      <td>28.1</td>\n",
       "      <td>0.167</td>\n",
       "      <td>21</td>\n",
       "      <td>0</td>\n",
       "    </tr>\n",
       "    <tr>\n",
       "      <th>4</th>\n",
       "      <td>0</td>\n",
       "      <td>137</td>\n",
       "      <td>40</td>\n",
       "      <td>35</td>\n",
       "      <td>168</td>\n",
       "      <td>43.1</td>\n",
       "      <td>2.288</td>\n",
       "      <td>33</td>\n",
       "      <td>1</td>\n",
       "    </tr>\n",
       "  </tbody>\n",
       "</table>\n",
       "</div>"
      ],
      "text/plain": [
       "   0    1   2   3    4     5      6   7  8\n",
       "0  6  148  72  35    0  33.6  0.627  50  1\n",
       "1  1   85  66  29    0  26.6  0.351  31  0\n",
       "2  8  183  64   0    0  23.3  0.672  32  1\n",
       "3  1   89  66  23   94  28.1  0.167  21  0\n",
       "4  0  137  40  35  168  43.1  2.288  33  1"
      ]
     },
     "execution_count": 3,
     "metadata": {},
     "output_type": "execute_result"
    }
   ],
   "source": [
    "df = pd.read_csv('pima-indians-diabetes.csv',skiprows=9,header = None)\n",
    "df.head()"
   ]
  },
  {
   "cell_type": "code",
   "execution_count": 4,
   "id": "782dfd54",
   "metadata": {
    "scrolled": true
   },
   "outputs": [
    {
     "data": {
      "text/html": [
       "<div>\n",
       "<style scoped>\n",
       "    .dataframe tbody tr th:only-of-type {\n",
       "        vertical-align: middle;\n",
       "    }\n",
       "\n",
       "    .dataframe tbody tr th {\n",
       "        vertical-align: top;\n",
       "    }\n",
       "\n",
       "    .dataframe thead th {\n",
       "        text-align: right;\n",
       "    }\n",
       "</style>\n",
       "<table border=\"1\" class=\"dataframe\">\n",
       "  <thead>\n",
       "    <tr style=\"text-align: right;\">\n",
       "      <th></th>\n",
       "      <th>Preganancies</th>\n",
       "      <th>Glucose</th>\n",
       "      <th>BloodPressure</th>\n",
       "      <th>SkinThickness</th>\n",
       "      <th>Insulin</th>\n",
       "      <th>BMI</th>\n",
       "      <th>DiabetesPedigreeFunction</th>\n",
       "      <th>Age</th>\n",
       "      <th>Outcome</th>\n",
       "    </tr>\n",
       "  </thead>\n",
       "  <tbody>\n",
       "    <tr>\n",
       "      <th>0</th>\n",
       "      <td>6</td>\n",
       "      <td>148</td>\n",
       "      <td>72</td>\n",
       "      <td>35</td>\n",
       "      <td>0</td>\n",
       "      <td>33.6</td>\n",
       "      <td>0.627</td>\n",
       "      <td>50</td>\n",
       "      <td>1</td>\n",
       "    </tr>\n",
       "    <tr>\n",
       "      <th>1</th>\n",
       "      <td>1</td>\n",
       "      <td>85</td>\n",
       "      <td>66</td>\n",
       "      <td>29</td>\n",
       "      <td>0</td>\n",
       "      <td>26.6</td>\n",
       "      <td>0.351</td>\n",
       "      <td>31</td>\n",
       "      <td>0</td>\n",
       "    </tr>\n",
       "    <tr>\n",
       "      <th>2</th>\n",
       "      <td>8</td>\n",
       "      <td>183</td>\n",
       "      <td>64</td>\n",
       "      <td>0</td>\n",
       "      <td>0</td>\n",
       "      <td>23.3</td>\n",
       "      <td>0.672</td>\n",
       "      <td>32</td>\n",
       "      <td>1</td>\n",
       "    </tr>\n",
       "    <tr>\n",
       "      <th>3</th>\n",
       "      <td>1</td>\n",
       "      <td>89</td>\n",
       "      <td>66</td>\n",
       "      <td>23</td>\n",
       "      <td>94</td>\n",
       "      <td>28.1</td>\n",
       "      <td>0.167</td>\n",
       "      <td>21</td>\n",
       "      <td>0</td>\n",
       "    </tr>\n",
       "    <tr>\n",
       "      <th>4</th>\n",
       "      <td>0</td>\n",
       "      <td>137</td>\n",
       "      <td>40</td>\n",
       "      <td>35</td>\n",
       "      <td>168</td>\n",
       "      <td>43.1</td>\n",
       "      <td>2.288</td>\n",
       "      <td>33</td>\n",
       "      <td>1</td>\n",
       "    </tr>\n",
       "  </tbody>\n",
       "</table>\n",
       "</div>"
      ],
      "text/plain": [
       "   Preganancies  Glucose  BloodPressure  SkinThickness  Insulin   BMI  \\\n",
       "0             6      148             72             35        0  33.6   \n",
       "1             1       85             66             29        0  26.6   \n",
       "2             8      183             64              0        0  23.3   \n",
       "3             1       89             66             23       94  28.1   \n",
       "4             0      137             40             35      168  43.1   \n",
       "\n",
       "   DiabetesPedigreeFunction  Age  Outcome  \n",
       "0                     0.627   50        1  \n",
       "1                     0.351   31        0  \n",
       "2                     0.672   32        1  \n",
       "3                     0.167   21        0  \n",
       "4                     2.288   33        1  "
      ]
     },
     "execution_count": 4,
     "metadata": {},
     "output_type": "execute_result"
    }
   ],
   "source": [
    "df.columns = df_columns\n",
    "df.head()"
   ]
  },
  {
   "cell_type": "markdown",
   "id": "64855be7",
   "metadata": {},
   "source": [
    "## Checking Missing Values"
   ]
  },
  {
   "cell_type": "code",
   "execution_count": 5,
   "id": "c9123aee",
   "metadata": {},
   "outputs": [
    {
     "data": {
      "text/plain": [
       "Preganancies                0\n",
       "Glucose                     0\n",
       "BloodPressure               0\n",
       "SkinThickness               0\n",
       "Insulin                     0\n",
       "BMI                         0\n",
       "DiabetesPedigreeFunction    0\n",
       "Age                         0\n",
       "Outcome                     0\n",
       "dtype: int64"
      ]
     },
     "execution_count": 5,
     "metadata": {},
     "output_type": "execute_result"
    }
   ],
   "source": [
    "df.isna().sum(axis=0)"
   ]
  },
  {
   "cell_type": "code",
   "execution_count": 6,
   "id": "e3538976",
   "metadata": {
    "scrolled": true
   },
   "outputs": [
    {
     "data": {
      "text/plain": [
       "Preganancies                0\n",
       "Glucose                     0\n",
       "BloodPressure               0\n",
       "SkinThickness               0\n",
       "Insulin                     0\n",
       "BMI                         0\n",
       "DiabetesPedigreeFunction    0\n",
       "Age                         0\n",
       "Outcome                     0\n",
       "dtype: int64"
      ]
     },
     "execution_count": 6,
     "metadata": {},
     "output_type": "execute_result"
    }
   ],
   "source": [
    "(df[:] < 0).sum(axis=0)"
   ]
  },
  {
   "cell_type": "markdown",
   "id": "4c008c8c",
   "metadata": {},
   "source": [
    "## Age Distribution"
   ]
  },
  {
   "cell_type": "code",
   "execution_count": 7,
   "id": "0ed54621",
   "metadata": {},
   "outputs": [
    {
     "data": {
      "text/plain": [
       "count    768.000000\n",
       "mean      33.240885\n",
       "std       11.760232\n",
       "min       21.000000\n",
       "25%       24.000000\n",
       "50%       29.000000\n",
       "75%       41.000000\n",
       "max       81.000000\n",
       "Name: Age, dtype: float64"
      ]
     },
     "execution_count": 7,
     "metadata": {},
     "output_type": "execute_result"
    }
   ],
   "source": [
    "df['Age'].describe()"
   ]
  },
  {
   "cell_type": "code",
   "execution_count": 8,
   "id": "cd88483e",
   "metadata": {},
   "outputs": [
    {
     "name": "stdout",
     "output_type": "stream",
     "text": [
      "Average age of Patients is 33.24\n"
     ]
    }
   ],
   "source": [
    "print(\"Average age of Patients is {0:2.2f}\".format(df['Age'].describe()['mean']) )"
   ]
  },
  {
   "cell_type": "code",
   "execution_count": 9,
   "id": "a2156812",
   "metadata": {},
   "outputs": [
    {
     "name": "stdout",
     "output_type": "stream",
     "text": [
      "Standard Deviation of age of Patients is 11.76\n"
     ]
    }
   ],
   "source": [
    "print(\"Standard Deviation of age of Patients is {0:2.2f}\".format(df['Age'].describe()['std']) )"
   ]
  },
  {
   "cell_type": "code",
   "execution_count": 10,
   "id": "082b31a9",
   "metadata": {},
   "outputs": [
    {
     "data": {
      "text/plain": [
       "<AxesSubplot:xlabel='Age', ylabel='Count'>"
      ]
     },
     "execution_count": 10,
     "metadata": {},
     "output_type": "execute_result"
    },
    {
     "data": {
      "image/png": "[encoded data removed]",
      "text/plain": [
       "<Figure size 432x288 with 1 Axes>"
      ]
     },
     "metadata": {
      "needs_background": "light"
     },
     "output_type": "display_data"
    }
   ],
   "source": [
    "sns.histplot(df['Age'],kde=True)"
   ]
  },
  {
   "cell_type": "code",
   "execution_count": 11,
   "id": "89232688",
   "metadata": {
    "scrolled": true
   },
   "outputs": [
    {
     "data": {
      "text/plain": [
       "<AxesSubplot:>"
      ]
     },
     "execution_count": 11,
     "metadata": {},
     "output_type": "execute_result"
    },
    {
     "data": {
      "image/png": "[encoded data removed]",
      "text/plain": [
       "<Figure size 432x288 with 1 Axes>"
      ]
     },
     "metadata": {
      "needs_background": "light"
     },
     "output_type": "display_data"
    }
   ],
   "source": [
    "sns.boxplot(data = df['Age'],color='skyblue')"
   ]
  },
  {
   "cell_type": "markdown",
   "id": "b3470e8d",
   "metadata": {},
   "source": [
    "## Removing Outliers"
   ]
  },
  {
   "cell_type": "code",
   "execution_count": 12,
   "id": "04b9fec5",
   "metadata": {},
   "outputs": [],
   "source": [
    "def remove_outlier(p):\n",
    "    upper = p.quantile(0.75)\n",
    "    lower = p.quantile(0.25)\n",
    "    iqr =upper - lower\n",
    "    # df.loc[df[numeric]>=df[numeric].quantile(0.75)+iqr*1.5]\n",
    "    factor=iqr*1.5\n",
    "    cond = (p>=upper+factor) | (p<=lower-factor)\n",
    "    p.loc[cond] = p.median()\n",
    "    return p"
   ]
  },
  {
   "cell_type": "code",
   "execution_count": 13,
   "id": "6a968562",
   "metadata": {},
   "outputs": [],
   "source": [
    "df[df_columns]=df[df_columns].apply(remove_outlier)"
   ]
  },
  {
   "cell_type": "code",
   "execution_count": 14,
   "id": "76a1431f",
   "metadata": {},
   "outputs": [
    {
     "data": {
      "text/plain": [
       "<AxesSubplot:>"
      ]
     },
     "execution_count": 14,
     "metadata": {},
     "output_type": "execute_result"
    },
    {
     "data": {
      "image/png": "[encoded data removed]",
      "text/plain": [
       "<Figure size 432x288 with 1 Axes>"
      ]
     },
     "metadata": {
      "needs_background": "light"
     },
     "output_type": "display_data"
    }
   ],
   "source": [
    "sns.boxplot(data = df['Age'])"
   ]
  },
  {
   "cell_type": "markdown",
   "id": "bafd72ff",
   "metadata": {},
   "source": [
    "## Studying Relationship of Age and BMI with Class"
   ]
  },
  {
   "cell_type": "markdown",
   "id": "f6891baf",
   "metadata": {},
   "source": [
    "### mean values"
   ]
  },
  {
   "cell_type": "code",
   "execution_count": 15,
   "id": "0b35478c",
   "metadata": {},
   "outputs": [
    {
     "data": {
      "text/html": [
       "<div>\n",
       "<style scoped>\n",
       "    .dataframe tbody tr th:only-of-type {\n",
       "        vertical-align: middle;\n",
       "    }\n",
       "\n",
       "    .dataframe tbody tr th {\n",
       "        vertical-align: top;\n",
       "    }\n",
       "\n",
       "    .dataframe thead th {\n",
       "        text-align: right;\n",
       "    }\n",
       "</style>\n",
       "<table border=\"1\" class=\"dataframe\">\n",
       "  <thead>\n",
       "    <tr style=\"text-align: right;\">\n",
       "      <th></th>\n",
       "      <th>Age</th>\n",
       "      <th>BMI</th>\n",
       "    </tr>\n",
       "    <tr>\n",
       "      <th>Outcome</th>\n",
       "      <th></th>\n",
       "      <th></th>\n",
       "    </tr>\n",
       "  </thead>\n",
       "  <tbody>\n",
       "    <tr>\n",
       "      <th>0</th>\n",
       "      <td>30.610000</td>\n",
       "      <td>30.789000</td>\n",
       "    </tr>\n",
       "    <tr>\n",
       "      <th>1</th>\n",
       "      <td>36.772388</td>\n",
       "      <td>34.829478</td>\n",
       "    </tr>\n",
       "  </tbody>\n",
       "</table>\n",
       "</div>"
      ],
      "text/plain": [
       "               Age        BMI\n",
       "Outcome                      \n",
       "0        30.610000  30.789000\n",
       "1        36.772388  34.829478"
      ]
     },
     "execution_count": 15,
     "metadata": {},
     "output_type": "execute_result"
    }
   ],
   "source": [
    "pd.pivot_table(data=df,\n",
    "               values=['BMI','Age'],\n",
    "               index='Outcome',\n",
    "               aggfunc=np.mean)"
   ]
  },
  {
   "cell_type": "code",
   "execution_count": 16,
   "id": "95ec55cb",
   "metadata": {},
   "outputs": [],
   "source": [
    "## Patients that are diagnosed with diabetes tend to be 6 years older than those who are not\n",
    "## Patients diagnosed with diabetes also have a Very High BMI of 35 on average"
   ]
  },
  {
   "cell_type": "markdown",
   "id": "f77f9e0c",
   "metadata": {},
   "source": [
    "### chi2 test"
   ]
  },
  {
   "cell_type": "code",
   "execution_count": 17,
   "id": "d96eaf82",
   "metadata": {},
   "outputs": [
    {
     "name": "stdout",
     "output_type": "stream",
     "text": [
      "P value between Age and Outcome is 0.0000000001\n"
     ]
    }
   ],
   "source": [
    "age_outcome_ct = pd.crosstab(index = df['Outcome'],columns =df['Age'])\n",
    "c, p, dof, expected = chi2_contingency(age_outcome_ct) \n",
    "print(\"P value between Age and Outcome is {0:2.10f}\".format(p))"
   ]
  },
  {
   "cell_type": "markdown",
   "id": "fde8e16c",
   "metadata": {},
   "source": [
    "#### we discover a significant relationship between Age and Outcome with a p-value < 0.05"
   ]
  },
  {
   "cell_type": "code",
   "execution_count": 18,
   "id": "e7b7e1ff",
   "metadata": {},
   "outputs": [
    {
     "name": "stdout",
     "output_type": "stream",
     "text": [
      "P value between BMI and Outcome is 0.0527182618\n"
     ]
    }
   ],
   "source": [
    "bmi_outcome_ct = pd.crosstab(index = df['Outcome'],columns =df['BMI'])\n",
    "c, p, dof, expected = chi2_contingency(bmi_outcome_ct) \n",
    "print(\"P value between BMI and Outcome is {0:2.10f}\".format(p))"
   ]
  },
  {
   "cell_type": "markdown",
   "id": "a9448188",
   "metadata": {},
   "source": [
    "#### we discover a significant relationship between Age and Outcome with a p-value ~ 0.05"
   ]
  },
  {
   "cell_type": "code",
   "execution_count": 19,
   "id": "2f4ebe87",
   "metadata": {},
   "outputs": [
    {
     "data": {
      "text/html": [
       "<div>\n",
       "<style scoped>\n",
       "    .dataframe tbody tr th:only-of-type {\n",
       "        vertical-align: middle;\n",
       "    }\n",
       "\n",
       "    .dataframe tbody tr th {\n",
       "        vertical-align: top;\n",
       "    }\n",
       "\n",
       "    .dataframe thead th {\n",
       "        text-align: right;\n",
       "    }\n",
       "</style>\n",
       "<table border=\"1\" class=\"dataframe\">\n",
       "  <thead>\n",
       "    <tr style=\"text-align: right;\">\n",
       "      <th></th>\n",
       "      <th>BMI</th>\n",
       "      <th>Age</th>\n",
       "      <th>Outcome</th>\n",
       "    </tr>\n",
       "  </thead>\n",
       "  <tbody>\n",
       "    <tr>\n",
       "      <th>BMI</th>\n",
       "      <td>1.000000</td>\n",
       "      <td>0.077668</td>\n",
       "      <td>0.300615</td>\n",
       "    </tr>\n",
       "    <tr>\n",
       "      <th>Age</th>\n",
       "      <td>0.077668</td>\n",
       "      <td>1.000000</td>\n",
       "      <td>0.265858</td>\n",
       "    </tr>\n",
       "    <tr>\n",
       "      <th>Outcome</th>\n",
       "      <td>0.300615</td>\n",
       "      <td>0.265858</td>\n",
       "      <td>1.000000</td>\n",
       "    </tr>\n",
       "  </tbody>\n",
       "</table>\n",
       "</div>"
      ],
      "text/plain": [
       "              BMI       Age   Outcome\n",
       "BMI      1.000000  0.077668  0.300615\n",
       "Age      0.077668  1.000000  0.265858\n",
       "Outcome  0.300615  0.265858  1.000000"
      ]
     },
     "execution_count": 19,
     "metadata": {},
     "output_type": "execute_result"
    }
   ],
   "source": [
    "df[['BMI','Age','Outcome']].corr()"
   ]
  },
  {
   "cell_type": "code",
   "execution_count": 20,
   "id": "bcbeea8a",
   "metadata": {
    "scrolled": true
   },
   "outputs": [
    {
     "data": {
      "text/html": [
       "<div>\n",
       "<style scoped>\n",
       "    .dataframe tbody tr th:only-of-type {\n",
       "        vertical-align: middle;\n",
       "    }\n",
       "\n",
       "    .dataframe tbody tr th {\n",
       "        vertical-align: top;\n",
       "    }\n",
       "\n",
       "    .dataframe thead th {\n",
       "        text-align: right;\n",
       "    }\n",
       "</style>\n",
       "<table border=\"1\" class=\"dataframe\">\n",
       "  <thead>\n",
       "    <tr style=\"text-align: right;\">\n",
       "      <th></th>\n",
       "      <th>Age</th>\n",
       "      <th>BMI</th>\n",
       "      <th>BloodPressure</th>\n",
       "      <th>DiabetesPedigreeFunction</th>\n",
       "      <th>Glucose</th>\n",
       "      <th>Insulin</th>\n",
       "      <th>Preganancies</th>\n",
       "      <th>SkinThickness</th>\n",
       "    </tr>\n",
       "    <tr>\n",
       "      <th>Outcome</th>\n",
       "      <th></th>\n",
       "      <th></th>\n",
       "      <th></th>\n",
       "      <th></th>\n",
       "      <th></th>\n",
       "      <th></th>\n",
       "      <th></th>\n",
       "      <th></th>\n",
       "    </tr>\n",
       "  </thead>\n",
       "  <tbody>\n",
       "    <tr>\n",
       "      <th>0</th>\n",
       "      <td>15305</td>\n",
       "      <td>15394.5</td>\n",
       "      <td>35426</td>\n",
       "      <td>200.2020</td>\n",
       "      <td>55341</td>\n",
       "      <td>28242.5</td>\n",
       "      <td>1649</td>\n",
       "      <td>9832</td>\n",
       "    </tr>\n",
       "    <tr>\n",
       "      <th>1</th>\n",
       "      <td>9855</td>\n",
       "      <td>9334.3</td>\n",
       "      <td>20021</td>\n",
       "      <td>128.2465</td>\n",
       "      <td>38091</td>\n",
       "      <td>18543.5</td>\n",
       "      <td>1256</td>\n",
       "      <td>5864</td>\n",
       "    </tr>\n",
       "  </tbody>\n",
       "</table>\n",
       "</div>"
      ],
      "text/plain": [
       "           Age      BMI  BloodPressure  DiabetesPedigreeFunction  Glucose  \\\n",
       "Outcome                                                                     \n",
       "0        15305  15394.5          35426                  200.2020    55341   \n",
       "1         9855   9334.3          20021                  128.2465    38091   \n",
       "\n",
       "         Insulin  Preganancies  SkinThickness  \n",
       "Outcome                                        \n",
       "0        28242.5          1649           9832  \n",
       "1        18543.5          1256           5864  "
      ]
     },
     "execution_count": 20,
     "metadata": {},
     "output_type": "execute_result"
    }
   ],
   "source": [
    "pd.pivot_table(data=df,\n",
    "               index=['Outcome'],\n",
    "               aggfunc=np.sum)"
   ]
  },
  {
   "cell_type": "markdown",
   "id": "c36dc20d",
   "metadata": {},
   "source": [
    "## Checking if classes are balanced"
   ]
  },
  {
   "cell_type": "code",
   "execution_count": 21,
   "id": "631671a5",
   "metadata": {},
   "outputs": [
    {
     "data": {
      "text/plain": [
       "Text(3.2, 10, 'No Diabetes 0.65%\\n Diabetes 0.35%')"
      ]
     },
     "execution_count": 21,
     "metadata": {},
     "output_type": "execute_result"
    },
    {
     "data": {
      "image/png": "[encoded data removed]",
      "text/plain": [
       "<Figure size 432x288 with 1 Axes>"
      ]
     },
     "metadata": {
      "needs_background": "light"
     },
     "output_type": "display_data"
    }
   ],
   "source": [
    "df['Outcome'].value_counts().plot(kind='bar')\n",
    "annotation = str(\"No Diabetes {0:2.2f}%\\n Diabetes {1:2.2f}%\".format(1 - np.mean(df['Outcome']) , np.mean(df['Outcome'])))\n",
    "plt.text(3+0.2,10, annotation, horizontalalignment='right', size='medium', color='black', weight='semibold')"
   ]
  },
  {
   "cell_type": "markdown",
   "id": "2b3452cd",
   "metadata": {},
   "source": [
    "### We observe slight skewness but not something to worry about"
   ]
  },
  {
   "cell_type": "markdown",
   "id": "c2f14402",
   "metadata": {},
   "source": [
    "## Building Prediction Model"
   ]
  },
  {
   "cell_type": "code",
   "execution_count": 22,
   "id": "58616266",
   "metadata": {
    "scrolled": true
   },
   "outputs": [
    {
     "data": {
      "text/html": [
       "<div>\n",
       "<style scoped>\n",
       "    .dataframe tbody tr th:only-of-type {\n",
       "        vertical-align: middle;\n",
       "    }\n",
       "\n",
       "    .dataframe tbody tr th {\n",
       "        vertical-align: top;\n",
       "    }\n",
       "\n",
       "    .dataframe thead th {\n",
       "        text-align: right;\n",
       "    }\n",
       "</style>\n",
       "<table border=\"1\" class=\"dataframe\">\n",
       "  <thead>\n",
       "    <tr style=\"text-align: right;\">\n",
       "      <th></th>\n",
       "      <th>Preganancies</th>\n",
       "      <th>Glucose</th>\n",
       "      <th>BloodPressure</th>\n",
       "      <th>SkinThickness</th>\n",
       "      <th>Insulin</th>\n",
       "      <th>BMI</th>\n",
       "      <th>DiabetesPedigreeFunction</th>\n",
       "      <th>Age</th>\n",
       "    </tr>\n",
       "  </thead>\n",
       "  <tbody>\n",
       "    <tr>\n",
       "      <th>0</th>\n",
       "      <td>6</td>\n",
       "      <td>148</td>\n",
       "      <td>72</td>\n",
       "      <td>35</td>\n",
       "      <td>0.0</td>\n",
       "      <td>33.6</td>\n",
       "      <td>0.6270</td>\n",
       "      <td>50</td>\n",
       "    </tr>\n",
       "    <tr>\n",
       "      <th>1</th>\n",
       "      <td>1</td>\n",
       "      <td>85</td>\n",
       "      <td>66</td>\n",
       "      <td>29</td>\n",
       "      <td>0.0</td>\n",
       "      <td>26.6</td>\n",
       "      <td>0.3510</td>\n",
       "      <td>31</td>\n",
       "    </tr>\n",
       "    <tr>\n",
       "      <th>2</th>\n",
       "      <td>8</td>\n",
       "      <td>183</td>\n",
       "      <td>64</td>\n",
       "      <td>0</td>\n",
       "      <td>0.0</td>\n",
       "      <td>23.3</td>\n",
       "      <td>0.6720</td>\n",
       "      <td>32</td>\n",
       "    </tr>\n",
       "    <tr>\n",
       "      <th>3</th>\n",
       "      <td>1</td>\n",
       "      <td>89</td>\n",
       "      <td>66</td>\n",
       "      <td>23</td>\n",
       "      <td>94.0</td>\n",
       "      <td>28.1</td>\n",
       "      <td>0.1670</td>\n",
       "      <td>21</td>\n",
       "    </tr>\n",
       "    <tr>\n",
       "      <th>4</th>\n",
       "      <td>0</td>\n",
       "      <td>137</td>\n",
       "      <td>40</td>\n",
       "      <td>35</td>\n",
       "      <td>168.0</td>\n",
       "      <td>43.1</td>\n",
       "      <td>0.3725</td>\n",
       "      <td>33</td>\n",
       "    </tr>\n",
       "  </tbody>\n",
       "</table>\n",
       "</div>"
      ],
      "text/plain": [
       "   Preganancies  Glucose  BloodPressure  SkinThickness  Insulin   BMI  \\\n",
       "0             6      148             72             35      0.0  33.6   \n",
       "1             1       85             66             29      0.0  26.6   \n",
       "2             8      183             64              0      0.0  23.3   \n",
       "3             1       89             66             23     94.0  28.1   \n",
       "4             0      137             40             35    168.0  43.1   \n",
       "\n",
       "   DiabetesPedigreeFunction  Age  \n",
       "0                    0.6270   50  \n",
       "1                    0.3510   31  \n",
       "2                    0.6720   32  \n",
       "3                    0.1670   21  \n",
       "4                    0.3725   33  "
      ]
     },
     "execution_count": 22,
     "metadata": {},
     "output_type": "execute_result"
    }
   ],
   "source": [
    "X = df.iloc[:,0:-1]\n",
    "y = df['Outcome']\n",
    "X.head()"
   ]
  },
  {
   "cell_type": "markdown",
   "id": "7f53db5d",
   "metadata": {},
   "source": [
    "### Scaling Data using Min-Max Scaler\n",
    "\n",
    "#### Min-Max Scaler was preferred over Standard Scaler because usage of standard scaler resulted in model having high accuracy but very low recall"
   ]
  },
  {
   "cell_type": "code",
   "execution_count": 23,
   "id": "4f285a85",
   "metadata": {},
   "outputs": [],
   "source": [
    "scaler = MinMaxScaler()\n",
    "X = scaler.fit_transform(X)"
   ]
  },
  {
   "cell_type": "markdown",
   "id": "557df5a5",
   "metadata": {},
   "source": [
    "### Converting into numpy arrays\n",
    "#### This step is not particularly needed but some libraries expect data to be in numpy array format"
   ]
  },
  {
   "cell_type": "code",
   "execution_count": 24,
   "id": "0d23eb7b",
   "metadata": {},
   "outputs": [],
   "source": [
    "X = np.array(X)\n",
    "y = np.array(y)"
   ]
  },
  {
   "cell_type": "code",
   "execution_count": 25,
   "id": "11af3b06",
   "metadata": {},
   "outputs": [],
   "source": [
    "X_train , X_test , y_train , y_test = train_test_split(X,y,train_size=0.8,random_state=1)"
   ]
  },
  {
   "cell_type": "markdown",
   "id": "bc9f3e88",
   "metadata": {},
   "source": [
    "### Playing with Parameters\n",
    "#### Using all 3 solvers to observe if I can get any Better Results\n",
    "#### Afterall, there is 'No Free Lunch'"
   ]
  },
  {
   "cell_type": "code",
   "execution_count": 26,
   "id": "a4d2588d",
   "metadata": {},
   "outputs": [],
   "source": [
    "logistic_regression_model = LogisticRegression(penalty='l2' , random_state=42 , max_iter = 10000)\n",
    "logistic_regression_model2 = LogisticRegression(penalty = 'elasticnet' , l1_ratio=0.5, random_state = 42 , max_iter=10000, solver = 'saga')\n",
    "logistic_regression_model3 = LogisticRegression(penalty = 'l1' , random_state = 42 , max_iter=10000, solver = 'liblinear')"
   ]
  },
  {
   "cell_type": "code",
   "execution_count": 27,
   "id": "3877f592",
   "metadata": {},
   "outputs": [
    {
     "data": {
      "text/plain": [
       "LogisticRegression(max_iter=10000, penalty='l1', random_state=42,\n",
       "                   solver='liblinear')"
      ]
     },
     "execution_count": 27,
     "metadata": {},
     "output_type": "execute_result"
    }
   ],
   "source": [
    "logistic_regression_model.fit(X_train,y_train)\n",
    "logistic_regression_model2.fit(X_train,y_train)\n",
    "logistic_regression_model3.fit(X_train,y_train)"
   ]
  },
  {
   "cell_type": "markdown",
   "id": "dba119ce",
   "metadata": {},
   "source": [
    "### Model 1 using Ridge Regression"
   ]
  },
  {
   "cell_type": "code",
   "execution_count": 28,
   "id": "88b0a2f1",
   "metadata": {},
   "outputs": [
    {
     "data": {
      "text/plain": [
       "0.7662337662337663"
      ]
     },
     "execution_count": 28,
     "metadata": {},
     "output_type": "execute_result"
    }
   ],
   "source": [
    "logistic_regression_model.score(X=X_test,y=y_test)"
   ]
  },
  {
   "cell_type": "code",
   "execution_count": 29,
   "id": "b05c9990",
   "metadata": {
    "scrolled": true
   },
   "outputs": [
    {
     "data": {
      "text/plain": [
       "<sklearn.metrics._plot.confusion_matrix.ConfusionMatrixDisplay at 0x2823b54ce20>"
      ]
     },
     "execution_count": 29,
     "metadata": {},
     "output_type": "execute_result"
    },
    {
     "data": {
      "image/png": "[encoded data removed]",
      "text/plain": [
       "<Figure size 432x288 with 2 Axes>"
      ]
     },
     "metadata": {
      "needs_background": "light"
     },
     "output_type": "display_data"
    }
   ],
   "source": [
    "cm1 = confusion_matrix(y_true=y_test , y_pred=logistic_regression_model.predict(X_test))\n",
    "ConfusionMatrixDisplay(confusion_matrix=cm1).plot()"
   ]
  },
  {
   "cell_type": "code",
   "execution_count": 30,
   "id": "9794edbf",
   "metadata": {
    "scrolled": true
   },
   "outputs": [
    {
     "name": "stdout",
     "output_type": "stream",
     "text": [
      "              precision    recall  f1-score   support\n",
      "\n",
      "           0       0.77      0.91      0.83        99\n",
      "           1       0.76      0.51      0.61        55\n",
      "\n",
      "    accuracy                           0.77       154\n",
      "   macro avg       0.76      0.71      0.72       154\n",
      "weighted avg       0.76      0.77      0.75       154\n",
      "\n"
     ]
    }
   ],
   "source": [
    "print(metrics.classification_report(y_test, y_pred = logistic_regression_model.predict(X_test), labels = [0,1]))"
   ]
  },
  {
   "cell_type": "markdown",
   "id": "75b1ea19",
   "metadata": {},
   "source": [
    "### Model 2 using ElasticNet Regression"
   ]
  },
  {
   "cell_type": "code",
   "execution_count": 31,
   "id": "3f6776f9",
   "metadata": {},
   "outputs": [
    {
     "data": {
      "text/plain": [
       "0.7857142857142857"
      ]
     },
     "execution_count": 31,
     "metadata": {},
     "output_type": "execute_result"
    }
   ],
   "source": [
    "logistic_regression_model2.score(X=X_test,y=y_test)"
   ]
  },
  {
   "cell_type": "code",
   "execution_count": 32,
   "id": "d86647fb",
   "metadata": {},
   "outputs": [
    {
     "data": {
      "text/plain": [
       "<sklearn.metrics._plot.confusion_matrix.ConfusionMatrixDisplay at 0x28240fda280>"
      ]
     },
     "execution_count": 32,
     "metadata": {},
     "output_type": "execute_result"
    },
    {
     "data": {
      "image/png": "[encoded data removed]",
      "text/plain": [
       "<Figure size 432x288 with 2 Axes>"
      ]
     },
     "metadata": {
      "needs_background": "light"
     },
     "output_type": "display_data"
    }
   ],
   "source": [
    "cm2 = confusion_matrix(y_true=y_test , y_pred=logistic_regression_model2.predict(X_test))\n",
    "ConfusionMatrixDisplay(confusion_matrix=cm2).plot()"
   ]
  },
  {
   "cell_type": "code",
   "execution_count": 33,
   "id": "762cd466",
   "metadata": {
    "scrolled": true
   },
   "outputs": [
    {
     "name": "stdout",
     "output_type": "stream",
     "text": [
      "              precision    recall  f1-score   support\n",
      "\n",
      "           0       0.79      0.91      0.85        99\n",
      "           1       0.78      0.56      0.65        55\n",
      "\n",
      "    accuracy                           0.79       154\n",
      "   macro avg       0.78      0.74      0.75       154\n",
      "weighted avg       0.78      0.79      0.78       154\n",
      "\n"
     ]
    }
   ],
   "source": [
    "print(metrics.classification_report(y_test, y_pred = logistic_regression_model2.predict(X_test), labels = [0,1]))"
   ]
  },
  {
   "cell_type": "markdown",
   "id": "3b9f803d",
   "metadata": {},
   "source": [
    "### Model 3 using Lasso Regression"
   ]
  },
  {
   "cell_type": "code",
   "execution_count": 34,
   "id": "5cd72ca9",
   "metadata": {},
   "outputs": [
    {
     "data": {
      "text/plain": [
       "0.7792207792207793"
      ]
     },
     "execution_count": 34,
     "metadata": {},
     "output_type": "execute_result"
    }
   ],
   "source": [
    "logistic_regression_model3.score(X=X_test,y=y_test)"
   ]
  },
  {
   "cell_type": "code",
   "execution_count": 35,
   "id": "b61c49cb",
   "metadata": {},
   "outputs": [
    {
     "data": {
      "text/plain": [
       "<sklearn.metrics._plot.confusion_matrix.ConfusionMatrixDisplay at 0x28240fe8790>"
      ]
     },
     "execution_count": 35,
     "metadata": {},
     "output_type": "execute_result"
    },
    {
     "data": {
      "image/png": "[encoded data removed]",
      "text/plain": [
       "<Figure size 432x288 with 2 Axes>"
      ]
     },
     "metadata": {
      "needs_background": "light"
     },
     "output_type": "display_data"
    }
   ],
   "source": [
    "cm3 = confusion_matrix(y_true=y_test , y_pred=logistic_regression_model3.predict(X_test))\n",
    "ConfusionMatrixDisplay(confusion_matrix=cm3).plot()"
   ]
  },
  {
   "cell_type": "code",
   "execution_count": 36,
   "id": "a804f562",
   "metadata": {},
   "outputs": [
    {
     "name": "stdout",
     "output_type": "stream",
     "text": [
      "              precision    recall  f1-score   support\n",
      "\n",
      "           0       0.79      0.90      0.84        99\n",
      "           1       0.76      0.56      0.65        55\n",
      "\n",
      "    accuracy                           0.78       154\n",
      "   macro avg       0.77      0.73      0.74       154\n",
      "weighted avg       0.78      0.78      0.77       154\n",
      "\n"
     ]
    }
   ],
   "source": [
    "print(metrics.classification_report(y_test, y_pred = logistic_regression_model3.predict(X_test), labels = [0,1]))"
   ]
  },
  {
   "cell_type": "markdown",
   "id": "3cfed72e",
   "metadata": {},
   "source": [
    "### All 3 models seem to perform fairly similarly on the dataset with equivalent accuracy , precision and recall scores"
   ]
  },
  {
   "cell_type": "code",
   "execution_count": 37,
   "id": "8c53e8f6",
   "metadata": {},
   "outputs": [
    {
     "data": {
      "text/plain": [
       "<matplotlib.legend.Legend at 0x2824117a730>"
      ]
     },
     "execution_count": 37,
     "metadata": {},
     "output_type": "execute_result"
    },
    {
     "data": {
      "image/png": "[encoded data removed]",
      "text/plain": [
       "<Figure size 720x504 with 1 Axes>"
      ]
     },
     "metadata": {
      "needs_background": "light"
     },
     "output_type": "display_data"
    }
   ],
   "source": [
    "y_pred_proba = logistic_regression_model.predict_proba(X_test)[::,1]\n",
    "fpr, tpr, _ = roc_curve(y_test, y_pred_proba)\n",
    "\n",
    "auc = roc_auc_score(y_test, y_pred_proba)\n",
    "plt.figure(figsize = (10,7))\n",
    "plt.plot(fpr,tpr,label=\"data 1, auc=\"+str(auc))\n",
    "plt.legend(loc=4)\n",
    "plt.xlabel('False Positive Rate')\n",
    "plt.ylabel('True Positive Rate')\n",
    "plt.title('Receiver operating characteristic')\n",
    "plt.legend(loc=\"lower right\")"
   ]
  },
  {
   "cell_type": "code",
   "execution_count": null,
   "id": "f1f962b5",
   "metadata": {},
   "outputs": [],
   "source": []
  }
 ],
 "metadata": {
  "kernelspec": {
   "display_name": "Python 3 (ipykernel)",
   "language": "python",
   "name": "python3"
  },
  "language_info": {
   "codemirror_mode": {
    "name": "ipython",
    "version": 3
   },
   "file_extension": ".py",
   "mimetype": "text/x-python",
   "name": "python",
   "nbconvert_exporter": "python",
   "pygments_lexer": "ipython3",
   "version": "3.9.7"
  }
 },
 "nbformat": 4,
 "nbformat_minor": 5
}
