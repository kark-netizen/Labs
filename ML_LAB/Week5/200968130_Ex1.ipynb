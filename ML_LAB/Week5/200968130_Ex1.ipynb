{
 "cells": [
  {
   "cell_type": "markdown",
   "id": "19fe1a5b",
   "metadata": {},
   "source": [
    "## Importing Library"
   ]
  },
  {
   "cell_type": "code",
   "execution_count": 1,
   "id": "a97c2dcf",
   "metadata": {},
   "outputs": [],
   "source": [
    "import pandas as pd \n",
    "import numpy as np\n",
    "import matplotlib.pyplot as plt\n",
    "import seaborn as sns\n",
    "\n",
    "from statsmodels.stats.outliers_influence import variance_inflation_factor\n",
    "\n",
    "from sklearn.preprocessing import OrdinalEncoder\n",
    "from sklearn.preprocessing import StandardScaler\n",
    "from sklearn.preprocessing import LabelEncoder\n",
    "from sklearn.model_selection import train_test_split\n",
    "from sklearn.linear_model import LogisticRegression"
   ]
  },
  {
   "cell_type": "markdown",
   "id": "d1f54849",
   "metadata": {},
   "source": [
    "## Importing Dataset"
   ]
  },
  {
   "cell_type": "code",
   "execution_count": 2,
   "id": "0a442a61",
   "metadata": {
    "scrolled": true
   },
   "outputs": [
    {
     "data": {
      "text/html": [
       "<div>\n",
       "<style scoped>\n",
       "    .dataframe tbody tr th:only-of-type {\n",
       "        vertical-align: middle;\n",
       "    }\n",
       "\n",
       "    .dataframe tbody tr th {\n",
       "        vertical-align: top;\n",
       "    }\n",
       "\n",
       "    .dataframe thead th {\n",
       "        text-align: right;\n",
       "    }\n",
       "</style>\n",
       "<table border=\"1\" class=\"dataframe\">\n",
       "  <thead>\n",
       "    <tr style=\"text-align: right;\">\n",
       "      <th></th>\n",
       "      <th>Location</th>\n",
       "      <th>MinTemp</th>\n",
       "      <th>MaxTemp</th>\n",
       "      <th>Rainfall</th>\n",
       "      <th>Evaporation</th>\n",
       "      <th>Sunshine</th>\n",
       "      <th>WindGustDir</th>\n",
       "      <th>WindGustSpeed</th>\n",
       "      <th>WindDir9am</th>\n",
       "      <th>WindDir3pm</th>\n",
       "      <th>...</th>\n",
       "      <th>Humidity9am</th>\n",
       "      <th>Humidity3pm</th>\n",
       "      <th>Pressure9am</th>\n",
       "      <th>Pressure3pm</th>\n",
       "      <th>Cloud9am</th>\n",
       "      <th>Cloud3pm</th>\n",
       "      <th>Temp9am</th>\n",
       "      <th>Temp3pm</th>\n",
       "      <th>RainToday</th>\n",
       "      <th>RainTomorrow</th>\n",
       "    </tr>\n",
       "    <tr>\n",
       "      <th>Date</th>\n",
       "      <th></th>\n",
       "      <th></th>\n",
       "      <th></th>\n",
       "      <th></th>\n",
       "      <th></th>\n",
       "      <th></th>\n",
       "      <th></th>\n",
       "      <th></th>\n",
       "      <th></th>\n",
       "      <th></th>\n",
       "      <th></th>\n",
       "      <th></th>\n",
       "      <th></th>\n",
       "      <th></th>\n",
       "      <th></th>\n",
       "      <th></th>\n",
       "      <th></th>\n",
       "      <th></th>\n",
       "      <th></th>\n",
       "      <th></th>\n",
       "      <th></th>\n",
       "    </tr>\n",
       "  </thead>\n",
       "  <tbody>\n",
       "    <tr>\n",
       "      <th>2008-12-01</th>\n",
       "      <td>Albury</td>\n",
       "      <td>13.4</td>\n",
       "      <td>22.9</td>\n",
       "      <td>0.6</td>\n",
       "      <td>NaN</td>\n",
       "      <td>NaN</td>\n",
       "      <td>W</td>\n",
       "      <td>44.0</td>\n",
       "      <td>W</td>\n",
       "      <td>WNW</td>\n",
       "      <td>...</td>\n",
       "      <td>71.0</td>\n",
       "      <td>22.0</td>\n",
       "      <td>1007.7</td>\n",
       "      <td>1007.1</td>\n",
       "      <td>8.0</td>\n",
       "      <td>NaN</td>\n",
       "      <td>16.9</td>\n",
       "      <td>21.8</td>\n",
       "      <td>No</td>\n",
       "      <td>No</td>\n",
       "    </tr>\n",
       "    <tr>\n",
       "      <th>2008-12-02</th>\n",
       "      <td>Albury</td>\n",
       "      <td>7.4</td>\n",
       "      <td>25.1</td>\n",
       "      <td>0.0</td>\n",
       "      <td>NaN</td>\n",
       "      <td>NaN</td>\n",
       "      <td>WNW</td>\n",
       "      <td>44.0</td>\n",
       "      <td>NNW</td>\n",
       "      <td>WSW</td>\n",
       "      <td>...</td>\n",
       "      <td>44.0</td>\n",
       "      <td>25.0</td>\n",
       "      <td>1010.6</td>\n",
       "      <td>1007.8</td>\n",
       "      <td>NaN</td>\n",
       "      <td>NaN</td>\n",
       "      <td>17.2</td>\n",
       "      <td>24.3</td>\n",
       "      <td>No</td>\n",
       "      <td>No</td>\n",
       "    </tr>\n",
       "    <tr>\n",
       "      <th>2008-12-03</th>\n",
       "      <td>Albury</td>\n",
       "      <td>12.9</td>\n",
       "      <td>25.7</td>\n",
       "      <td>0.0</td>\n",
       "      <td>NaN</td>\n",
       "      <td>NaN</td>\n",
       "      <td>WSW</td>\n",
       "      <td>46.0</td>\n",
       "      <td>W</td>\n",
       "      <td>WSW</td>\n",
       "      <td>...</td>\n",
       "      <td>38.0</td>\n",
       "      <td>30.0</td>\n",
       "      <td>1007.6</td>\n",
       "      <td>1008.7</td>\n",
       "      <td>NaN</td>\n",
       "      <td>2.0</td>\n",
       "      <td>21.0</td>\n",
       "      <td>23.2</td>\n",
       "      <td>No</td>\n",
       "      <td>No</td>\n",
       "    </tr>\n",
       "    <tr>\n",
       "      <th>2008-12-04</th>\n",
       "      <td>Albury</td>\n",
       "      <td>9.2</td>\n",
       "      <td>28.0</td>\n",
       "      <td>0.0</td>\n",
       "      <td>NaN</td>\n",
       "      <td>NaN</td>\n",
       "      <td>NE</td>\n",
       "      <td>24.0</td>\n",
       "      <td>SE</td>\n",
       "      <td>E</td>\n",
       "      <td>...</td>\n",
       "      <td>45.0</td>\n",
       "      <td>16.0</td>\n",
       "      <td>1017.6</td>\n",
       "      <td>1012.8</td>\n",
       "      <td>NaN</td>\n",
       "      <td>NaN</td>\n",
       "      <td>18.1</td>\n",
       "      <td>26.5</td>\n",
       "      <td>No</td>\n",
       "      <td>No</td>\n",
       "    </tr>\n",
       "    <tr>\n",
       "      <th>2008-12-05</th>\n",
       "      <td>Albury</td>\n",
       "      <td>17.5</td>\n",
       "      <td>32.3</td>\n",
       "      <td>1.0</td>\n",
       "      <td>NaN</td>\n",
       "      <td>NaN</td>\n",
       "      <td>W</td>\n",
       "      <td>41.0</td>\n",
       "      <td>ENE</td>\n",
       "      <td>NW</td>\n",
       "      <td>...</td>\n",
       "      <td>82.0</td>\n",
       "      <td>33.0</td>\n",
       "      <td>1010.8</td>\n",
       "      <td>1006.0</td>\n",
       "      <td>7.0</td>\n",
       "      <td>8.0</td>\n",
       "      <td>17.8</td>\n",
       "      <td>29.7</td>\n",
       "      <td>No</td>\n",
       "      <td>No</td>\n",
       "    </tr>\n",
       "  </tbody>\n",
       "</table>\n",
       "<p>5 rows × 22 columns</p>\n",
       "</div>"
      ],
      "text/plain": [
       "           Location  MinTemp  MaxTemp  Rainfall  Evaporation  Sunshine  \\\n",
       "Date                                                                     \n",
       "2008-12-01   Albury     13.4     22.9       0.6          NaN       NaN   \n",
       "2008-12-02   Albury      7.4     25.1       0.0          NaN       NaN   \n",
       "2008-12-03   Albury     12.9     25.7       0.0          NaN       NaN   \n",
       "2008-12-04   Albury      9.2     28.0       0.0          NaN       NaN   \n",
       "2008-12-05   Albury     17.5     32.3       1.0          NaN       NaN   \n",
       "\n",
       "           WindGustDir  WindGustSpeed WindDir9am WindDir3pm  ...  Humidity9am  \\\n",
       "Date                                                         ...                \n",
       "2008-12-01           W           44.0          W        WNW  ...         71.0   \n",
       "2008-12-02         WNW           44.0        NNW        WSW  ...         44.0   \n",
       "2008-12-03         WSW           46.0          W        WSW  ...         38.0   \n",
       "2008-12-04          NE           24.0         SE          E  ...         45.0   \n",
       "2008-12-05           W           41.0        ENE         NW  ...         82.0   \n",
       "\n",
       "            Humidity3pm  Pressure9am  Pressure3pm  Cloud9am  Cloud3pm  \\\n",
       "Date                                                                    \n",
       "2008-12-01         22.0       1007.7       1007.1       8.0       NaN   \n",
       "2008-12-02         25.0       1010.6       1007.8       NaN       NaN   \n",
       "2008-12-03         30.0       1007.6       1008.7       NaN       2.0   \n",
       "2008-12-04         16.0       1017.6       1012.8       NaN       NaN   \n",
       "2008-12-05         33.0       1010.8       1006.0       7.0       8.0   \n",
       "\n",
       "            Temp9am  Temp3pm  RainToday  RainTomorrow  \n",
       "Date                                                   \n",
       "2008-12-01     16.9     21.8         No            No  \n",
       "2008-12-02     17.2     24.3         No            No  \n",
       "2008-12-03     21.0     23.2         No            No  \n",
       "2008-12-04     18.1     26.5         No            No  \n",
       "2008-12-05     17.8     29.7         No            No  \n",
       "\n",
       "[5 rows x 22 columns]"
      ]
     },
     "execution_count": 2,
     "metadata": {},
     "output_type": "execute_result"
    }
   ],
   "source": [
    "df = pd.read_csv('weatherAUS.csv',index_col='Date',parse_dates=True)\n",
    "df.head()"
   ]
  },
  {
   "cell_type": "markdown",
   "id": "714c1c48",
   "metadata": {},
   "source": [
    "## Data Preprocessing"
   ]
  },
  {
   "cell_type": "markdown",
   "id": "4612fcf8",
   "metadata": {},
   "source": [
    "### Missing Values"
   ]
  },
  {
   "cell_type": "code",
   "execution_count": 3,
   "id": "f710d082",
   "metadata": {},
   "outputs": [
    {
     "name": "stdout",
     "output_type": "stream",
     "text": [
      "<class 'pandas.core.frame.DataFrame'>\n",
      "DatetimeIndex: 145460 entries, 2008-12-01 to 2017-06-25\n",
      "Data columns (total 22 columns):\n",
      " #   Column         Non-Null Count   Dtype  \n",
      "---  ------         --------------   -----  \n",
      " 0   Location       145460 non-null  object \n",
      " 1   MinTemp        143975 non-null  float64\n",
      " 2   MaxTemp        144199 non-null  float64\n",
      " 3   Rainfall       142199 non-null  float64\n",
      " 4   Evaporation    82670 non-null   float64\n",
      " 5   Sunshine       75625 non-null   float64\n",
      " 6   WindGustDir    135134 non-null  object \n",
      " 7   WindGustSpeed  135197 non-null  float64\n",
      " 8   WindDir9am     134894 non-null  object \n",
      " 9   WindDir3pm     141232 non-null  object \n",
      " 10  WindSpeed9am   143693 non-null  float64\n",
      " 11  WindSpeed3pm   142398 non-null  float64\n",
      " 12  Humidity9am    142806 non-null  float64\n",
      " 13  Humidity3pm    140953 non-null  float64\n",
      " 14  Pressure9am    130395 non-null  float64\n",
      " 15  Pressure3pm    130432 non-null  float64\n",
      " 16  Cloud9am       89572 non-null   float64\n",
      " 17  Cloud3pm       86102 non-null   float64\n",
      " 18  Temp9am        143693 non-null  float64\n",
      " 19  Temp3pm        141851 non-null  float64\n",
      " 20  RainToday      142199 non-null  object \n",
      " 21  RainTomorrow   142193 non-null  object \n",
      "dtypes: float64(16), object(6)\n",
      "memory usage: 25.5+ MB\n"
     ]
    }
   ],
   "source": [
    "df.info()"
   ]
  },
  {
   "cell_type": "markdown",
   "id": "51a01e9a",
   "metadata": {},
   "source": [
    "### Missing Percent"
   ]
  },
  {
   "cell_type": "code",
   "execution_count": 4,
   "id": "c3052b4d",
   "metadata": {},
   "outputs": [
    {
     "data": {
      "text/plain": [
       "<AxesSubplot:>"
      ]
     },
     "execution_count": 4,
     "metadata": {},
     "output_type": "execute_result"
    },
    {
     "data": {
      "image/png": "[encoded data removed]",
      "text/plain": [
       "<Figure size 432x288 with 1 Axes>"
      ]
     },
     "metadata": {
      "needs_background": "light"
     },
     "output_type": "display_data"
    }
   ],
   "source": [
    "(df.isna().sum(axis=0)/df.shape[0]).plot(kind = 'bar',ylim = (0,1))"
   ]
  },
  {
   "cell_type": "markdown",
   "id": "786e57bf",
   "metadata": {},
   "source": [
    "### Dropping Columns that have more than 20% missing values"
   ]
  },
  {
   "cell_type": "code",
   "execution_count": 5,
   "id": "45976ebd",
   "metadata": {},
   "outputs": [],
   "source": [
    "missing_percent = df.isna().sum(axis=0)/df.shape[0]\n",
    "drop_cols = missing_percent[missing_percent > 0.2].index"
   ]
  },
  {
   "cell_type": "code",
   "execution_count": 6,
   "id": "0d36161a",
   "metadata": {
    "scrolled": false
   },
   "outputs": [
    {
     "data": {
      "text/html": [
       "<div>\n",
       "<style scoped>\n",
       "    .dataframe tbody tr th:only-of-type {\n",
       "        vertical-align: middle;\n",
       "    }\n",
       "\n",
       "    .dataframe tbody tr th {\n",
       "        vertical-align: top;\n",
       "    }\n",
       "\n",
       "    .dataframe thead th {\n",
       "        text-align: right;\n",
       "    }\n",
       "</style>\n",
       "<table border=\"1\" class=\"dataframe\">\n",
       "  <thead>\n",
       "    <tr style=\"text-align: right;\">\n",
       "      <th></th>\n",
       "      <th>Location</th>\n",
       "      <th>MinTemp</th>\n",
       "      <th>MaxTemp</th>\n",
       "      <th>Rainfall</th>\n",
       "      <th>WindGustDir</th>\n",
       "      <th>WindGustSpeed</th>\n",
       "      <th>WindDir9am</th>\n",
       "      <th>WindDir3pm</th>\n",
       "      <th>WindSpeed9am</th>\n",
       "      <th>WindSpeed3pm</th>\n",
       "      <th>Humidity9am</th>\n",
       "      <th>Humidity3pm</th>\n",
       "      <th>Pressure9am</th>\n",
       "      <th>Pressure3pm</th>\n",
       "      <th>Temp9am</th>\n",
       "      <th>Temp3pm</th>\n",
       "      <th>RainToday</th>\n",
       "      <th>RainTomorrow</th>\n",
       "    </tr>\n",
       "    <tr>\n",
       "      <th>Date</th>\n",
       "      <th></th>\n",
       "      <th></th>\n",
       "      <th></th>\n",
       "      <th></th>\n",
       "      <th></th>\n",
       "      <th></th>\n",
       "      <th></th>\n",
       "      <th></th>\n",
       "      <th></th>\n",
       "      <th></th>\n",
       "      <th></th>\n",
       "      <th></th>\n",
       "      <th></th>\n",
       "      <th></th>\n",
       "      <th></th>\n",
       "      <th></th>\n",
       "      <th></th>\n",
       "      <th></th>\n",
       "    </tr>\n",
       "  </thead>\n",
       "  <tbody>\n",
       "    <tr>\n",
       "      <th>2008-12-01</th>\n",
       "      <td>Albury</td>\n",
       "      <td>13.4</td>\n",
       "      <td>22.9</td>\n",
       "      <td>0.6</td>\n",
       "      <td>W</td>\n",
       "      <td>44.0</td>\n",
       "      <td>W</td>\n",
       "      <td>WNW</td>\n",
       "      <td>20.0</td>\n",
       "      <td>24.0</td>\n",
       "      <td>71.0</td>\n",
       "      <td>22.0</td>\n",
       "      <td>1007.7</td>\n",
       "      <td>1007.1</td>\n",
       "      <td>16.9</td>\n",
       "      <td>21.8</td>\n",
       "      <td>No</td>\n",
       "      <td>No</td>\n",
       "    </tr>\n",
       "    <tr>\n",
       "      <th>2008-12-02</th>\n",
       "      <td>Albury</td>\n",
       "      <td>7.4</td>\n",
       "      <td>25.1</td>\n",
       "      <td>0.0</td>\n",
       "      <td>WNW</td>\n",
       "      <td>44.0</td>\n",
       "      <td>NNW</td>\n",
       "      <td>WSW</td>\n",
       "      <td>4.0</td>\n",
       "      <td>22.0</td>\n",
       "      <td>44.0</td>\n",
       "      <td>25.0</td>\n",
       "      <td>1010.6</td>\n",
       "      <td>1007.8</td>\n",
       "      <td>17.2</td>\n",
       "      <td>24.3</td>\n",
       "      <td>No</td>\n",
       "      <td>No</td>\n",
       "    </tr>\n",
       "    <tr>\n",
       "      <th>2008-12-03</th>\n",
       "      <td>Albury</td>\n",
       "      <td>12.9</td>\n",
       "      <td>25.7</td>\n",
       "      <td>0.0</td>\n",
       "      <td>WSW</td>\n",
       "      <td>46.0</td>\n",
       "      <td>W</td>\n",
       "      <td>WSW</td>\n",
       "      <td>19.0</td>\n",
       "      <td>26.0</td>\n",
       "      <td>38.0</td>\n",
       "      <td>30.0</td>\n",
       "      <td>1007.6</td>\n",
       "      <td>1008.7</td>\n",
       "      <td>21.0</td>\n",
       "      <td>23.2</td>\n",
       "      <td>No</td>\n",
       "      <td>No</td>\n",
       "    </tr>\n",
       "    <tr>\n",
       "      <th>2008-12-04</th>\n",
       "      <td>Albury</td>\n",
       "      <td>9.2</td>\n",
       "      <td>28.0</td>\n",
       "      <td>0.0</td>\n",
       "      <td>NE</td>\n",
       "      <td>24.0</td>\n",
       "      <td>SE</td>\n",
       "      <td>E</td>\n",
       "      <td>11.0</td>\n",
       "      <td>9.0</td>\n",
       "      <td>45.0</td>\n",
       "      <td>16.0</td>\n",
       "      <td>1017.6</td>\n",
       "      <td>1012.8</td>\n",
       "      <td>18.1</td>\n",
       "      <td>26.5</td>\n",
       "      <td>No</td>\n",
       "      <td>No</td>\n",
       "    </tr>\n",
       "    <tr>\n",
       "      <th>2008-12-05</th>\n",
       "      <td>Albury</td>\n",
       "      <td>17.5</td>\n",
       "      <td>32.3</td>\n",
       "      <td>1.0</td>\n",
       "      <td>W</td>\n",
       "      <td>41.0</td>\n",
       "      <td>ENE</td>\n",
       "      <td>NW</td>\n",
       "      <td>7.0</td>\n",
       "      <td>20.0</td>\n",
       "      <td>82.0</td>\n",
       "      <td>33.0</td>\n",
       "      <td>1010.8</td>\n",
       "      <td>1006.0</td>\n",
       "      <td>17.8</td>\n",
       "      <td>29.7</td>\n",
       "      <td>No</td>\n",
       "      <td>No</td>\n",
       "    </tr>\n",
       "  </tbody>\n",
       "</table>\n",
       "</div>"
      ],
      "text/plain": [
       "           Location  MinTemp  MaxTemp  Rainfall WindGustDir  WindGustSpeed  \\\n",
       "Date                                                                         \n",
       "2008-12-01   Albury     13.4     22.9       0.6           W           44.0   \n",
       "2008-12-02   Albury      7.4     25.1       0.0         WNW           44.0   \n",
       "2008-12-03   Albury     12.9     25.7       0.0         WSW           46.0   \n",
       "2008-12-04   Albury      9.2     28.0       0.0          NE           24.0   \n",
       "2008-12-05   Albury     17.5     32.3       1.0           W           41.0   \n",
       "\n",
       "           WindDir9am WindDir3pm  WindSpeed9am  WindSpeed3pm  Humidity9am  \\\n",
       "Date                                                                        \n",
       "2008-12-01          W        WNW          20.0          24.0         71.0   \n",
       "2008-12-02        NNW        WSW           4.0          22.0         44.0   \n",
       "2008-12-03          W        WSW          19.0          26.0         38.0   \n",
       "2008-12-04         SE          E          11.0           9.0         45.0   \n",
       "2008-12-05        ENE         NW           7.0          20.0         82.0   \n",
       "\n",
       "            Humidity3pm  Pressure9am  Pressure3pm  Temp9am  Temp3pm RainToday  \\\n",
       "Date                                                                            \n",
       "2008-12-01         22.0       1007.7       1007.1     16.9     21.8        No   \n",
       "2008-12-02         25.0       1010.6       1007.8     17.2     24.3        No   \n",
       "2008-12-03         30.0       1007.6       1008.7     21.0     23.2        No   \n",
       "2008-12-04         16.0       1017.6       1012.8     18.1     26.5        No   \n",
       "2008-12-05         33.0       1010.8       1006.0     17.8     29.7        No   \n",
       "\n",
       "           RainTomorrow  \n",
       "Date                     \n",
       "2008-12-01           No  \n",
       "2008-12-02           No  \n",
       "2008-12-03           No  \n",
       "2008-12-04           No  \n",
       "2008-12-05           No  "
      ]
     },
     "execution_count": 6,
     "metadata": {},
     "output_type": "execute_result"
    }
   ],
   "source": [
    "df.drop(columns=drop_cols,inplace=True)\n",
    "df.head()"
   ]
  },
  {
   "cell_type": "markdown",
   "id": "e377f41d",
   "metadata": {},
   "source": [
    "### Creating Date Columns"
   ]
  },
  {
   "cell_type": "code",
   "execution_count": 7,
   "id": "4fb8e610",
   "metadata": {},
   "outputs": [],
   "source": [
    "df['Date'] = pd.to_datetime(df.index)\n",
    "df['Year'] = df['Date'].dt.year\n",
    "df['Month'] = df['Date'].dt.month\n",
    "df['Day'] = df['Date'].dt.day"
   ]
  },
  {
   "cell_type": "code",
   "execution_count": 8,
   "id": "67a631dc",
   "metadata": {},
   "outputs": [
    {
     "data": {
      "text/html": [
       "<div>\n",
       "<style scoped>\n",
       "    .dataframe tbody tr th:only-of-type {\n",
       "        vertical-align: middle;\n",
       "    }\n",
       "\n",
       "    .dataframe tbody tr th {\n",
       "        vertical-align: top;\n",
       "    }\n",
       "\n",
       "    .dataframe thead th {\n",
       "        text-align: right;\n",
       "    }\n",
       "</style>\n",
       "<table border=\"1\" class=\"dataframe\">\n",
       "  <thead>\n",
       "    <tr style=\"text-align: right;\">\n",
       "      <th></th>\n",
       "      <th>Location</th>\n",
       "      <th>MinTemp</th>\n",
       "      <th>MaxTemp</th>\n",
       "      <th>Rainfall</th>\n",
       "      <th>WindGustDir</th>\n",
       "      <th>WindGustSpeed</th>\n",
       "      <th>WindDir9am</th>\n",
       "      <th>WindDir3pm</th>\n",
       "      <th>WindSpeed9am</th>\n",
       "      <th>WindSpeed3pm</th>\n",
       "      <th>...</th>\n",
       "      <th>Pressure9am</th>\n",
       "      <th>Pressure3pm</th>\n",
       "      <th>Temp9am</th>\n",
       "      <th>Temp3pm</th>\n",
       "      <th>RainToday</th>\n",
       "      <th>RainTomorrow</th>\n",
       "      <th>Date</th>\n",
       "      <th>Year</th>\n",
       "      <th>Month</th>\n",
       "      <th>Day</th>\n",
       "    </tr>\n",
       "    <tr>\n",
       "      <th>Date</th>\n",
       "      <th></th>\n",
       "      <th></th>\n",
       "      <th></th>\n",
       "      <th></th>\n",
       "      <th></th>\n",
       "      <th></th>\n",
       "      <th></th>\n",
       "      <th></th>\n",
       "      <th></th>\n",
       "      <th></th>\n",
       "      <th></th>\n",
       "      <th></th>\n",
       "      <th></th>\n",
       "      <th></th>\n",
       "      <th></th>\n",
       "      <th></th>\n",
       "      <th></th>\n",
       "      <th></th>\n",
       "      <th></th>\n",
       "      <th></th>\n",
       "      <th></th>\n",
       "    </tr>\n",
       "  </thead>\n",
       "  <tbody>\n",
       "    <tr>\n",
       "      <th>2008-12-01</th>\n",
       "      <td>Albury</td>\n",
       "      <td>13.4</td>\n",
       "      <td>22.9</td>\n",
       "      <td>0.6</td>\n",
       "      <td>W</td>\n",
       "      <td>44.0</td>\n",
       "      <td>W</td>\n",
       "      <td>WNW</td>\n",
       "      <td>20.0</td>\n",
       "      <td>24.0</td>\n",
       "      <td>...</td>\n",
       "      <td>1007.7</td>\n",
       "      <td>1007.1</td>\n",
       "      <td>16.9</td>\n",
       "      <td>21.8</td>\n",
       "      <td>No</td>\n",
       "      <td>No</td>\n",
       "      <td>2008-12-01</td>\n",
       "      <td>2008</td>\n",
       "      <td>12</td>\n",
       "      <td>1</td>\n",
       "    </tr>\n",
       "    <tr>\n",
       "      <th>2008-12-02</th>\n",
       "      <td>Albury</td>\n",
       "      <td>7.4</td>\n",
       "      <td>25.1</td>\n",
       "      <td>0.0</td>\n",
       "      <td>WNW</td>\n",
       "      <td>44.0</td>\n",
       "      <td>NNW</td>\n",
       "      <td>WSW</td>\n",
       "      <td>4.0</td>\n",
       "      <td>22.0</td>\n",
       "      <td>...</td>\n",
       "      <td>1010.6</td>\n",
       "      <td>1007.8</td>\n",
       "      <td>17.2</td>\n",
       "      <td>24.3</td>\n",
       "      <td>No</td>\n",
       "      <td>No</td>\n",
       "      <td>2008-12-02</td>\n",
       "      <td>2008</td>\n",
       "      <td>12</td>\n",
       "      <td>2</td>\n",
       "    </tr>\n",
       "    <tr>\n",
       "      <th>2008-12-03</th>\n",
       "      <td>Albury</td>\n",
       "      <td>12.9</td>\n",
       "      <td>25.7</td>\n",
       "      <td>0.0</td>\n",
       "      <td>WSW</td>\n",
       "      <td>46.0</td>\n",
       "      <td>W</td>\n",
       "      <td>WSW</td>\n",
       "      <td>19.0</td>\n",
       "      <td>26.0</td>\n",
       "      <td>...</td>\n",
       "      <td>1007.6</td>\n",
       "      <td>1008.7</td>\n",
       "      <td>21.0</td>\n",
       "      <td>23.2</td>\n",
       "      <td>No</td>\n",
       "      <td>No</td>\n",
       "      <td>2008-12-03</td>\n",
       "      <td>2008</td>\n",
       "      <td>12</td>\n",
       "      <td>3</td>\n",
       "    </tr>\n",
       "    <tr>\n",
       "      <th>2008-12-04</th>\n",
       "      <td>Albury</td>\n",
       "      <td>9.2</td>\n",
       "      <td>28.0</td>\n",
       "      <td>0.0</td>\n",
       "      <td>NE</td>\n",
       "      <td>24.0</td>\n",
       "      <td>SE</td>\n",
       "      <td>E</td>\n",
       "      <td>11.0</td>\n",
       "      <td>9.0</td>\n",
       "      <td>...</td>\n",
       "      <td>1017.6</td>\n",
       "      <td>1012.8</td>\n",
       "      <td>18.1</td>\n",
       "      <td>26.5</td>\n",
       "      <td>No</td>\n",
       "      <td>No</td>\n",
       "      <td>2008-12-04</td>\n",
       "      <td>2008</td>\n",
       "      <td>12</td>\n",
       "      <td>4</td>\n",
       "    </tr>\n",
       "    <tr>\n",
       "      <th>2008-12-05</th>\n",
       "      <td>Albury</td>\n",
       "      <td>17.5</td>\n",
       "      <td>32.3</td>\n",
       "      <td>1.0</td>\n",
       "      <td>W</td>\n",
       "      <td>41.0</td>\n",
       "      <td>ENE</td>\n",
       "      <td>NW</td>\n",
       "      <td>7.0</td>\n",
       "      <td>20.0</td>\n",
       "      <td>...</td>\n",
       "      <td>1010.8</td>\n",
       "      <td>1006.0</td>\n",
       "      <td>17.8</td>\n",
       "      <td>29.7</td>\n",
       "      <td>No</td>\n",
       "      <td>No</td>\n",
       "      <td>2008-12-05</td>\n",
       "      <td>2008</td>\n",
       "      <td>12</td>\n",
       "      <td>5</td>\n",
       "    </tr>\n",
       "  </tbody>\n",
       "</table>\n",
       "<p>5 rows × 22 columns</p>\n",
       "</div>"
      ],
      "text/plain": [
       "           Location  MinTemp  MaxTemp  Rainfall WindGustDir  WindGustSpeed  \\\n",
       "Date                                                                         \n",
       "2008-12-01   Albury     13.4     22.9       0.6           W           44.0   \n",
       "2008-12-02   Albury      7.4     25.1       0.0         WNW           44.0   \n",
       "2008-12-03   Albury     12.9     25.7       0.0         WSW           46.0   \n",
       "2008-12-04   Albury      9.2     28.0       0.0          NE           24.0   \n",
       "2008-12-05   Albury     17.5     32.3       1.0           W           41.0   \n",
       "\n",
       "           WindDir9am WindDir3pm  WindSpeed9am  WindSpeed3pm  ...  \\\n",
       "Date                                                          ...   \n",
       "2008-12-01          W        WNW          20.0          24.0  ...   \n",
       "2008-12-02        NNW        WSW           4.0          22.0  ...   \n",
       "2008-12-03          W        WSW          19.0          26.0  ...   \n",
       "2008-12-04         SE          E          11.0           9.0  ...   \n",
       "2008-12-05        ENE         NW           7.0          20.0  ...   \n",
       "\n",
       "            Pressure9am  Pressure3pm  Temp9am  Temp3pm  RainToday  \\\n",
       "Date                                                                \n",
       "2008-12-01       1007.7       1007.1     16.9     21.8         No   \n",
       "2008-12-02       1010.6       1007.8     17.2     24.3         No   \n",
       "2008-12-03       1007.6       1008.7     21.0     23.2         No   \n",
       "2008-12-04       1017.6       1012.8     18.1     26.5         No   \n",
       "2008-12-05       1010.8       1006.0     17.8     29.7         No   \n",
       "\n",
       "            RainTomorrow       Date  Year Month  Day  \n",
       "Date                                                  \n",
       "2008-12-01            No 2008-12-01  2008    12    1  \n",
       "2008-12-02            No 2008-12-02  2008    12    2  \n",
       "2008-12-03            No 2008-12-03  2008    12    3  \n",
       "2008-12-04            No 2008-12-04  2008    12    4  \n",
       "2008-12-05            No 2008-12-05  2008    12    5  \n",
       "\n",
       "[5 rows x 22 columns]"
      ]
     },
     "execution_count": 8,
     "metadata": {},
     "output_type": "execute_result"
    }
   ],
   "source": [
    "df.head()"
   ]
  },
  {
   "cell_type": "code",
   "execution_count": 9,
   "id": "89490d80",
   "metadata": {},
   "outputs": [],
   "source": [
    "df.drop(columns = 'Date' , inplace=True)"
   ]
  },
  {
   "cell_type": "markdown",
   "id": "4ca61281",
   "metadata": {},
   "source": [
    "### Check Missing Percent Again"
   ]
  },
  {
   "cell_type": "code",
   "execution_count": 10,
   "id": "fb27a0a8",
   "metadata": {},
   "outputs": [
    {
     "data": {
      "text/plain": [
       "<AxesSubplot:>"
      ]
     },
     "execution_count": 10,
     "metadata": {},
     "output_type": "execute_result"
    },
    {
     "data": {
      "image/png": "[encoded data removed]",
      "text/plain": [
       "<Figure size 432x288 with 1 Axes>"
      ]
     },
     "metadata": {
      "needs_background": "light"
     },
     "output_type": "display_data"
    }
   ],
   "source": [
    "missing_percent = df.isna().sum(axis=0)/df.shape[0]\n",
    "missing_percent.plot(kind='bar',ylim=(0,1))"
   ]
  },
  {
   "cell_type": "code",
   "execution_count": 11,
   "id": "9d976688",
   "metadata": {},
   "outputs": [
    {
     "data": {
      "text/plain": [
       "(112925, 21)"
      ]
     },
     "execution_count": 11,
     "metadata": {},
     "output_type": "execute_result"
    }
   ],
   "source": [
    "df.dropna(axis=0,inplace=True)\n",
    "df.shape"
   ]
  },
  {
   "cell_type": "markdown",
   "id": "792a3d28",
   "metadata": {},
   "source": [
    "- all columns with missing values greater than 20% were dropped\n",
    "- rest of the missing values will be imputed\n",
    "- we still have a large dataset"
   ]
  },
  {
   "cell_type": "code",
   "execution_count": 12,
   "id": "2e152cb2",
   "metadata": {
    "scrolled": true
   },
   "outputs": [
    {
     "name": "stdout",
     "output_type": "stream",
     "text": [
      "<class 'pandas.core.frame.DataFrame'>\n",
      "DatetimeIndex: 112925 entries, 2008-12-01 to 2017-06-24\n",
      "Data columns (total 21 columns):\n",
      " #   Column         Non-Null Count   Dtype  \n",
      "---  ------         --------------   -----  \n",
      " 0   Location       112925 non-null  object \n",
      " 1   MinTemp        112925 non-null  float64\n",
      " 2   MaxTemp        112925 non-null  float64\n",
      " 3   Rainfall       112925 non-null  float64\n",
      " 4   WindGustDir    112925 non-null  object \n",
      " 5   WindGustSpeed  112925 non-null  float64\n",
      " 6   WindDir9am     112925 non-null  object \n",
      " 7   WindDir3pm     112925 non-null  object \n",
      " 8   WindSpeed9am   112925 non-null  float64\n",
      " 9   WindSpeed3pm   112925 non-null  float64\n",
      " 10  Humidity9am    112925 non-null  float64\n",
      " 11  Humidity3pm    112925 non-null  float64\n",
      " 12  Pressure9am    112925 non-null  float64\n",
      " 13  Pressure3pm    112925 non-null  float64\n",
      " 14  Temp9am        112925 non-null  float64\n",
      " 15  Temp3pm        112925 non-null  float64\n",
      " 16  RainToday      112925 non-null  object \n",
      " 17  RainTomorrow   112925 non-null  object \n",
      " 18  Year           112925 non-null  int64  \n",
      " 19  Month          112925 non-null  int64  \n",
      " 20  Day            112925 non-null  int64  \n",
      "dtypes: float64(12), int64(3), object(6)\n",
      "memory usage: 19.0+ MB\n"
     ]
    }
   ],
   "source": [
    "df.info()"
   ]
  },
  {
   "cell_type": "markdown",
   "id": "89b51420",
   "metadata": {},
   "source": [
    "### Encode Categorical & Ordinal Columns"
   ]
  },
  {
   "cell_type": "code",
   "execution_count": 13,
   "id": "906479c6",
   "metadata": {},
   "outputs": [],
   "source": [
    "df['RainTomorrow'].replace({'No':0, 'Yes': 1}, inplace = True)\n",
    "df['RainToday'].replace({'No':0, 'Yes': 1}, inplace = True)"
   ]
  },
  {
   "cell_type": "code",
   "execution_count": 14,
   "id": "d95d96a3",
   "metadata": {},
   "outputs": [],
   "source": [
    "numeric_cols = list(df.select_dtypes(exclude='object'))\n",
    "categorical_cols = ['Location']\n",
    "ordinal_cols = list(set(df.columns) - set(numeric_cols) - set(categorical_cols))\n",
    "numeric_cols.remove('RainTomorrow')"
   ]
  },
  {
   "cell_type": "code",
   "execution_count": 15,
   "id": "88e9c6d3",
   "metadata": {},
   "outputs": [
    {
     "data": {
      "text/plain": [
       "['MinTemp',\n",
       " 'MaxTemp',\n",
       " 'Rainfall',\n",
       " 'WindGustSpeed',\n",
       " 'WindSpeed9am',\n",
       " 'WindSpeed3pm',\n",
       " 'Humidity9am',\n",
       " 'Humidity3pm',\n",
       " 'Pressure9am',\n",
       " 'Pressure3pm',\n",
       " 'Temp9am',\n",
       " 'Temp3pm',\n",
       " 'RainToday',\n",
       " 'Year',\n",
       " 'Month',\n",
       " 'Day']"
      ]
     },
     "execution_count": 15,
     "metadata": {},
     "output_type": "execute_result"
    }
   ],
   "source": [
    "numeric_cols"
   ]
  },
  {
   "cell_type": "code",
   "execution_count": 16,
   "id": "fca24bdf",
   "metadata": {
    "scrolled": true
   },
   "outputs": [
    {
     "data": {
      "text/plain": [
       "['WindGustDir', 'WindDir9am', 'WindDir3pm']"
      ]
     },
     "execution_count": 16,
     "metadata": {},
     "output_type": "execute_result"
    }
   ],
   "source": [
    "ordinal_cols"
   ]
  },
  {
   "cell_type": "code",
   "execution_count": 17,
   "id": "d8a178d7",
   "metadata": {},
   "outputs": [],
   "source": [
    "label_encoder = LabelEncoder()\n",
    "for feature in categorical_cols+ordinal_cols:\n",
    "    label_encoder = LabelEncoder()\n",
    "    df[feature] = label_encoder.fit_transform(df[feature])"
   ]
  },
  {
   "cell_type": "markdown",
   "id": "1004935d",
   "metadata": {},
   "source": [
    "## Check Relationships"
   ]
  },
  {
   "cell_type": "code",
   "execution_count": 18,
   "id": "99fdf98a",
   "metadata": {},
   "outputs": [
    {
     "name": "stdout",
     "output_type": "stream",
     "text": [
      "Relation with RainTomorrow at p = 0.05 \n",
      "Location : Related \n",
      "WindGustDir : Related \n",
      "WindDir9am : Related \n",
      "WindDir3pm : Related \n"
     ]
    }
   ],
   "source": [
    "from scipy.stats import chi2_contingency\n",
    "print(\"Relation with RainTomorrow at p = 0.05 \")\n",
    "for feature in categorical_cols+ordinal_cols:\n",
    "    data = pd.crosstab(df[feature],df['RainTomorrow'])\n",
    "    stat, p , dof , expected = chi2_contingency(data)\n",
    "    if p <= 0.05:\n",
    "        print('{0} : Related ' .format(feature))\n",
    "    else:\n",
    "        print('{0} : Not Related' .format(feature))"
   ]
  },
  {
   "cell_type": "code",
   "execution_count": 19,
   "id": "986ad8d2",
   "metadata": {
    "scrolled": true
   },
   "outputs": [
    {
     "data": {
      "text/plain": [
       "<AxesSubplot:>"
      ]
     },
     "execution_count": 19,
     "metadata": {},
     "output_type": "execute_result"
    },
    {
     "data": {
      "image/png": "[encoded data removed]",
      "text/plain": [
       "<Figure size 1152x1152 with 2 Axes>"
      ]
     },
     "metadata": {},
     "output_type": "display_data"
    }
   ],
   "source": [
    "sns.set(rc = {'figure.figsize' : (16,16)})\n",
    "sns.heatmap(df[numeric_cols].corr(), annot = True , cmap=sns.color_palette(\"crest\", as_cmap=True)\n",
    ")"
   ]
  },
  {
   "cell_type": "markdown",
   "id": "54d1b476",
   "metadata": {},
   "source": [
    "## Variation Inflation Factor\n",
    "- Multicollinearity occurs when there are two or more independent variables in a multiple regression model, which have a high correlation among themselves. \n",
    "- When some features are highly correlated, we might have difficulty in distinguishing between their individual effects on the dependent variable.\n",
    "- Multicollinearity can be detected using various techniques, one such technique being the Variance Inflation Factor(VIF).\n",
    "\n",
    "In VIF method, we pick each feature and regress it against all of the other features."
   ]
  },
  {
   "cell_type": "code",
   "execution_count": 20,
   "id": "94da4c31",
   "metadata": {},
   "outputs": [],
   "source": [
    "vif_data = pd.DataFrame()\n",
    "ind_features = df[numeric_cols+ordinal_cols+categorical_cols]\n",
    "vif_data['feature'] = ind_features.columns"
   ]
  },
  {
   "cell_type": "code",
   "execution_count": 21,
   "id": "0febe38f",
   "metadata": {},
   "outputs": [],
   "source": [
    "vif_data['VIF'] = [variance_inflation_factor(ind_features.values, i)\n",
    "                       for i in range(len(ind_features.columns))]"
   ]
  },
  {
   "cell_type": "markdown",
   "id": "574a5768",
   "metadata": {},
   "source": [
    "- High VIF indicates High Multicollinearity"
   ]
  },
  {
   "cell_type": "code",
   "execution_count": 22,
   "id": "c1908b21",
   "metadata": {
    "scrolled": true
   },
   "outputs": [
    {
     "data": {
      "text/html": [
       "<div>\n",
       "<style scoped>\n",
       "    .dataframe tbody tr th:only-of-type {\n",
       "        vertical-align: middle;\n",
       "    }\n",
       "\n",
       "    .dataframe tbody tr th {\n",
       "        vertical-align: top;\n",
       "    }\n",
       "\n",
       "    .dataframe thead th {\n",
       "        text-align: right;\n",
       "    }\n",
       "</style>\n",
       "<table border=\"1\" class=\"dataframe\">\n",
       "  <thead>\n",
       "    <tr style=\"text-align: right;\">\n",
       "      <th></th>\n",
       "      <th>feature</th>\n",
       "      <th>VIF</th>\n",
       "    </tr>\n",
       "  </thead>\n",
       "  <tbody>\n",
       "    <tr>\n",
       "      <th>8</th>\n",
       "      <td>Pressure9am</td>\n",
       "      <td>461302.282727</td>\n",
       "    </tr>\n",
       "    <tr>\n",
       "      <th>9</th>\n",
       "      <td>Pressure3pm</td>\n",
       "      <td>451261.448183</td>\n",
       "    </tr>\n",
       "    <tr>\n",
       "      <th>13</th>\n",
       "      <td>Year</td>\n",
       "      <td>36023.244445</td>\n",
       "    </tr>\n",
       "    <tr>\n",
       "      <th>11</th>\n",
       "      <td>Temp3pm</td>\n",
       "      <td>610.700298</td>\n",
       "    </tr>\n",
       "    <tr>\n",
       "      <th>1</th>\n",
       "      <td>MaxTemp</td>\n",
       "      <td>549.602462</td>\n",
       "    </tr>\n",
       "    <tr>\n",
       "      <th>10</th>\n",
       "      <td>Temp9am</td>\n",
       "      <td>190.345221</td>\n",
       "    </tr>\n",
       "    <tr>\n",
       "      <th>6</th>\n",
       "      <td>Humidity9am</td>\n",
       "      <td>57.474410</td>\n",
       "    </tr>\n",
       "    <tr>\n",
       "      <th>0</th>\n",
       "      <td>MinTemp</td>\n",
       "      <td>45.350388</td>\n",
       "    </tr>\n",
       "    <tr>\n",
       "      <th>7</th>\n",
       "      <td>Humidity3pm</td>\n",
       "      <td>45.105211</td>\n",
       "    </tr>\n",
       "    <tr>\n",
       "      <th>3</th>\n",
       "      <td>WindGustSpeed</td>\n",
       "      <td>28.244505</td>\n",
       "    </tr>\n",
       "    <tr>\n",
       "      <th>5</th>\n",
       "      <td>WindSpeed3pm</td>\n",
       "      <td>12.666765</td>\n",
       "    </tr>\n",
       "    <tr>\n",
       "      <th>4</th>\n",
       "      <td>WindSpeed9am</td>\n",
       "      <td>7.830740</td>\n",
       "    </tr>\n",
       "    <tr>\n",
       "      <th>16</th>\n",
       "      <td>WindGustDir</td>\n",
       "      <td>6.643853</td>\n",
       "    </tr>\n",
       "    <tr>\n",
       "      <th>18</th>\n",
       "      <td>WindDir3pm</td>\n",
       "      <td>6.532520</td>\n",
       "    </tr>\n",
       "    <tr>\n",
       "      <th>14</th>\n",
       "      <td>Month</td>\n",
       "      <td>5.026972</td>\n",
       "    </tr>\n",
       "    <tr>\n",
       "      <th>17</th>\n",
       "      <td>WindDir9am</td>\n",
       "      <td>4.713696</td>\n",
       "    </tr>\n",
       "    <tr>\n",
       "      <th>15</th>\n",
       "      <td>Day</td>\n",
       "      <td>4.203101</td>\n",
       "    </tr>\n",
       "    <tr>\n",
       "      <th>19</th>\n",
       "      <td>Location</td>\n",
       "      <td>3.878057</td>\n",
       "    </tr>\n",
       "    <tr>\n",
       "      <th>12</th>\n",
       "      <td>RainToday</td>\n",
       "      <td>2.135147</td>\n",
       "    </tr>\n",
       "    <tr>\n",
       "      <th>2</th>\n",
       "      <td>Rainfall</td>\n",
       "      <td>1.479216</td>\n",
       "    </tr>\n",
       "  </tbody>\n",
       "</table>\n",
       "</div>"
      ],
      "text/plain": [
       "          feature            VIF\n",
       "8     Pressure9am  461302.282727\n",
       "9     Pressure3pm  451261.448183\n",
       "13           Year   36023.244445\n",
       "11        Temp3pm     610.700298\n",
       "1         MaxTemp     549.602462\n",
       "10        Temp9am     190.345221\n",
       "6     Humidity9am      57.474410\n",
       "0         MinTemp      45.350388\n",
       "7     Humidity3pm      45.105211\n",
       "3   WindGustSpeed      28.244505\n",
       "5    WindSpeed3pm      12.666765\n",
       "4    WindSpeed9am       7.830740\n",
       "16    WindGustDir       6.643853\n",
       "18     WindDir3pm       6.532520\n",
       "14          Month       5.026972\n",
       "17     WindDir9am       4.713696\n",
       "15            Day       4.203101\n",
       "19       Location       3.878057\n",
       "12      RainToday       2.135147\n",
       "2        Rainfall       1.479216"
      ]
     },
     "execution_count": 22,
     "metadata": {},
     "output_type": "execute_result"
    }
   ],
   "source": [
    "vif_data.sort_values(by='VIF',ascending=False)"
   ]
  },
  {
   "cell_type": "markdown",
   "id": "65d6c565",
   "metadata": {},
   "source": [
    "### Create Copy of Dataset for Future Comparision"
   ]
  },
  {
   "cell_type": "code",
   "execution_count": 23,
   "id": "d8a14f6c",
   "metadata": {},
   "outputs": [],
   "source": [
    "df_without_vif = df.copy(deep = True)"
   ]
  },
  {
   "cell_type": "markdown",
   "id": "7575a91c",
   "metadata": {},
   "source": [
    "### Remove Multicollinearity by Creating New Features\n",
    "- we observe extremely high VIF \n",
    "- this can be fixed by creating new, more meaningful features to replace correlated features"
   ]
  },
  {
   "cell_type": "code",
   "execution_count": 24,
   "id": "7f5d61cd",
   "metadata": {},
   "outputs": [],
   "source": [
    "df['Pressure_Interval'] = abs(df['Pressure9am'] - df['Pressure3pm'])\n",
    "df['Humidity_Interval'] = abs(df['Humidity9am'] - df['Humidity3pm'])\n",
    "df['TempInterval'] = abs(df['Temp9am'] - df['Temp3pm'])\n",
    "df['WindSpeedInterval'] = abs(df['WindSpeed9am'] - df['WindSpeed3pm'])\n",
    "df['Temperature_Interval'] = abs(df['MaxTemp'] - df['MinTemp'])"
   ]
  },
  {
   "cell_type": "code",
   "execution_count": 25,
   "id": "33fc1e51",
   "metadata": {
    "scrolled": true
   },
   "outputs": [
    {
     "data": {
      "text/html": [
       "<div>\n",
       "<style scoped>\n",
       "    .dataframe tbody tr th:only-of-type {\n",
       "        vertical-align: middle;\n",
       "    }\n",
       "\n",
       "    .dataframe tbody tr th {\n",
       "        vertical-align: top;\n",
       "    }\n",
       "\n",
       "    .dataframe thead th {\n",
       "        text-align: right;\n",
       "    }\n",
       "</style>\n",
       "<table border=\"1\" class=\"dataframe\">\n",
       "  <thead>\n",
       "    <tr style=\"text-align: right;\">\n",
       "      <th></th>\n",
       "      <th>Location</th>\n",
       "      <th>MinTemp</th>\n",
       "      <th>MaxTemp</th>\n",
       "      <th>Rainfall</th>\n",
       "      <th>WindGustDir</th>\n",
       "      <th>WindGustSpeed</th>\n",
       "      <th>WindDir9am</th>\n",
       "      <th>WindDir3pm</th>\n",
       "      <th>WindSpeed9am</th>\n",
       "      <th>WindSpeed3pm</th>\n",
       "      <th>...</th>\n",
       "      <th>RainToday</th>\n",
       "      <th>RainTomorrow</th>\n",
       "      <th>Year</th>\n",
       "      <th>Month</th>\n",
       "      <th>Day</th>\n",
       "      <th>Pressure_Interval</th>\n",
       "      <th>Humidity_Interval</th>\n",
       "      <th>TempInterval</th>\n",
       "      <th>WindSpeedInterval</th>\n",
       "      <th>Temperature_Interval</th>\n",
       "    </tr>\n",
       "    <tr>\n",
       "      <th>Date</th>\n",
       "      <th></th>\n",
       "      <th></th>\n",
       "      <th></th>\n",
       "      <th></th>\n",
       "      <th></th>\n",
       "      <th></th>\n",
       "      <th></th>\n",
       "      <th></th>\n",
       "      <th></th>\n",
       "      <th></th>\n",
       "      <th></th>\n",
       "      <th></th>\n",
       "      <th></th>\n",
       "      <th></th>\n",
       "      <th></th>\n",
       "      <th></th>\n",
       "      <th></th>\n",
       "      <th></th>\n",
       "      <th></th>\n",
       "      <th></th>\n",
       "      <th></th>\n",
       "    </tr>\n",
       "  </thead>\n",
       "  <tbody>\n",
       "    <tr>\n",
       "      <th>2008-12-01</th>\n",
       "      <td>1</td>\n",
       "      <td>13.4</td>\n",
       "      <td>22.9</td>\n",
       "      <td>0.6</td>\n",
       "      <td>13</td>\n",
       "      <td>44.0</td>\n",
       "      <td>13</td>\n",
       "      <td>14</td>\n",
       "      <td>20.0</td>\n",
       "      <td>24.0</td>\n",
       "      <td>...</td>\n",
       "      <td>0</td>\n",
       "      <td>0</td>\n",
       "      <td>2008</td>\n",
       "      <td>12</td>\n",
       "      <td>1</td>\n",
       "      <td>0.6</td>\n",
       "      <td>49.0</td>\n",
       "      <td>4.9</td>\n",
       "      <td>4.0</td>\n",
       "      <td>9.5</td>\n",
       "    </tr>\n",
       "    <tr>\n",
       "      <th>2008-12-02</th>\n",
       "      <td>1</td>\n",
       "      <td>7.4</td>\n",
       "      <td>25.1</td>\n",
       "      <td>0.0</td>\n",
       "      <td>14</td>\n",
       "      <td>44.0</td>\n",
       "      <td>6</td>\n",
       "      <td>15</td>\n",
       "      <td>4.0</td>\n",
       "      <td>22.0</td>\n",
       "      <td>...</td>\n",
       "      <td>0</td>\n",
       "      <td>0</td>\n",
       "      <td>2008</td>\n",
       "      <td>12</td>\n",
       "      <td>2</td>\n",
       "      <td>2.8</td>\n",
       "      <td>19.0</td>\n",
       "      <td>7.1</td>\n",
       "      <td>18.0</td>\n",
       "      <td>17.7</td>\n",
       "    </tr>\n",
       "    <tr>\n",
       "      <th>2008-12-03</th>\n",
       "      <td>1</td>\n",
       "      <td>12.9</td>\n",
       "      <td>25.7</td>\n",
       "      <td>0.0</td>\n",
       "      <td>15</td>\n",
       "      <td>46.0</td>\n",
       "      <td>13</td>\n",
       "      <td>15</td>\n",
       "      <td>19.0</td>\n",
       "      <td>26.0</td>\n",
       "      <td>...</td>\n",
       "      <td>0</td>\n",
       "      <td>0</td>\n",
       "      <td>2008</td>\n",
       "      <td>12</td>\n",
       "      <td>3</td>\n",
       "      <td>1.1</td>\n",
       "      <td>8.0</td>\n",
       "      <td>2.2</td>\n",
       "      <td>7.0</td>\n",
       "      <td>12.8</td>\n",
       "    </tr>\n",
       "    <tr>\n",
       "      <th>2008-12-04</th>\n",
       "      <td>1</td>\n",
       "      <td>9.2</td>\n",
       "      <td>28.0</td>\n",
       "      <td>0.0</td>\n",
       "      <td>4</td>\n",
       "      <td>24.0</td>\n",
       "      <td>9</td>\n",
       "      <td>0</td>\n",
       "      <td>11.0</td>\n",
       "      <td>9.0</td>\n",
       "      <td>...</td>\n",
       "      <td>0</td>\n",
       "      <td>0</td>\n",
       "      <td>2008</td>\n",
       "      <td>12</td>\n",
       "      <td>4</td>\n",
       "      <td>4.8</td>\n",
       "      <td>29.0</td>\n",
       "      <td>8.4</td>\n",
       "      <td>2.0</td>\n",
       "      <td>18.8</td>\n",
       "    </tr>\n",
       "    <tr>\n",
       "      <th>2008-12-05</th>\n",
       "      <td>1</td>\n",
       "      <td>17.5</td>\n",
       "      <td>32.3</td>\n",
       "      <td>1.0</td>\n",
       "      <td>13</td>\n",
       "      <td>41.0</td>\n",
       "      <td>1</td>\n",
       "      <td>7</td>\n",
       "      <td>7.0</td>\n",
       "      <td>20.0</td>\n",
       "      <td>...</td>\n",
       "      <td>0</td>\n",
       "      <td>0</td>\n",
       "      <td>2008</td>\n",
       "      <td>12</td>\n",
       "      <td>5</td>\n",
       "      <td>4.8</td>\n",
       "      <td>49.0</td>\n",
       "      <td>11.9</td>\n",
       "      <td>13.0</td>\n",
       "      <td>14.8</td>\n",
       "    </tr>\n",
       "  </tbody>\n",
       "</table>\n",
       "<p>5 rows × 26 columns</p>\n",
       "</div>"
      ],
      "text/plain": [
       "            Location  MinTemp  MaxTemp  Rainfall  WindGustDir  WindGustSpeed  \\\n",
       "Date                                                                           \n",
       "2008-12-01         1     13.4     22.9       0.6           13           44.0   \n",
       "2008-12-02         1      7.4     25.1       0.0           14           44.0   \n",
       "2008-12-03         1     12.9     25.7       0.0           15           46.0   \n",
       "2008-12-04         1      9.2     28.0       0.0            4           24.0   \n",
       "2008-12-05         1     17.5     32.3       1.0           13           41.0   \n",
       "\n",
       "            WindDir9am  WindDir3pm  WindSpeed9am  WindSpeed3pm  ...  \\\n",
       "Date                                                            ...   \n",
       "2008-12-01          13          14          20.0          24.0  ...   \n",
       "2008-12-02           6          15           4.0          22.0  ...   \n",
       "2008-12-03          13          15          19.0          26.0  ...   \n",
       "2008-12-04           9           0          11.0           9.0  ...   \n",
       "2008-12-05           1           7           7.0          20.0  ...   \n",
       "\n",
       "            RainToday  RainTomorrow  Year  Month  Day  Pressure_Interval  \\\n",
       "Date                                                                       \n",
       "2008-12-01          0             0  2008     12    1                0.6   \n",
       "2008-12-02          0             0  2008     12    2                2.8   \n",
       "2008-12-03          0             0  2008     12    3                1.1   \n",
       "2008-12-04          0             0  2008     12    4                4.8   \n",
       "2008-12-05          0             0  2008     12    5                4.8   \n",
       "\n",
       "            Humidity_Interval  TempInterval  WindSpeedInterval  \\\n",
       "Date                                                             \n",
       "2008-12-01               49.0           4.9                4.0   \n",
       "2008-12-02               19.0           7.1               18.0   \n",
       "2008-12-03                8.0           2.2                7.0   \n",
       "2008-12-04               29.0           8.4                2.0   \n",
       "2008-12-05               49.0          11.9               13.0   \n",
       "\n",
       "            Temperature_Interval  \n",
       "Date                              \n",
       "2008-12-01                   9.5  \n",
       "2008-12-02                  17.7  \n",
       "2008-12-03                  12.8  \n",
       "2008-12-04                  18.8  \n",
       "2008-12-05                  14.8  \n",
       "\n",
       "[5 rows x 26 columns]"
      ]
     },
     "execution_count": 25,
     "metadata": {},
     "output_type": "execute_result"
    }
   ],
   "source": [
    "df.head()"
   ]
  },
  {
   "cell_type": "markdown",
   "id": "44a84b51",
   "metadata": {},
   "source": [
    "### Drop Old Correlated Features"
   ]
  },
  {
   "cell_type": "code",
   "execution_count": 26,
   "id": "94e92432",
   "metadata": {},
   "outputs": [],
   "source": [
    "df.drop(columns=['Pressure9am','Pressure3pm','MaxTemp','MinTemp','WindDir9am','WindDir3pm','Humidity9am','Humidity3pm','Temp9am','Temp3pm','WindSpeed9am','WindSpeed3pm'],axis=1,inplace=True)"
   ]
  },
  {
   "cell_type": "markdown",
   "id": "5b994bfd",
   "metadata": {},
   "source": [
    "### Again, Check VIF after removing old Features"
   ]
  },
  {
   "cell_type": "code",
   "execution_count": 27,
   "id": "aba2ce8a",
   "metadata": {},
   "outputs": [],
   "source": [
    "vif_data = pd.DataFrame()\n",
    "ind_features = df.drop('RainTomorrow',axis=1)\n",
    "vif_data['feature'] = ind_features.columns"
   ]
  },
  {
   "cell_type": "code",
   "execution_count": 28,
   "id": "5ee78742",
   "metadata": {},
   "outputs": [],
   "source": [
    "vif_data[\"VIF\"] = [variance_inflation_factor(ind_features.values, i)\n",
    "                          for i in range(len(ind_features.columns))]"
   ]
  },
  {
   "cell_type": "code",
   "execution_count": 29,
   "id": "53be38cd",
   "metadata": {},
   "outputs": [
    {
     "data": {
      "text/html": [
       "<div>\n",
       "<style scoped>\n",
       "    .dataframe tbody tr th:only-of-type {\n",
       "        vertical-align: middle;\n",
       "    }\n",
       "\n",
       "    .dataframe tbody tr th {\n",
       "        vertical-align: top;\n",
       "    }\n",
       "\n",
       "    .dataframe thead th {\n",
       "        text-align: right;\n",
       "    }\n",
       "</style>\n",
       "<table border=\"1\" class=\"dataframe\">\n",
       "  <thead>\n",
       "    <tr style=\"text-align: right;\">\n",
       "      <th></th>\n",
       "      <th>feature</th>\n",
       "      <th>VIF</th>\n",
       "    </tr>\n",
       "  </thead>\n",
       "  <tbody>\n",
       "    <tr>\n",
       "      <th>5</th>\n",
       "      <td>Year</td>\n",
       "      <td>31.427575</td>\n",
       "    </tr>\n",
       "    <tr>\n",
       "      <th>12</th>\n",
       "      <td>Temperature_Interval</td>\n",
       "      <td>19.266795</td>\n",
       "    </tr>\n",
       "    <tr>\n",
       "      <th>10</th>\n",
       "      <td>TempInterval</td>\n",
       "      <td>14.515086</td>\n",
       "    </tr>\n",
       "    <tr>\n",
       "      <th>3</th>\n",
       "      <td>WindGustSpeed</td>\n",
       "      <td>12.279484</td>\n",
       "    </tr>\n",
       "    <tr>\n",
       "      <th>9</th>\n",
       "      <td>Humidity_Interval</td>\n",
       "      <td>6.278897</td>\n",
       "    </tr>\n",
       "    <tr>\n",
       "      <th>8</th>\n",
       "      <td>Pressure_Interval</td>\n",
       "      <td>5.457814</td>\n",
       "    </tr>\n",
       "    <tr>\n",
       "      <th>6</th>\n",
       "      <td>Month</td>\n",
       "      <td>4.657495</td>\n",
       "    </tr>\n",
       "    <tr>\n",
       "      <th>2</th>\n",
       "      <td>WindGustDir</td>\n",
       "      <td>4.258867</td>\n",
       "    </tr>\n",
       "    <tr>\n",
       "      <th>7</th>\n",
       "      <td>Day</td>\n",
       "      <td>4.197751</td>\n",
       "    </tr>\n",
       "    <tr>\n",
       "      <th>0</th>\n",
       "      <td>Location</td>\n",
       "      <td>3.836466</td>\n",
       "    </tr>\n",
       "    <tr>\n",
       "      <th>11</th>\n",
       "      <td>WindSpeedInterval</td>\n",
       "      <td>2.886838</td>\n",
       "    </tr>\n",
       "    <tr>\n",
       "      <th>4</th>\n",
       "      <td>RainToday</td>\n",
       "      <td>1.997920</td>\n",
       "    </tr>\n",
       "    <tr>\n",
       "      <th>1</th>\n",
       "      <td>Rainfall</td>\n",
       "      <td>1.445682</td>\n",
       "    </tr>\n",
       "  </tbody>\n",
       "</table>\n",
       "</div>"
      ],
      "text/plain": [
       "                 feature        VIF\n",
       "5                   Year  31.427575\n",
       "12  Temperature_Interval  19.266795\n",
       "10          TempInterval  14.515086\n",
       "3          WindGustSpeed  12.279484\n",
       "9      Humidity_Interval   6.278897\n",
       "8      Pressure_Interval   5.457814\n",
       "6                  Month   4.657495\n",
       "2            WindGustDir   4.258867\n",
       "7                    Day   4.197751\n",
       "0               Location   3.836466\n",
       "11     WindSpeedInterval   2.886838\n",
       "4              RainToday   1.997920\n",
       "1               Rainfall   1.445682"
      ]
     },
     "execution_count": 29,
     "metadata": {},
     "output_type": "execute_result"
    }
   ],
   "source": [
    "vif_data.sort_values(by='VIF',ascending=False)"
   ]
  },
  {
   "cell_type": "markdown",
   "id": "604e7fe4",
   "metadata": {},
   "source": [
    "### Success\n",
    "- we have removed features with VERY high VIF\n",
    "- now we will remove all with VIF > 5"
   ]
  },
  {
   "cell_type": "code",
   "execution_count": 30,
   "id": "7f83d4a7",
   "metadata": {},
   "outputs": [],
   "source": [
    "df.drop(list(vif_data[vif_data['VIF']>5]['feature']),axis=1,inplace=True)"
   ]
  },
  {
   "cell_type": "code",
   "execution_count": 31,
   "id": "0c6ed7bf",
   "metadata": {},
   "outputs": [
    {
     "data": {
      "text/html": [
       "<div>\n",
       "<style scoped>\n",
       "    .dataframe tbody tr th:only-of-type {\n",
       "        vertical-align: middle;\n",
       "    }\n",
       "\n",
       "    .dataframe tbody tr th {\n",
       "        vertical-align: top;\n",
       "    }\n",
       "\n",
       "    .dataframe thead th {\n",
       "        text-align: right;\n",
       "    }\n",
       "</style>\n",
       "<table border=\"1\" class=\"dataframe\">\n",
       "  <thead>\n",
       "    <tr style=\"text-align: right;\">\n",
       "      <th></th>\n",
       "      <th>Location</th>\n",
       "      <th>Rainfall</th>\n",
       "      <th>WindGustDir</th>\n",
       "      <th>RainToday</th>\n",
       "      <th>RainTomorrow</th>\n",
       "      <th>Month</th>\n",
       "      <th>Day</th>\n",
       "      <th>WindSpeedInterval</th>\n",
       "    </tr>\n",
       "    <tr>\n",
       "      <th>Date</th>\n",
       "      <th></th>\n",
       "      <th></th>\n",
       "      <th></th>\n",
       "      <th></th>\n",
       "      <th></th>\n",
       "      <th></th>\n",
       "      <th></th>\n",
       "      <th></th>\n",
       "    </tr>\n",
       "  </thead>\n",
       "  <tbody>\n",
       "    <tr>\n",
       "      <th>2008-12-01</th>\n",
       "      <td>1</td>\n",
       "      <td>0.6</td>\n",
       "      <td>13</td>\n",
       "      <td>0</td>\n",
       "      <td>0</td>\n",
       "      <td>12</td>\n",
       "      <td>1</td>\n",
       "      <td>4.0</td>\n",
       "    </tr>\n",
       "    <tr>\n",
       "      <th>2008-12-02</th>\n",
       "      <td>1</td>\n",
       "      <td>0.0</td>\n",
       "      <td>14</td>\n",
       "      <td>0</td>\n",
       "      <td>0</td>\n",
       "      <td>12</td>\n",
       "      <td>2</td>\n",
       "      <td>18.0</td>\n",
       "    </tr>\n",
       "    <tr>\n",
       "      <th>2008-12-03</th>\n",
       "      <td>1</td>\n",
       "      <td>0.0</td>\n",
       "      <td>15</td>\n",
       "      <td>0</td>\n",
       "      <td>0</td>\n",
       "      <td>12</td>\n",
       "      <td>3</td>\n",
       "      <td>7.0</td>\n",
       "    </tr>\n",
       "    <tr>\n",
       "      <th>2008-12-04</th>\n",
       "      <td>1</td>\n",
       "      <td>0.0</td>\n",
       "      <td>4</td>\n",
       "      <td>0</td>\n",
       "      <td>0</td>\n",
       "      <td>12</td>\n",
       "      <td>4</td>\n",
       "      <td>2.0</td>\n",
       "    </tr>\n",
       "    <tr>\n",
       "      <th>2008-12-05</th>\n",
       "      <td>1</td>\n",
       "      <td>1.0</td>\n",
       "      <td>13</td>\n",
       "      <td>0</td>\n",
       "      <td>0</td>\n",
       "      <td>12</td>\n",
       "      <td>5</td>\n",
       "      <td>13.0</td>\n",
       "    </tr>\n",
       "  </tbody>\n",
       "</table>\n",
       "</div>"
      ],
      "text/plain": [
       "            Location  Rainfall  WindGustDir  RainToday  RainTomorrow  Month  \\\n",
       "Date                                                                          \n",
       "2008-12-01         1       0.6           13          0             0     12   \n",
       "2008-12-02         1       0.0           14          0             0     12   \n",
       "2008-12-03         1       0.0           15          0             0     12   \n",
       "2008-12-04         1       0.0            4          0             0     12   \n",
       "2008-12-05         1       1.0           13          0             0     12   \n",
       "\n",
       "            Day  WindSpeedInterval  \n",
       "Date                                \n",
       "2008-12-01    1                4.0  \n",
       "2008-12-02    2               18.0  \n",
       "2008-12-03    3                7.0  \n",
       "2008-12-04    4                2.0  \n",
       "2008-12-05    5               13.0  "
      ]
     },
     "execution_count": 31,
     "metadata": {},
     "output_type": "execute_result"
    }
   ],
   "source": [
    "df.head()"
   ]
  },
  {
   "cell_type": "code",
   "execution_count": 32,
   "id": "6f5fbcf1",
   "metadata": {
    "scrolled": true
   },
   "outputs": [
    {
     "data": {
      "text/html": [
       "<div>\n",
       "<style scoped>\n",
       "    .dataframe tbody tr th:only-of-type {\n",
       "        vertical-align: middle;\n",
       "    }\n",
       "\n",
       "    .dataframe tbody tr th {\n",
       "        vertical-align: top;\n",
       "    }\n",
       "\n",
       "    .dataframe thead th {\n",
       "        text-align: right;\n",
       "    }\n",
       "</style>\n",
       "<table border=\"1\" class=\"dataframe\">\n",
       "  <thead>\n",
       "    <tr style=\"text-align: right;\">\n",
       "      <th></th>\n",
       "      <th>Location</th>\n",
       "      <th>Rainfall</th>\n",
       "      <th>WindGustDir</th>\n",
       "      <th>RainToday</th>\n",
       "      <th>Month</th>\n",
       "      <th>Day</th>\n",
       "      <th>WindSpeedInterval</th>\n",
       "    </tr>\n",
       "    <tr>\n",
       "      <th>Date</th>\n",
       "      <th></th>\n",
       "      <th></th>\n",
       "      <th></th>\n",
       "      <th></th>\n",
       "      <th></th>\n",
       "      <th></th>\n",
       "      <th></th>\n",
       "    </tr>\n",
       "  </thead>\n",
       "  <tbody>\n",
       "    <tr>\n",
       "      <th>2008-12-01</th>\n",
       "      <td>1</td>\n",
       "      <td>0.6</td>\n",
       "      <td>13</td>\n",
       "      <td>0</td>\n",
       "      <td>12</td>\n",
       "      <td>1</td>\n",
       "      <td>4.0</td>\n",
       "    </tr>\n",
       "    <tr>\n",
       "      <th>2008-12-02</th>\n",
       "      <td>1</td>\n",
       "      <td>0.0</td>\n",
       "      <td>14</td>\n",
       "      <td>0</td>\n",
       "      <td>12</td>\n",
       "      <td>2</td>\n",
       "      <td>18.0</td>\n",
       "    </tr>\n",
       "    <tr>\n",
       "      <th>2008-12-03</th>\n",
       "      <td>1</td>\n",
       "      <td>0.0</td>\n",
       "      <td>15</td>\n",
       "      <td>0</td>\n",
       "      <td>12</td>\n",
       "      <td>3</td>\n",
       "      <td>7.0</td>\n",
       "    </tr>\n",
       "    <tr>\n",
       "      <th>2008-12-04</th>\n",
       "      <td>1</td>\n",
       "      <td>0.0</td>\n",
       "      <td>4</td>\n",
       "      <td>0</td>\n",
       "      <td>12</td>\n",
       "      <td>4</td>\n",
       "      <td>2.0</td>\n",
       "    </tr>\n",
       "    <tr>\n",
       "      <th>2008-12-05</th>\n",
       "      <td>1</td>\n",
       "      <td>1.0</td>\n",
       "      <td>13</td>\n",
       "      <td>0</td>\n",
       "      <td>12</td>\n",
       "      <td>5</td>\n",
       "      <td>13.0</td>\n",
       "    </tr>\n",
       "  </tbody>\n",
       "</table>\n",
       "</div>"
      ],
      "text/plain": [
       "            Location  Rainfall  WindGustDir  RainToday  Month  Day  \\\n",
       "Date                                                                 \n",
       "2008-12-01         1       0.6           13          0     12    1   \n",
       "2008-12-02         1       0.0           14          0     12    2   \n",
       "2008-12-03         1       0.0           15          0     12    3   \n",
       "2008-12-04         1       0.0            4          0     12    4   \n",
       "2008-12-05         1       1.0           13          0     12    5   \n",
       "\n",
       "            WindSpeedInterval  \n",
       "Date                           \n",
       "2008-12-01                4.0  \n",
       "2008-12-02               18.0  \n",
       "2008-12-03                7.0  \n",
       "2008-12-04                2.0  \n",
       "2008-12-05               13.0  "
      ]
     },
     "execution_count": 32,
     "metadata": {},
     "output_type": "execute_result"
    }
   ],
   "source": [
    "X = df.drop(columns='RainTomorrow')\n",
    "y = df['RainTomorrow']\n",
    "X.head()"
   ]
  },
  {
   "cell_type": "markdown",
   "id": "34e4f672",
   "metadata": {},
   "source": [
    "## Train Test Split"
   ]
  },
  {
   "cell_type": "code",
   "execution_count": 33,
   "id": "f36cbf72",
   "metadata": {},
   "outputs": [],
   "source": [
    "X_train, X_test, y_train, y_test = train_test_split(X,y, test_size = 0.2, random_state = 42)"
   ]
  },
  {
   "cell_type": "markdown",
   "id": "5d93da8d",
   "metadata": {},
   "source": [
    "### Scale Values for Faster Computation"
   ]
  },
  {
   "cell_type": "code",
   "execution_count": 34,
   "id": "1c2f659d",
   "metadata": {},
   "outputs": [],
   "source": [
    "scaler = StandardScaler()\n",
    "X_train = scaler.fit_transform(X_train)\n",
    "X_test = scaler.transform(X_test)"
   ]
  },
  {
   "cell_type": "markdown",
   "id": "3fd886eb",
   "metadata": {},
   "source": [
    "### Model Training with Adjusted VIF"
   ]
  },
  {
   "cell_type": "code",
   "execution_count": 35,
   "id": "4647d629",
   "metadata": {},
   "outputs": [
    {
     "data": {
      "text/plain": [
       "LogisticRegression(random_state=42, solver='sag')"
      ]
     },
     "execution_count": 35,
     "metadata": {},
     "output_type": "execute_result"
    }
   ],
   "source": [
    "classifier_logreg = LogisticRegression(solver='sag', random_state=42)\n",
    "classifier_logreg.fit(X_train, y_train)"
   ]
  },
  {
   "cell_type": "markdown",
   "id": "366a84c2",
   "metadata": {},
   "source": [
    "### Accuracy"
   ]
  },
  {
   "cell_type": "code",
   "execution_count": 36,
   "id": "cbfd87e6",
   "metadata": {},
   "outputs": [
    {
     "name": "stdout",
     "output_type": "stream",
     "text": [
      "Training Accuracy 78.94 %\n"
     ]
    }
   ],
   "source": [
    "print(\"Training Accuracy {:.2f} %\".format(100*classifier_logreg.score(X_train,y_train)))"
   ]
  },
  {
   "cell_type": "code",
   "execution_count": 37,
   "id": "a03de375",
   "metadata": {},
   "outputs": [
    {
     "name": "stdout",
     "output_type": "stream",
     "text": [
      "Testing Accuracy 78.83 %\n"
     ]
    }
   ],
   "source": [
    "print(\"Testing Accuracy {:.2f} %\".format(100*classifier_logreg.score(X_test,y_test)))"
   ]
  },
  {
   "cell_type": "markdown",
   "id": "0355ed14",
   "metadata": {},
   "source": [
    "### Model Training Without adjusted VIF"
   ]
  },
  {
   "cell_type": "code",
   "execution_count": 38,
   "id": "864cc831",
   "metadata": {},
   "outputs": [],
   "source": [
    "df_without_vif['WindDir9am'] = label_encoder.fit_transform(df_without_vif['WindDir9am'])\n",
    "df_without_vif['WindDir3pm'] = label_encoder.fit_transform(df_without_vif['WindDir3pm'])"
   ]
  },
  {
   "cell_type": "code",
   "execution_count": 39,
   "id": "bc16f816",
   "metadata": {},
   "outputs": [],
   "source": [
    "X_wo = df_without_vif.drop('RainTomorrow',axis=1)\n",
    "y_wo = df_without_vif['RainTomorrow']"
   ]
  },
  {
   "cell_type": "code",
   "execution_count": 40,
   "id": "aa631073",
   "metadata": {},
   "outputs": [],
   "source": [
    "X_train_wo, X_test_wo, y_train_wo, y_test_wo = train_test_split(X_wo,y_wo, test_size = 0.2, random_state = 42)"
   ]
  },
  {
   "cell_type": "code",
   "execution_count": 41,
   "id": "7addeb57",
   "metadata": {},
   "outputs": [],
   "source": [
    "scaler = StandardScaler()\n",
    "X_train_wo = scaler.fit_transform(X_train_wo)\n",
    "X_test_wo = scaler.transform(X_test_wo)"
   ]
  },
  {
   "cell_type": "code",
   "execution_count": 42,
   "id": "15bab4b2",
   "metadata": {},
   "outputs": [
    {
     "data": {
      "text/plain": [
       "LogisticRegression(random_state=0, solver='sag')"
      ]
     },
     "execution_count": 42,
     "metadata": {},
     "output_type": "execute_result"
    }
   ],
   "source": [
    "classifier_logreg_wo = LogisticRegression(solver='sag', random_state=0)\n",
    "classifier_logreg_wo.fit(X_train_wo, y_train_wo)"
   ]
  },
  {
   "cell_type": "markdown",
   "id": "9497a1d5",
   "metadata": {},
   "source": [
    "### Accuracy without VIF"
   ]
  },
  {
   "cell_type": "code",
   "execution_count": 43,
   "id": "16099f5c",
   "metadata": {},
   "outputs": [
    {
     "name": "stdout",
     "output_type": "stream",
     "text": [
      "Training Accuracy 84.95%\n"
     ]
    }
   ],
   "source": [
    "print(\"Training Accuracy {:.2f}%\".format(100*classifier_logreg_wo.score(X_train_wo,y_train_wo)))"
   ]
  },
  {
   "cell_type": "code",
   "execution_count": 44,
   "id": "1a0b2a70",
   "metadata": {},
   "outputs": [
    {
     "name": "stdout",
     "output_type": "stream",
     "text": [
      "Testing Accuracy 84.67%\n"
     ]
    }
   ],
   "source": [
    "print(\"Testing Accuracy {:.2f}%\".format(100*classifier_logreg_wo.score(X_test_wo,y_test_wo)))"
   ]
  },
  {
   "cell_type": "markdown",
   "id": "2e0a93ee",
   "metadata": {},
   "source": [
    "## Conclusion"
   ]
  },
  {
   "cell_type": "code",
   "execution_count": 45,
   "id": "957cfa7d",
   "metadata": {},
   "outputs": [
    {
     "data": {
      "text/html": [
       "<div>\n",
       "<style scoped>\n",
       "    .dataframe tbody tr th:only-of-type {\n",
       "        vertical-align: middle;\n",
       "    }\n",
       "\n",
       "    .dataframe tbody tr th {\n",
       "        vertical-align: top;\n",
       "    }\n",
       "\n",
       "    .dataframe thead th {\n",
       "        text-align: right;\n",
       "    }\n",
       "</style>\n",
       "<table border=\"1\" class=\"dataframe\">\n",
       "  <thead>\n",
       "    <tr style=\"text-align: right;\">\n",
       "      <th></th>\n",
       "      <th>Without_Vif</th>\n",
       "      <th>With VIF</th>\n",
       "    </tr>\n",
       "  </thead>\n",
       "  <tbody>\n",
       "    <tr>\n",
       "      <th>Train Accuracy</th>\n",
       "      <td>0.849535</td>\n",
       "      <td>0.789418</td>\n",
       "    </tr>\n",
       "    <tr>\n",
       "      <th>Test Accuracy</th>\n",
       "      <td>0.846668</td>\n",
       "      <td>0.788267</td>\n",
       "    </tr>\n",
       "  </tbody>\n",
       "</table>\n",
       "</div>"
      ],
      "text/plain": [
       "                Without_Vif  With VIF\n",
       "Train Accuracy     0.849535  0.789418\n",
       "Test Accuracy      0.846668  0.788267"
      ]
     },
     "execution_count": 45,
     "metadata": {},
     "output_type": "execute_result"
    }
   ],
   "source": [
    "pd.DataFrame({'Without_Vif' : [classifier_logreg_wo.score(X_train_wo,y_train_wo),classifier_logreg_wo.score(X_test_wo,y_test_wo)],'With VIF':[classifier_logreg.score(X_train,y_train),classifier_logreg.score(X_test,y_test)]},index = ['Train Accuracy','Test Accuracy'])"
   ]
  },
  {
   "cell_type": "markdown",
   "id": "cba00e0c",
   "metadata": {},
   "source": [
    "- This just shows how removing multicollinearity from model doesn't improve the predictive power of the model. \n",
    "- But, it improves model stability to changes in training data and there's an independent defined relation between dependent and explanatory variables.\n",
    "- This fulfills the underlying assumption for Linear and Logistic Regression Models of absence of Multicollinearity"
   ]
  },
  {
   "cell_type": "code",
   "execution_count": null,
   "id": "425959ed",
   "metadata": {},
   "outputs": [],
   "source": []
  }
 ],
 "metadata": {
  "kernelspec": {
   "display_name": "Python 3 (ipykernel)",
   "language": "python",
   "name": "python3"
  },
  "language_info": {
   "codemirror_mode": {
    "name": "ipython",
    "version": 3
   },
   "file_extension": ".py",
   "mimetype": "text/x-python",
   "name": "python",
   "nbconvert_exporter": "python",
   "pygments_lexer": "ipython3",
   "version": "3.9.7"
  }
 },
 "nbformat": 4,
 "nbformat_minor": 5
}
